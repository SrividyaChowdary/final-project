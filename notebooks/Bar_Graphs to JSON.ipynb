{
 "cells": [
  {
   "cell_type": "markdown",
   "id": "9f05385b",
   "metadata": {},
   "source": [
    "### This notebook is a reference on how to convert any chart or graph to JSON object using Plotly\n",
    "\n",
    "In this notebook few graphs are plotted with the help of Matplotlib and the these matplotlib objects are converted to JSON."
   ]
  },
  {
   "cell_type": "code",
   "execution_count": 41,
   "id": "339e8ebc",
   "metadata": {},
   "outputs": [],
   "source": [
    "#libraries\n",
    "import matplotlib.pyplot as plt\n",
    "import pandas as pd\n",
    "import plotly.express as px\n",
    "import plotly.io as io\n",
    "import plotly.tools as pt\n"
   ]
  },
  {
   "cell_type": "markdown",
   "id": "294db2c3",
   "metadata": {},
   "source": [
    "#### Bar Graphs"
   ]
  },
  {
   "cell_type": "code",
   "execution_count": 42,
   "id": "72b997e1",
   "metadata": {},
   "outputs": [],
   "source": [
    "df1 = pd.DataFrame({\"Subjects\":['English','Maths','Science','Computers'],\"Marks\":[40,35,30,34]}) "
   ]
  },
  {
   "cell_type": "code",
   "execution_count": 54,
   "id": "e7312284",
   "metadata": {},
   "outputs": [
    {
     "data": {
      "application/vnd.plotly.v1+json": {
       "config": {
        "plotlyServerURL": "https://plot.ly"
       },
       "data": [
        {
         "alignmentgroup": "True",
         "hovertemplate": "Subjects=%{x}<br>Marks=%{marker.color}<extra></extra>",
         "legendgroup": "",
         "marker": {
          "color": [
           40,
           35,
           30,
           34
          ],
          "coloraxis": "coloraxis",
          "pattern": {
           "shape": ""
          }
         },
         "name": "",
         "offsetgroup": "",
         "orientation": "v",
         "showlegend": false,
         "textposition": "auto",
         "type": "bar",
         "x": [
          "English",
          "Maths",
          "Science",
          "Computers"
         ],
         "xaxis": "x",
         "y": [
          40,
          35,
          30,
          34
         ],
         "yaxis": "y"
        }
       ],
       "layout": {
        "barmode": "relative",
        "coloraxis": {
         "colorbar": {
          "title": {
           "text": "Marks"
          }
         },
         "colorscale": [
          [
           0,
           "#0d0887"
          ],
          [
           0.1111111111111111,
           "#46039f"
          ],
          [
           0.2222222222222222,
           "#7201a8"
          ],
          [
           0.3333333333333333,
           "#9c179e"
          ],
          [
           0.4444444444444444,
           "#bd3786"
          ],
          [
           0.5555555555555556,
           "#d8576b"
          ],
          [
           0.6666666666666666,
           "#ed7953"
          ],
          [
           0.7777777777777778,
           "#fb9f3a"
          ],
          [
           0.8888888888888888,
           "#fdca26"
          ],
          [
           1,
           "#f0f921"
          ]
         ],
         "showscale": false
        },
        "legend": {
         "tracegroupgap": 0
        },
        "template": {
         "data": {
          "bar": [
           {
            "error_x": {
             "color": "#2a3f5f"
            },
            "error_y": {
             "color": "#2a3f5f"
            },
            "marker": {
             "line": {
              "color": "#E5ECF6",
              "width": 0.5
             },
             "pattern": {
              "fillmode": "overlay",
              "size": 10,
              "solidity": 0.2
             }
            },
            "type": "bar"
           }
          ],
          "barpolar": [
           {
            "marker": {
             "line": {
              "color": "#E5ECF6",
              "width": 0.5
             },
             "pattern": {
              "fillmode": "overlay",
              "size": 10,
              "solidity": 0.2
             }
            },
            "type": "barpolar"
           }
          ],
          "carpet": [
           {
            "aaxis": {
             "endlinecolor": "#2a3f5f",
             "gridcolor": "white",
             "linecolor": "white",
             "minorgridcolor": "white",
             "startlinecolor": "#2a3f5f"
            },
            "baxis": {
             "endlinecolor": "#2a3f5f",
             "gridcolor": "white",
             "linecolor": "white",
             "minorgridcolor": "white",
             "startlinecolor": "#2a3f5f"
            },
            "type": "carpet"
           }
          ],
          "choropleth": [
           {
            "colorbar": {
             "outlinewidth": 0,
             "ticks": ""
            },
            "type": "choropleth"
           }
          ],
          "contour": [
           {
            "colorbar": {
             "outlinewidth": 0,
             "ticks": ""
            },
            "colorscale": [
             [
              0,
              "#0d0887"
             ],
             [
              0.1111111111111111,
              "#46039f"
             ],
             [
              0.2222222222222222,
              "#7201a8"
             ],
             [
              0.3333333333333333,
              "#9c179e"
             ],
             [
              0.4444444444444444,
              "#bd3786"
             ],
             [
              0.5555555555555556,
              "#d8576b"
             ],
             [
              0.6666666666666666,
              "#ed7953"
             ],
             [
              0.7777777777777778,
              "#fb9f3a"
             ],
             [
              0.8888888888888888,
              "#fdca26"
             ],
             [
              1,
              "#f0f921"
             ]
            ],
            "type": "contour"
           }
          ],
          "contourcarpet": [
           {
            "colorbar": {
             "outlinewidth": 0,
             "ticks": ""
            },
            "type": "contourcarpet"
           }
          ],
          "heatmap": [
           {
            "colorbar": {
             "outlinewidth": 0,
             "ticks": ""
            },
            "colorscale": [
             [
              0,
              "#0d0887"
             ],
             [
              0.1111111111111111,
              "#46039f"
             ],
             [
              0.2222222222222222,
              "#7201a8"
             ],
             [
              0.3333333333333333,
              "#9c179e"
             ],
             [
              0.4444444444444444,
              "#bd3786"
             ],
             [
              0.5555555555555556,
              "#d8576b"
             ],
             [
              0.6666666666666666,
              "#ed7953"
             ],
             [
              0.7777777777777778,
              "#fb9f3a"
             ],
             [
              0.8888888888888888,
              "#fdca26"
             ],
             [
              1,
              "#f0f921"
             ]
            ],
            "type": "heatmap"
           }
          ],
          "heatmapgl": [
           {
            "colorbar": {
             "outlinewidth": 0,
             "ticks": ""
            },
            "colorscale": [
             [
              0,
              "#0d0887"
             ],
             [
              0.1111111111111111,
              "#46039f"
             ],
             [
              0.2222222222222222,
              "#7201a8"
             ],
             [
              0.3333333333333333,
              "#9c179e"
             ],
             [
              0.4444444444444444,
              "#bd3786"
             ],
             [
              0.5555555555555556,
              "#d8576b"
             ],
             [
              0.6666666666666666,
              "#ed7953"
             ],
             [
              0.7777777777777778,
              "#fb9f3a"
             ],
             [
              0.8888888888888888,
              "#fdca26"
             ],
             [
              1,
              "#f0f921"
             ]
            ],
            "type": "heatmapgl"
           }
          ],
          "histogram": [
           {
            "marker": {
             "pattern": {
              "fillmode": "overlay",
              "size": 10,
              "solidity": 0.2
             }
            },
            "type": "histogram"
           }
          ],
          "histogram2d": [
           {
            "colorbar": {
             "outlinewidth": 0,
             "ticks": ""
            },
            "colorscale": [
             [
              0,
              "#0d0887"
             ],
             [
              0.1111111111111111,
              "#46039f"
             ],
             [
              0.2222222222222222,
              "#7201a8"
             ],
             [
              0.3333333333333333,
              "#9c179e"
             ],
             [
              0.4444444444444444,
              "#bd3786"
             ],
             [
              0.5555555555555556,
              "#d8576b"
             ],
             [
              0.6666666666666666,
              "#ed7953"
             ],
             [
              0.7777777777777778,
              "#fb9f3a"
             ],
             [
              0.8888888888888888,
              "#fdca26"
             ],
             [
              1,
              "#f0f921"
             ]
            ],
            "type": "histogram2d"
           }
          ],
          "histogram2dcontour": [
           {
            "colorbar": {
             "outlinewidth": 0,
             "ticks": ""
            },
            "colorscale": [
             [
              0,
              "#0d0887"
             ],
             [
              0.1111111111111111,
              "#46039f"
             ],
             [
              0.2222222222222222,
              "#7201a8"
             ],
             [
              0.3333333333333333,
              "#9c179e"
             ],
             [
              0.4444444444444444,
              "#bd3786"
             ],
             [
              0.5555555555555556,
              "#d8576b"
             ],
             [
              0.6666666666666666,
              "#ed7953"
             ],
             [
              0.7777777777777778,
              "#fb9f3a"
             ],
             [
              0.8888888888888888,
              "#fdca26"
             ],
             [
              1,
              "#f0f921"
             ]
            ],
            "type": "histogram2dcontour"
           }
          ],
          "mesh3d": [
           {
            "colorbar": {
             "outlinewidth": 0,
             "ticks": ""
            },
            "type": "mesh3d"
           }
          ],
          "parcoords": [
           {
            "line": {
             "colorbar": {
              "outlinewidth": 0,
              "ticks": ""
             }
            },
            "type": "parcoords"
           }
          ],
          "pie": [
           {
            "automargin": true,
            "type": "pie"
           }
          ],
          "scatter": [
           {
            "fillpattern": {
             "fillmode": "overlay",
             "size": 10,
             "solidity": 0.2
            },
            "type": "scatter"
           }
          ],
          "scatter3d": [
           {
            "line": {
             "colorbar": {
              "outlinewidth": 0,
              "ticks": ""
             }
            },
            "marker": {
             "colorbar": {
              "outlinewidth": 0,
              "ticks": ""
             }
            },
            "type": "scatter3d"
           }
          ],
          "scattercarpet": [
           {
            "marker": {
             "colorbar": {
              "outlinewidth": 0,
              "ticks": ""
             }
            },
            "type": "scattercarpet"
           }
          ],
          "scattergeo": [
           {
            "marker": {
             "colorbar": {
              "outlinewidth": 0,
              "ticks": ""
             }
            },
            "type": "scattergeo"
           }
          ],
          "scattergl": [
           {
            "marker": {
             "colorbar": {
              "outlinewidth": 0,
              "ticks": ""
             }
            },
            "type": "scattergl"
           }
          ],
          "scattermapbox": [
           {
            "marker": {
             "colorbar": {
              "outlinewidth": 0,
              "ticks": ""
             }
            },
            "type": "scattermapbox"
           }
          ],
          "scatterpolar": [
           {
            "marker": {
             "colorbar": {
              "outlinewidth": 0,
              "ticks": ""
             }
            },
            "type": "scatterpolar"
           }
          ],
          "scatterpolargl": [
           {
            "marker": {
             "colorbar": {
              "outlinewidth": 0,
              "ticks": ""
             }
            },
            "type": "scatterpolargl"
           }
          ],
          "scatterternary": [
           {
            "marker": {
             "colorbar": {
              "outlinewidth": 0,
              "ticks": ""
             }
            },
            "type": "scatterternary"
           }
          ],
          "surface": [
           {
            "colorbar": {
             "outlinewidth": 0,
             "ticks": ""
            },
            "colorscale": [
             [
              0,
              "#0d0887"
             ],
             [
              0.1111111111111111,
              "#46039f"
             ],
             [
              0.2222222222222222,
              "#7201a8"
             ],
             [
              0.3333333333333333,
              "#9c179e"
             ],
             [
              0.4444444444444444,
              "#bd3786"
             ],
             [
              0.5555555555555556,
              "#d8576b"
             ],
             [
              0.6666666666666666,
              "#ed7953"
             ],
             [
              0.7777777777777778,
              "#fb9f3a"
             ],
             [
              0.8888888888888888,
              "#fdca26"
             ],
             [
              1,
              "#f0f921"
             ]
            ],
            "type": "surface"
           }
          ],
          "table": [
           {
            "cells": {
             "fill": {
              "color": "#EBF0F8"
             },
             "line": {
              "color": "white"
             }
            },
            "header": {
             "fill": {
              "color": "#C8D4E3"
             },
             "line": {
              "color": "white"
             }
            },
            "type": "table"
           }
          ]
         },
         "layout": {
          "annotationdefaults": {
           "arrowcolor": "#2a3f5f",
           "arrowhead": 0,
           "arrowwidth": 1
          },
          "autotypenumbers": "strict",
          "coloraxis": {
           "colorbar": {
            "outlinewidth": 0,
            "ticks": ""
           }
          },
          "colorscale": {
           "diverging": [
            [
             0,
             "#8e0152"
            ],
            [
             0.1,
             "#c51b7d"
            ],
            [
             0.2,
             "#de77ae"
            ],
            [
             0.3,
             "#f1b6da"
            ],
            [
             0.4,
             "#fde0ef"
            ],
            [
             0.5,
             "#f7f7f7"
            ],
            [
             0.6,
             "#e6f5d0"
            ],
            [
             0.7,
             "#b8e186"
            ],
            [
             0.8,
             "#7fbc41"
            ],
            [
             0.9,
             "#4d9221"
            ],
            [
             1,
             "#276419"
            ]
           ],
           "sequential": [
            [
             0,
             "#0d0887"
            ],
            [
             0.1111111111111111,
             "#46039f"
            ],
            [
             0.2222222222222222,
             "#7201a8"
            ],
            [
             0.3333333333333333,
             "#9c179e"
            ],
            [
             0.4444444444444444,
             "#bd3786"
            ],
            [
             0.5555555555555556,
             "#d8576b"
            ],
            [
             0.6666666666666666,
             "#ed7953"
            ],
            [
             0.7777777777777778,
             "#fb9f3a"
            ],
            [
             0.8888888888888888,
             "#fdca26"
            ],
            [
             1,
             "#f0f921"
            ]
           ],
           "sequentialminus": [
            [
             0,
             "#0d0887"
            ],
            [
             0.1111111111111111,
             "#46039f"
            ],
            [
             0.2222222222222222,
             "#7201a8"
            ],
            [
             0.3333333333333333,
             "#9c179e"
            ],
            [
             0.4444444444444444,
             "#bd3786"
            ],
            [
             0.5555555555555556,
             "#d8576b"
            ],
            [
             0.6666666666666666,
             "#ed7953"
            ],
            [
             0.7777777777777778,
             "#fb9f3a"
            ],
            [
             0.8888888888888888,
             "#fdca26"
            ],
            [
             1,
             "#f0f921"
            ]
           ]
          },
          "colorway": [
           "#636efa",
           "#EF553B",
           "#00cc96",
           "#ab63fa",
           "#FFA15A",
           "#19d3f3",
           "#FF6692",
           "#B6E880",
           "#FF97FF",
           "#FECB52"
          ],
          "font": {
           "color": "#2a3f5f"
          },
          "geo": {
           "bgcolor": "white",
           "lakecolor": "white",
           "landcolor": "#E5ECF6",
           "showlakes": true,
           "showland": true,
           "subunitcolor": "white"
          },
          "hoverlabel": {
           "align": "left"
          },
          "hovermode": "closest",
          "mapbox": {
           "style": "light"
          },
          "paper_bgcolor": "white",
          "plot_bgcolor": "#E5ECF6",
          "polar": {
           "angularaxis": {
            "gridcolor": "white",
            "linecolor": "white",
            "ticks": ""
           },
           "bgcolor": "#E5ECF6",
           "radialaxis": {
            "gridcolor": "white",
            "linecolor": "white",
            "ticks": ""
           }
          },
          "scene": {
           "xaxis": {
            "backgroundcolor": "#E5ECF6",
            "gridcolor": "white",
            "gridwidth": 2,
            "linecolor": "white",
            "showbackground": true,
            "ticks": "",
            "zerolinecolor": "white"
           },
           "yaxis": {
            "backgroundcolor": "#E5ECF6",
            "gridcolor": "white",
            "gridwidth": 2,
            "linecolor": "white",
            "showbackground": true,
            "ticks": "",
            "zerolinecolor": "white"
           },
           "zaxis": {
            "backgroundcolor": "#E5ECF6",
            "gridcolor": "white",
            "gridwidth": 2,
            "linecolor": "white",
            "showbackground": true,
            "ticks": "",
            "zerolinecolor": "white"
           }
          },
          "shapedefaults": {
           "line": {
            "color": "#2a3f5f"
           }
          },
          "ternary": {
           "aaxis": {
            "gridcolor": "white",
            "linecolor": "white",
            "ticks": ""
           },
           "baxis": {
            "gridcolor": "white",
            "linecolor": "white",
            "ticks": ""
           },
           "bgcolor": "#E5ECF6",
           "caxis": {
            "gridcolor": "white",
            "linecolor": "white",
            "ticks": ""
           }
          },
          "title": {
           "x": 0.05
          },
          "xaxis": {
           "automargin": true,
           "gridcolor": "white",
           "linecolor": "white",
           "ticks": "",
           "title": {
            "standoff": 15
           },
           "zerolinecolor": "white",
           "zerolinewidth": 2
          },
          "yaxis": {
           "automargin": true,
           "gridcolor": "white",
           "linecolor": "white",
           "ticks": "",
           "title": {
            "standoff": 15
           },
           "zerolinecolor": "white",
           "zerolinewidth": 2
          }
         }
        },
        "title": {
         "text": "Average marks of students"
        },
        "xaxis": {
         "anchor": "y",
         "domain": [
          0,
          1
         ],
         "title": {
          "text": "Subjects"
         }
        },
        "yaxis": {
         "anchor": "x",
         "domain": [
          0,
          1
         ],
         "title": {
          "text": "Marks"
         }
        }
       }
      },
      "text/html": [
       "<div>                            <div id=\"824f672d-be3d-4792-ac0e-13f9bdff2703\" class=\"plotly-graph-div\" style=\"height:525px; width:100%;\"></div>            <script type=\"text/javascript\">                require([\"plotly\"], function(Plotly) {                    window.PLOTLYENV=window.PLOTLYENV || {};                                    if (document.getElementById(\"824f672d-be3d-4792-ac0e-13f9bdff2703\")) {                    Plotly.newPlot(                        \"824f672d-be3d-4792-ac0e-13f9bdff2703\",                        [{\"alignmentgroup\":\"True\",\"hovertemplate\":\"Subjects=%{x}<br>Marks=%{marker.color}<extra></extra>\",\"legendgroup\":\"\",\"marker\":{\"color\":[40,35,30,34],\"coloraxis\":\"coloraxis\",\"pattern\":{\"shape\":\"\"}},\"name\":\"\",\"offsetgroup\":\"\",\"orientation\":\"v\",\"showlegend\":false,\"textposition\":\"auto\",\"x\":[\"English\",\"Maths\",\"Science\",\"Computers\"],\"xaxis\":\"x\",\"y\":[40,35,30,34],\"yaxis\":\"y\",\"type\":\"bar\"}],                        {\"template\":{\"data\":{\"histogram2dcontour\":[{\"type\":\"histogram2dcontour\",\"colorbar\":{\"outlinewidth\":0,\"ticks\":\"\"},\"colorscale\":[[0.0,\"#0d0887\"],[0.1111111111111111,\"#46039f\"],[0.2222222222222222,\"#7201a8\"],[0.3333333333333333,\"#9c179e\"],[0.4444444444444444,\"#bd3786\"],[0.5555555555555556,\"#d8576b\"],[0.6666666666666666,\"#ed7953\"],[0.7777777777777778,\"#fb9f3a\"],[0.8888888888888888,\"#fdca26\"],[1.0,\"#f0f921\"]]}],\"choropleth\":[{\"type\":\"choropleth\",\"colorbar\":{\"outlinewidth\":0,\"ticks\":\"\"}}],\"histogram2d\":[{\"type\":\"histogram2d\",\"colorbar\":{\"outlinewidth\":0,\"ticks\":\"\"},\"colorscale\":[[0.0,\"#0d0887\"],[0.1111111111111111,\"#46039f\"],[0.2222222222222222,\"#7201a8\"],[0.3333333333333333,\"#9c179e\"],[0.4444444444444444,\"#bd3786\"],[0.5555555555555556,\"#d8576b\"],[0.6666666666666666,\"#ed7953\"],[0.7777777777777778,\"#fb9f3a\"],[0.8888888888888888,\"#fdca26\"],[1.0,\"#f0f921\"]]}],\"heatmap\":[{\"type\":\"heatmap\",\"colorbar\":{\"outlinewidth\":0,\"ticks\":\"\"},\"colorscale\":[[0.0,\"#0d0887\"],[0.1111111111111111,\"#46039f\"],[0.2222222222222222,\"#7201a8\"],[0.3333333333333333,\"#9c179e\"],[0.4444444444444444,\"#bd3786\"],[0.5555555555555556,\"#d8576b\"],[0.6666666666666666,\"#ed7953\"],[0.7777777777777778,\"#fb9f3a\"],[0.8888888888888888,\"#fdca26\"],[1.0,\"#f0f921\"]]}],\"heatmapgl\":[{\"type\":\"heatmapgl\",\"colorbar\":{\"outlinewidth\":0,\"ticks\":\"\"},\"colorscale\":[[0.0,\"#0d0887\"],[0.1111111111111111,\"#46039f\"],[0.2222222222222222,\"#7201a8\"],[0.3333333333333333,\"#9c179e\"],[0.4444444444444444,\"#bd3786\"],[0.5555555555555556,\"#d8576b\"],[0.6666666666666666,\"#ed7953\"],[0.7777777777777778,\"#fb9f3a\"],[0.8888888888888888,\"#fdca26\"],[1.0,\"#f0f921\"]]}],\"contourcarpet\":[{\"type\":\"contourcarpet\",\"colorbar\":{\"outlinewidth\":0,\"ticks\":\"\"}}],\"contour\":[{\"type\":\"contour\",\"colorbar\":{\"outlinewidth\":0,\"ticks\":\"\"},\"colorscale\":[[0.0,\"#0d0887\"],[0.1111111111111111,\"#46039f\"],[0.2222222222222222,\"#7201a8\"],[0.3333333333333333,\"#9c179e\"],[0.4444444444444444,\"#bd3786\"],[0.5555555555555556,\"#d8576b\"],[0.6666666666666666,\"#ed7953\"],[0.7777777777777778,\"#fb9f3a\"],[0.8888888888888888,\"#fdca26\"],[1.0,\"#f0f921\"]]}],\"surface\":[{\"type\":\"surface\",\"colorbar\":{\"outlinewidth\":0,\"ticks\":\"\"},\"colorscale\":[[0.0,\"#0d0887\"],[0.1111111111111111,\"#46039f\"],[0.2222222222222222,\"#7201a8\"],[0.3333333333333333,\"#9c179e\"],[0.4444444444444444,\"#bd3786\"],[0.5555555555555556,\"#d8576b\"],[0.6666666666666666,\"#ed7953\"],[0.7777777777777778,\"#fb9f3a\"],[0.8888888888888888,\"#fdca26\"],[1.0,\"#f0f921\"]]}],\"mesh3d\":[{\"type\":\"mesh3d\",\"colorbar\":{\"outlinewidth\":0,\"ticks\":\"\"}}],\"scatter\":[{\"fillpattern\":{\"fillmode\":\"overlay\",\"size\":10,\"solidity\":0.2},\"type\":\"scatter\"}],\"parcoords\":[{\"type\":\"parcoords\",\"line\":{\"colorbar\":{\"outlinewidth\":0,\"ticks\":\"\"}}}],\"scatterpolargl\":[{\"type\":\"scatterpolargl\",\"marker\":{\"colorbar\":{\"outlinewidth\":0,\"ticks\":\"\"}}}],\"bar\":[{\"error_x\":{\"color\":\"#2a3f5f\"},\"error_y\":{\"color\":\"#2a3f5f\"},\"marker\":{\"line\":{\"color\":\"#E5ECF6\",\"width\":0.5},\"pattern\":{\"fillmode\":\"overlay\",\"size\":10,\"solidity\":0.2}},\"type\":\"bar\"}],\"scattergeo\":[{\"type\":\"scattergeo\",\"marker\":{\"colorbar\":{\"outlinewidth\":0,\"ticks\":\"\"}}}],\"scatterpolar\":[{\"type\":\"scatterpolar\",\"marker\":{\"colorbar\":{\"outlinewidth\":0,\"ticks\":\"\"}}}],\"histogram\":[{\"marker\":{\"pattern\":{\"fillmode\":\"overlay\",\"size\":10,\"solidity\":0.2}},\"type\":\"histogram\"}],\"scattergl\":[{\"type\":\"scattergl\",\"marker\":{\"colorbar\":{\"outlinewidth\":0,\"ticks\":\"\"}}}],\"scatter3d\":[{\"type\":\"scatter3d\",\"line\":{\"colorbar\":{\"outlinewidth\":0,\"ticks\":\"\"}},\"marker\":{\"colorbar\":{\"outlinewidth\":0,\"ticks\":\"\"}}}],\"scattermapbox\":[{\"type\":\"scattermapbox\",\"marker\":{\"colorbar\":{\"outlinewidth\":0,\"ticks\":\"\"}}}],\"scatterternary\":[{\"type\":\"scatterternary\",\"marker\":{\"colorbar\":{\"outlinewidth\":0,\"ticks\":\"\"}}}],\"scattercarpet\":[{\"type\":\"scattercarpet\",\"marker\":{\"colorbar\":{\"outlinewidth\":0,\"ticks\":\"\"}}}],\"carpet\":[{\"aaxis\":{\"endlinecolor\":\"#2a3f5f\",\"gridcolor\":\"white\",\"linecolor\":\"white\",\"minorgridcolor\":\"white\",\"startlinecolor\":\"#2a3f5f\"},\"baxis\":{\"endlinecolor\":\"#2a3f5f\",\"gridcolor\":\"white\",\"linecolor\":\"white\",\"minorgridcolor\":\"white\",\"startlinecolor\":\"#2a3f5f\"},\"type\":\"carpet\"}],\"table\":[{\"cells\":{\"fill\":{\"color\":\"#EBF0F8\"},\"line\":{\"color\":\"white\"}},\"header\":{\"fill\":{\"color\":\"#C8D4E3\"},\"line\":{\"color\":\"white\"}},\"type\":\"table\"}],\"barpolar\":[{\"marker\":{\"line\":{\"color\":\"#E5ECF6\",\"width\":0.5},\"pattern\":{\"fillmode\":\"overlay\",\"size\":10,\"solidity\":0.2}},\"type\":\"barpolar\"}],\"pie\":[{\"automargin\":true,\"type\":\"pie\"}]},\"layout\":{\"autotypenumbers\":\"strict\",\"colorway\":[\"#636efa\",\"#EF553B\",\"#00cc96\",\"#ab63fa\",\"#FFA15A\",\"#19d3f3\",\"#FF6692\",\"#B6E880\",\"#FF97FF\",\"#FECB52\"],\"font\":{\"color\":\"#2a3f5f\"},\"hovermode\":\"closest\",\"hoverlabel\":{\"align\":\"left\"},\"paper_bgcolor\":\"white\",\"plot_bgcolor\":\"#E5ECF6\",\"polar\":{\"bgcolor\":\"#E5ECF6\",\"angularaxis\":{\"gridcolor\":\"white\",\"linecolor\":\"white\",\"ticks\":\"\"},\"radialaxis\":{\"gridcolor\":\"white\",\"linecolor\":\"white\",\"ticks\":\"\"}},\"ternary\":{\"bgcolor\":\"#E5ECF6\",\"aaxis\":{\"gridcolor\":\"white\",\"linecolor\":\"white\",\"ticks\":\"\"},\"baxis\":{\"gridcolor\":\"white\",\"linecolor\":\"white\",\"ticks\":\"\"},\"caxis\":{\"gridcolor\":\"white\",\"linecolor\":\"white\",\"ticks\":\"\"}},\"coloraxis\":{\"colorbar\":{\"outlinewidth\":0,\"ticks\":\"\"}},\"colorscale\":{\"sequential\":[[0.0,\"#0d0887\"],[0.1111111111111111,\"#46039f\"],[0.2222222222222222,\"#7201a8\"],[0.3333333333333333,\"#9c179e\"],[0.4444444444444444,\"#bd3786\"],[0.5555555555555556,\"#d8576b\"],[0.6666666666666666,\"#ed7953\"],[0.7777777777777778,\"#fb9f3a\"],[0.8888888888888888,\"#fdca26\"],[1.0,\"#f0f921\"]],\"sequentialminus\":[[0.0,\"#0d0887\"],[0.1111111111111111,\"#46039f\"],[0.2222222222222222,\"#7201a8\"],[0.3333333333333333,\"#9c179e\"],[0.4444444444444444,\"#bd3786\"],[0.5555555555555556,\"#d8576b\"],[0.6666666666666666,\"#ed7953\"],[0.7777777777777778,\"#fb9f3a\"],[0.8888888888888888,\"#fdca26\"],[1.0,\"#f0f921\"]],\"diverging\":[[0,\"#8e0152\"],[0.1,\"#c51b7d\"],[0.2,\"#de77ae\"],[0.3,\"#f1b6da\"],[0.4,\"#fde0ef\"],[0.5,\"#f7f7f7\"],[0.6,\"#e6f5d0\"],[0.7,\"#b8e186\"],[0.8,\"#7fbc41\"],[0.9,\"#4d9221\"],[1,\"#276419\"]]},\"xaxis\":{\"gridcolor\":\"white\",\"linecolor\":\"white\",\"ticks\":\"\",\"title\":{\"standoff\":15},\"zerolinecolor\":\"white\",\"automargin\":true,\"zerolinewidth\":2},\"yaxis\":{\"gridcolor\":\"white\",\"linecolor\":\"white\",\"ticks\":\"\",\"title\":{\"standoff\":15},\"zerolinecolor\":\"white\",\"automargin\":true,\"zerolinewidth\":2},\"scene\":{\"xaxis\":{\"backgroundcolor\":\"#E5ECF6\",\"gridcolor\":\"white\",\"linecolor\":\"white\",\"showbackground\":true,\"ticks\":\"\",\"zerolinecolor\":\"white\",\"gridwidth\":2},\"yaxis\":{\"backgroundcolor\":\"#E5ECF6\",\"gridcolor\":\"white\",\"linecolor\":\"white\",\"showbackground\":true,\"ticks\":\"\",\"zerolinecolor\":\"white\",\"gridwidth\":2},\"zaxis\":{\"backgroundcolor\":\"#E5ECF6\",\"gridcolor\":\"white\",\"linecolor\":\"white\",\"showbackground\":true,\"ticks\":\"\",\"zerolinecolor\":\"white\",\"gridwidth\":2}},\"shapedefaults\":{\"line\":{\"color\":\"#2a3f5f\"}},\"annotationdefaults\":{\"arrowcolor\":\"#2a3f5f\",\"arrowhead\":0,\"arrowwidth\":1},\"geo\":{\"bgcolor\":\"white\",\"landcolor\":\"#E5ECF6\",\"subunitcolor\":\"white\",\"showland\":true,\"showlakes\":true,\"lakecolor\":\"white\"},\"title\":{\"x\":0.05},\"mapbox\":{\"style\":\"light\"}}},\"xaxis\":{\"anchor\":\"y\",\"domain\":[0.0,1.0],\"title\":{\"text\":\"Subjects\"}},\"yaxis\":{\"anchor\":\"x\",\"domain\":[0.0,1.0],\"title\":{\"text\":\"Marks\"}},\"coloraxis\":{\"colorbar\":{\"title\":{\"text\":\"Marks\"}},\"colorscale\":[[0.0,\"#0d0887\"],[0.1111111111111111,\"#46039f\"],[0.2222222222222222,\"#7201a8\"],[0.3333333333333333,\"#9c179e\"],[0.4444444444444444,\"#bd3786\"],[0.5555555555555556,\"#d8576b\"],[0.6666666666666666,\"#ed7953\"],[0.7777777777777778,\"#fb9f3a\"],[0.8888888888888888,\"#fdca26\"],[1.0,\"#f0f921\"]],\"showscale\":false},\"legend\":{\"tracegroupgap\":0},\"title\":{\"text\":\"Average marks of students\"},\"barmode\":\"relative\"},                        {\"responsive\": true}                    ).then(function(){\n",
       "                            \n",
       "var gd = document.getElementById('824f672d-be3d-4792-ac0e-13f9bdff2703');\n",
       "var x = new MutationObserver(function (mutations, observer) {{\n",
       "        var display = window.getComputedStyle(gd).display;\n",
       "        if (!display || display === 'none') {{\n",
       "            console.log([gd, 'removed!']);\n",
       "            Plotly.purge(gd);\n",
       "            observer.disconnect();\n",
       "        }}\n",
       "}});\n",
       "\n",
       "// Listen for the removal of the full notebook cells\n",
       "var notebookContainer = gd.closest('#notebook-container');\n",
       "if (notebookContainer) {{\n",
       "    x.observe(notebookContainer, {childList: true});\n",
       "}}\n",
       "\n",
       "// Listen for the clearing of the current output cell\n",
       "var outputEl = gd.closest('.output');\n",
       "if (outputEl) {{\n",
       "    x.observe(outputEl, {childList: true});\n",
       "}}\n",
       "\n",
       "                        })                };                });            </script>        </div>"
      ]
     },
     "metadata": {},
     "output_type": "display_data"
    }
   ],
   "source": [
    "bar_graph1 = px.bar(df1,x='Subjects',y='Marks',title='Average marks of students',color='Marks')\n",
    "bar_graph1.update_coloraxes(showscale=False)\n",
    "bar_graph1.show()"
   ]
  },
  {
   "cell_type": "code",
   "execution_count": 55,
   "id": "c26afdca",
   "metadata": {},
   "outputs": [],
   "source": [
    "bg1_json = io.to_json(bar_graph1,pretty=True)"
   ]
  },
  {
   "cell_type": "code",
   "execution_count": 56,
   "id": "8112542a",
   "metadata": {},
   "outputs": [
    {
     "name": "stdout",
     "output_type": "stream",
     "text": [
      "{\n",
      "  \"data\": [\n",
      "    {\n",
      "      \"alignmentgroup\": \"True\",\n",
      "      \"hovertemplate\": \"Subjects=%{x}<br>Marks=%{marker.color}<extra></extra>\",\n",
      "      \"legendgroup\": \"\",\n",
      "      \"marker\": {\n",
      "        \"color\": [\n",
      "          40,\n",
      "          35,\n",
      "          30,\n",
      "          34\n",
      "        ],\n",
      "        \"coloraxis\": \"coloraxis\",\n",
      "        \"pattern\": {\n",
      "          \"shape\": \"\"\n",
      "        }\n",
      "      },\n",
      "      \"name\": \"\",\n",
      "      \"offsetgroup\": \"\",\n",
      "      \"orientation\": \"v\",\n",
      "      \"showlegend\": false,\n",
      "      \"textposition\": \"auto\",\n",
      "      \"x\": [\n",
      "        \"English\",\n",
      "        \"Maths\",\n",
      "        \"Science\",\n",
      "        \"Computers\"\n",
      "      ],\n",
      "      \"xaxis\": \"x\",\n",
      "      \"y\": [\n",
      "        40,\n",
      "        35,\n",
      "        30,\n",
      "        34\n",
      "      ],\n",
      "      \"yaxis\": \"y\",\n",
      "      \"type\": \"bar\"\n",
      "    }\n",
      "  ],\n",
      "  \"layout\": {\n",
      "    \"template\": {\n",
      "      \"data\": {\n",
      "        \"histogram2dcontour\": [\n",
      "          {\n",
      "            \"type\": \"histogram2dcontour\",\n",
      "            \"colorbar\": {\n",
      "              \"outlinewidth\": 0,\n",
      "              \"ticks\": \"\"\n",
      "            },\n",
      "            \"colorscale\": [\n",
      "              [\n",
      "                0.0,\n",
      "                \"#0d0887\"\n",
      "              ],\n",
      "              [\n",
      "                0.1111111111111111,\n",
      "                \"#46039f\"\n",
      "              ],\n",
      "              [\n",
      "                0.2222222222222222,\n",
      "                \"#7201a8\"\n",
      "              ],\n",
      "              [\n",
      "                0.3333333333333333,\n",
      "                \"#9c179e\"\n",
      "              ],\n",
      "              [\n",
      "                0.4444444444444444,\n",
      "                \"#bd3786\"\n",
      "              ],\n",
      "              [\n",
      "                0.5555555555555556,\n",
      "                \"#d8576b\"\n",
      "              ],\n",
      "              [\n",
      "                0.6666666666666666,\n",
      "                \"#ed7953\"\n",
      "              ],\n",
      "              [\n",
      "                0.7777777777777778,\n",
      "                \"#fb9f3a\"\n",
      "              ],\n",
      "              [\n",
      "                0.8888888888888888,\n",
      "                \"#fdca26\"\n",
      "              ],\n",
      "              [\n",
      "                1.0,\n",
      "                \"#f0f921\"\n",
      "              ]\n",
      "            ]\n",
      "          }\n",
      "        ],\n",
      "        \"choropleth\": [\n",
      "          {\n",
      "            \"type\": \"choropleth\",\n",
      "            \"colorbar\": {\n",
      "              \"outlinewidth\": 0,\n",
      "              \"ticks\": \"\"\n",
      "            }\n",
      "          }\n",
      "        ],\n",
      "        \"histogram2d\": [\n",
      "          {\n",
      "            \"type\": \"histogram2d\",\n",
      "            \"colorbar\": {\n",
      "              \"outlinewidth\": 0,\n",
      "              \"ticks\": \"\"\n",
      "            },\n",
      "            \"colorscale\": [\n",
      "              [\n",
      "                0.0,\n",
      "                \"#0d0887\"\n",
      "              ],\n",
      "              [\n",
      "                0.1111111111111111,\n",
      "                \"#46039f\"\n",
      "              ],\n",
      "              [\n",
      "                0.2222222222222222,\n",
      "                \"#7201a8\"\n",
      "              ],\n",
      "              [\n",
      "                0.3333333333333333,\n",
      "                \"#9c179e\"\n",
      "              ],\n",
      "              [\n",
      "                0.4444444444444444,\n",
      "                \"#bd3786\"\n",
      "              ],\n",
      "              [\n",
      "                0.5555555555555556,\n",
      "                \"#d8576b\"\n",
      "              ],\n",
      "              [\n",
      "                0.6666666666666666,\n",
      "                \"#ed7953\"\n",
      "              ],\n",
      "              [\n",
      "                0.7777777777777778,\n",
      "                \"#fb9f3a\"\n",
      "              ],\n",
      "              [\n",
      "                0.8888888888888888,\n",
      "                \"#fdca26\"\n",
      "              ],\n",
      "              [\n",
      "                1.0,\n",
      "                \"#f0f921\"\n",
      "              ]\n",
      "            ]\n",
      "          }\n",
      "        ],\n",
      "        \"heatmap\": [\n",
      "          {\n",
      "            \"type\": \"heatmap\",\n",
      "            \"colorbar\": {\n",
      "              \"outlinewidth\": 0,\n",
      "              \"ticks\": \"\"\n",
      "            },\n",
      "            \"colorscale\": [\n",
      "              [\n",
      "                0.0,\n",
      "                \"#0d0887\"\n",
      "              ],\n",
      "              [\n",
      "                0.1111111111111111,\n",
      "                \"#46039f\"\n",
      "              ],\n",
      "              [\n",
      "                0.2222222222222222,\n",
      "                \"#7201a8\"\n",
      "              ],\n",
      "              [\n",
      "                0.3333333333333333,\n",
      "                \"#9c179e\"\n",
      "              ],\n",
      "              [\n",
      "                0.4444444444444444,\n",
      "                \"#bd3786\"\n",
      "              ],\n",
      "              [\n",
      "                0.5555555555555556,\n",
      "                \"#d8576b\"\n",
      "              ],\n",
      "              [\n",
      "                0.6666666666666666,\n",
      "                \"#ed7953\"\n",
      "              ],\n",
      "              [\n",
      "                0.7777777777777778,\n",
      "                \"#fb9f3a\"\n",
      "              ],\n",
      "              [\n",
      "                0.8888888888888888,\n",
      "                \"#fdca26\"\n",
      "              ],\n",
      "              [\n",
      "                1.0,\n",
      "                \"#f0f921\"\n",
      "              ]\n",
      "            ]\n",
      "          }\n",
      "        ],\n",
      "        \"heatmapgl\": [\n",
      "          {\n",
      "            \"type\": \"heatmapgl\",\n",
      "            \"colorbar\": {\n",
      "              \"outlinewidth\": 0,\n",
      "              \"ticks\": \"\"\n",
      "            },\n",
      "            \"colorscale\": [\n",
      "              [\n",
      "                0.0,\n",
      "                \"#0d0887\"\n",
      "              ],\n",
      "              [\n",
      "                0.1111111111111111,\n",
      "                \"#46039f\"\n",
      "              ],\n",
      "              [\n",
      "                0.2222222222222222,\n",
      "                \"#7201a8\"\n",
      "              ],\n",
      "              [\n",
      "                0.3333333333333333,\n",
      "                \"#9c179e\"\n",
      "              ],\n",
      "              [\n",
      "                0.4444444444444444,\n",
      "                \"#bd3786\"\n",
      "              ],\n",
      "              [\n",
      "                0.5555555555555556,\n",
      "                \"#d8576b\"\n",
      "              ],\n",
      "              [\n",
      "                0.6666666666666666,\n",
      "                \"#ed7953\"\n",
      "              ],\n",
      "              [\n",
      "                0.7777777777777778,\n",
      "                \"#fb9f3a\"\n",
      "              ],\n",
      "              [\n",
      "                0.8888888888888888,\n",
      "                \"#fdca26\"\n",
      "              ],\n",
      "              [\n",
      "                1.0,\n",
      "                \"#f0f921\"\n",
      "              ]\n",
      "            ]\n",
      "          }\n",
      "        ],\n",
      "        \"contourcarpet\": [\n",
      "          {\n",
      "            \"type\": \"contourcarpet\",\n",
      "            \"colorbar\": {\n",
      "              \"outlinewidth\": 0,\n",
      "              \"ticks\": \"\"\n",
      "            }\n",
      "          }\n",
      "        ],\n",
      "        \"contour\": [\n",
      "          {\n",
      "            \"type\": \"contour\",\n",
      "            \"colorbar\": {\n",
      "              \"outlinewidth\": 0,\n",
      "              \"ticks\": \"\"\n",
      "            },\n",
      "            \"colorscale\": [\n",
      "              [\n",
      "                0.0,\n",
      "                \"#0d0887\"\n",
      "              ],\n",
      "              [\n",
      "                0.1111111111111111,\n",
      "                \"#46039f\"\n",
      "              ],\n",
      "              [\n",
      "                0.2222222222222222,\n",
      "                \"#7201a8\"\n",
      "              ],\n",
      "              [\n",
      "                0.3333333333333333,\n",
      "                \"#9c179e\"\n",
      "              ],\n",
      "              [\n",
      "                0.4444444444444444,\n",
      "                \"#bd3786\"\n",
      "              ],\n",
      "              [\n",
      "                0.5555555555555556,\n",
      "                \"#d8576b\"\n",
      "              ],\n",
      "              [\n",
      "                0.6666666666666666,\n",
      "                \"#ed7953\"\n",
      "              ],\n",
      "              [\n",
      "                0.7777777777777778,\n",
      "                \"#fb9f3a\"\n",
      "              ],\n",
      "              [\n",
      "                0.8888888888888888,\n",
      "                \"#fdca26\"\n",
      "              ],\n",
      "              [\n",
      "                1.0,\n",
      "                \"#f0f921\"\n",
      "              ]\n",
      "            ]\n",
      "          }\n",
      "        ],\n",
      "        \"surface\": [\n",
      "          {\n",
      "            \"type\": \"surface\",\n",
      "            \"colorbar\": {\n",
      "              \"outlinewidth\": 0,\n",
      "              \"ticks\": \"\"\n",
      "            },\n",
      "            \"colorscale\": [\n",
      "              [\n",
      "                0.0,\n",
      "                \"#0d0887\"\n",
      "              ],\n",
      "              [\n",
      "                0.1111111111111111,\n",
      "                \"#46039f\"\n",
      "              ],\n",
      "              [\n",
      "                0.2222222222222222,\n",
      "                \"#7201a8\"\n",
      "              ],\n",
      "              [\n",
      "                0.3333333333333333,\n",
      "                \"#9c179e\"\n",
      "              ],\n",
      "              [\n",
      "                0.4444444444444444,\n",
      "                \"#bd3786\"\n",
      "              ],\n",
      "              [\n",
      "                0.5555555555555556,\n",
      "                \"#d8576b\"\n",
      "              ],\n",
      "              [\n",
      "                0.6666666666666666,\n",
      "                \"#ed7953\"\n",
      "              ],\n",
      "              [\n",
      "                0.7777777777777778,\n",
      "                \"#fb9f3a\"\n",
      "              ],\n",
      "              [\n",
      "                0.8888888888888888,\n",
      "                \"#fdca26\"\n",
      "              ],\n",
      "              [\n",
      "                1.0,\n",
      "                \"#f0f921\"\n",
      "              ]\n",
      "            ]\n",
      "          }\n",
      "        ],\n",
      "        \"mesh3d\": [\n",
      "          {\n",
      "            \"type\": \"mesh3d\",\n",
      "            \"colorbar\": {\n",
      "              \"outlinewidth\": 0,\n",
      "              \"ticks\": \"\"\n",
      "            }\n",
      "          }\n",
      "        ],\n",
      "        \"scatter\": [\n",
      "          {\n",
      "            \"fillpattern\": {\n",
      "              \"fillmode\": \"overlay\",\n",
      "              \"size\": 10,\n",
      "              \"solidity\": 0.2\n",
      "            },\n",
      "            \"type\": \"scatter\"\n",
      "          }\n",
      "        ],\n",
      "        \"parcoords\": [\n",
      "          {\n",
      "            \"type\": \"parcoords\",\n",
      "            \"line\": {\n",
      "              \"colorbar\": {\n",
      "                \"outlinewidth\": 0,\n",
      "                \"ticks\": \"\"\n",
      "              }\n",
      "            }\n",
      "          }\n",
      "        ],\n",
      "        \"scatterpolargl\": [\n",
      "          {\n",
      "            \"type\": \"scatterpolargl\",\n",
      "            \"marker\": {\n",
      "              \"colorbar\": {\n",
      "                \"outlinewidth\": 0,\n",
      "                \"ticks\": \"\"\n",
      "              }\n",
      "            }\n",
      "          }\n",
      "        ],\n",
      "        \"bar\": [\n",
      "          {\n",
      "            \"error_x\": {\n",
      "              \"color\": \"#2a3f5f\"\n",
      "            },\n",
      "            \"error_y\": {\n",
      "              \"color\": \"#2a3f5f\"\n",
      "            },\n",
      "            \"marker\": {\n",
      "              \"line\": {\n",
      "                \"color\": \"#E5ECF6\",\n",
      "                \"width\": 0.5\n",
      "              },\n",
      "              \"pattern\": {\n",
      "                \"fillmode\": \"overlay\",\n",
      "                \"size\": 10,\n",
      "                \"solidity\": 0.2\n",
      "              }\n",
      "            },\n",
      "            \"type\": \"bar\"\n",
      "          }\n",
      "        ],\n",
      "        \"scattergeo\": [\n",
      "          {\n",
      "            \"type\": \"scattergeo\",\n",
      "            \"marker\": {\n",
      "              \"colorbar\": {\n",
      "                \"outlinewidth\": 0,\n",
      "                \"ticks\": \"\"\n",
      "              }\n",
      "            }\n",
      "          }\n",
      "        ],\n",
      "        \"scatterpolar\": [\n",
      "          {\n",
      "            \"type\": \"scatterpolar\",\n",
      "            \"marker\": {\n",
      "              \"colorbar\": {\n",
      "                \"outlinewidth\": 0,\n",
      "                \"ticks\": \"\"\n",
      "              }\n",
      "            }\n",
      "          }\n",
      "        ],\n",
      "        \"histogram\": [\n",
      "          {\n",
      "            \"marker\": {\n",
      "              \"pattern\": {\n",
      "                \"fillmode\": \"overlay\",\n",
      "                \"size\": 10,\n",
      "                \"solidity\": 0.2\n",
      "              }\n",
      "            },\n",
      "            \"type\": \"histogram\"\n",
      "          }\n",
      "        ],\n",
      "        \"scattergl\": [\n",
      "          {\n",
      "            \"type\": \"scattergl\",\n",
      "            \"marker\": {\n",
      "              \"colorbar\": {\n",
      "                \"outlinewidth\": 0,\n",
      "                \"ticks\": \"\"\n",
      "              }\n",
      "            }\n",
      "          }\n",
      "        ],\n",
      "        \"scatter3d\": [\n",
      "          {\n",
      "            \"type\": \"scatter3d\",\n",
      "            \"line\": {\n",
      "              \"colorbar\": {\n",
      "                \"outlinewidth\": 0,\n",
      "                \"ticks\": \"\"\n",
      "              }\n",
      "            },\n",
      "            \"marker\": {\n",
      "              \"colorbar\": {\n",
      "                \"outlinewidth\": 0,\n",
      "                \"ticks\": \"\"\n",
      "              }\n",
      "            }\n",
      "          }\n",
      "        ],\n",
      "        \"scattermapbox\": [\n",
      "          {\n",
      "            \"type\": \"scattermapbox\",\n",
      "            \"marker\": {\n",
      "              \"colorbar\": {\n",
      "                \"outlinewidth\": 0,\n",
      "                \"ticks\": \"\"\n",
      "              }\n",
      "            }\n",
      "          }\n",
      "        ],\n",
      "        \"scatterternary\": [\n",
      "          {\n",
      "            \"type\": \"scatterternary\",\n",
      "            \"marker\": {\n",
      "              \"colorbar\": {\n",
      "                \"outlinewidth\": 0,\n",
      "                \"ticks\": \"\"\n",
      "              }\n",
      "            }\n",
      "          }\n",
      "        ],\n",
      "        \"scattercarpet\": [\n",
      "          {\n",
      "            \"type\": \"scattercarpet\",\n",
      "            \"marker\": {\n",
      "              \"colorbar\": {\n",
      "                \"outlinewidth\": 0,\n",
      "                \"ticks\": \"\"\n",
      "              }\n",
      "            }\n",
      "          }\n",
      "        ],\n",
      "        \"carpet\": [\n",
      "          {\n",
      "            \"aaxis\": {\n",
      "              \"endlinecolor\": \"#2a3f5f\",\n",
      "              \"gridcolor\": \"white\",\n",
      "              \"linecolor\": \"white\",\n",
      "              \"minorgridcolor\": \"white\",\n",
      "              \"startlinecolor\": \"#2a3f5f\"\n",
      "            },\n",
      "            \"baxis\": {\n",
      "              \"endlinecolor\": \"#2a3f5f\",\n",
      "              \"gridcolor\": \"white\",\n",
      "              \"linecolor\": \"white\",\n",
      "              \"minorgridcolor\": \"white\",\n",
      "              \"startlinecolor\": \"#2a3f5f\"\n",
      "            },\n",
      "            \"type\": \"carpet\"\n",
      "          }\n",
      "        ],\n",
      "        \"table\": [\n",
      "          {\n",
      "            \"cells\": {\n",
      "              \"fill\": {\n",
      "                \"color\": \"#EBF0F8\"\n",
      "              },\n",
      "              \"line\": {\n",
      "                \"color\": \"white\"\n",
      "              }\n",
      "            },\n",
      "            \"header\": {\n",
      "              \"fill\": {\n",
      "                \"color\": \"#C8D4E3\"\n",
      "              },\n",
      "              \"line\": {\n",
      "                \"color\": \"white\"\n",
      "              }\n",
      "            },\n",
      "            \"type\": \"table\"\n",
      "          }\n",
      "        ],\n",
      "        \"barpolar\": [\n",
      "          {\n",
      "            \"marker\": {\n",
      "              \"line\": {\n",
      "                \"color\": \"#E5ECF6\",\n",
      "                \"width\": 0.5\n",
      "              },\n",
      "              \"pattern\": {\n",
      "                \"fillmode\": \"overlay\",\n",
      "                \"size\": 10,\n",
      "                \"solidity\": 0.2\n",
      "              }\n",
      "            },\n",
      "            \"type\": \"barpolar\"\n",
      "          }\n",
      "        ],\n",
      "        \"pie\": [\n",
      "          {\n",
      "            \"automargin\": true,\n",
      "            \"type\": \"pie\"\n",
      "          }\n",
      "        ]\n",
      "      },\n",
      "      \"layout\": {\n",
      "        \"autotypenumbers\": \"strict\",\n",
      "        \"colorway\": [\n",
      "          \"#636efa\",\n",
      "          \"#EF553B\",\n",
      "          \"#00cc96\",\n",
      "          \"#ab63fa\",\n",
      "          \"#FFA15A\",\n",
      "          \"#19d3f3\",\n",
      "          \"#FF6692\",\n",
      "          \"#B6E880\",\n",
      "          \"#FF97FF\",\n",
      "          \"#FECB52\"\n",
      "        ],\n",
      "        \"font\": {\n",
      "          \"color\": \"#2a3f5f\"\n",
      "        },\n",
      "        \"hovermode\": \"closest\",\n",
      "        \"hoverlabel\": {\n",
      "          \"align\": \"left\"\n",
      "        },\n",
      "        \"paper_bgcolor\": \"white\",\n",
      "        \"plot_bgcolor\": \"#E5ECF6\",\n",
      "        \"polar\": {\n",
      "          \"bgcolor\": \"#E5ECF6\",\n",
      "          \"angularaxis\": {\n",
      "            \"gridcolor\": \"white\",\n",
      "            \"linecolor\": \"white\",\n",
      "            \"ticks\": \"\"\n",
      "          },\n",
      "          \"radialaxis\": {\n",
      "            \"gridcolor\": \"white\",\n",
      "            \"linecolor\": \"white\",\n",
      "            \"ticks\": \"\"\n",
      "          }\n",
      "        },\n",
      "        \"ternary\": {\n",
      "          \"bgcolor\": \"#E5ECF6\",\n",
      "          \"aaxis\": {\n",
      "            \"gridcolor\": \"white\",\n",
      "            \"linecolor\": \"white\",\n",
      "            \"ticks\": \"\"\n",
      "          },\n",
      "          \"baxis\": {\n",
      "            \"gridcolor\": \"white\",\n",
      "            \"linecolor\": \"white\",\n",
      "            \"ticks\": \"\"\n",
      "          },\n",
      "          \"caxis\": {\n",
      "            \"gridcolor\": \"white\",\n",
      "            \"linecolor\": \"white\",\n",
      "            \"ticks\": \"\"\n",
      "          }\n",
      "        },\n",
      "        \"coloraxis\": {\n",
      "          \"colorbar\": {\n",
      "            \"outlinewidth\": 0,\n",
      "            \"ticks\": \"\"\n",
      "          }\n",
      "        },\n",
      "        \"colorscale\": {\n",
      "          \"sequential\": [\n",
      "            [\n",
      "              0.0,\n",
      "              \"#0d0887\"\n",
      "            ],\n",
      "            [\n",
      "              0.1111111111111111,\n",
      "              \"#46039f\"\n",
      "            ],\n",
      "            [\n",
      "              0.2222222222222222,\n",
      "              \"#7201a8\"\n",
      "            ],\n",
      "            [\n",
      "              0.3333333333333333,\n",
      "              \"#9c179e\"\n",
      "            ],\n",
      "            [\n",
      "              0.4444444444444444,\n",
      "              \"#bd3786\"\n",
      "            ],\n",
      "            [\n",
      "              0.5555555555555556,\n",
      "              \"#d8576b\"\n",
      "            ],\n",
      "            [\n",
      "              0.6666666666666666,\n",
      "              \"#ed7953\"\n",
      "            ],\n",
      "            [\n",
      "              0.7777777777777778,\n",
      "              \"#fb9f3a\"\n",
      "            ],\n",
      "            [\n",
      "              0.8888888888888888,\n",
      "              \"#fdca26\"\n",
      "            ],\n",
      "            [\n",
      "              1.0,\n",
      "              \"#f0f921\"\n",
      "            ]\n",
      "          ],\n",
      "          \"sequentialminus\": [\n",
      "            [\n",
      "              0.0,\n",
      "              \"#0d0887\"\n",
      "            ],\n",
      "            [\n",
      "              0.1111111111111111,\n",
      "              \"#46039f\"\n",
      "            ],\n",
      "            [\n",
      "              0.2222222222222222,\n",
      "              \"#7201a8\"\n",
      "            ],\n",
      "            [\n",
      "              0.3333333333333333,\n",
      "              \"#9c179e\"\n",
      "            ],\n",
      "            [\n",
      "              0.4444444444444444,\n",
      "              \"#bd3786\"\n",
      "            ],\n",
      "            [\n",
      "              0.5555555555555556,\n",
      "              \"#d8576b\"\n",
      "            ],\n",
      "            [\n",
      "              0.6666666666666666,\n",
      "              \"#ed7953\"\n",
      "            ],\n",
      "            [\n",
      "              0.7777777777777778,\n",
      "              \"#fb9f3a\"\n",
      "            ],\n",
      "            [\n",
      "              0.8888888888888888,\n",
      "              \"#fdca26\"\n",
      "            ],\n",
      "            [\n",
      "              1.0,\n",
      "              \"#f0f921\"\n",
      "            ]\n",
      "          ],\n",
      "          \"diverging\": [\n",
      "            [\n",
      "              0,\n",
      "              \"#8e0152\"\n",
      "            ],\n",
      "            [\n",
      "              0.1,\n",
      "              \"#c51b7d\"\n",
      "            ],\n",
      "            [\n",
      "              0.2,\n",
      "              \"#de77ae\"\n",
      "            ],\n",
      "            [\n",
      "              0.3,\n",
      "              \"#f1b6da\"\n",
      "            ],\n",
      "            [\n",
      "              0.4,\n",
      "              \"#fde0ef\"\n",
      "            ],\n",
      "            [\n",
      "              0.5,\n",
      "              \"#f7f7f7\"\n",
      "            ],\n",
      "            [\n",
      "              0.6,\n",
      "              \"#e6f5d0\"\n",
      "            ],\n",
      "            [\n",
      "              0.7,\n",
      "              \"#b8e186\"\n",
      "            ],\n",
      "            [\n",
      "              0.8,\n",
      "              \"#7fbc41\"\n",
      "            ],\n",
      "            [\n",
      "              0.9,\n",
      "              \"#4d9221\"\n",
      "            ],\n",
      "            [\n",
      "              1,\n",
      "              \"#276419\"\n",
      "            ]\n",
      "          ]\n",
      "        },\n",
      "        \"xaxis\": {\n",
      "          \"gridcolor\": \"white\",\n",
      "          \"linecolor\": \"white\",\n",
      "          \"ticks\": \"\",\n",
      "          \"title\": {\n",
      "            \"standoff\": 15\n",
      "          },\n",
      "          \"zerolinecolor\": \"white\",\n",
      "          \"automargin\": true,\n",
      "          \"zerolinewidth\": 2\n",
      "        },\n",
      "        \"yaxis\": {\n",
      "          \"gridcolor\": \"white\",\n",
      "          \"linecolor\": \"white\",\n",
      "          \"ticks\": \"\",\n",
      "          \"title\": {\n",
      "            \"standoff\": 15\n",
      "          },\n",
      "          \"zerolinecolor\": \"white\",\n",
      "          \"automargin\": true,\n",
      "          \"zerolinewidth\": 2\n",
      "        },\n",
      "        \"scene\": {\n",
      "          \"xaxis\": {\n",
      "            \"backgroundcolor\": \"#E5ECF6\",\n",
      "            \"gridcolor\": \"white\",\n",
      "            \"linecolor\": \"white\",\n",
      "            \"showbackground\": true,\n",
      "            \"ticks\": \"\",\n",
      "            \"zerolinecolor\": \"white\",\n",
      "            \"gridwidth\": 2\n",
      "          },\n",
      "          \"yaxis\": {\n",
      "            \"backgroundcolor\": \"#E5ECF6\",\n",
      "            \"gridcolor\": \"white\",\n",
      "            \"linecolor\": \"white\",\n",
      "            \"showbackground\": true,\n",
      "            \"ticks\": \"\",\n",
      "            \"zerolinecolor\": \"white\",\n",
      "            \"gridwidth\": 2\n",
      "          },\n",
      "          \"zaxis\": {\n",
      "            \"backgroundcolor\": \"#E5ECF6\",\n",
      "            \"gridcolor\": \"white\",\n",
      "            \"linecolor\": \"white\",\n",
      "            \"showbackground\": true,\n",
      "            \"ticks\": \"\",\n",
      "            \"zerolinecolor\": \"white\",\n",
      "            \"gridwidth\": 2\n",
      "          }\n",
      "        },\n",
      "        \"shapedefaults\": {\n",
      "          \"line\": {\n",
      "            \"color\": \"#2a3f5f\"\n",
      "          }\n",
      "        },\n",
      "        \"annotationdefaults\": {\n",
      "          \"arrowcolor\": \"#2a3f5f\",\n",
      "          \"arrowhead\": 0,\n",
      "          \"arrowwidth\": 1\n",
      "        },\n",
      "        \"geo\": {\n",
      "          \"bgcolor\": \"white\",\n",
      "          \"landcolor\": \"#E5ECF6\",\n",
      "          \"subunitcolor\": \"white\",\n",
      "          \"showland\": true,\n",
      "          \"showlakes\": true,\n",
      "          \"lakecolor\": \"white\"\n",
      "        },\n",
      "        \"title\": {\n",
      "          \"x\": 0.05\n",
      "        },\n",
      "        \"mapbox\": {\n",
      "          \"style\": \"light\"\n",
      "        }\n",
      "      }\n",
      "    },\n",
      "    \"xaxis\": {\n",
      "      \"anchor\": \"y\",\n",
      "      \"domain\": [\n",
      "        0.0,\n",
      "        1.0\n",
      "      ],\n",
      "      \"title\": {\n",
      "        \"text\": \"Subjects\"\n",
      "      }\n",
      "    },\n",
      "    \"yaxis\": {\n",
      "      \"anchor\": \"x\",\n",
      "      \"domain\": [\n",
      "        0.0,\n",
      "        1.0\n",
      "      ],\n",
      "      \"title\": {\n",
      "        \"text\": \"Marks\"\n",
      "      }\n",
      "    },\n",
      "    \"coloraxis\": {\n",
      "      \"colorbar\": {\n",
      "        \"title\": {\n",
      "          \"text\": \"Marks\"\n",
      "        }\n",
      "      },\n",
      "      \"colorscale\": [\n",
      "        [\n",
      "          0.0,\n",
      "          \"#0d0887\"\n",
      "        ],\n",
      "        [\n",
      "          0.1111111111111111,\n",
      "          \"#46039f\"\n",
      "        ],\n",
      "        [\n",
      "          0.2222222222222222,\n",
      "          \"#7201a8\"\n",
      "        ],\n",
      "        [\n",
      "          0.3333333333333333,\n",
      "          \"#9c179e\"\n",
      "        ],\n",
      "        [\n",
      "          0.4444444444444444,\n",
      "          \"#bd3786\"\n",
      "        ],\n",
      "        [\n",
      "          0.5555555555555556,\n",
      "          \"#d8576b\"\n",
      "        ],\n",
      "        [\n",
      "          0.6666666666666666,\n",
      "          \"#ed7953\"\n",
      "        ],\n",
      "        [\n",
      "          0.7777777777777778,\n",
      "          \"#fb9f3a\"\n",
      "        ],\n",
      "        [\n",
      "          0.8888888888888888,\n",
      "          \"#fdca26\"\n",
      "        ],\n",
      "        [\n",
      "          1.0,\n",
      "          \"#f0f921\"\n",
      "        ]\n",
      "      ],\n",
      "      \"showscale\": false\n",
      "    },\n",
      "    \"legend\": {\n",
      "      \"tracegroupgap\": 0\n",
      "    },\n",
      "    \"title\": {\n",
      "      \"text\": \"Average marks of students\"\n",
      "    },\n",
      "    \"barmode\": \"relative\"\n",
      "  }\n",
      "}\n"
     ]
    }
   ],
   "source": [
    "print(bg1_json)"
   ]
  },
  {
   "cell_type": "code",
   "execution_count": 57,
   "id": "7b678348",
   "metadata": {},
   "outputs": [
    {
     "data": {
      "application/vnd.plotly.v1+json": {
       "config": {
        "plotlyServerURL": "https://plot.ly"
       },
       "data": [
        {
         "alignmentgroup": "True",
         "hovertemplate": "Subjects=%{x}<br>Marks=%{y}<extra></extra>",
         "legendgroup": "",
         "marker": {
          "color": "#636efa",
          "pattern": {
           "shape": ""
          }
         },
         "name": "",
         "offsetgroup": "",
         "orientation": "v",
         "showlegend": false,
         "textposition": "auto",
         "type": "bar",
         "x": [
          "English",
          "Maths",
          "Science",
          "Computers"
         ],
         "xaxis": "x",
         "y": [
          40,
          35,
          30,
          34
         ],
         "yaxis": "y"
        }
       ],
       "layout": {
        "barmode": "relative",
        "coloraxis": {
         "showscale": false
        },
        "legend": {
         "tracegroupgap": 0
        },
        "template": {
         "data": {
          "bar": [
           {
            "error_x": {
             "color": "#2a3f5f"
            },
            "error_y": {
             "color": "#2a3f5f"
            },
            "marker": {
             "line": {
              "color": "#E5ECF6",
              "width": 0.5
             },
             "pattern": {
              "fillmode": "overlay",
              "size": 10,
              "solidity": 0.2
             }
            },
            "type": "bar"
           }
          ],
          "barpolar": [
           {
            "marker": {
             "line": {
              "color": "#E5ECF6",
              "width": 0.5
             },
             "pattern": {
              "fillmode": "overlay",
              "size": 10,
              "solidity": 0.2
             }
            },
            "type": "barpolar"
           }
          ],
          "carpet": [
           {
            "aaxis": {
             "endlinecolor": "#2a3f5f",
             "gridcolor": "white",
             "linecolor": "white",
             "minorgridcolor": "white",
             "startlinecolor": "#2a3f5f"
            },
            "baxis": {
             "endlinecolor": "#2a3f5f",
             "gridcolor": "white",
             "linecolor": "white",
             "minorgridcolor": "white",
             "startlinecolor": "#2a3f5f"
            },
            "type": "carpet"
           }
          ],
          "choropleth": [
           {
            "colorbar": {
             "outlinewidth": 0,
             "ticks": ""
            },
            "type": "choropleth"
           }
          ],
          "contour": [
           {
            "colorbar": {
             "outlinewidth": 0,
             "ticks": ""
            },
            "colorscale": [
             [
              0,
              "#0d0887"
             ],
             [
              0.1111111111111111,
              "#46039f"
             ],
             [
              0.2222222222222222,
              "#7201a8"
             ],
             [
              0.3333333333333333,
              "#9c179e"
             ],
             [
              0.4444444444444444,
              "#bd3786"
             ],
             [
              0.5555555555555556,
              "#d8576b"
             ],
             [
              0.6666666666666666,
              "#ed7953"
             ],
             [
              0.7777777777777778,
              "#fb9f3a"
             ],
             [
              0.8888888888888888,
              "#fdca26"
             ],
             [
              1,
              "#f0f921"
             ]
            ],
            "type": "contour"
           }
          ],
          "contourcarpet": [
           {
            "colorbar": {
             "outlinewidth": 0,
             "ticks": ""
            },
            "type": "contourcarpet"
           }
          ],
          "heatmap": [
           {
            "colorbar": {
             "outlinewidth": 0,
             "ticks": ""
            },
            "colorscale": [
             [
              0,
              "#0d0887"
             ],
             [
              0.1111111111111111,
              "#46039f"
             ],
             [
              0.2222222222222222,
              "#7201a8"
             ],
             [
              0.3333333333333333,
              "#9c179e"
             ],
             [
              0.4444444444444444,
              "#bd3786"
             ],
             [
              0.5555555555555556,
              "#d8576b"
             ],
             [
              0.6666666666666666,
              "#ed7953"
             ],
             [
              0.7777777777777778,
              "#fb9f3a"
             ],
             [
              0.8888888888888888,
              "#fdca26"
             ],
             [
              1,
              "#f0f921"
             ]
            ],
            "type": "heatmap"
           }
          ],
          "heatmapgl": [
           {
            "colorbar": {
             "outlinewidth": 0,
             "ticks": ""
            },
            "colorscale": [
             [
              0,
              "#0d0887"
             ],
             [
              0.1111111111111111,
              "#46039f"
             ],
             [
              0.2222222222222222,
              "#7201a8"
             ],
             [
              0.3333333333333333,
              "#9c179e"
             ],
             [
              0.4444444444444444,
              "#bd3786"
             ],
             [
              0.5555555555555556,
              "#d8576b"
             ],
             [
              0.6666666666666666,
              "#ed7953"
             ],
             [
              0.7777777777777778,
              "#fb9f3a"
             ],
             [
              0.8888888888888888,
              "#fdca26"
             ],
             [
              1,
              "#f0f921"
             ]
            ],
            "type": "heatmapgl"
           }
          ],
          "histogram": [
           {
            "marker": {
             "pattern": {
              "fillmode": "overlay",
              "size": 10,
              "solidity": 0.2
             }
            },
            "type": "histogram"
           }
          ],
          "histogram2d": [
           {
            "colorbar": {
             "outlinewidth": 0,
             "ticks": ""
            },
            "colorscale": [
             [
              0,
              "#0d0887"
             ],
             [
              0.1111111111111111,
              "#46039f"
             ],
             [
              0.2222222222222222,
              "#7201a8"
             ],
             [
              0.3333333333333333,
              "#9c179e"
             ],
             [
              0.4444444444444444,
              "#bd3786"
             ],
             [
              0.5555555555555556,
              "#d8576b"
             ],
             [
              0.6666666666666666,
              "#ed7953"
             ],
             [
              0.7777777777777778,
              "#fb9f3a"
             ],
             [
              0.8888888888888888,
              "#fdca26"
             ],
             [
              1,
              "#f0f921"
             ]
            ],
            "type": "histogram2d"
           }
          ],
          "histogram2dcontour": [
           {
            "colorbar": {
             "outlinewidth": 0,
             "ticks": ""
            },
            "colorscale": [
             [
              0,
              "#0d0887"
             ],
             [
              0.1111111111111111,
              "#46039f"
             ],
             [
              0.2222222222222222,
              "#7201a8"
             ],
             [
              0.3333333333333333,
              "#9c179e"
             ],
             [
              0.4444444444444444,
              "#bd3786"
             ],
             [
              0.5555555555555556,
              "#d8576b"
             ],
             [
              0.6666666666666666,
              "#ed7953"
             ],
             [
              0.7777777777777778,
              "#fb9f3a"
             ],
             [
              0.8888888888888888,
              "#fdca26"
             ],
             [
              1,
              "#f0f921"
             ]
            ],
            "type": "histogram2dcontour"
           }
          ],
          "mesh3d": [
           {
            "colorbar": {
             "outlinewidth": 0,
             "ticks": ""
            },
            "type": "mesh3d"
           }
          ],
          "parcoords": [
           {
            "line": {
             "colorbar": {
              "outlinewidth": 0,
              "ticks": ""
             }
            },
            "type": "parcoords"
           }
          ],
          "pie": [
           {
            "automargin": true,
            "type": "pie"
           }
          ],
          "scatter": [
           {
            "fillpattern": {
             "fillmode": "overlay",
             "size": 10,
             "solidity": 0.2
            },
            "type": "scatter"
           }
          ],
          "scatter3d": [
           {
            "line": {
             "colorbar": {
              "outlinewidth": 0,
              "ticks": ""
             }
            },
            "marker": {
             "colorbar": {
              "outlinewidth": 0,
              "ticks": ""
             }
            },
            "type": "scatter3d"
           }
          ],
          "scattercarpet": [
           {
            "marker": {
             "colorbar": {
              "outlinewidth": 0,
              "ticks": ""
             }
            },
            "type": "scattercarpet"
           }
          ],
          "scattergeo": [
           {
            "marker": {
             "colorbar": {
              "outlinewidth": 0,
              "ticks": ""
             }
            },
            "type": "scattergeo"
           }
          ],
          "scattergl": [
           {
            "marker": {
             "colorbar": {
              "outlinewidth": 0,
              "ticks": ""
             }
            },
            "type": "scattergl"
           }
          ],
          "scattermapbox": [
           {
            "marker": {
             "colorbar": {
              "outlinewidth": 0,
              "ticks": ""
             }
            },
            "type": "scattermapbox"
           }
          ],
          "scatterpolar": [
           {
            "marker": {
             "colorbar": {
              "outlinewidth": 0,
              "ticks": ""
             }
            },
            "type": "scatterpolar"
           }
          ],
          "scatterpolargl": [
           {
            "marker": {
             "colorbar": {
              "outlinewidth": 0,
              "ticks": ""
             }
            },
            "type": "scatterpolargl"
           }
          ],
          "scatterternary": [
           {
            "marker": {
             "colorbar": {
              "outlinewidth": 0,
              "ticks": ""
             }
            },
            "type": "scatterternary"
           }
          ],
          "surface": [
           {
            "colorbar": {
             "outlinewidth": 0,
             "ticks": ""
            },
            "colorscale": [
             [
              0,
              "#0d0887"
             ],
             [
              0.1111111111111111,
              "#46039f"
             ],
             [
              0.2222222222222222,
              "#7201a8"
             ],
             [
              0.3333333333333333,
              "#9c179e"
             ],
             [
              0.4444444444444444,
              "#bd3786"
             ],
             [
              0.5555555555555556,
              "#d8576b"
             ],
             [
              0.6666666666666666,
              "#ed7953"
             ],
             [
              0.7777777777777778,
              "#fb9f3a"
             ],
             [
              0.8888888888888888,
              "#fdca26"
             ],
             [
              1,
              "#f0f921"
             ]
            ],
            "type": "surface"
           }
          ],
          "table": [
           {
            "cells": {
             "fill": {
              "color": "#EBF0F8"
             },
             "line": {
              "color": "white"
             }
            },
            "header": {
             "fill": {
              "color": "#C8D4E3"
             },
             "line": {
              "color": "white"
             }
            },
            "type": "table"
           }
          ]
         },
         "layout": {
          "annotationdefaults": {
           "arrowcolor": "#2a3f5f",
           "arrowhead": 0,
           "arrowwidth": 1
          },
          "autotypenumbers": "strict",
          "coloraxis": {
           "colorbar": {
            "outlinewidth": 0,
            "ticks": ""
           }
          },
          "colorscale": {
           "diverging": [
            [
             0,
             "#8e0152"
            ],
            [
             0.1,
             "#c51b7d"
            ],
            [
             0.2,
             "#de77ae"
            ],
            [
             0.3,
             "#f1b6da"
            ],
            [
             0.4,
             "#fde0ef"
            ],
            [
             0.5,
             "#f7f7f7"
            ],
            [
             0.6,
             "#e6f5d0"
            ],
            [
             0.7,
             "#b8e186"
            ],
            [
             0.8,
             "#7fbc41"
            ],
            [
             0.9,
             "#4d9221"
            ],
            [
             1,
             "#276419"
            ]
           ],
           "sequential": [
            [
             0,
             "#0d0887"
            ],
            [
             0.1111111111111111,
             "#46039f"
            ],
            [
             0.2222222222222222,
             "#7201a8"
            ],
            [
             0.3333333333333333,
             "#9c179e"
            ],
            [
             0.4444444444444444,
             "#bd3786"
            ],
            [
             0.5555555555555556,
             "#d8576b"
            ],
            [
             0.6666666666666666,
             "#ed7953"
            ],
            [
             0.7777777777777778,
             "#fb9f3a"
            ],
            [
             0.8888888888888888,
             "#fdca26"
            ],
            [
             1,
             "#f0f921"
            ]
           ],
           "sequentialminus": [
            [
             0,
             "#0d0887"
            ],
            [
             0.1111111111111111,
             "#46039f"
            ],
            [
             0.2222222222222222,
             "#7201a8"
            ],
            [
             0.3333333333333333,
             "#9c179e"
            ],
            [
             0.4444444444444444,
             "#bd3786"
            ],
            [
             0.5555555555555556,
             "#d8576b"
            ],
            [
             0.6666666666666666,
             "#ed7953"
            ],
            [
             0.7777777777777778,
             "#fb9f3a"
            ],
            [
             0.8888888888888888,
             "#fdca26"
            ],
            [
             1,
             "#f0f921"
            ]
           ]
          },
          "colorway": [
           "#636efa",
           "#EF553B",
           "#00cc96",
           "#ab63fa",
           "#FFA15A",
           "#19d3f3",
           "#FF6692",
           "#B6E880",
           "#FF97FF",
           "#FECB52"
          ],
          "font": {
           "color": "#2a3f5f"
          },
          "geo": {
           "bgcolor": "white",
           "lakecolor": "white",
           "landcolor": "#E5ECF6",
           "showlakes": true,
           "showland": true,
           "subunitcolor": "white"
          },
          "hoverlabel": {
           "align": "left"
          },
          "hovermode": "closest",
          "mapbox": {
           "style": "light"
          },
          "paper_bgcolor": "white",
          "plot_bgcolor": "#E5ECF6",
          "polar": {
           "angularaxis": {
            "gridcolor": "white",
            "linecolor": "white",
            "ticks": ""
           },
           "bgcolor": "#E5ECF6",
           "radialaxis": {
            "gridcolor": "white",
            "linecolor": "white",
            "ticks": ""
           }
          },
          "scene": {
           "xaxis": {
            "backgroundcolor": "#E5ECF6",
            "gridcolor": "white",
            "gridwidth": 2,
            "linecolor": "white",
            "showbackground": true,
            "ticks": "",
            "zerolinecolor": "white"
           },
           "yaxis": {
            "backgroundcolor": "#E5ECF6",
            "gridcolor": "white",
            "gridwidth": 2,
            "linecolor": "white",
            "showbackground": true,
            "ticks": "",
            "zerolinecolor": "white"
           },
           "zaxis": {
            "backgroundcolor": "#E5ECF6",
            "gridcolor": "white",
            "gridwidth": 2,
            "linecolor": "white",
            "showbackground": true,
            "ticks": "",
            "zerolinecolor": "white"
           }
          },
          "shapedefaults": {
           "line": {
            "color": "#2a3f5f"
           }
          },
          "ternary": {
           "aaxis": {
            "gridcolor": "white",
            "linecolor": "white",
            "ticks": ""
           },
           "baxis": {
            "gridcolor": "white",
            "linecolor": "white",
            "ticks": ""
           },
           "bgcolor": "#E5ECF6",
           "caxis": {
            "gridcolor": "white",
            "linecolor": "white",
            "ticks": ""
           }
          },
          "title": {
           "x": 0.05
          },
          "xaxis": {
           "automargin": true,
           "gridcolor": "white",
           "linecolor": "white",
           "ticks": "",
           "title": {
            "standoff": 15
           },
           "zerolinecolor": "white",
           "zerolinewidth": 2
          },
          "yaxis": {
           "automargin": true,
           "gridcolor": "white",
           "linecolor": "white",
           "ticks": "",
           "title": {
            "standoff": 15
           },
           "zerolinecolor": "white",
           "zerolinewidth": 2
          }
         }
        },
        "title": {
         "text": "Average marks of students"
        },
        "xaxis": {
         "anchor": "y",
         "domain": [
          0,
          1
         ],
         "title": {
          "text": "Subjects"
         }
        },
        "yaxis": {
         "anchor": "x",
         "domain": [
          0,
          1
         ],
         "title": {
          "text": "Marks"
         }
        }
       }
      },
      "text/html": [
       "<div>                            <div id=\"d3847e0d-e388-476a-934f-e7585af68966\" class=\"plotly-graph-div\" style=\"height:525px; width:100%;\"></div>            <script type=\"text/javascript\">                require([\"plotly\"], function(Plotly) {                    window.PLOTLYENV=window.PLOTLYENV || {};                                    if (document.getElementById(\"d3847e0d-e388-476a-934f-e7585af68966\")) {                    Plotly.newPlot(                        \"d3847e0d-e388-476a-934f-e7585af68966\",                        [{\"alignmentgroup\":\"True\",\"hovertemplate\":\"Subjects=%{x}<br>Marks=%{y}<extra></extra>\",\"legendgroup\":\"\",\"marker\":{\"color\":\"#636efa\",\"pattern\":{\"shape\":\"\"}},\"name\":\"\",\"offsetgroup\":\"\",\"orientation\":\"v\",\"showlegend\":false,\"textposition\":\"auto\",\"x\":[\"English\",\"Maths\",\"Science\",\"Computers\"],\"xaxis\":\"x\",\"y\":[40,35,30,34],\"yaxis\":\"y\",\"type\":\"bar\"}],                        {\"template\":{\"data\":{\"histogram2dcontour\":[{\"type\":\"histogram2dcontour\",\"colorbar\":{\"outlinewidth\":0,\"ticks\":\"\"},\"colorscale\":[[0.0,\"#0d0887\"],[0.1111111111111111,\"#46039f\"],[0.2222222222222222,\"#7201a8\"],[0.3333333333333333,\"#9c179e\"],[0.4444444444444444,\"#bd3786\"],[0.5555555555555556,\"#d8576b\"],[0.6666666666666666,\"#ed7953\"],[0.7777777777777778,\"#fb9f3a\"],[0.8888888888888888,\"#fdca26\"],[1.0,\"#f0f921\"]]}],\"choropleth\":[{\"type\":\"choropleth\",\"colorbar\":{\"outlinewidth\":0,\"ticks\":\"\"}}],\"histogram2d\":[{\"type\":\"histogram2d\",\"colorbar\":{\"outlinewidth\":0,\"ticks\":\"\"},\"colorscale\":[[0.0,\"#0d0887\"],[0.1111111111111111,\"#46039f\"],[0.2222222222222222,\"#7201a8\"],[0.3333333333333333,\"#9c179e\"],[0.4444444444444444,\"#bd3786\"],[0.5555555555555556,\"#d8576b\"],[0.6666666666666666,\"#ed7953\"],[0.7777777777777778,\"#fb9f3a\"],[0.8888888888888888,\"#fdca26\"],[1.0,\"#f0f921\"]]}],\"heatmap\":[{\"type\":\"heatmap\",\"colorbar\":{\"outlinewidth\":0,\"ticks\":\"\"},\"colorscale\":[[0.0,\"#0d0887\"],[0.1111111111111111,\"#46039f\"],[0.2222222222222222,\"#7201a8\"],[0.3333333333333333,\"#9c179e\"],[0.4444444444444444,\"#bd3786\"],[0.5555555555555556,\"#d8576b\"],[0.6666666666666666,\"#ed7953\"],[0.7777777777777778,\"#fb9f3a\"],[0.8888888888888888,\"#fdca26\"],[1.0,\"#f0f921\"]]}],\"heatmapgl\":[{\"type\":\"heatmapgl\",\"colorbar\":{\"outlinewidth\":0,\"ticks\":\"\"},\"colorscale\":[[0.0,\"#0d0887\"],[0.1111111111111111,\"#46039f\"],[0.2222222222222222,\"#7201a8\"],[0.3333333333333333,\"#9c179e\"],[0.4444444444444444,\"#bd3786\"],[0.5555555555555556,\"#d8576b\"],[0.6666666666666666,\"#ed7953\"],[0.7777777777777778,\"#fb9f3a\"],[0.8888888888888888,\"#fdca26\"],[1.0,\"#f0f921\"]]}],\"contourcarpet\":[{\"type\":\"contourcarpet\",\"colorbar\":{\"outlinewidth\":0,\"ticks\":\"\"}}],\"contour\":[{\"type\":\"contour\",\"colorbar\":{\"outlinewidth\":0,\"ticks\":\"\"},\"colorscale\":[[0.0,\"#0d0887\"],[0.1111111111111111,\"#46039f\"],[0.2222222222222222,\"#7201a8\"],[0.3333333333333333,\"#9c179e\"],[0.4444444444444444,\"#bd3786\"],[0.5555555555555556,\"#d8576b\"],[0.6666666666666666,\"#ed7953\"],[0.7777777777777778,\"#fb9f3a\"],[0.8888888888888888,\"#fdca26\"],[1.0,\"#f0f921\"]]}],\"surface\":[{\"type\":\"surface\",\"colorbar\":{\"outlinewidth\":0,\"ticks\":\"\"},\"colorscale\":[[0.0,\"#0d0887\"],[0.1111111111111111,\"#46039f\"],[0.2222222222222222,\"#7201a8\"],[0.3333333333333333,\"#9c179e\"],[0.4444444444444444,\"#bd3786\"],[0.5555555555555556,\"#d8576b\"],[0.6666666666666666,\"#ed7953\"],[0.7777777777777778,\"#fb9f3a\"],[0.8888888888888888,\"#fdca26\"],[1.0,\"#f0f921\"]]}],\"mesh3d\":[{\"type\":\"mesh3d\",\"colorbar\":{\"outlinewidth\":0,\"ticks\":\"\"}}],\"scatter\":[{\"fillpattern\":{\"fillmode\":\"overlay\",\"size\":10,\"solidity\":0.2},\"type\":\"scatter\"}],\"parcoords\":[{\"type\":\"parcoords\",\"line\":{\"colorbar\":{\"outlinewidth\":0,\"ticks\":\"\"}}}],\"scatterpolargl\":[{\"type\":\"scatterpolargl\",\"marker\":{\"colorbar\":{\"outlinewidth\":0,\"ticks\":\"\"}}}],\"bar\":[{\"error_x\":{\"color\":\"#2a3f5f\"},\"error_y\":{\"color\":\"#2a3f5f\"},\"marker\":{\"line\":{\"color\":\"#E5ECF6\",\"width\":0.5},\"pattern\":{\"fillmode\":\"overlay\",\"size\":10,\"solidity\":0.2}},\"type\":\"bar\"}],\"scattergeo\":[{\"type\":\"scattergeo\",\"marker\":{\"colorbar\":{\"outlinewidth\":0,\"ticks\":\"\"}}}],\"scatterpolar\":[{\"type\":\"scatterpolar\",\"marker\":{\"colorbar\":{\"outlinewidth\":0,\"ticks\":\"\"}}}],\"histogram\":[{\"marker\":{\"pattern\":{\"fillmode\":\"overlay\",\"size\":10,\"solidity\":0.2}},\"type\":\"histogram\"}],\"scattergl\":[{\"type\":\"scattergl\",\"marker\":{\"colorbar\":{\"outlinewidth\":0,\"ticks\":\"\"}}}],\"scatter3d\":[{\"type\":\"scatter3d\",\"line\":{\"colorbar\":{\"outlinewidth\":0,\"ticks\":\"\"}},\"marker\":{\"colorbar\":{\"outlinewidth\":0,\"ticks\":\"\"}}}],\"scattermapbox\":[{\"type\":\"scattermapbox\",\"marker\":{\"colorbar\":{\"outlinewidth\":0,\"ticks\":\"\"}}}],\"scatterternary\":[{\"type\":\"scatterternary\",\"marker\":{\"colorbar\":{\"outlinewidth\":0,\"ticks\":\"\"}}}],\"scattercarpet\":[{\"type\":\"scattercarpet\",\"marker\":{\"colorbar\":{\"outlinewidth\":0,\"ticks\":\"\"}}}],\"carpet\":[{\"aaxis\":{\"endlinecolor\":\"#2a3f5f\",\"gridcolor\":\"white\",\"linecolor\":\"white\",\"minorgridcolor\":\"white\",\"startlinecolor\":\"#2a3f5f\"},\"baxis\":{\"endlinecolor\":\"#2a3f5f\",\"gridcolor\":\"white\",\"linecolor\":\"white\",\"minorgridcolor\":\"white\",\"startlinecolor\":\"#2a3f5f\"},\"type\":\"carpet\"}],\"table\":[{\"cells\":{\"fill\":{\"color\":\"#EBF0F8\"},\"line\":{\"color\":\"white\"}},\"header\":{\"fill\":{\"color\":\"#C8D4E3\"},\"line\":{\"color\":\"white\"}},\"type\":\"table\"}],\"barpolar\":[{\"marker\":{\"line\":{\"color\":\"#E5ECF6\",\"width\":0.5},\"pattern\":{\"fillmode\":\"overlay\",\"size\":10,\"solidity\":0.2}},\"type\":\"barpolar\"}],\"pie\":[{\"automargin\":true,\"type\":\"pie\"}]},\"layout\":{\"autotypenumbers\":\"strict\",\"colorway\":[\"#636efa\",\"#EF553B\",\"#00cc96\",\"#ab63fa\",\"#FFA15A\",\"#19d3f3\",\"#FF6692\",\"#B6E880\",\"#FF97FF\",\"#FECB52\"],\"font\":{\"color\":\"#2a3f5f\"},\"hovermode\":\"closest\",\"hoverlabel\":{\"align\":\"left\"},\"paper_bgcolor\":\"white\",\"plot_bgcolor\":\"#E5ECF6\",\"polar\":{\"bgcolor\":\"#E5ECF6\",\"angularaxis\":{\"gridcolor\":\"white\",\"linecolor\":\"white\",\"ticks\":\"\"},\"radialaxis\":{\"gridcolor\":\"white\",\"linecolor\":\"white\",\"ticks\":\"\"}},\"ternary\":{\"bgcolor\":\"#E5ECF6\",\"aaxis\":{\"gridcolor\":\"white\",\"linecolor\":\"white\",\"ticks\":\"\"},\"baxis\":{\"gridcolor\":\"white\",\"linecolor\":\"white\",\"ticks\":\"\"},\"caxis\":{\"gridcolor\":\"white\",\"linecolor\":\"white\",\"ticks\":\"\"}},\"coloraxis\":{\"colorbar\":{\"outlinewidth\":0,\"ticks\":\"\"}},\"colorscale\":{\"sequential\":[[0.0,\"#0d0887\"],[0.1111111111111111,\"#46039f\"],[0.2222222222222222,\"#7201a8\"],[0.3333333333333333,\"#9c179e\"],[0.4444444444444444,\"#bd3786\"],[0.5555555555555556,\"#d8576b\"],[0.6666666666666666,\"#ed7953\"],[0.7777777777777778,\"#fb9f3a\"],[0.8888888888888888,\"#fdca26\"],[1.0,\"#f0f921\"]],\"sequentialminus\":[[0.0,\"#0d0887\"],[0.1111111111111111,\"#46039f\"],[0.2222222222222222,\"#7201a8\"],[0.3333333333333333,\"#9c179e\"],[0.4444444444444444,\"#bd3786\"],[0.5555555555555556,\"#d8576b\"],[0.6666666666666666,\"#ed7953\"],[0.7777777777777778,\"#fb9f3a\"],[0.8888888888888888,\"#fdca26\"],[1.0,\"#f0f921\"]],\"diverging\":[[0,\"#8e0152\"],[0.1,\"#c51b7d\"],[0.2,\"#de77ae\"],[0.3,\"#f1b6da\"],[0.4,\"#fde0ef\"],[0.5,\"#f7f7f7\"],[0.6,\"#e6f5d0\"],[0.7,\"#b8e186\"],[0.8,\"#7fbc41\"],[0.9,\"#4d9221\"],[1,\"#276419\"]]},\"xaxis\":{\"gridcolor\":\"white\",\"linecolor\":\"white\",\"ticks\":\"\",\"title\":{\"standoff\":15},\"zerolinecolor\":\"white\",\"automargin\":true,\"zerolinewidth\":2},\"yaxis\":{\"gridcolor\":\"white\",\"linecolor\":\"white\",\"ticks\":\"\",\"title\":{\"standoff\":15},\"zerolinecolor\":\"white\",\"automargin\":true,\"zerolinewidth\":2},\"scene\":{\"xaxis\":{\"backgroundcolor\":\"#E5ECF6\",\"gridcolor\":\"white\",\"linecolor\":\"white\",\"showbackground\":true,\"ticks\":\"\",\"zerolinecolor\":\"white\",\"gridwidth\":2},\"yaxis\":{\"backgroundcolor\":\"#E5ECF6\",\"gridcolor\":\"white\",\"linecolor\":\"white\",\"showbackground\":true,\"ticks\":\"\",\"zerolinecolor\":\"white\",\"gridwidth\":2},\"zaxis\":{\"backgroundcolor\":\"#E5ECF6\",\"gridcolor\":\"white\",\"linecolor\":\"white\",\"showbackground\":true,\"ticks\":\"\",\"zerolinecolor\":\"white\",\"gridwidth\":2}},\"shapedefaults\":{\"line\":{\"color\":\"#2a3f5f\"}},\"annotationdefaults\":{\"arrowcolor\":\"#2a3f5f\",\"arrowhead\":0,\"arrowwidth\":1},\"geo\":{\"bgcolor\":\"white\",\"landcolor\":\"#E5ECF6\",\"subunitcolor\":\"white\",\"showland\":true,\"showlakes\":true,\"lakecolor\":\"white\"},\"title\":{\"x\":0.05},\"mapbox\":{\"style\":\"light\"}}},\"xaxis\":{\"anchor\":\"y\",\"domain\":[0.0,1.0],\"title\":{\"text\":\"Subjects\"}},\"yaxis\":{\"anchor\":\"x\",\"domain\":[0.0,1.0],\"title\":{\"text\":\"Marks\"}},\"legend\":{\"tracegroupgap\":0},\"title\":{\"text\":\"Average marks of students\"},\"barmode\":\"relative\",\"coloraxis\":{\"showscale\":false}},                        {\"responsive\": true}                    ).then(function(){\n",
       "                            \n",
       "var gd = document.getElementById('d3847e0d-e388-476a-934f-e7585af68966');\n",
       "var x = new MutationObserver(function (mutations, observer) {{\n",
       "        var display = window.getComputedStyle(gd).display;\n",
       "        if (!display || display === 'none') {{\n",
       "            console.log([gd, 'removed!']);\n",
       "            Plotly.purge(gd);\n",
       "            observer.disconnect();\n",
       "        }}\n",
       "}});\n",
       "\n",
       "// Listen for the removal of the full notebook cells\n",
       "var notebookContainer = gd.closest('#notebook-container');\n",
       "if (notebookContainer) {{\n",
       "    x.observe(notebookContainer, {childList: true});\n",
       "}}\n",
       "\n",
       "// Listen for the clearing of the current output cell\n",
       "var outputEl = gd.closest('.output');\n",
       "if (outputEl) {{\n",
       "    x.observe(outputEl, {childList: true});\n",
       "}}\n",
       "\n",
       "                        })                };                });            </script>        </div>"
      ]
     },
     "metadata": {},
     "output_type": "display_data"
    }
   ],
   "source": [
    "#Bar Graph 2\n",
    "bar_graph2 = px.bar(df1,x='Subjects',y='Marks',title='Average marks of students',)\n",
    "bar_graph2.update_coloraxes(showscale=False)\n",
    "bar_graph2.show()"
   ]
  },
  {
   "cell_type": "code",
   "execution_count": 58,
   "id": "325acbf6",
   "metadata": {},
   "outputs": [
    {
     "name": "stdout",
     "output_type": "stream",
     "text": [
      "{\n",
      "  \"data\": [\n",
      "    {\n",
      "      \"alignmentgroup\": \"True\",\n",
      "      \"hovertemplate\": \"Subjects=%{x}<br>Marks=%{y}<extra></extra>\",\n",
      "      \"legendgroup\": \"\",\n",
      "      \"marker\": {\n",
      "        \"color\": \"#636efa\",\n",
      "        \"pattern\": {\n",
      "          \"shape\": \"\"\n",
      "        }\n",
      "      },\n",
      "      \"name\": \"\",\n",
      "      \"offsetgroup\": \"\",\n",
      "      \"orientation\": \"v\",\n",
      "      \"showlegend\": false,\n",
      "      \"textposition\": \"auto\",\n",
      "      \"x\": [\n",
      "        \"English\",\n",
      "        \"Maths\",\n",
      "        \"Science\",\n",
      "        \"Computers\"\n",
      "      ],\n",
      "      \"xaxis\": \"x\",\n",
      "      \"y\": [\n",
      "        40,\n",
      "        35,\n",
      "        30,\n",
      "        34\n",
      "      ],\n",
      "      \"yaxis\": \"y\",\n",
      "      \"type\": \"bar\"\n",
      "    }\n",
      "  ],\n",
      "  \"layout\": {\n",
      "    \"template\": {\n",
      "      \"data\": {\n",
      "        \"histogram2dcontour\": [\n",
      "          {\n",
      "            \"type\": \"histogram2dcontour\",\n",
      "            \"colorbar\": {\n",
      "              \"outlinewidth\": 0,\n",
      "              \"ticks\": \"\"\n",
      "            },\n",
      "            \"colorscale\": [\n",
      "              [\n",
      "                0.0,\n",
      "                \"#0d0887\"\n",
      "              ],\n",
      "              [\n",
      "                0.1111111111111111,\n",
      "                \"#46039f\"\n",
      "              ],\n",
      "              [\n",
      "                0.2222222222222222,\n",
      "                \"#7201a8\"\n",
      "              ],\n",
      "              [\n",
      "                0.3333333333333333,\n",
      "                \"#9c179e\"\n",
      "              ],\n",
      "              [\n",
      "                0.4444444444444444,\n",
      "                \"#bd3786\"\n",
      "              ],\n",
      "              [\n",
      "                0.5555555555555556,\n",
      "                \"#d8576b\"\n",
      "              ],\n",
      "              [\n",
      "                0.6666666666666666,\n",
      "                \"#ed7953\"\n",
      "              ],\n",
      "              [\n",
      "                0.7777777777777778,\n",
      "                \"#fb9f3a\"\n",
      "              ],\n",
      "              [\n",
      "                0.8888888888888888,\n",
      "                \"#fdca26\"\n",
      "              ],\n",
      "              [\n",
      "                1.0,\n",
      "                \"#f0f921\"\n",
      "              ]\n",
      "            ]\n",
      "          }\n",
      "        ],\n",
      "        \"choropleth\": [\n",
      "          {\n",
      "            \"type\": \"choropleth\",\n",
      "            \"colorbar\": {\n",
      "              \"outlinewidth\": 0,\n",
      "              \"ticks\": \"\"\n",
      "            }\n",
      "          }\n",
      "        ],\n",
      "        \"histogram2d\": [\n",
      "          {\n",
      "            \"type\": \"histogram2d\",\n",
      "            \"colorbar\": {\n",
      "              \"outlinewidth\": 0,\n",
      "              \"ticks\": \"\"\n",
      "            },\n",
      "            \"colorscale\": [\n",
      "              [\n",
      "                0.0,\n",
      "                \"#0d0887\"\n",
      "              ],\n",
      "              [\n",
      "                0.1111111111111111,\n",
      "                \"#46039f\"\n",
      "              ],\n",
      "              [\n",
      "                0.2222222222222222,\n",
      "                \"#7201a8\"\n",
      "              ],\n",
      "              [\n",
      "                0.3333333333333333,\n",
      "                \"#9c179e\"\n",
      "              ],\n",
      "              [\n",
      "                0.4444444444444444,\n",
      "                \"#bd3786\"\n",
      "              ],\n",
      "              [\n",
      "                0.5555555555555556,\n",
      "                \"#d8576b\"\n",
      "              ],\n",
      "              [\n",
      "                0.6666666666666666,\n",
      "                \"#ed7953\"\n",
      "              ],\n",
      "              [\n",
      "                0.7777777777777778,\n",
      "                \"#fb9f3a\"\n",
      "              ],\n",
      "              [\n",
      "                0.8888888888888888,\n",
      "                \"#fdca26\"\n",
      "              ],\n",
      "              [\n",
      "                1.0,\n",
      "                \"#f0f921\"\n",
      "              ]\n",
      "            ]\n",
      "          }\n",
      "        ],\n",
      "        \"heatmap\": [\n",
      "          {\n",
      "            \"type\": \"heatmap\",\n",
      "            \"colorbar\": {\n",
      "              \"outlinewidth\": 0,\n",
      "              \"ticks\": \"\"\n",
      "            },\n",
      "            \"colorscale\": [\n",
      "              [\n",
      "                0.0,\n",
      "                \"#0d0887\"\n",
      "              ],\n",
      "              [\n",
      "                0.1111111111111111,\n",
      "                \"#46039f\"\n",
      "              ],\n",
      "              [\n",
      "                0.2222222222222222,\n",
      "                \"#7201a8\"\n",
      "              ],\n",
      "              [\n",
      "                0.3333333333333333,\n",
      "                \"#9c179e\"\n",
      "              ],\n",
      "              [\n",
      "                0.4444444444444444,\n",
      "                \"#bd3786\"\n",
      "              ],\n",
      "              [\n",
      "                0.5555555555555556,\n",
      "                \"#d8576b\"\n",
      "              ],\n",
      "              [\n",
      "                0.6666666666666666,\n",
      "                \"#ed7953\"\n",
      "              ],\n",
      "              [\n",
      "                0.7777777777777778,\n",
      "                \"#fb9f3a\"\n",
      "              ],\n",
      "              [\n",
      "                0.8888888888888888,\n",
      "                \"#fdca26\"\n",
      "              ],\n",
      "              [\n",
      "                1.0,\n",
      "                \"#f0f921\"\n",
      "              ]\n",
      "            ]\n",
      "          }\n",
      "        ],\n",
      "        \"heatmapgl\": [\n",
      "          {\n",
      "            \"type\": \"heatmapgl\",\n",
      "            \"colorbar\": {\n",
      "              \"outlinewidth\": 0,\n",
      "              \"ticks\": \"\"\n",
      "            },\n",
      "            \"colorscale\": [\n",
      "              [\n",
      "                0.0,\n",
      "                \"#0d0887\"\n",
      "              ],\n",
      "              [\n",
      "                0.1111111111111111,\n",
      "                \"#46039f\"\n",
      "              ],\n",
      "              [\n",
      "                0.2222222222222222,\n",
      "                \"#7201a8\"\n",
      "              ],\n",
      "              [\n",
      "                0.3333333333333333,\n",
      "                \"#9c179e\"\n",
      "              ],\n",
      "              [\n",
      "                0.4444444444444444,\n",
      "                \"#bd3786\"\n",
      "              ],\n",
      "              [\n",
      "                0.5555555555555556,\n",
      "                \"#d8576b\"\n",
      "              ],\n",
      "              [\n",
      "                0.6666666666666666,\n",
      "                \"#ed7953\"\n",
      "              ],\n",
      "              [\n",
      "                0.7777777777777778,\n",
      "                \"#fb9f3a\"\n",
      "              ],\n",
      "              [\n",
      "                0.8888888888888888,\n",
      "                \"#fdca26\"\n",
      "              ],\n",
      "              [\n",
      "                1.0,\n",
      "                \"#f0f921\"\n",
      "              ]\n",
      "            ]\n",
      "          }\n",
      "        ],\n",
      "        \"contourcarpet\": [\n",
      "          {\n",
      "            \"type\": \"contourcarpet\",\n",
      "            \"colorbar\": {\n",
      "              \"outlinewidth\": 0,\n",
      "              \"ticks\": \"\"\n",
      "            }\n",
      "          }\n",
      "        ],\n",
      "        \"contour\": [\n",
      "          {\n",
      "            \"type\": \"contour\",\n",
      "            \"colorbar\": {\n",
      "              \"outlinewidth\": 0,\n",
      "              \"ticks\": \"\"\n",
      "            },\n",
      "            \"colorscale\": [\n",
      "              [\n",
      "                0.0,\n",
      "                \"#0d0887\"\n",
      "              ],\n",
      "              [\n",
      "                0.1111111111111111,\n",
      "                \"#46039f\"\n",
      "              ],\n",
      "              [\n",
      "                0.2222222222222222,\n",
      "                \"#7201a8\"\n",
      "              ],\n",
      "              [\n",
      "                0.3333333333333333,\n",
      "                \"#9c179e\"\n",
      "              ],\n",
      "              [\n",
      "                0.4444444444444444,\n",
      "                \"#bd3786\"\n",
      "              ],\n",
      "              [\n",
      "                0.5555555555555556,\n",
      "                \"#d8576b\"\n",
      "              ],\n",
      "              [\n",
      "                0.6666666666666666,\n",
      "                \"#ed7953\"\n",
      "              ],\n",
      "              [\n",
      "                0.7777777777777778,\n",
      "                \"#fb9f3a\"\n",
      "              ],\n",
      "              [\n",
      "                0.8888888888888888,\n",
      "                \"#fdca26\"\n",
      "              ],\n",
      "              [\n",
      "                1.0,\n",
      "                \"#f0f921\"\n",
      "              ]\n",
      "            ]\n",
      "          }\n",
      "        ],\n",
      "        \"surface\": [\n",
      "          {\n",
      "            \"type\": \"surface\",\n",
      "            \"colorbar\": {\n",
      "              \"outlinewidth\": 0,\n",
      "              \"ticks\": \"\"\n",
      "            },\n",
      "            \"colorscale\": [\n",
      "              [\n",
      "                0.0,\n",
      "                \"#0d0887\"\n",
      "              ],\n",
      "              [\n",
      "                0.1111111111111111,\n",
      "                \"#46039f\"\n",
      "              ],\n",
      "              [\n",
      "                0.2222222222222222,\n",
      "                \"#7201a8\"\n",
      "              ],\n",
      "              [\n",
      "                0.3333333333333333,\n",
      "                \"#9c179e\"\n",
      "              ],\n",
      "              [\n",
      "                0.4444444444444444,\n",
      "                \"#bd3786\"\n",
      "              ],\n",
      "              [\n",
      "                0.5555555555555556,\n",
      "                \"#d8576b\"\n",
      "              ],\n",
      "              [\n",
      "                0.6666666666666666,\n",
      "                \"#ed7953\"\n",
      "              ],\n",
      "              [\n",
      "                0.7777777777777778,\n",
      "                \"#fb9f3a\"\n",
      "              ],\n",
      "              [\n",
      "                0.8888888888888888,\n",
      "                \"#fdca26\"\n",
      "              ],\n",
      "              [\n",
      "                1.0,\n",
      "                \"#f0f921\"\n",
      "              ]\n",
      "            ]\n",
      "          }\n",
      "        ],\n",
      "        \"mesh3d\": [\n",
      "          {\n",
      "            \"type\": \"mesh3d\",\n",
      "            \"colorbar\": {\n",
      "              \"outlinewidth\": 0,\n",
      "              \"ticks\": \"\"\n",
      "            }\n",
      "          }\n",
      "        ],\n",
      "        \"scatter\": [\n",
      "          {\n",
      "            \"fillpattern\": {\n",
      "              \"fillmode\": \"overlay\",\n",
      "              \"size\": 10,\n",
      "              \"solidity\": 0.2\n",
      "            },\n",
      "            \"type\": \"scatter\"\n",
      "          }\n",
      "        ],\n",
      "        \"parcoords\": [\n",
      "          {\n",
      "            \"type\": \"parcoords\",\n",
      "            \"line\": {\n",
      "              \"colorbar\": {\n",
      "                \"outlinewidth\": 0,\n",
      "                \"ticks\": \"\"\n",
      "              }\n",
      "            }\n",
      "          }\n",
      "        ],\n",
      "        \"scatterpolargl\": [\n",
      "          {\n",
      "            \"type\": \"scatterpolargl\",\n",
      "            \"marker\": {\n",
      "              \"colorbar\": {\n",
      "                \"outlinewidth\": 0,\n",
      "                \"ticks\": \"\"\n",
      "              }\n",
      "            }\n",
      "          }\n",
      "        ],\n",
      "        \"bar\": [\n",
      "          {\n",
      "            \"error_x\": {\n",
      "              \"color\": \"#2a3f5f\"\n",
      "            },\n",
      "            \"error_y\": {\n",
      "              \"color\": \"#2a3f5f\"\n",
      "            },\n",
      "            \"marker\": {\n",
      "              \"line\": {\n",
      "                \"color\": \"#E5ECF6\",\n",
      "                \"width\": 0.5\n",
      "              },\n",
      "              \"pattern\": {\n",
      "                \"fillmode\": \"overlay\",\n",
      "                \"size\": 10,\n",
      "                \"solidity\": 0.2\n",
      "              }\n",
      "            },\n",
      "            \"type\": \"bar\"\n",
      "          }\n",
      "        ],\n",
      "        \"scattergeo\": [\n",
      "          {\n",
      "            \"type\": \"scattergeo\",\n",
      "            \"marker\": {\n",
      "              \"colorbar\": {\n",
      "                \"outlinewidth\": 0,\n",
      "                \"ticks\": \"\"\n",
      "              }\n",
      "            }\n",
      "          }\n",
      "        ],\n",
      "        \"scatterpolar\": [\n",
      "          {\n",
      "            \"type\": \"scatterpolar\",\n",
      "            \"marker\": {\n",
      "              \"colorbar\": {\n",
      "                \"outlinewidth\": 0,\n",
      "                \"ticks\": \"\"\n",
      "              }\n",
      "            }\n",
      "          }\n",
      "        ],\n",
      "        \"histogram\": [\n",
      "          {\n",
      "            \"marker\": {\n",
      "              \"pattern\": {\n",
      "                \"fillmode\": \"overlay\",\n",
      "                \"size\": 10,\n",
      "                \"solidity\": 0.2\n",
      "              }\n",
      "            },\n",
      "            \"type\": \"histogram\"\n",
      "          }\n",
      "        ],\n",
      "        \"scattergl\": [\n",
      "          {\n",
      "            \"type\": \"scattergl\",\n",
      "            \"marker\": {\n",
      "              \"colorbar\": {\n",
      "                \"outlinewidth\": 0,\n",
      "                \"ticks\": \"\"\n",
      "              }\n",
      "            }\n",
      "          }\n",
      "        ],\n",
      "        \"scatter3d\": [\n",
      "          {\n",
      "            \"type\": \"scatter3d\",\n",
      "            \"line\": {\n",
      "              \"colorbar\": {\n",
      "                \"outlinewidth\": 0,\n",
      "                \"ticks\": \"\"\n",
      "              }\n",
      "            },\n",
      "            \"marker\": {\n",
      "              \"colorbar\": {\n",
      "                \"outlinewidth\": 0,\n",
      "                \"ticks\": \"\"\n",
      "              }\n",
      "            }\n",
      "          }\n",
      "        ],\n",
      "        \"scattermapbox\": [\n",
      "          {\n",
      "            \"type\": \"scattermapbox\",\n",
      "            \"marker\": {\n",
      "              \"colorbar\": {\n",
      "                \"outlinewidth\": 0,\n",
      "                \"ticks\": \"\"\n",
      "              }\n",
      "            }\n",
      "          }\n",
      "        ],\n",
      "        \"scatterternary\": [\n",
      "          {\n",
      "            \"type\": \"scatterternary\",\n",
      "            \"marker\": {\n",
      "              \"colorbar\": {\n",
      "                \"outlinewidth\": 0,\n",
      "                \"ticks\": \"\"\n",
      "              }\n",
      "            }\n",
      "          }\n",
      "        ],\n",
      "        \"scattercarpet\": [\n",
      "          {\n",
      "            \"type\": \"scattercarpet\",\n",
      "            \"marker\": {\n",
      "              \"colorbar\": {\n",
      "                \"outlinewidth\": 0,\n",
      "                \"ticks\": \"\"\n",
      "              }\n",
      "            }\n",
      "          }\n",
      "        ],\n",
      "        \"carpet\": [\n",
      "          {\n",
      "            \"aaxis\": {\n",
      "              \"endlinecolor\": \"#2a3f5f\",\n",
      "              \"gridcolor\": \"white\",\n",
      "              \"linecolor\": \"white\",\n",
      "              \"minorgridcolor\": \"white\",\n",
      "              \"startlinecolor\": \"#2a3f5f\"\n",
      "            },\n",
      "            \"baxis\": {\n",
      "              \"endlinecolor\": \"#2a3f5f\",\n",
      "              \"gridcolor\": \"white\",\n",
      "              \"linecolor\": \"white\",\n",
      "              \"minorgridcolor\": \"white\",\n",
      "              \"startlinecolor\": \"#2a3f5f\"\n",
      "            },\n",
      "            \"type\": \"carpet\"\n",
      "          }\n",
      "        ],\n",
      "        \"table\": [\n",
      "          {\n",
      "            \"cells\": {\n",
      "              \"fill\": {\n",
      "                \"color\": \"#EBF0F8\"\n",
      "              },\n",
      "              \"line\": {\n",
      "                \"color\": \"white\"\n",
      "              }\n",
      "            },\n",
      "            \"header\": {\n",
      "              \"fill\": {\n",
      "                \"color\": \"#C8D4E3\"\n",
      "              },\n",
      "              \"line\": {\n",
      "                \"color\": \"white\"\n",
      "              }\n",
      "            },\n",
      "            \"type\": \"table\"\n",
      "          }\n",
      "        ],\n",
      "        \"barpolar\": [\n",
      "          {\n",
      "            \"marker\": {\n",
      "              \"line\": {\n",
      "                \"color\": \"#E5ECF6\",\n",
      "                \"width\": 0.5\n",
      "              },\n",
      "              \"pattern\": {\n",
      "                \"fillmode\": \"overlay\",\n",
      "                \"size\": 10,\n",
      "                \"solidity\": 0.2\n",
      "              }\n",
      "            },\n",
      "            \"type\": \"barpolar\"\n",
      "          }\n",
      "        ],\n",
      "        \"pie\": [\n",
      "          {\n",
      "            \"automargin\": true,\n",
      "            \"type\": \"pie\"\n",
      "          }\n",
      "        ]\n",
      "      },\n",
      "      \"layout\": {\n",
      "        \"autotypenumbers\": \"strict\",\n",
      "        \"colorway\": [\n",
      "          \"#636efa\",\n",
      "          \"#EF553B\",\n",
      "          \"#00cc96\",\n",
      "          \"#ab63fa\",\n",
      "          \"#FFA15A\",\n",
      "          \"#19d3f3\",\n",
      "          \"#FF6692\",\n",
      "          \"#B6E880\",\n",
      "          \"#FF97FF\",\n",
      "          \"#FECB52\"\n",
      "        ],\n",
      "        \"font\": {\n",
      "          \"color\": \"#2a3f5f\"\n",
      "        },\n",
      "        \"hovermode\": \"closest\",\n",
      "        \"hoverlabel\": {\n",
      "          \"align\": \"left\"\n",
      "        },\n",
      "        \"paper_bgcolor\": \"white\",\n",
      "        \"plot_bgcolor\": \"#E5ECF6\",\n",
      "        \"polar\": {\n",
      "          \"bgcolor\": \"#E5ECF6\",\n",
      "          \"angularaxis\": {\n",
      "            \"gridcolor\": \"white\",\n",
      "            \"linecolor\": \"white\",\n",
      "            \"ticks\": \"\"\n",
      "          },\n",
      "          \"radialaxis\": {\n",
      "            \"gridcolor\": \"white\",\n",
      "            \"linecolor\": \"white\",\n",
      "            \"ticks\": \"\"\n",
      "          }\n",
      "        },\n",
      "        \"ternary\": {\n",
      "          \"bgcolor\": \"#E5ECF6\",\n",
      "          \"aaxis\": {\n",
      "            \"gridcolor\": \"white\",\n",
      "            \"linecolor\": \"white\",\n",
      "            \"ticks\": \"\"\n",
      "          },\n",
      "          \"baxis\": {\n",
      "            \"gridcolor\": \"white\",\n",
      "            \"linecolor\": \"white\",\n",
      "            \"ticks\": \"\"\n",
      "          },\n",
      "          \"caxis\": {\n",
      "            \"gridcolor\": \"white\",\n",
      "            \"linecolor\": \"white\",\n",
      "            \"ticks\": \"\"\n",
      "          }\n",
      "        },\n",
      "        \"coloraxis\": {\n",
      "          \"colorbar\": {\n",
      "            \"outlinewidth\": 0,\n",
      "            \"ticks\": \"\"\n",
      "          }\n",
      "        },\n",
      "        \"colorscale\": {\n",
      "          \"sequential\": [\n",
      "            [\n",
      "              0.0,\n",
      "              \"#0d0887\"\n",
      "            ],\n",
      "            [\n",
      "              0.1111111111111111,\n",
      "              \"#46039f\"\n",
      "            ],\n",
      "            [\n",
      "              0.2222222222222222,\n",
      "              \"#7201a8\"\n",
      "            ],\n",
      "            [\n",
      "              0.3333333333333333,\n",
      "              \"#9c179e\"\n",
      "            ],\n",
      "            [\n",
      "              0.4444444444444444,\n",
      "              \"#bd3786\"\n",
      "            ],\n",
      "            [\n",
      "              0.5555555555555556,\n",
      "              \"#d8576b\"\n",
      "            ],\n",
      "            [\n",
      "              0.6666666666666666,\n",
      "              \"#ed7953\"\n",
      "            ],\n",
      "            [\n",
      "              0.7777777777777778,\n",
      "              \"#fb9f3a\"\n",
      "            ],\n",
      "            [\n",
      "              0.8888888888888888,\n",
      "              \"#fdca26\"\n",
      "            ],\n",
      "            [\n",
      "              1.0,\n",
      "              \"#f0f921\"\n",
      "            ]\n",
      "          ],\n",
      "          \"sequentialminus\": [\n",
      "            [\n",
      "              0.0,\n",
      "              \"#0d0887\"\n",
      "            ],\n",
      "            [\n",
      "              0.1111111111111111,\n",
      "              \"#46039f\"\n",
      "            ],\n",
      "            [\n",
      "              0.2222222222222222,\n",
      "              \"#7201a8\"\n",
      "            ],\n",
      "            [\n",
      "              0.3333333333333333,\n",
      "              \"#9c179e\"\n",
      "            ],\n",
      "            [\n",
      "              0.4444444444444444,\n",
      "              \"#bd3786\"\n",
      "            ],\n",
      "            [\n",
      "              0.5555555555555556,\n",
      "              \"#d8576b\"\n",
      "            ],\n",
      "            [\n",
      "              0.6666666666666666,\n",
      "              \"#ed7953\"\n",
      "            ],\n",
      "            [\n",
      "              0.7777777777777778,\n",
      "              \"#fb9f3a\"\n",
      "            ],\n",
      "            [\n",
      "              0.8888888888888888,\n",
      "              \"#fdca26\"\n",
      "            ],\n",
      "            [\n",
      "              1.0,\n",
      "              \"#f0f921\"\n",
      "            ]\n",
      "          ],\n",
      "          \"diverging\": [\n",
      "            [\n",
      "              0,\n",
      "              \"#8e0152\"\n",
      "            ],\n",
      "            [\n",
      "              0.1,\n",
      "              \"#c51b7d\"\n",
      "            ],\n",
      "            [\n",
      "              0.2,\n",
      "              \"#de77ae\"\n",
      "            ],\n",
      "            [\n",
      "              0.3,\n",
      "              \"#f1b6da\"\n",
      "            ],\n",
      "            [\n",
      "              0.4,\n",
      "              \"#fde0ef\"\n",
      "            ],\n",
      "            [\n",
      "              0.5,\n",
      "              \"#f7f7f7\"\n",
      "            ],\n",
      "            [\n",
      "              0.6,\n",
      "              \"#e6f5d0\"\n",
      "            ],\n",
      "            [\n",
      "              0.7,\n",
      "              \"#b8e186\"\n",
      "            ],\n",
      "            [\n",
      "              0.8,\n",
      "              \"#7fbc41\"\n",
      "            ],\n",
      "            [\n",
      "              0.9,\n",
      "              \"#4d9221\"\n",
      "            ],\n",
      "            [\n",
      "              1,\n",
      "              \"#276419\"\n",
      "            ]\n",
      "          ]\n",
      "        },\n",
      "        \"xaxis\": {\n",
      "          \"gridcolor\": \"white\",\n",
      "          \"linecolor\": \"white\",\n",
      "          \"ticks\": \"\",\n",
      "          \"title\": {\n",
      "            \"standoff\": 15\n",
      "          },\n",
      "          \"zerolinecolor\": \"white\",\n",
      "          \"automargin\": true,\n",
      "          \"zerolinewidth\": 2\n",
      "        },\n",
      "        \"yaxis\": {\n",
      "          \"gridcolor\": \"white\",\n",
      "          \"linecolor\": \"white\",\n",
      "          \"ticks\": \"\",\n",
      "          \"title\": {\n",
      "            \"standoff\": 15\n",
      "          },\n",
      "          \"zerolinecolor\": \"white\",\n",
      "          \"automargin\": true,\n",
      "          \"zerolinewidth\": 2\n",
      "        },\n",
      "        \"scene\": {\n",
      "          \"xaxis\": {\n",
      "            \"backgroundcolor\": \"#E5ECF6\",\n",
      "            \"gridcolor\": \"white\",\n",
      "            \"linecolor\": \"white\",\n",
      "            \"showbackground\": true,\n",
      "            \"ticks\": \"\",\n",
      "            \"zerolinecolor\": \"white\",\n",
      "            \"gridwidth\": 2\n",
      "          },\n",
      "          \"yaxis\": {\n",
      "            \"backgroundcolor\": \"#E5ECF6\",\n",
      "            \"gridcolor\": \"white\",\n",
      "            \"linecolor\": \"white\",\n",
      "            \"showbackground\": true,\n",
      "            \"ticks\": \"\",\n",
      "            \"zerolinecolor\": \"white\",\n",
      "            \"gridwidth\": 2\n",
      "          },\n",
      "          \"zaxis\": {\n",
      "            \"backgroundcolor\": \"#E5ECF6\",\n",
      "            \"gridcolor\": \"white\",\n",
      "            \"linecolor\": \"white\",\n",
      "            \"showbackground\": true,\n",
      "            \"ticks\": \"\",\n",
      "            \"zerolinecolor\": \"white\",\n",
      "            \"gridwidth\": 2\n",
      "          }\n",
      "        },\n",
      "        \"shapedefaults\": {\n",
      "          \"line\": {\n",
      "            \"color\": \"#2a3f5f\"\n",
      "          }\n",
      "        },\n",
      "        \"annotationdefaults\": {\n",
      "          \"arrowcolor\": \"#2a3f5f\",\n",
      "          \"arrowhead\": 0,\n",
      "          \"arrowwidth\": 1\n",
      "        },\n",
      "        \"geo\": {\n",
      "          \"bgcolor\": \"white\",\n",
      "          \"landcolor\": \"#E5ECF6\",\n",
      "          \"subunitcolor\": \"white\",\n",
      "          \"showland\": true,\n",
      "          \"showlakes\": true,\n",
      "          \"lakecolor\": \"white\"\n",
      "        },\n",
      "        \"title\": {\n",
      "          \"x\": 0.05\n",
      "        },\n",
      "        \"mapbox\": {\n",
      "          \"style\": \"light\"\n",
      "        }\n",
      "      }\n",
      "    },\n",
      "    \"xaxis\": {\n",
      "      \"anchor\": \"y\",\n",
      "      \"domain\": [\n",
      "        0.0,\n",
      "        1.0\n",
      "      ],\n",
      "      \"title\": {\n",
      "        \"text\": \"Subjects\"\n",
      "      }\n",
      "    },\n",
      "    \"yaxis\": {\n",
      "      \"anchor\": \"x\",\n",
      "      \"domain\": [\n",
      "        0.0,\n",
      "        1.0\n",
      "      ],\n",
      "      \"title\": {\n",
      "        \"text\": \"Marks\"\n",
      "      }\n",
      "    },\n",
      "    \"legend\": {\n",
      "      \"tracegroupgap\": 0\n",
      "    },\n",
      "    \"title\": {\n",
      "      \"text\": \"Average marks of students\"\n",
      "    },\n",
      "    \"barmode\": \"relative\",\n",
      "    \"coloraxis\": {\n",
      "      \"showscale\": false\n",
      "    }\n",
      "  }\n",
      "}\n"
     ]
    }
   ],
   "source": [
    "bg2_json = io.to_json(bar_graph2,pretty=True)\n",
    "print(bg2_json)"
   ]
  },
  {
   "cell_type": "code",
   "execution_count": 79,
   "id": "1ec1d101",
   "metadata": {},
   "outputs": [
    {
     "name": "stdout",
     "output_type": "stream",
     "text": [
      "  Car Name  Price\n",
      "0     Audi    2.0\n",
      "1   Jaguar    1.0\n",
      "2     Ford    3.0\n",
      "3  Mustang    3.3\n",
      "4   Porche    5.0\n"
     ]
    },
    {
     "data": {
      "application/vnd.plotly.v1+json": {
       "config": {
        "plotlyServerURL": "https://plot.ly"
       },
       "data": [
        {
         "alignmentgroup": "True",
         "hovertemplate": "Car Name=%{x}<br>Price=%{y}<extra></extra>",
         "legendgroup": "",
         "marker": {
          "color": "#636efa",
          "pattern": {
           "shape": ""
          }
         },
         "name": "",
         "offsetgroup": "",
         "orientation": "v",
         "showlegend": false,
         "textposition": "auto",
         "type": "bar",
         "x": [
          "Audi",
          "Jaguar",
          "Ford",
          "Mustang",
          "Porche",
          "Lombergini",
          "Mercedis",
          "Volvo",
          "GTR",
          "Bugatti",
          "Mazda"
         ],
         "xaxis": "x",
         "y": [
          2,
          1,
          3,
          3.3,
          5,
          3.5,
          4,
          1.4,
          1.3,
          4.2,
          5.1
         ],
         "yaxis": "y"
        }
       ],
       "layout": {
        "barmode": "relative",
        "legend": {
         "tracegroupgap": 0
        },
        "margin": {
         "t": 60
        },
        "template": {
         "data": {
          "bar": [
           {
            "error_x": {
             "color": "#2a3f5f"
            },
            "error_y": {
             "color": "#2a3f5f"
            },
            "marker": {
             "line": {
              "color": "#E5ECF6",
              "width": 0.5
             },
             "pattern": {
              "fillmode": "overlay",
              "size": 10,
              "solidity": 0.2
             }
            },
            "type": "bar"
           }
          ],
          "barpolar": [
           {
            "marker": {
             "line": {
              "color": "#E5ECF6",
              "width": 0.5
             },
             "pattern": {
              "fillmode": "overlay",
              "size": 10,
              "solidity": 0.2
             }
            },
            "type": "barpolar"
           }
          ],
          "carpet": [
           {
            "aaxis": {
             "endlinecolor": "#2a3f5f",
             "gridcolor": "white",
             "linecolor": "white",
             "minorgridcolor": "white",
             "startlinecolor": "#2a3f5f"
            },
            "baxis": {
             "endlinecolor": "#2a3f5f",
             "gridcolor": "white",
             "linecolor": "white",
             "minorgridcolor": "white",
             "startlinecolor": "#2a3f5f"
            },
            "type": "carpet"
           }
          ],
          "choropleth": [
           {
            "colorbar": {
             "outlinewidth": 0,
             "ticks": ""
            },
            "type": "choropleth"
           }
          ],
          "contour": [
           {
            "colorbar": {
             "outlinewidth": 0,
             "ticks": ""
            },
            "colorscale": [
             [
              0,
              "#0d0887"
             ],
             [
              0.1111111111111111,
              "#46039f"
             ],
             [
              0.2222222222222222,
              "#7201a8"
             ],
             [
              0.3333333333333333,
              "#9c179e"
             ],
             [
              0.4444444444444444,
              "#bd3786"
             ],
             [
              0.5555555555555556,
              "#d8576b"
             ],
             [
              0.6666666666666666,
              "#ed7953"
             ],
             [
              0.7777777777777778,
              "#fb9f3a"
             ],
             [
              0.8888888888888888,
              "#fdca26"
             ],
             [
              1,
              "#f0f921"
             ]
            ],
            "type": "contour"
           }
          ],
          "contourcarpet": [
           {
            "colorbar": {
             "outlinewidth": 0,
             "ticks": ""
            },
            "type": "contourcarpet"
           }
          ],
          "heatmap": [
           {
            "colorbar": {
             "outlinewidth": 0,
             "ticks": ""
            },
            "colorscale": [
             [
              0,
              "#0d0887"
             ],
             [
              0.1111111111111111,
              "#46039f"
             ],
             [
              0.2222222222222222,
              "#7201a8"
             ],
             [
              0.3333333333333333,
              "#9c179e"
             ],
             [
              0.4444444444444444,
              "#bd3786"
             ],
             [
              0.5555555555555556,
              "#d8576b"
             ],
             [
              0.6666666666666666,
              "#ed7953"
             ],
             [
              0.7777777777777778,
              "#fb9f3a"
             ],
             [
              0.8888888888888888,
              "#fdca26"
             ],
             [
              1,
              "#f0f921"
             ]
            ],
            "type": "heatmap"
           }
          ],
          "heatmapgl": [
           {
            "colorbar": {
             "outlinewidth": 0,
             "ticks": ""
            },
            "colorscale": [
             [
              0,
              "#0d0887"
             ],
             [
              0.1111111111111111,
              "#46039f"
             ],
             [
              0.2222222222222222,
              "#7201a8"
             ],
             [
              0.3333333333333333,
              "#9c179e"
             ],
             [
              0.4444444444444444,
              "#bd3786"
             ],
             [
              0.5555555555555556,
              "#d8576b"
             ],
             [
              0.6666666666666666,
              "#ed7953"
             ],
             [
              0.7777777777777778,
              "#fb9f3a"
             ],
             [
              0.8888888888888888,
              "#fdca26"
             ],
             [
              1,
              "#f0f921"
             ]
            ],
            "type": "heatmapgl"
           }
          ],
          "histogram": [
           {
            "marker": {
             "pattern": {
              "fillmode": "overlay",
              "size": 10,
              "solidity": 0.2
             }
            },
            "type": "histogram"
           }
          ],
          "histogram2d": [
           {
            "colorbar": {
             "outlinewidth": 0,
             "ticks": ""
            },
            "colorscale": [
             [
              0,
              "#0d0887"
             ],
             [
              0.1111111111111111,
              "#46039f"
             ],
             [
              0.2222222222222222,
              "#7201a8"
             ],
             [
              0.3333333333333333,
              "#9c179e"
             ],
             [
              0.4444444444444444,
              "#bd3786"
             ],
             [
              0.5555555555555556,
              "#d8576b"
             ],
             [
              0.6666666666666666,
              "#ed7953"
             ],
             [
              0.7777777777777778,
              "#fb9f3a"
             ],
             [
              0.8888888888888888,
              "#fdca26"
             ],
             [
              1,
              "#f0f921"
             ]
            ],
            "type": "histogram2d"
           }
          ],
          "histogram2dcontour": [
           {
            "colorbar": {
             "outlinewidth": 0,
             "ticks": ""
            },
            "colorscale": [
             [
              0,
              "#0d0887"
             ],
             [
              0.1111111111111111,
              "#46039f"
             ],
             [
              0.2222222222222222,
              "#7201a8"
             ],
             [
              0.3333333333333333,
              "#9c179e"
             ],
             [
              0.4444444444444444,
              "#bd3786"
             ],
             [
              0.5555555555555556,
              "#d8576b"
             ],
             [
              0.6666666666666666,
              "#ed7953"
             ],
             [
              0.7777777777777778,
              "#fb9f3a"
             ],
             [
              0.8888888888888888,
              "#fdca26"
             ],
             [
              1,
              "#f0f921"
             ]
            ],
            "type": "histogram2dcontour"
           }
          ],
          "mesh3d": [
           {
            "colorbar": {
             "outlinewidth": 0,
             "ticks": ""
            },
            "type": "mesh3d"
           }
          ],
          "parcoords": [
           {
            "line": {
             "colorbar": {
              "outlinewidth": 0,
              "ticks": ""
             }
            },
            "type": "parcoords"
           }
          ],
          "pie": [
           {
            "automargin": true,
            "type": "pie"
           }
          ],
          "scatter": [
           {
            "fillpattern": {
             "fillmode": "overlay",
             "size": 10,
             "solidity": 0.2
            },
            "type": "scatter"
           }
          ],
          "scatter3d": [
           {
            "line": {
             "colorbar": {
              "outlinewidth": 0,
              "ticks": ""
             }
            },
            "marker": {
             "colorbar": {
              "outlinewidth": 0,
              "ticks": ""
             }
            },
            "type": "scatter3d"
           }
          ],
          "scattercarpet": [
           {
            "marker": {
             "colorbar": {
              "outlinewidth": 0,
              "ticks": ""
             }
            },
            "type": "scattercarpet"
           }
          ],
          "scattergeo": [
           {
            "marker": {
             "colorbar": {
              "outlinewidth": 0,
              "ticks": ""
             }
            },
            "type": "scattergeo"
           }
          ],
          "scattergl": [
           {
            "marker": {
             "colorbar": {
              "outlinewidth": 0,
              "ticks": ""
             }
            },
            "type": "scattergl"
           }
          ],
          "scattermapbox": [
           {
            "marker": {
             "colorbar": {
              "outlinewidth": 0,
              "ticks": ""
             }
            },
            "type": "scattermapbox"
           }
          ],
          "scatterpolar": [
           {
            "marker": {
             "colorbar": {
              "outlinewidth": 0,
              "ticks": ""
             }
            },
            "type": "scatterpolar"
           }
          ],
          "scatterpolargl": [
           {
            "marker": {
             "colorbar": {
              "outlinewidth": 0,
              "ticks": ""
             }
            },
            "type": "scatterpolargl"
           }
          ],
          "scatterternary": [
           {
            "marker": {
             "colorbar": {
              "outlinewidth": 0,
              "ticks": ""
             }
            },
            "type": "scatterternary"
           }
          ],
          "surface": [
           {
            "colorbar": {
             "outlinewidth": 0,
             "ticks": ""
            },
            "colorscale": [
             [
              0,
              "#0d0887"
             ],
             [
              0.1111111111111111,
              "#46039f"
             ],
             [
              0.2222222222222222,
              "#7201a8"
             ],
             [
              0.3333333333333333,
              "#9c179e"
             ],
             [
              0.4444444444444444,
              "#bd3786"
             ],
             [
              0.5555555555555556,
              "#d8576b"
             ],
             [
              0.6666666666666666,
              "#ed7953"
             ],
             [
              0.7777777777777778,
              "#fb9f3a"
             ],
             [
              0.8888888888888888,
              "#fdca26"
             ],
             [
              1,
              "#f0f921"
             ]
            ],
            "type": "surface"
           }
          ],
          "table": [
           {
            "cells": {
             "fill": {
              "color": "#EBF0F8"
             },
             "line": {
              "color": "white"
             }
            },
            "header": {
             "fill": {
              "color": "#C8D4E3"
             },
             "line": {
              "color": "white"
             }
            },
            "type": "table"
           }
          ]
         },
         "layout": {
          "annotationdefaults": {
           "arrowcolor": "#2a3f5f",
           "arrowhead": 0,
           "arrowwidth": 1
          },
          "autotypenumbers": "strict",
          "coloraxis": {
           "colorbar": {
            "outlinewidth": 0,
            "ticks": ""
           }
          },
          "colorscale": {
           "diverging": [
            [
             0,
             "#8e0152"
            ],
            [
             0.1,
             "#c51b7d"
            ],
            [
             0.2,
             "#de77ae"
            ],
            [
             0.3,
             "#f1b6da"
            ],
            [
             0.4,
             "#fde0ef"
            ],
            [
             0.5,
             "#f7f7f7"
            ],
            [
             0.6,
             "#e6f5d0"
            ],
            [
             0.7,
             "#b8e186"
            ],
            [
             0.8,
             "#7fbc41"
            ],
            [
             0.9,
             "#4d9221"
            ],
            [
             1,
             "#276419"
            ]
           ],
           "sequential": [
            [
             0,
             "#0d0887"
            ],
            [
             0.1111111111111111,
             "#46039f"
            ],
            [
             0.2222222222222222,
             "#7201a8"
            ],
            [
             0.3333333333333333,
             "#9c179e"
            ],
            [
             0.4444444444444444,
             "#bd3786"
            ],
            [
             0.5555555555555556,
             "#d8576b"
            ],
            [
             0.6666666666666666,
             "#ed7953"
            ],
            [
             0.7777777777777778,
             "#fb9f3a"
            ],
            [
             0.8888888888888888,
             "#fdca26"
            ],
            [
             1,
             "#f0f921"
            ]
           ],
           "sequentialminus": [
            [
             0,
             "#0d0887"
            ],
            [
             0.1111111111111111,
             "#46039f"
            ],
            [
             0.2222222222222222,
             "#7201a8"
            ],
            [
             0.3333333333333333,
             "#9c179e"
            ],
            [
             0.4444444444444444,
             "#bd3786"
            ],
            [
             0.5555555555555556,
             "#d8576b"
            ],
            [
             0.6666666666666666,
             "#ed7953"
            ],
            [
             0.7777777777777778,
             "#fb9f3a"
            ],
            [
             0.8888888888888888,
             "#fdca26"
            ],
            [
             1,
             "#f0f921"
            ]
           ]
          },
          "colorway": [
           "#636efa",
           "#EF553B",
           "#00cc96",
           "#ab63fa",
           "#FFA15A",
           "#19d3f3",
           "#FF6692",
           "#B6E880",
           "#FF97FF",
           "#FECB52"
          ],
          "font": {
           "color": "#2a3f5f"
          },
          "geo": {
           "bgcolor": "white",
           "lakecolor": "white",
           "landcolor": "#E5ECF6",
           "showlakes": true,
           "showland": true,
           "subunitcolor": "white"
          },
          "hoverlabel": {
           "align": "left"
          },
          "hovermode": "closest",
          "mapbox": {
           "style": "light"
          },
          "paper_bgcolor": "white",
          "plot_bgcolor": "#E5ECF6",
          "polar": {
           "angularaxis": {
            "gridcolor": "white",
            "linecolor": "white",
            "ticks": ""
           },
           "bgcolor": "#E5ECF6",
           "radialaxis": {
            "gridcolor": "white",
            "linecolor": "white",
            "ticks": ""
           }
          },
          "scene": {
           "xaxis": {
            "backgroundcolor": "#E5ECF6",
            "gridcolor": "white",
            "gridwidth": 2,
            "linecolor": "white",
            "showbackground": true,
            "ticks": "",
            "zerolinecolor": "white"
           },
           "yaxis": {
            "backgroundcolor": "#E5ECF6",
            "gridcolor": "white",
            "gridwidth": 2,
            "linecolor": "white",
            "showbackground": true,
            "ticks": "",
            "zerolinecolor": "white"
           },
           "zaxis": {
            "backgroundcolor": "#E5ECF6",
            "gridcolor": "white",
            "gridwidth": 2,
            "linecolor": "white",
            "showbackground": true,
            "ticks": "",
            "zerolinecolor": "white"
           }
          },
          "shapedefaults": {
           "line": {
            "color": "#2a3f5f"
           }
          },
          "ternary": {
           "aaxis": {
            "gridcolor": "white",
            "linecolor": "white",
            "ticks": ""
           },
           "baxis": {
            "gridcolor": "white",
            "linecolor": "white",
            "ticks": ""
           },
           "bgcolor": "#E5ECF6",
           "caxis": {
            "gridcolor": "white",
            "linecolor": "white",
            "ticks": ""
           }
          },
          "title": {
           "x": 0.05
          },
          "xaxis": {
           "automargin": true,
           "gridcolor": "white",
           "linecolor": "white",
           "ticks": "",
           "title": {
            "standoff": 15
           },
           "zerolinecolor": "white",
           "zerolinewidth": 2
          },
          "yaxis": {
           "automargin": true,
           "gridcolor": "white",
           "linecolor": "white",
           "ticks": "",
           "title": {
            "standoff": 15
           },
           "zerolinecolor": "white",
           "zerolinewidth": 2
          }
         }
        },
        "xaxis": {
         "anchor": "y",
         "domain": [
          0,
          1
         ],
         "title": {
          "text": "Car Name"
         }
        },
        "yaxis": {
         "anchor": "x",
         "domain": [
          0,
          1
         ],
         "title": {
          "text": "Price"
         }
        }
       }
      },
      "text/html": [
       "<div>                            <div id=\"4062a5ed-7e23-43d3-aca0-2f19f5721dfa\" class=\"plotly-graph-div\" style=\"height:525px; width:100%;\"></div>            <script type=\"text/javascript\">                require([\"plotly\"], function(Plotly) {                    window.PLOTLYENV=window.PLOTLYENV || {};                                    if (document.getElementById(\"4062a5ed-7e23-43d3-aca0-2f19f5721dfa\")) {                    Plotly.newPlot(                        \"4062a5ed-7e23-43d3-aca0-2f19f5721dfa\",                        [{\"alignmentgroup\":\"True\",\"hovertemplate\":\"Car Name=%{x}<br>Price=%{y}<extra></extra>\",\"legendgroup\":\"\",\"marker\":{\"color\":\"#636efa\",\"pattern\":{\"shape\":\"\"}},\"name\":\"\",\"offsetgroup\":\"\",\"orientation\":\"v\",\"showlegend\":false,\"textposition\":\"auto\",\"x\":[\"Audi\",\"Jaguar\",\"Ford\",\"Mustang\",\"Porche\",\"Lombergini\",\"Mercedis\",\"Volvo\",\"GTR\",\"Bugatti\",\"Mazda\"],\"xaxis\":\"x\",\"y\":[2.0,1.0,3.0,3.3,5.0,3.5,4.0,1.4,1.3,4.2,5.1],\"yaxis\":\"y\",\"type\":\"bar\"}],                        {\"template\":{\"data\":{\"histogram2dcontour\":[{\"type\":\"histogram2dcontour\",\"colorbar\":{\"outlinewidth\":0,\"ticks\":\"\"},\"colorscale\":[[0.0,\"#0d0887\"],[0.1111111111111111,\"#46039f\"],[0.2222222222222222,\"#7201a8\"],[0.3333333333333333,\"#9c179e\"],[0.4444444444444444,\"#bd3786\"],[0.5555555555555556,\"#d8576b\"],[0.6666666666666666,\"#ed7953\"],[0.7777777777777778,\"#fb9f3a\"],[0.8888888888888888,\"#fdca26\"],[1.0,\"#f0f921\"]]}],\"choropleth\":[{\"type\":\"choropleth\",\"colorbar\":{\"outlinewidth\":0,\"ticks\":\"\"}}],\"histogram2d\":[{\"type\":\"histogram2d\",\"colorbar\":{\"outlinewidth\":0,\"ticks\":\"\"},\"colorscale\":[[0.0,\"#0d0887\"],[0.1111111111111111,\"#46039f\"],[0.2222222222222222,\"#7201a8\"],[0.3333333333333333,\"#9c179e\"],[0.4444444444444444,\"#bd3786\"],[0.5555555555555556,\"#d8576b\"],[0.6666666666666666,\"#ed7953\"],[0.7777777777777778,\"#fb9f3a\"],[0.8888888888888888,\"#fdca26\"],[1.0,\"#f0f921\"]]}],\"heatmap\":[{\"type\":\"heatmap\",\"colorbar\":{\"outlinewidth\":0,\"ticks\":\"\"},\"colorscale\":[[0.0,\"#0d0887\"],[0.1111111111111111,\"#46039f\"],[0.2222222222222222,\"#7201a8\"],[0.3333333333333333,\"#9c179e\"],[0.4444444444444444,\"#bd3786\"],[0.5555555555555556,\"#d8576b\"],[0.6666666666666666,\"#ed7953\"],[0.7777777777777778,\"#fb9f3a\"],[0.8888888888888888,\"#fdca26\"],[1.0,\"#f0f921\"]]}],\"heatmapgl\":[{\"type\":\"heatmapgl\",\"colorbar\":{\"outlinewidth\":0,\"ticks\":\"\"},\"colorscale\":[[0.0,\"#0d0887\"],[0.1111111111111111,\"#46039f\"],[0.2222222222222222,\"#7201a8\"],[0.3333333333333333,\"#9c179e\"],[0.4444444444444444,\"#bd3786\"],[0.5555555555555556,\"#d8576b\"],[0.6666666666666666,\"#ed7953\"],[0.7777777777777778,\"#fb9f3a\"],[0.8888888888888888,\"#fdca26\"],[1.0,\"#f0f921\"]]}],\"contourcarpet\":[{\"type\":\"contourcarpet\",\"colorbar\":{\"outlinewidth\":0,\"ticks\":\"\"}}],\"contour\":[{\"type\":\"contour\",\"colorbar\":{\"outlinewidth\":0,\"ticks\":\"\"},\"colorscale\":[[0.0,\"#0d0887\"],[0.1111111111111111,\"#46039f\"],[0.2222222222222222,\"#7201a8\"],[0.3333333333333333,\"#9c179e\"],[0.4444444444444444,\"#bd3786\"],[0.5555555555555556,\"#d8576b\"],[0.6666666666666666,\"#ed7953\"],[0.7777777777777778,\"#fb9f3a\"],[0.8888888888888888,\"#fdca26\"],[1.0,\"#f0f921\"]]}],\"surface\":[{\"type\":\"surface\",\"colorbar\":{\"outlinewidth\":0,\"ticks\":\"\"},\"colorscale\":[[0.0,\"#0d0887\"],[0.1111111111111111,\"#46039f\"],[0.2222222222222222,\"#7201a8\"],[0.3333333333333333,\"#9c179e\"],[0.4444444444444444,\"#bd3786\"],[0.5555555555555556,\"#d8576b\"],[0.6666666666666666,\"#ed7953\"],[0.7777777777777778,\"#fb9f3a\"],[0.8888888888888888,\"#fdca26\"],[1.0,\"#f0f921\"]]}],\"mesh3d\":[{\"type\":\"mesh3d\",\"colorbar\":{\"outlinewidth\":0,\"ticks\":\"\"}}],\"scatter\":[{\"fillpattern\":{\"fillmode\":\"overlay\",\"size\":10,\"solidity\":0.2},\"type\":\"scatter\"}],\"parcoords\":[{\"type\":\"parcoords\",\"line\":{\"colorbar\":{\"outlinewidth\":0,\"ticks\":\"\"}}}],\"scatterpolargl\":[{\"type\":\"scatterpolargl\",\"marker\":{\"colorbar\":{\"outlinewidth\":0,\"ticks\":\"\"}}}],\"bar\":[{\"error_x\":{\"color\":\"#2a3f5f\"},\"error_y\":{\"color\":\"#2a3f5f\"},\"marker\":{\"line\":{\"color\":\"#E5ECF6\",\"width\":0.5},\"pattern\":{\"fillmode\":\"overlay\",\"size\":10,\"solidity\":0.2}},\"type\":\"bar\"}],\"scattergeo\":[{\"type\":\"scattergeo\",\"marker\":{\"colorbar\":{\"outlinewidth\":0,\"ticks\":\"\"}}}],\"scatterpolar\":[{\"type\":\"scatterpolar\",\"marker\":{\"colorbar\":{\"outlinewidth\":0,\"ticks\":\"\"}}}],\"histogram\":[{\"marker\":{\"pattern\":{\"fillmode\":\"overlay\",\"size\":10,\"solidity\":0.2}},\"type\":\"histogram\"}],\"scattergl\":[{\"type\":\"scattergl\",\"marker\":{\"colorbar\":{\"outlinewidth\":0,\"ticks\":\"\"}}}],\"scatter3d\":[{\"type\":\"scatter3d\",\"line\":{\"colorbar\":{\"outlinewidth\":0,\"ticks\":\"\"}},\"marker\":{\"colorbar\":{\"outlinewidth\":0,\"ticks\":\"\"}}}],\"scattermapbox\":[{\"type\":\"scattermapbox\",\"marker\":{\"colorbar\":{\"outlinewidth\":0,\"ticks\":\"\"}}}],\"scatterternary\":[{\"type\":\"scatterternary\",\"marker\":{\"colorbar\":{\"outlinewidth\":0,\"ticks\":\"\"}}}],\"scattercarpet\":[{\"type\":\"scattercarpet\",\"marker\":{\"colorbar\":{\"outlinewidth\":0,\"ticks\":\"\"}}}],\"carpet\":[{\"aaxis\":{\"endlinecolor\":\"#2a3f5f\",\"gridcolor\":\"white\",\"linecolor\":\"white\",\"minorgridcolor\":\"white\",\"startlinecolor\":\"#2a3f5f\"},\"baxis\":{\"endlinecolor\":\"#2a3f5f\",\"gridcolor\":\"white\",\"linecolor\":\"white\",\"minorgridcolor\":\"white\",\"startlinecolor\":\"#2a3f5f\"},\"type\":\"carpet\"}],\"table\":[{\"cells\":{\"fill\":{\"color\":\"#EBF0F8\"},\"line\":{\"color\":\"white\"}},\"header\":{\"fill\":{\"color\":\"#C8D4E3\"},\"line\":{\"color\":\"white\"}},\"type\":\"table\"}],\"barpolar\":[{\"marker\":{\"line\":{\"color\":\"#E5ECF6\",\"width\":0.5},\"pattern\":{\"fillmode\":\"overlay\",\"size\":10,\"solidity\":0.2}},\"type\":\"barpolar\"}],\"pie\":[{\"automargin\":true,\"type\":\"pie\"}]},\"layout\":{\"autotypenumbers\":\"strict\",\"colorway\":[\"#636efa\",\"#EF553B\",\"#00cc96\",\"#ab63fa\",\"#FFA15A\",\"#19d3f3\",\"#FF6692\",\"#B6E880\",\"#FF97FF\",\"#FECB52\"],\"font\":{\"color\":\"#2a3f5f\"},\"hovermode\":\"closest\",\"hoverlabel\":{\"align\":\"left\"},\"paper_bgcolor\":\"white\",\"plot_bgcolor\":\"#E5ECF6\",\"polar\":{\"bgcolor\":\"#E5ECF6\",\"angularaxis\":{\"gridcolor\":\"white\",\"linecolor\":\"white\",\"ticks\":\"\"},\"radialaxis\":{\"gridcolor\":\"white\",\"linecolor\":\"white\",\"ticks\":\"\"}},\"ternary\":{\"bgcolor\":\"#E5ECF6\",\"aaxis\":{\"gridcolor\":\"white\",\"linecolor\":\"white\",\"ticks\":\"\"},\"baxis\":{\"gridcolor\":\"white\",\"linecolor\":\"white\",\"ticks\":\"\"},\"caxis\":{\"gridcolor\":\"white\",\"linecolor\":\"white\",\"ticks\":\"\"}},\"coloraxis\":{\"colorbar\":{\"outlinewidth\":0,\"ticks\":\"\"}},\"colorscale\":{\"sequential\":[[0.0,\"#0d0887\"],[0.1111111111111111,\"#46039f\"],[0.2222222222222222,\"#7201a8\"],[0.3333333333333333,\"#9c179e\"],[0.4444444444444444,\"#bd3786\"],[0.5555555555555556,\"#d8576b\"],[0.6666666666666666,\"#ed7953\"],[0.7777777777777778,\"#fb9f3a\"],[0.8888888888888888,\"#fdca26\"],[1.0,\"#f0f921\"]],\"sequentialminus\":[[0.0,\"#0d0887\"],[0.1111111111111111,\"#46039f\"],[0.2222222222222222,\"#7201a8\"],[0.3333333333333333,\"#9c179e\"],[0.4444444444444444,\"#bd3786\"],[0.5555555555555556,\"#d8576b\"],[0.6666666666666666,\"#ed7953\"],[0.7777777777777778,\"#fb9f3a\"],[0.8888888888888888,\"#fdca26\"],[1.0,\"#f0f921\"]],\"diverging\":[[0,\"#8e0152\"],[0.1,\"#c51b7d\"],[0.2,\"#de77ae\"],[0.3,\"#f1b6da\"],[0.4,\"#fde0ef\"],[0.5,\"#f7f7f7\"],[0.6,\"#e6f5d0\"],[0.7,\"#b8e186\"],[0.8,\"#7fbc41\"],[0.9,\"#4d9221\"],[1,\"#276419\"]]},\"xaxis\":{\"gridcolor\":\"white\",\"linecolor\":\"white\",\"ticks\":\"\",\"title\":{\"standoff\":15},\"zerolinecolor\":\"white\",\"automargin\":true,\"zerolinewidth\":2},\"yaxis\":{\"gridcolor\":\"white\",\"linecolor\":\"white\",\"ticks\":\"\",\"title\":{\"standoff\":15},\"zerolinecolor\":\"white\",\"automargin\":true,\"zerolinewidth\":2},\"scene\":{\"xaxis\":{\"backgroundcolor\":\"#E5ECF6\",\"gridcolor\":\"white\",\"linecolor\":\"white\",\"showbackground\":true,\"ticks\":\"\",\"zerolinecolor\":\"white\",\"gridwidth\":2},\"yaxis\":{\"backgroundcolor\":\"#E5ECF6\",\"gridcolor\":\"white\",\"linecolor\":\"white\",\"showbackground\":true,\"ticks\":\"\",\"zerolinecolor\":\"white\",\"gridwidth\":2},\"zaxis\":{\"backgroundcolor\":\"#E5ECF6\",\"gridcolor\":\"white\",\"linecolor\":\"white\",\"showbackground\":true,\"ticks\":\"\",\"zerolinecolor\":\"white\",\"gridwidth\":2}},\"shapedefaults\":{\"line\":{\"color\":\"#2a3f5f\"}},\"annotationdefaults\":{\"arrowcolor\":\"#2a3f5f\",\"arrowhead\":0,\"arrowwidth\":1},\"geo\":{\"bgcolor\":\"white\",\"landcolor\":\"#E5ECF6\",\"subunitcolor\":\"white\",\"showland\":true,\"showlakes\":true,\"lakecolor\":\"white\"},\"title\":{\"x\":0.05},\"mapbox\":{\"style\":\"light\"}}},\"xaxis\":{\"anchor\":\"y\",\"domain\":[0.0,1.0],\"title\":{\"text\":\"Car Name\"}},\"yaxis\":{\"anchor\":\"x\",\"domain\":[0.0,1.0],\"title\":{\"text\":\"Price\"}},\"legend\":{\"tracegroupgap\":0},\"margin\":{\"t\":60},\"barmode\":\"relative\"},                        {\"responsive\": true}                    ).then(function(){\n",
       "                            \n",
       "var gd = document.getElementById('4062a5ed-7e23-43d3-aca0-2f19f5721dfa');\n",
       "var x = new MutationObserver(function (mutations, observer) {{\n",
       "        var display = window.getComputedStyle(gd).display;\n",
       "        if (!display || display === 'none') {{\n",
       "            console.log([gd, 'removed!']);\n",
       "            Plotly.purge(gd);\n",
       "            observer.disconnect();\n",
       "        }}\n",
       "}});\n",
       "\n",
       "// Listen for the removal of the full notebook cells\n",
       "var notebookContainer = gd.closest('#notebook-container');\n",
       "if (notebookContainer) {{\n",
       "    x.observe(notebookContainer, {childList: true});\n",
       "}}\n",
       "\n",
       "// Listen for the clearing of the current output cell\n",
       "var outputEl = gd.closest('.output');\n",
       "if (outputEl) {{\n",
       "    x.observe(outputEl, {childList: true});\n",
       "}}\n",
       "\n",
       "                        })                };                });            </script>        </div>"
      ]
     },
     "metadata": {},
     "output_type": "display_data"
    }
   ],
   "source": [
    "#Bargraph 3\n",
    "name = ['Audi','Jaguar','Ford','Mustang','Porche','Lombergini','Mercedis','Volvo','GTR','Bugatti','Mazda']\n",
    "price = [2,1,3,3,5,3.5,4,1,1.3,4.2,5]\n",
    "df2 = pd.DataFrame({\"Car Name\":['Audi','Jaguar','Ford','Mustang','Porche','Lombergini','Mercedis','Volvo','GTR','Bugatti','Mazda'],\"Price\":[2.0,1.0,3.0,3.3,5.0,3.5,4.0,1.4,1.3,4.2,5.1]})\n",
    "print(df2.head())\n",
    "bar_graph3 = px.bar(df2,x='Car Name',y='Price')\n",
    "#bar_graph3.\n",
    "bar_graph3.show()"
   ]
  },
  {
   "cell_type": "code",
   "execution_count": 80,
   "id": "ff54e677",
   "metadata": {},
   "outputs": [
    {
     "name": "stdout",
     "output_type": "stream",
     "text": [
      "{\n",
      "  \"data\": [\n",
      "    {\n",
      "      \"alignmentgroup\": \"True\",\n",
      "      \"hovertemplate\": \"Car Name=%{x}<br>Price=%{y}<extra></extra>\",\n",
      "      \"legendgroup\": \"\",\n",
      "      \"marker\": {\n",
      "        \"color\": \"#636efa\",\n",
      "        \"pattern\": {\n",
      "          \"shape\": \"\"\n",
      "        }\n",
      "      },\n",
      "      \"name\": \"\",\n",
      "      \"offsetgroup\": \"\",\n",
      "      \"orientation\": \"v\",\n",
      "      \"showlegend\": false,\n",
      "      \"textposition\": \"auto\",\n",
      "      \"x\": [\n",
      "        \"Audi\",\n",
      "        \"Jaguar\",\n",
      "        \"Ford\",\n",
      "        \"Mustang\",\n",
      "        \"Porche\",\n",
      "        \"Lombergini\",\n",
      "        \"Mercedis\",\n",
      "        \"Volvo\",\n",
      "        \"GTR\",\n",
      "        \"Bugatti\",\n",
      "        \"Mazda\"\n",
      "      ],\n",
      "      \"xaxis\": \"x\",\n",
      "      \"y\": [\n",
      "        2.0,\n",
      "        1.0,\n",
      "        3.0,\n",
      "        3.3,\n",
      "        5.0,\n",
      "        3.5,\n",
      "        4.0,\n",
      "        1.4,\n",
      "        1.3,\n",
      "        4.2,\n",
      "        5.1\n",
      "      ],\n",
      "      \"yaxis\": \"y\",\n",
      "      \"type\": \"bar\"\n",
      "    }\n",
      "  ],\n",
      "  \"layout\": {\n",
      "    \"template\": {\n",
      "      \"data\": {\n",
      "        \"histogram2dcontour\": [\n",
      "          {\n",
      "            \"type\": \"histogram2dcontour\",\n",
      "            \"colorbar\": {\n",
      "              \"outlinewidth\": 0,\n",
      "              \"ticks\": \"\"\n",
      "            },\n",
      "            \"colorscale\": [\n",
      "              [\n",
      "                0.0,\n",
      "                \"#0d0887\"\n",
      "              ],\n",
      "              [\n",
      "                0.1111111111111111,\n",
      "                \"#46039f\"\n",
      "              ],\n",
      "              [\n",
      "                0.2222222222222222,\n",
      "                \"#7201a8\"\n",
      "              ],\n",
      "              [\n",
      "                0.3333333333333333,\n",
      "                \"#9c179e\"\n",
      "              ],\n",
      "              [\n",
      "                0.4444444444444444,\n",
      "                \"#bd3786\"\n",
      "              ],\n",
      "              [\n",
      "                0.5555555555555556,\n",
      "                \"#d8576b\"\n",
      "              ],\n",
      "              [\n",
      "                0.6666666666666666,\n",
      "                \"#ed7953\"\n",
      "              ],\n",
      "              [\n",
      "                0.7777777777777778,\n",
      "                \"#fb9f3a\"\n",
      "              ],\n",
      "              [\n",
      "                0.8888888888888888,\n",
      "                \"#fdca26\"\n",
      "              ],\n",
      "              [\n",
      "                1.0,\n",
      "                \"#f0f921\"\n",
      "              ]\n",
      "            ]\n",
      "          }\n",
      "        ],\n",
      "        \"choropleth\": [\n",
      "          {\n",
      "            \"type\": \"choropleth\",\n",
      "            \"colorbar\": {\n",
      "              \"outlinewidth\": 0,\n",
      "              \"ticks\": \"\"\n",
      "            }\n",
      "          }\n",
      "        ],\n",
      "        \"histogram2d\": [\n",
      "          {\n",
      "            \"type\": \"histogram2d\",\n",
      "            \"colorbar\": {\n",
      "              \"outlinewidth\": 0,\n",
      "              \"ticks\": \"\"\n",
      "            },\n",
      "            \"colorscale\": [\n",
      "              [\n",
      "                0.0,\n",
      "                \"#0d0887\"\n",
      "              ],\n",
      "              [\n",
      "                0.1111111111111111,\n",
      "                \"#46039f\"\n",
      "              ],\n",
      "              [\n",
      "                0.2222222222222222,\n",
      "                \"#7201a8\"\n",
      "              ],\n",
      "              [\n",
      "                0.3333333333333333,\n",
      "                \"#9c179e\"\n",
      "              ],\n",
      "              [\n",
      "                0.4444444444444444,\n",
      "                \"#bd3786\"\n",
      "              ],\n",
      "              [\n",
      "                0.5555555555555556,\n",
      "                \"#d8576b\"\n",
      "              ],\n",
      "              [\n",
      "                0.6666666666666666,\n",
      "                \"#ed7953\"\n",
      "              ],\n",
      "              [\n",
      "                0.7777777777777778,\n",
      "                \"#fb9f3a\"\n",
      "              ],\n",
      "              [\n",
      "                0.8888888888888888,\n",
      "                \"#fdca26\"\n",
      "              ],\n",
      "              [\n",
      "                1.0,\n",
      "                \"#f0f921\"\n",
      "              ]\n",
      "            ]\n",
      "          }\n",
      "        ],\n",
      "        \"heatmap\": [\n",
      "          {\n",
      "            \"type\": \"heatmap\",\n",
      "            \"colorbar\": {\n",
      "              \"outlinewidth\": 0,\n",
      "              \"ticks\": \"\"\n",
      "            },\n",
      "            \"colorscale\": [\n",
      "              [\n",
      "                0.0,\n",
      "                \"#0d0887\"\n",
      "              ],\n",
      "              [\n",
      "                0.1111111111111111,\n",
      "                \"#46039f\"\n",
      "              ],\n",
      "              [\n",
      "                0.2222222222222222,\n",
      "                \"#7201a8\"\n",
      "              ],\n",
      "              [\n",
      "                0.3333333333333333,\n",
      "                \"#9c179e\"\n",
      "              ],\n",
      "              [\n",
      "                0.4444444444444444,\n",
      "                \"#bd3786\"\n",
      "              ],\n",
      "              [\n",
      "                0.5555555555555556,\n",
      "                \"#d8576b\"\n",
      "              ],\n",
      "              [\n",
      "                0.6666666666666666,\n",
      "                \"#ed7953\"\n",
      "              ],\n",
      "              [\n",
      "                0.7777777777777778,\n",
      "                \"#fb9f3a\"\n",
      "              ],\n",
      "              [\n",
      "                0.8888888888888888,\n",
      "                \"#fdca26\"\n",
      "              ],\n",
      "              [\n",
      "                1.0,\n",
      "                \"#f0f921\"\n",
      "              ]\n",
      "            ]\n",
      "          }\n",
      "        ],\n",
      "        \"heatmapgl\": [\n",
      "          {\n",
      "            \"type\": \"heatmapgl\",\n",
      "            \"colorbar\": {\n",
      "              \"outlinewidth\": 0,\n",
      "              \"ticks\": \"\"\n",
      "            },\n",
      "            \"colorscale\": [\n",
      "              [\n",
      "                0.0,\n",
      "                \"#0d0887\"\n",
      "              ],\n",
      "              [\n",
      "                0.1111111111111111,\n",
      "                \"#46039f\"\n",
      "              ],\n",
      "              [\n",
      "                0.2222222222222222,\n",
      "                \"#7201a8\"\n",
      "              ],\n",
      "              [\n",
      "                0.3333333333333333,\n",
      "                \"#9c179e\"\n",
      "              ],\n",
      "              [\n",
      "                0.4444444444444444,\n",
      "                \"#bd3786\"\n",
      "              ],\n",
      "              [\n",
      "                0.5555555555555556,\n",
      "                \"#d8576b\"\n",
      "              ],\n",
      "              [\n",
      "                0.6666666666666666,\n",
      "                \"#ed7953\"\n",
      "              ],\n",
      "              [\n",
      "                0.7777777777777778,\n",
      "                \"#fb9f3a\"\n",
      "              ],\n",
      "              [\n",
      "                0.8888888888888888,\n",
      "                \"#fdca26\"\n",
      "              ],\n",
      "              [\n",
      "                1.0,\n",
      "                \"#f0f921\"\n",
      "              ]\n",
      "            ]\n",
      "          }\n",
      "        ],\n",
      "        \"contourcarpet\": [\n",
      "          {\n",
      "            \"type\": \"contourcarpet\",\n",
      "            \"colorbar\": {\n",
      "              \"outlinewidth\": 0,\n",
      "              \"ticks\": \"\"\n",
      "            }\n",
      "          }\n",
      "        ],\n",
      "        \"contour\": [\n",
      "          {\n",
      "            \"type\": \"contour\",\n",
      "            \"colorbar\": {\n",
      "              \"outlinewidth\": 0,\n",
      "              \"ticks\": \"\"\n",
      "            },\n",
      "            \"colorscale\": [\n",
      "              [\n",
      "                0.0,\n",
      "                \"#0d0887\"\n",
      "              ],\n",
      "              [\n",
      "                0.1111111111111111,\n",
      "                \"#46039f\"\n",
      "              ],\n",
      "              [\n",
      "                0.2222222222222222,\n",
      "                \"#7201a8\"\n",
      "              ],\n",
      "              [\n",
      "                0.3333333333333333,\n",
      "                \"#9c179e\"\n",
      "              ],\n",
      "              [\n",
      "                0.4444444444444444,\n",
      "                \"#bd3786\"\n",
      "              ],\n",
      "              [\n",
      "                0.5555555555555556,\n",
      "                \"#d8576b\"\n",
      "              ],\n",
      "              [\n",
      "                0.6666666666666666,\n",
      "                \"#ed7953\"\n",
      "              ],\n",
      "              [\n",
      "                0.7777777777777778,\n",
      "                \"#fb9f3a\"\n",
      "              ],\n",
      "              [\n",
      "                0.8888888888888888,\n",
      "                \"#fdca26\"\n",
      "              ],\n",
      "              [\n",
      "                1.0,\n",
      "                \"#f0f921\"\n",
      "              ]\n",
      "            ]\n",
      "          }\n",
      "        ],\n",
      "        \"surface\": [\n",
      "          {\n",
      "            \"type\": \"surface\",\n",
      "            \"colorbar\": {\n",
      "              \"outlinewidth\": 0,\n",
      "              \"ticks\": \"\"\n",
      "            },\n",
      "            \"colorscale\": [\n",
      "              [\n",
      "                0.0,\n",
      "                \"#0d0887\"\n",
      "              ],\n",
      "              [\n",
      "                0.1111111111111111,\n",
      "                \"#46039f\"\n",
      "              ],\n",
      "              [\n",
      "                0.2222222222222222,\n",
      "                \"#7201a8\"\n",
      "              ],\n",
      "              [\n",
      "                0.3333333333333333,\n",
      "                \"#9c179e\"\n",
      "              ],\n",
      "              [\n",
      "                0.4444444444444444,\n",
      "                \"#bd3786\"\n",
      "              ],\n",
      "              [\n",
      "                0.5555555555555556,\n",
      "                \"#d8576b\"\n",
      "              ],\n",
      "              [\n",
      "                0.6666666666666666,\n",
      "                \"#ed7953\"\n",
      "              ],\n",
      "              [\n",
      "                0.7777777777777778,\n",
      "                \"#fb9f3a\"\n",
      "              ],\n",
      "              [\n",
      "                0.8888888888888888,\n",
      "                \"#fdca26\"\n",
      "              ],\n",
      "              [\n",
      "                1.0,\n",
      "                \"#f0f921\"\n",
      "              ]\n",
      "            ]\n",
      "          }\n",
      "        ],\n",
      "        \"mesh3d\": [\n",
      "          {\n",
      "            \"type\": \"mesh3d\",\n",
      "            \"colorbar\": {\n",
      "              \"outlinewidth\": 0,\n",
      "              \"ticks\": \"\"\n",
      "            }\n",
      "          }\n",
      "        ],\n",
      "        \"scatter\": [\n",
      "          {\n",
      "            \"fillpattern\": {\n",
      "              \"fillmode\": \"overlay\",\n",
      "              \"size\": 10,\n",
      "              \"solidity\": 0.2\n",
      "            },\n",
      "            \"type\": \"scatter\"\n",
      "          }\n",
      "        ],\n",
      "        \"parcoords\": [\n",
      "          {\n",
      "            \"type\": \"parcoords\",\n",
      "            \"line\": {\n",
      "              \"colorbar\": {\n",
      "                \"outlinewidth\": 0,\n",
      "                \"ticks\": \"\"\n",
      "              }\n",
      "            }\n",
      "          }\n",
      "        ],\n",
      "        \"scatterpolargl\": [\n",
      "          {\n",
      "            \"type\": \"scatterpolargl\",\n",
      "            \"marker\": {\n",
      "              \"colorbar\": {\n",
      "                \"outlinewidth\": 0,\n",
      "                \"ticks\": \"\"\n",
      "              }\n",
      "            }\n",
      "          }\n",
      "        ],\n",
      "        \"bar\": [\n",
      "          {\n",
      "            \"error_x\": {\n",
      "              \"color\": \"#2a3f5f\"\n",
      "            },\n",
      "            \"error_y\": {\n",
      "              \"color\": \"#2a3f5f\"\n",
      "            },\n",
      "            \"marker\": {\n",
      "              \"line\": {\n",
      "                \"color\": \"#E5ECF6\",\n",
      "                \"width\": 0.5\n",
      "              },\n",
      "              \"pattern\": {\n",
      "                \"fillmode\": \"overlay\",\n",
      "                \"size\": 10,\n",
      "                \"solidity\": 0.2\n",
      "              }\n",
      "            },\n",
      "            \"type\": \"bar\"\n",
      "          }\n",
      "        ],\n",
      "        \"scattergeo\": [\n",
      "          {\n",
      "            \"type\": \"scattergeo\",\n",
      "            \"marker\": {\n",
      "              \"colorbar\": {\n",
      "                \"outlinewidth\": 0,\n",
      "                \"ticks\": \"\"\n",
      "              }\n",
      "            }\n",
      "          }\n",
      "        ],\n",
      "        \"scatterpolar\": [\n",
      "          {\n",
      "            \"type\": \"scatterpolar\",\n",
      "            \"marker\": {\n",
      "              \"colorbar\": {\n",
      "                \"outlinewidth\": 0,\n",
      "                \"ticks\": \"\"\n",
      "              }\n",
      "            }\n",
      "          }\n",
      "        ],\n",
      "        \"histogram\": [\n",
      "          {\n",
      "            \"marker\": {\n",
      "              \"pattern\": {\n",
      "                \"fillmode\": \"overlay\",\n",
      "                \"size\": 10,\n",
      "                \"solidity\": 0.2\n",
      "              }\n",
      "            },\n",
      "            \"type\": \"histogram\"\n",
      "          }\n",
      "        ],\n",
      "        \"scattergl\": [\n",
      "          {\n",
      "            \"type\": \"scattergl\",\n",
      "            \"marker\": {\n",
      "              \"colorbar\": {\n",
      "                \"outlinewidth\": 0,\n",
      "                \"ticks\": \"\"\n",
      "              }\n",
      "            }\n",
      "          }\n",
      "        ],\n",
      "        \"scatter3d\": [\n",
      "          {\n",
      "            \"type\": \"scatter3d\",\n",
      "            \"line\": {\n",
      "              \"colorbar\": {\n",
      "                \"outlinewidth\": 0,\n",
      "                \"ticks\": \"\"\n",
      "              }\n",
      "            },\n",
      "            \"marker\": {\n",
      "              \"colorbar\": {\n",
      "                \"outlinewidth\": 0,\n",
      "                \"ticks\": \"\"\n",
      "              }\n",
      "            }\n",
      "          }\n",
      "        ],\n",
      "        \"scattermapbox\": [\n",
      "          {\n",
      "            \"type\": \"scattermapbox\",\n",
      "            \"marker\": {\n",
      "              \"colorbar\": {\n",
      "                \"outlinewidth\": 0,\n",
      "                \"ticks\": \"\"\n",
      "              }\n",
      "            }\n",
      "          }\n",
      "        ],\n",
      "        \"scatterternary\": [\n",
      "          {\n",
      "            \"type\": \"scatterternary\",\n",
      "            \"marker\": {\n",
      "              \"colorbar\": {\n",
      "                \"outlinewidth\": 0,\n",
      "                \"ticks\": \"\"\n",
      "              }\n",
      "            }\n",
      "          }\n",
      "        ],\n",
      "        \"scattercarpet\": [\n",
      "          {\n",
      "            \"type\": \"scattercarpet\",\n",
      "            \"marker\": {\n",
      "              \"colorbar\": {\n",
      "                \"outlinewidth\": 0,\n",
      "                \"ticks\": \"\"\n",
      "              }\n",
      "            }\n",
      "          }\n",
      "        ],\n",
      "        \"carpet\": [\n",
      "          {\n",
      "            \"aaxis\": {\n",
      "              \"endlinecolor\": \"#2a3f5f\",\n",
      "              \"gridcolor\": \"white\",\n",
      "              \"linecolor\": \"white\",\n",
      "              \"minorgridcolor\": \"white\",\n",
      "              \"startlinecolor\": \"#2a3f5f\"\n",
      "            },\n",
      "            \"baxis\": {\n",
      "              \"endlinecolor\": \"#2a3f5f\",\n",
      "              \"gridcolor\": \"white\",\n",
      "              \"linecolor\": \"white\",\n",
      "              \"minorgridcolor\": \"white\",\n",
      "              \"startlinecolor\": \"#2a3f5f\"\n",
      "            },\n",
      "            \"type\": \"carpet\"\n",
      "          }\n",
      "        ],\n",
      "        \"table\": [\n",
      "          {\n",
      "            \"cells\": {\n",
      "              \"fill\": {\n",
      "                \"color\": \"#EBF0F8\"\n",
      "              },\n",
      "              \"line\": {\n",
      "                \"color\": \"white\"\n",
      "              }\n",
      "            },\n",
      "            \"header\": {\n",
      "              \"fill\": {\n",
      "                \"color\": \"#C8D4E3\"\n",
      "              },\n",
      "              \"line\": {\n",
      "                \"color\": \"white\"\n",
      "              }\n",
      "            },\n",
      "            \"type\": \"table\"\n",
      "          }\n",
      "        ],\n",
      "        \"barpolar\": [\n",
      "          {\n",
      "            \"marker\": {\n",
      "              \"line\": {\n",
      "                \"color\": \"#E5ECF6\",\n",
      "                \"width\": 0.5\n",
      "              },\n",
      "              \"pattern\": {\n",
      "                \"fillmode\": \"overlay\",\n",
      "                \"size\": 10,\n",
      "                \"solidity\": 0.2\n",
      "              }\n",
      "            },\n",
      "            \"type\": \"barpolar\"\n",
      "          }\n",
      "        ],\n",
      "        \"pie\": [\n",
      "          {\n",
      "            \"automargin\": true,\n",
      "            \"type\": \"pie\"\n",
      "          }\n",
      "        ]\n",
      "      },\n",
      "      \"layout\": {\n",
      "        \"autotypenumbers\": \"strict\",\n",
      "        \"colorway\": [\n",
      "          \"#636efa\",\n",
      "          \"#EF553B\",\n",
      "          \"#00cc96\",\n",
      "          \"#ab63fa\",\n",
      "          \"#FFA15A\",\n",
      "          \"#19d3f3\",\n",
      "          \"#FF6692\",\n",
      "          \"#B6E880\",\n",
      "          \"#FF97FF\",\n",
      "          \"#FECB52\"\n",
      "        ],\n",
      "        \"font\": {\n",
      "          \"color\": \"#2a3f5f\"\n",
      "        },\n",
      "        \"hovermode\": \"closest\",\n",
      "        \"hoverlabel\": {\n",
      "          \"align\": \"left\"\n",
      "        },\n",
      "        \"paper_bgcolor\": \"white\",\n",
      "        \"plot_bgcolor\": \"#E5ECF6\",\n",
      "        \"polar\": {\n",
      "          \"bgcolor\": \"#E5ECF6\",\n",
      "          \"angularaxis\": {\n",
      "            \"gridcolor\": \"white\",\n",
      "            \"linecolor\": \"white\",\n",
      "            \"ticks\": \"\"\n",
      "          },\n",
      "          \"radialaxis\": {\n",
      "            \"gridcolor\": \"white\",\n",
      "            \"linecolor\": \"white\",\n",
      "            \"ticks\": \"\"\n",
      "          }\n",
      "        },\n",
      "        \"ternary\": {\n",
      "          \"bgcolor\": \"#E5ECF6\",\n",
      "          \"aaxis\": {\n",
      "            \"gridcolor\": \"white\",\n",
      "            \"linecolor\": \"white\",\n",
      "            \"ticks\": \"\"\n",
      "          },\n",
      "          \"baxis\": {\n",
      "            \"gridcolor\": \"white\",\n",
      "            \"linecolor\": \"white\",\n",
      "            \"ticks\": \"\"\n",
      "          },\n",
      "          \"caxis\": {\n",
      "            \"gridcolor\": \"white\",\n",
      "            \"linecolor\": \"white\",\n",
      "            \"ticks\": \"\"\n",
      "          }\n",
      "        },\n",
      "        \"coloraxis\": {\n",
      "          \"colorbar\": {\n",
      "            \"outlinewidth\": 0,\n",
      "            \"ticks\": \"\"\n",
      "          }\n",
      "        },\n",
      "        \"colorscale\": {\n",
      "          \"sequential\": [\n",
      "            [\n",
      "              0.0,\n",
      "              \"#0d0887\"\n",
      "            ],\n",
      "            [\n",
      "              0.1111111111111111,\n",
      "              \"#46039f\"\n",
      "            ],\n",
      "            [\n",
      "              0.2222222222222222,\n",
      "              \"#7201a8\"\n",
      "            ],\n",
      "            [\n",
      "              0.3333333333333333,\n",
      "              \"#9c179e\"\n",
      "            ],\n",
      "            [\n",
      "              0.4444444444444444,\n",
      "              \"#bd3786\"\n",
      "            ],\n",
      "            [\n",
      "              0.5555555555555556,\n",
      "              \"#d8576b\"\n",
      "            ],\n",
      "            [\n",
      "              0.6666666666666666,\n",
      "              \"#ed7953\"\n",
      "            ],\n",
      "            [\n",
      "              0.7777777777777778,\n",
      "              \"#fb9f3a\"\n",
      "            ],\n",
      "            [\n",
      "              0.8888888888888888,\n",
      "              \"#fdca26\"\n",
      "            ],\n",
      "            [\n",
      "              1.0,\n",
      "              \"#f0f921\"\n",
      "            ]\n",
      "          ],\n",
      "          \"sequentialminus\": [\n",
      "            [\n",
      "              0.0,\n",
      "              \"#0d0887\"\n",
      "            ],\n",
      "            [\n",
      "              0.1111111111111111,\n",
      "              \"#46039f\"\n",
      "            ],\n",
      "            [\n",
      "              0.2222222222222222,\n",
      "              \"#7201a8\"\n",
      "            ],\n",
      "            [\n",
      "              0.3333333333333333,\n",
      "              \"#9c179e\"\n",
      "            ],\n",
      "            [\n",
      "              0.4444444444444444,\n",
      "              \"#bd3786\"\n",
      "            ],\n",
      "            [\n",
      "              0.5555555555555556,\n",
      "              \"#d8576b\"\n",
      "            ],\n",
      "            [\n",
      "              0.6666666666666666,\n",
      "              \"#ed7953\"\n",
      "            ],\n",
      "            [\n",
      "              0.7777777777777778,\n",
      "              \"#fb9f3a\"\n",
      "            ],\n",
      "            [\n",
      "              0.8888888888888888,\n",
      "              \"#fdca26\"\n",
      "            ],\n",
      "            [\n",
      "              1.0,\n",
      "              \"#f0f921\"\n",
      "            ]\n",
      "          ],\n",
      "          \"diverging\": [\n",
      "            [\n",
      "              0,\n",
      "              \"#8e0152\"\n",
      "            ],\n",
      "            [\n",
      "              0.1,\n",
      "              \"#c51b7d\"\n",
      "            ],\n",
      "            [\n",
      "              0.2,\n",
      "              \"#de77ae\"\n",
      "            ],\n",
      "            [\n",
      "              0.3,\n",
      "              \"#f1b6da\"\n",
      "            ],\n",
      "            [\n",
      "              0.4,\n",
      "              \"#fde0ef\"\n",
      "            ],\n",
      "            [\n",
      "              0.5,\n",
      "              \"#f7f7f7\"\n",
      "            ],\n",
      "            [\n",
      "              0.6,\n",
      "              \"#e6f5d0\"\n",
      "            ],\n",
      "            [\n",
      "              0.7,\n",
      "              \"#b8e186\"\n",
      "            ],\n",
      "            [\n",
      "              0.8,\n",
      "              \"#7fbc41\"\n",
      "            ],\n",
      "            [\n",
      "              0.9,\n",
      "              \"#4d9221\"\n",
      "            ],\n",
      "            [\n",
      "              1,\n",
      "              \"#276419\"\n",
      "            ]\n",
      "          ]\n",
      "        },\n",
      "        \"xaxis\": {\n",
      "          \"gridcolor\": \"white\",\n",
      "          \"linecolor\": \"white\",\n",
      "          \"ticks\": \"\",\n",
      "          \"title\": {\n",
      "            \"standoff\": 15\n",
      "          },\n",
      "          \"zerolinecolor\": \"white\",\n",
      "          \"automargin\": true,\n",
      "          \"zerolinewidth\": 2\n",
      "        },\n",
      "        \"yaxis\": {\n",
      "          \"gridcolor\": \"white\",\n",
      "          \"linecolor\": \"white\",\n",
      "          \"ticks\": \"\",\n",
      "          \"title\": {\n",
      "            \"standoff\": 15\n",
      "          },\n",
      "          \"zerolinecolor\": \"white\",\n",
      "          \"automargin\": true,\n",
      "          \"zerolinewidth\": 2\n",
      "        },\n",
      "        \"scene\": {\n",
      "          \"xaxis\": {\n",
      "            \"backgroundcolor\": \"#E5ECF6\",\n",
      "            \"gridcolor\": \"white\",\n",
      "            \"linecolor\": \"white\",\n",
      "            \"showbackground\": true,\n",
      "            \"ticks\": \"\",\n",
      "            \"zerolinecolor\": \"white\",\n",
      "            \"gridwidth\": 2\n",
      "          },\n",
      "          \"yaxis\": {\n",
      "            \"backgroundcolor\": \"#E5ECF6\",\n",
      "            \"gridcolor\": \"white\",\n",
      "            \"linecolor\": \"white\",\n",
      "            \"showbackground\": true,\n",
      "            \"ticks\": \"\",\n",
      "            \"zerolinecolor\": \"white\",\n",
      "            \"gridwidth\": 2\n",
      "          },\n",
      "          \"zaxis\": {\n",
      "            \"backgroundcolor\": \"#E5ECF6\",\n",
      "            \"gridcolor\": \"white\",\n",
      "            \"linecolor\": \"white\",\n",
      "            \"showbackground\": true,\n",
      "            \"ticks\": \"\",\n",
      "            \"zerolinecolor\": \"white\",\n",
      "            \"gridwidth\": 2\n",
      "          }\n",
      "        },\n",
      "        \"shapedefaults\": {\n",
      "          \"line\": {\n",
      "            \"color\": \"#2a3f5f\"\n",
      "          }\n",
      "        },\n",
      "        \"annotationdefaults\": {\n",
      "          \"arrowcolor\": \"#2a3f5f\",\n",
      "          \"arrowhead\": 0,\n",
      "          \"arrowwidth\": 1\n",
      "        },\n",
      "        \"geo\": {\n",
      "          \"bgcolor\": \"white\",\n",
      "          \"landcolor\": \"#E5ECF6\",\n",
      "          \"subunitcolor\": \"white\",\n",
      "          \"showland\": true,\n",
      "          \"showlakes\": true,\n",
      "          \"lakecolor\": \"white\"\n",
      "        },\n",
      "        \"title\": {\n",
      "          \"x\": 0.05\n",
      "        },\n",
      "        \"mapbox\": {\n",
      "          \"style\": \"light\"\n",
      "        }\n",
      "      }\n",
      "    },\n",
      "    \"xaxis\": {\n",
      "      \"anchor\": \"y\",\n",
      "      \"domain\": [\n",
      "        0.0,\n",
      "        1.0\n",
      "      ],\n",
      "      \"title\": {\n",
      "        \"text\": \"Car Name\"\n",
      "      }\n",
      "    },\n",
      "    \"yaxis\": {\n",
      "      \"anchor\": \"x\",\n",
      "      \"domain\": [\n",
      "        0.0,\n",
      "        1.0\n",
      "      ],\n",
      "      \"title\": {\n",
      "        \"text\": \"Price\"\n",
      "      }\n",
      "    },\n",
      "    \"legend\": {\n",
      "      \"tracegroupgap\": 0\n",
      "    },\n",
      "    \"margin\": {\n",
      "      \"t\": 60\n",
      "    },\n",
      "    \"barmode\": \"relative\"\n",
      "  }\n",
      "}\n"
     ]
    }
   ],
   "source": [
    "bg3_json = io.to_json(bar_graph3,pretty=True)\n",
    "print(bg3_json)"
   ]
  },
  {
   "cell_type": "code",
   "execution_count": 84,
   "id": "796b91dd",
   "metadata": {},
   "outputs": [
    {
     "data": {
      "application/vnd.plotly.v1+json": {
       "config": {
        "plotlyServerURL": "https://plot.ly"
       },
       "data": [
        {
         "alignmentgroup": "True",
         "hovertemplate": "medal=gold<br>nation=%{x}<br>count=%{y}<extra></extra>",
         "legendgroup": "gold",
         "marker": {
          "color": "#636efa",
          "pattern": {
           "shape": ""
          }
         },
         "name": "gold",
         "offsetgroup": "gold",
         "orientation": "v",
         "showlegend": true,
         "textposition": "auto",
         "type": "bar",
         "x": [
          "South Korea",
          "China",
          "Canada"
         ],
         "xaxis": "x",
         "y": [
          24,
          10,
          9
         ],
         "yaxis": "y"
        },
        {
         "alignmentgroup": "True",
         "hovertemplate": "medal=silver<br>nation=%{x}<br>count=%{y}<extra></extra>",
         "legendgroup": "silver",
         "marker": {
          "color": "#EF553B",
          "pattern": {
           "shape": ""
          }
         },
         "name": "silver",
         "offsetgroup": "silver",
         "orientation": "v",
         "showlegend": true,
         "textposition": "auto",
         "type": "bar",
         "x": [
          "South Korea",
          "China",
          "Canada"
         ],
         "xaxis": "x",
         "y": [
          13,
          15,
          12
         ],
         "yaxis": "y"
        },
        {
         "alignmentgroup": "True",
         "hovertemplate": "medal=bronze<br>nation=%{x}<br>count=%{y}<extra></extra>",
         "legendgroup": "bronze",
         "marker": {
          "color": "#00cc96",
          "pattern": {
           "shape": ""
          }
         },
         "name": "bronze",
         "offsetgroup": "bronze",
         "orientation": "v",
         "showlegend": true,
         "textposition": "auto",
         "type": "bar",
         "x": [
          "South Korea",
          "China",
          "Canada"
         ],
         "xaxis": "x",
         "y": [
          11,
          8,
          12
         ],
         "yaxis": "y"
        }
       ],
       "layout": {
        "barmode": "relative",
        "legend": {
         "title": {
          "text": "medal"
         },
         "tracegroupgap": 0
        },
        "template": {
         "data": {
          "bar": [
           {
            "error_x": {
             "color": "#2a3f5f"
            },
            "error_y": {
             "color": "#2a3f5f"
            },
            "marker": {
             "line": {
              "color": "#E5ECF6",
              "width": 0.5
             },
             "pattern": {
              "fillmode": "overlay",
              "size": 10,
              "solidity": 0.2
             }
            },
            "type": "bar"
           }
          ],
          "barpolar": [
           {
            "marker": {
             "line": {
              "color": "#E5ECF6",
              "width": 0.5
             },
             "pattern": {
              "fillmode": "overlay",
              "size": 10,
              "solidity": 0.2
             }
            },
            "type": "barpolar"
           }
          ],
          "carpet": [
           {
            "aaxis": {
             "endlinecolor": "#2a3f5f",
             "gridcolor": "white",
             "linecolor": "white",
             "minorgridcolor": "white",
             "startlinecolor": "#2a3f5f"
            },
            "baxis": {
             "endlinecolor": "#2a3f5f",
             "gridcolor": "white",
             "linecolor": "white",
             "minorgridcolor": "white",
             "startlinecolor": "#2a3f5f"
            },
            "type": "carpet"
           }
          ],
          "choropleth": [
           {
            "colorbar": {
             "outlinewidth": 0,
             "ticks": ""
            },
            "type": "choropleth"
           }
          ],
          "contour": [
           {
            "colorbar": {
             "outlinewidth": 0,
             "ticks": ""
            },
            "colorscale": [
             [
              0,
              "#0d0887"
             ],
             [
              0.1111111111111111,
              "#46039f"
             ],
             [
              0.2222222222222222,
              "#7201a8"
             ],
             [
              0.3333333333333333,
              "#9c179e"
             ],
             [
              0.4444444444444444,
              "#bd3786"
             ],
             [
              0.5555555555555556,
              "#d8576b"
             ],
             [
              0.6666666666666666,
              "#ed7953"
             ],
             [
              0.7777777777777778,
              "#fb9f3a"
             ],
             [
              0.8888888888888888,
              "#fdca26"
             ],
             [
              1,
              "#f0f921"
             ]
            ],
            "type": "contour"
           }
          ],
          "contourcarpet": [
           {
            "colorbar": {
             "outlinewidth": 0,
             "ticks": ""
            },
            "type": "contourcarpet"
           }
          ],
          "heatmap": [
           {
            "colorbar": {
             "outlinewidth": 0,
             "ticks": ""
            },
            "colorscale": [
             [
              0,
              "#0d0887"
             ],
             [
              0.1111111111111111,
              "#46039f"
             ],
             [
              0.2222222222222222,
              "#7201a8"
             ],
             [
              0.3333333333333333,
              "#9c179e"
             ],
             [
              0.4444444444444444,
              "#bd3786"
             ],
             [
              0.5555555555555556,
              "#d8576b"
             ],
             [
              0.6666666666666666,
              "#ed7953"
             ],
             [
              0.7777777777777778,
              "#fb9f3a"
             ],
             [
              0.8888888888888888,
              "#fdca26"
             ],
             [
              1,
              "#f0f921"
             ]
            ],
            "type": "heatmap"
           }
          ],
          "heatmapgl": [
           {
            "colorbar": {
             "outlinewidth": 0,
             "ticks": ""
            },
            "colorscale": [
             [
              0,
              "#0d0887"
             ],
             [
              0.1111111111111111,
              "#46039f"
             ],
             [
              0.2222222222222222,
              "#7201a8"
             ],
             [
              0.3333333333333333,
              "#9c179e"
             ],
             [
              0.4444444444444444,
              "#bd3786"
             ],
             [
              0.5555555555555556,
              "#d8576b"
             ],
             [
              0.6666666666666666,
              "#ed7953"
             ],
             [
              0.7777777777777778,
              "#fb9f3a"
             ],
             [
              0.8888888888888888,
              "#fdca26"
             ],
             [
              1,
              "#f0f921"
             ]
            ],
            "type": "heatmapgl"
           }
          ],
          "histogram": [
           {
            "marker": {
             "pattern": {
              "fillmode": "overlay",
              "size": 10,
              "solidity": 0.2
             }
            },
            "type": "histogram"
           }
          ],
          "histogram2d": [
           {
            "colorbar": {
             "outlinewidth": 0,
             "ticks": ""
            },
            "colorscale": [
             [
              0,
              "#0d0887"
             ],
             [
              0.1111111111111111,
              "#46039f"
             ],
             [
              0.2222222222222222,
              "#7201a8"
             ],
             [
              0.3333333333333333,
              "#9c179e"
             ],
             [
              0.4444444444444444,
              "#bd3786"
             ],
             [
              0.5555555555555556,
              "#d8576b"
             ],
             [
              0.6666666666666666,
              "#ed7953"
             ],
             [
              0.7777777777777778,
              "#fb9f3a"
             ],
             [
              0.8888888888888888,
              "#fdca26"
             ],
             [
              1,
              "#f0f921"
             ]
            ],
            "type": "histogram2d"
           }
          ],
          "histogram2dcontour": [
           {
            "colorbar": {
             "outlinewidth": 0,
             "ticks": ""
            },
            "colorscale": [
             [
              0,
              "#0d0887"
             ],
             [
              0.1111111111111111,
              "#46039f"
             ],
             [
              0.2222222222222222,
              "#7201a8"
             ],
             [
              0.3333333333333333,
              "#9c179e"
             ],
             [
              0.4444444444444444,
              "#bd3786"
             ],
             [
              0.5555555555555556,
              "#d8576b"
             ],
             [
              0.6666666666666666,
              "#ed7953"
             ],
             [
              0.7777777777777778,
              "#fb9f3a"
             ],
             [
              0.8888888888888888,
              "#fdca26"
             ],
             [
              1,
              "#f0f921"
             ]
            ],
            "type": "histogram2dcontour"
           }
          ],
          "mesh3d": [
           {
            "colorbar": {
             "outlinewidth": 0,
             "ticks": ""
            },
            "type": "mesh3d"
           }
          ],
          "parcoords": [
           {
            "line": {
             "colorbar": {
              "outlinewidth": 0,
              "ticks": ""
             }
            },
            "type": "parcoords"
           }
          ],
          "pie": [
           {
            "automargin": true,
            "type": "pie"
           }
          ],
          "scatter": [
           {
            "fillpattern": {
             "fillmode": "overlay",
             "size": 10,
             "solidity": 0.2
            },
            "type": "scatter"
           }
          ],
          "scatter3d": [
           {
            "line": {
             "colorbar": {
              "outlinewidth": 0,
              "ticks": ""
             }
            },
            "marker": {
             "colorbar": {
              "outlinewidth": 0,
              "ticks": ""
             }
            },
            "type": "scatter3d"
           }
          ],
          "scattercarpet": [
           {
            "marker": {
             "colorbar": {
              "outlinewidth": 0,
              "ticks": ""
             }
            },
            "type": "scattercarpet"
           }
          ],
          "scattergeo": [
           {
            "marker": {
             "colorbar": {
              "outlinewidth": 0,
              "ticks": ""
             }
            },
            "type": "scattergeo"
           }
          ],
          "scattergl": [
           {
            "marker": {
             "colorbar": {
              "outlinewidth": 0,
              "ticks": ""
             }
            },
            "type": "scattergl"
           }
          ],
          "scattermapbox": [
           {
            "marker": {
             "colorbar": {
              "outlinewidth": 0,
              "ticks": ""
             }
            },
            "type": "scattermapbox"
           }
          ],
          "scatterpolar": [
           {
            "marker": {
             "colorbar": {
              "outlinewidth": 0,
              "ticks": ""
             }
            },
            "type": "scatterpolar"
           }
          ],
          "scatterpolargl": [
           {
            "marker": {
             "colorbar": {
              "outlinewidth": 0,
              "ticks": ""
             }
            },
            "type": "scatterpolargl"
           }
          ],
          "scatterternary": [
           {
            "marker": {
             "colorbar": {
              "outlinewidth": 0,
              "ticks": ""
             }
            },
            "type": "scatterternary"
           }
          ],
          "surface": [
           {
            "colorbar": {
             "outlinewidth": 0,
             "ticks": ""
            },
            "colorscale": [
             [
              0,
              "#0d0887"
             ],
             [
              0.1111111111111111,
              "#46039f"
             ],
             [
              0.2222222222222222,
              "#7201a8"
             ],
             [
              0.3333333333333333,
              "#9c179e"
             ],
             [
              0.4444444444444444,
              "#bd3786"
             ],
             [
              0.5555555555555556,
              "#d8576b"
             ],
             [
              0.6666666666666666,
              "#ed7953"
             ],
             [
              0.7777777777777778,
              "#fb9f3a"
             ],
             [
              0.8888888888888888,
              "#fdca26"
             ],
             [
              1,
              "#f0f921"
             ]
            ],
            "type": "surface"
           }
          ],
          "table": [
           {
            "cells": {
             "fill": {
              "color": "#EBF0F8"
             },
             "line": {
              "color": "white"
             }
            },
            "header": {
             "fill": {
              "color": "#C8D4E3"
             },
             "line": {
              "color": "white"
             }
            },
            "type": "table"
           }
          ]
         },
         "layout": {
          "annotationdefaults": {
           "arrowcolor": "#2a3f5f",
           "arrowhead": 0,
           "arrowwidth": 1
          },
          "autotypenumbers": "strict",
          "coloraxis": {
           "colorbar": {
            "outlinewidth": 0,
            "ticks": ""
           }
          },
          "colorscale": {
           "diverging": [
            [
             0,
             "#8e0152"
            ],
            [
             0.1,
             "#c51b7d"
            ],
            [
             0.2,
             "#de77ae"
            ],
            [
             0.3,
             "#f1b6da"
            ],
            [
             0.4,
             "#fde0ef"
            ],
            [
             0.5,
             "#f7f7f7"
            ],
            [
             0.6,
             "#e6f5d0"
            ],
            [
             0.7,
             "#b8e186"
            ],
            [
             0.8,
             "#7fbc41"
            ],
            [
             0.9,
             "#4d9221"
            ],
            [
             1,
             "#276419"
            ]
           ],
           "sequential": [
            [
             0,
             "#0d0887"
            ],
            [
             0.1111111111111111,
             "#46039f"
            ],
            [
             0.2222222222222222,
             "#7201a8"
            ],
            [
             0.3333333333333333,
             "#9c179e"
            ],
            [
             0.4444444444444444,
             "#bd3786"
            ],
            [
             0.5555555555555556,
             "#d8576b"
            ],
            [
             0.6666666666666666,
             "#ed7953"
            ],
            [
             0.7777777777777778,
             "#fb9f3a"
            ],
            [
             0.8888888888888888,
             "#fdca26"
            ],
            [
             1,
             "#f0f921"
            ]
           ],
           "sequentialminus": [
            [
             0,
             "#0d0887"
            ],
            [
             0.1111111111111111,
             "#46039f"
            ],
            [
             0.2222222222222222,
             "#7201a8"
            ],
            [
             0.3333333333333333,
             "#9c179e"
            ],
            [
             0.4444444444444444,
             "#bd3786"
            ],
            [
             0.5555555555555556,
             "#d8576b"
            ],
            [
             0.6666666666666666,
             "#ed7953"
            ],
            [
             0.7777777777777778,
             "#fb9f3a"
            ],
            [
             0.8888888888888888,
             "#fdca26"
            ],
            [
             1,
             "#f0f921"
            ]
           ]
          },
          "colorway": [
           "#636efa",
           "#EF553B",
           "#00cc96",
           "#ab63fa",
           "#FFA15A",
           "#19d3f3",
           "#FF6692",
           "#B6E880",
           "#FF97FF",
           "#FECB52"
          ],
          "font": {
           "color": "#2a3f5f"
          },
          "geo": {
           "bgcolor": "white",
           "lakecolor": "white",
           "landcolor": "#E5ECF6",
           "showlakes": true,
           "showland": true,
           "subunitcolor": "white"
          },
          "hoverlabel": {
           "align": "left"
          },
          "hovermode": "closest",
          "mapbox": {
           "style": "light"
          },
          "paper_bgcolor": "white",
          "plot_bgcolor": "#E5ECF6",
          "polar": {
           "angularaxis": {
            "gridcolor": "white",
            "linecolor": "white",
            "ticks": ""
           },
           "bgcolor": "#E5ECF6",
           "radialaxis": {
            "gridcolor": "white",
            "linecolor": "white",
            "ticks": ""
           }
          },
          "scene": {
           "xaxis": {
            "backgroundcolor": "#E5ECF6",
            "gridcolor": "white",
            "gridwidth": 2,
            "linecolor": "white",
            "showbackground": true,
            "ticks": "",
            "zerolinecolor": "white"
           },
           "yaxis": {
            "backgroundcolor": "#E5ECF6",
            "gridcolor": "white",
            "gridwidth": 2,
            "linecolor": "white",
            "showbackground": true,
            "ticks": "",
            "zerolinecolor": "white"
           },
           "zaxis": {
            "backgroundcolor": "#E5ECF6",
            "gridcolor": "white",
            "gridwidth": 2,
            "linecolor": "white",
            "showbackground": true,
            "ticks": "",
            "zerolinecolor": "white"
           }
          },
          "shapedefaults": {
           "line": {
            "color": "#2a3f5f"
           }
          },
          "ternary": {
           "aaxis": {
            "gridcolor": "white",
            "linecolor": "white",
            "ticks": ""
           },
           "baxis": {
            "gridcolor": "white",
            "linecolor": "white",
            "ticks": ""
           },
           "bgcolor": "#E5ECF6",
           "caxis": {
            "gridcolor": "white",
            "linecolor": "white",
            "ticks": ""
           }
          },
          "title": {
           "x": 0.05
          },
          "xaxis": {
           "automargin": true,
           "gridcolor": "white",
           "linecolor": "white",
           "ticks": "",
           "title": {
            "standoff": 15
           },
           "zerolinecolor": "white",
           "zerolinewidth": 2
          },
          "yaxis": {
           "automargin": true,
           "gridcolor": "white",
           "linecolor": "white",
           "ticks": "",
           "title": {
            "standoff": 15
           },
           "zerolinecolor": "white",
           "zerolinewidth": 2
          }
         }
        },
        "title": {
         "text": "Long-Form Input"
        },
        "xaxis": {
         "anchor": "y",
         "domain": [
          0,
          1
         ],
         "title": {
          "text": "nation"
         }
        },
        "yaxis": {
         "anchor": "x",
         "domain": [
          0,
          1
         ],
         "title": {
          "text": "count"
         }
        }
       }
      },
      "text/html": [
       "<div>                            <div id=\"aab3f515-8004-416d-b728-b327c191d503\" class=\"plotly-graph-div\" style=\"height:525px; width:100%;\"></div>            <script type=\"text/javascript\">                require([\"plotly\"], function(Plotly) {                    window.PLOTLYENV=window.PLOTLYENV || {};                                    if (document.getElementById(\"aab3f515-8004-416d-b728-b327c191d503\")) {                    Plotly.newPlot(                        \"aab3f515-8004-416d-b728-b327c191d503\",                        [{\"alignmentgroup\":\"True\",\"hovertemplate\":\"medal=gold<br>nation=%{x}<br>count=%{y}<extra></extra>\",\"legendgroup\":\"gold\",\"marker\":{\"color\":\"#636efa\",\"pattern\":{\"shape\":\"\"}},\"name\":\"gold\",\"offsetgroup\":\"gold\",\"orientation\":\"v\",\"showlegend\":true,\"textposition\":\"auto\",\"x\":[\"South Korea\",\"China\",\"Canada\"],\"xaxis\":\"x\",\"y\":[24,10,9],\"yaxis\":\"y\",\"type\":\"bar\"},{\"alignmentgroup\":\"True\",\"hovertemplate\":\"medal=silver<br>nation=%{x}<br>count=%{y}<extra></extra>\",\"legendgroup\":\"silver\",\"marker\":{\"color\":\"#EF553B\",\"pattern\":{\"shape\":\"\"}},\"name\":\"silver\",\"offsetgroup\":\"silver\",\"orientation\":\"v\",\"showlegend\":true,\"textposition\":\"auto\",\"x\":[\"South Korea\",\"China\",\"Canada\"],\"xaxis\":\"x\",\"y\":[13,15,12],\"yaxis\":\"y\",\"type\":\"bar\"},{\"alignmentgroup\":\"True\",\"hovertemplate\":\"medal=bronze<br>nation=%{x}<br>count=%{y}<extra></extra>\",\"legendgroup\":\"bronze\",\"marker\":{\"color\":\"#00cc96\",\"pattern\":{\"shape\":\"\"}},\"name\":\"bronze\",\"offsetgroup\":\"bronze\",\"orientation\":\"v\",\"showlegend\":true,\"textposition\":\"auto\",\"x\":[\"South Korea\",\"China\",\"Canada\"],\"xaxis\":\"x\",\"y\":[11,8,12],\"yaxis\":\"y\",\"type\":\"bar\"}],                        {\"template\":{\"data\":{\"histogram2dcontour\":[{\"type\":\"histogram2dcontour\",\"colorbar\":{\"outlinewidth\":0,\"ticks\":\"\"},\"colorscale\":[[0.0,\"#0d0887\"],[0.1111111111111111,\"#46039f\"],[0.2222222222222222,\"#7201a8\"],[0.3333333333333333,\"#9c179e\"],[0.4444444444444444,\"#bd3786\"],[0.5555555555555556,\"#d8576b\"],[0.6666666666666666,\"#ed7953\"],[0.7777777777777778,\"#fb9f3a\"],[0.8888888888888888,\"#fdca26\"],[1.0,\"#f0f921\"]]}],\"choropleth\":[{\"type\":\"choropleth\",\"colorbar\":{\"outlinewidth\":0,\"ticks\":\"\"}}],\"histogram2d\":[{\"type\":\"histogram2d\",\"colorbar\":{\"outlinewidth\":0,\"ticks\":\"\"},\"colorscale\":[[0.0,\"#0d0887\"],[0.1111111111111111,\"#46039f\"],[0.2222222222222222,\"#7201a8\"],[0.3333333333333333,\"#9c179e\"],[0.4444444444444444,\"#bd3786\"],[0.5555555555555556,\"#d8576b\"],[0.6666666666666666,\"#ed7953\"],[0.7777777777777778,\"#fb9f3a\"],[0.8888888888888888,\"#fdca26\"],[1.0,\"#f0f921\"]]}],\"heatmap\":[{\"type\":\"heatmap\",\"colorbar\":{\"outlinewidth\":0,\"ticks\":\"\"},\"colorscale\":[[0.0,\"#0d0887\"],[0.1111111111111111,\"#46039f\"],[0.2222222222222222,\"#7201a8\"],[0.3333333333333333,\"#9c179e\"],[0.4444444444444444,\"#bd3786\"],[0.5555555555555556,\"#d8576b\"],[0.6666666666666666,\"#ed7953\"],[0.7777777777777778,\"#fb9f3a\"],[0.8888888888888888,\"#fdca26\"],[1.0,\"#f0f921\"]]}],\"heatmapgl\":[{\"type\":\"heatmapgl\",\"colorbar\":{\"outlinewidth\":0,\"ticks\":\"\"},\"colorscale\":[[0.0,\"#0d0887\"],[0.1111111111111111,\"#46039f\"],[0.2222222222222222,\"#7201a8\"],[0.3333333333333333,\"#9c179e\"],[0.4444444444444444,\"#bd3786\"],[0.5555555555555556,\"#d8576b\"],[0.6666666666666666,\"#ed7953\"],[0.7777777777777778,\"#fb9f3a\"],[0.8888888888888888,\"#fdca26\"],[1.0,\"#f0f921\"]]}],\"contourcarpet\":[{\"type\":\"contourcarpet\",\"colorbar\":{\"outlinewidth\":0,\"ticks\":\"\"}}],\"contour\":[{\"type\":\"contour\",\"colorbar\":{\"outlinewidth\":0,\"ticks\":\"\"},\"colorscale\":[[0.0,\"#0d0887\"],[0.1111111111111111,\"#46039f\"],[0.2222222222222222,\"#7201a8\"],[0.3333333333333333,\"#9c179e\"],[0.4444444444444444,\"#bd3786\"],[0.5555555555555556,\"#d8576b\"],[0.6666666666666666,\"#ed7953\"],[0.7777777777777778,\"#fb9f3a\"],[0.8888888888888888,\"#fdca26\"],[1.0,\"#f0f921\"]]}],\"surface\":[{\"type\":\"surface\",\"colorbar\":{\"outlinewidth\":0,\"ticks\":\"\"},\"colorscale\":[[0.0,\"#0d0887\"],[0.1111111111111111,\"#46039f\"],[0.2222222222222222,\"#7201a8\"],[0.3333333333333333,\"#9c179e\"],[0.4444444444444444,\"#bd3786\"],[0.5555555555555556,\"#d8576b\"],[0.6666666666666666,\"#ed7953\"],[0.7777777777777778,\"#fb9f3a\"],[0.8888888888888888,\"#fdca26\"],[1.0,\"#f0f921\"]]}],\"mesh3d\":[{\"type\":\"mesh3d\",\"colorbar\":{\"outlinewidth\":0,\"ticks\":\"\"}}],\"scatter\":[{\"fillpattern\":{\"fillmode\":\"overlay\",\"size\":10,\"solidity\":0.2},\"type\":\"scatter\"}],\"parcoords\":[{\"type\":\"parcoords\",\"line\":{\"colorbar\":{\"outlinewidth\":0,\"ticks\":\"\"}}}],\"scatterpolargl\":[{\"type\":\"scatterpolargl\",\"marker\":{\"colorbar\":{\"outlinewidth\":0,\"ticks\":\"\"}}}],\"bar\":[{\"error_x\":{\"color\":\"#2a3f5f\"},\"error_y\":{\"color\":\"#2a3f5f\"},\"marker\":{\"line\":{\"color\":\"#E5ECF6\",\"width\":0.5},\"pattern\":{\"fillmode\":\"overlay\",\"size\":10,\"solidity\":0.2}},\"type\":\"bar\"}],\"scattergeo\":[{\"type\":\"scattergeo\",\"marker\":{\"colorbar\":{\"outlinewidth\":0,\"ticks\":\"\"}}}],\"scatterpolar\":[{\"type\":\"scatterpolar\",\"marker\":{\"colorbar\":{\"outlinewidth\":0,\"ticks\":\"\"}}}],\"histogram\":[{\"marker\":{\"pattern\":{\"fillmode\":\"overlay\",\"size\":10,\"solidity\":0.2}},\"type\":\"histogram\"}],\"scattergl\":[{\"type\":\"scattergl\",\"marker\":{\"colorbar\":{\"outlinewidth\":0,\"ticks\":\"\"}}}],\"scatter3d\":[{\"type\":\"scatter3d\",\"line\":{\"colorbar\":{\"outlinewidth\":0,\"ticks\":\"\"}},\"marker\":{\"colorbar\":{\"outlinewidth\":0,\"ticks\":\"\"}}}],\"scattermapbox\":[{\"type\":\"scattermapbox\",\"marker\":{\"colorbar\":{\"outlinewidth\":0,\"ticks\":\"\"}}}],\"scatterternary\":[{\"type\":\"scatterternary\",\"marker\":{\"colorbar\":{\"outlinewidth\":0,\"ticks\":\"\"}}}],\"scattercarpet\":[{\"type\":\"scattercarpet\",\"marker\":{\"colorbar\":{\"outlinewidth\":0,\"ticks\":\"\"}}}],\"carpet\":[{\"aaxis\":{\"endlinecolor\":\"#2a3f5f\",\"gridcolor\":\"white\",\"linecolor\":\"white\",\"minorgridcolor\":\"white\",\"startlinecolor\":\"#2a3f5f\"},\"baxis\":{\"endlinecolor\":\"#2a3f5f\",\"gridcolor\":\"white\",\"linecolor\":\"white\",\"minorgridcolor\":\"white\",\"startlinecolor\":\"#2a3f5f\"},\"type\":\"carpet\"}],\"table\":[{\"cells\":{\"fill\":{\"color\":\"#EBF0F8\"},\"line\":{\"color\":\"white\"}},\"header\":{\"fill\":{\"color\":\"#C8D4E3\"},\"line\":{\"color\":\"white\"}},\"type\":\"table\"}],\"barpolar\":[{\"marker\":{\"line\":{\"color\":\"#E5ECF6\",\"width\":0.5},\"pattern\":{\"fillmode\":\"overlay\",\"size\":10,\"solidity\":0.2}},\"type\":\"barpolar\"}],\"pie\":[{\"automargin\":true,\"type\":\"pie\"}]},\"layout\":{\"autotypenumbers\":\"strict\",\"colorway\":[\"#636efa\",\"#EF553B\",\"#00cc96\",\"#ab63fa\",\"#FFA15A\",\"#19d3f3\",\"#FF6692\",\"#B6E880\",\"#FF97FF\",\"#FECB52\"],\"font\":{\"color\":\"#2a3f5f\"},\"hovermode\":\"closest\",\"hoverlabel\":{\"align\":\"left\"},\"paper_bgcolor\":\"white\",\"plot_bgcolor\":\"#E5ECF6\",\"polar\":{\"bgcolor\":\"#E5ECF6\",\"angularaxis\":{\"gridcolor\":\"white\",\"linecolor\":\"white\",\"ticks\":\"\"},\"radialaxis\":{\"gridcolor\":\"white\",\"linecolor\":\"white\",\"ticks\":\"\"}},\"ternary\":{\"bgcolor\":\"#E5ECF6\",\"aaxis\":{\"gridcolor\":\"white\",\"linecolor\":\"white\",\"ticks\":\"\"},\"baxis\":{\"gridcolor\":\"white\",\"linecolor\":\"white\",\"ticks\":\"\"},\"caxis\":{\"gridcolor\":\"white\",\"linecolor\":\"white\",\"ticks\":\"\"}},\"coloraxis\":{\"colorbar\":{\"outlinewidth\":0,\"ticks\":\"\"}},\"colorscale\":{\"sequential\":[[0.0,\"#0d0887\"],[0.1111111111111111,\"#46039f\"],[0.2222222222222222,\"#7201a8\"],[0.3333333333333333,\"#9c179e\"],[0.4444444444444444,\"#bd3786\"],[0.5555555555555556,\"#d8576b\"],[0.6666666666666666,\"#ed7953\"],[0.7777777777777778,\"#fb9f3a\"],[0.8888888888888888,\"#fdca26\"],[1.0,\"#f0f921\"]],\"sequentialminus\":[[0.0,\"#0d0887\"],[0.1111111111111111,\"#46039f\"],[0.2222222222222222,\"#7201a8\"],[0.3333333333333333,\"#9c179e\"],[0.4444444444444444,\"#bd3786\"],[0.5555555555555556,\"#d8576b\"],[0.6666666666666666,\"#ed7953\"],[0.7777777777777778,\"#fb9f3a\"],[0.8888888888888888,\"#fdca26\"],[1.0,\"#f0f921\"]],\"diverging\":[[0,\"#8e0152\"],[0.1,\"#c51b7d\"],[0.2,\"#de77ae\"],[0.3,\"#f1b6da\"],[0.4,\"#fde0ef\"],[0.5,\"#f7f7f7\"],[0.6,\"#e6f5d0\"],[0.7,\"#b8e186\"],[0.8,\"#7fbc41\"],[0.9,\"#4d9221\"],[1,\"#276419\"]]},\"xaxis\":{\"gridcolor\":\"white\",\"linecolor\":\"white\",\"ticks\":\"\",\"title\":{\"standoff\":15},\"zerolinecolor\":\"white\",\"automargin\":true,\"zerolinewidth\":2},\"yaxis\":{\"gridcolor\":\"white\",\"linecolor\":\"white\",\"ticks\":\"\",\"title\":{\"standoff\":15},\"zerolinecolor\":\"white\",\"automargin\":true,\"zerolinewidth\":2},\"scene\":{\"xaxis\":{\"backgroundcolor\":\"#E5ECF6\",\"gridcolor\":\"white\",\"linecolor\":\"white\",\"showbackground\":true,\"ticks\":\"\",\"zerolinecolor\":\"white\",\"gridwidth\":2},\"yaxis\":{\"backgroundcolor\":\"#E5ECF6\",\"gridcolor\":\"white\",\"linecolor\":\"white\",\"showbackground\":true,\"ticks\":\"\",\"zerolinecolor\":\"white\",\"gridwidth\":2},\"zaxis\":{\"backgroundcolor\":\"#E5ECF6\",\"gridcolor\":\"white\",\"linecolor\":\"white\",\"showbackground\":true,\"ticks\":\"\",\"zerolinecolor\":\"white\",\"gridwidth\":2}},\"shapedefaults\":{\"line\":{\"color\":\"#2a3f5f\"}},\"annotationdefaults\":{\"arrowcolor\":\"#2a3f5f\",\"arrowhead\":0,\"arrowwidth\":1},\"geo\":{\"bgcolor\":\"white\",\"landcolor\":\"#E5ECF6\",\"subunitcolor\":\"white\",\"showland\":true,\"showlakes\":true,\"lakecolor\":\"white\"},\"title\":{\"x\":0.05},\"mapbox\":{\"style\":\"light\"}}},\"xaxis\":{\"anchor\":\"y\",\"domain\":[0.0,1.0],\"title\":{\"text\":\"nation\"}},\"yaxis\":{\"anchor\":\"x\",\"domain\":[0.0,1.0],\"title\":{\"text\":\"count\"}},\"legend\":{\"title\":{\"text\":\"medal\"},\"tracegroupgap\":0},\"title\":{\"text\":\"Long-Form Input\"},\"barmode\":\"relative\"},                        {\"responsive\": true}                    ).then(function(){\n",
       "                            \n",
       "var gd = document.getElementById('aab3f515-8004-416d-b728-b327c191d503');\n",
       "var x = new MutationObserver(function (mutations, observer) {{\n",
       "        var display = window.getComputedStyle(gd).display;\n",
       "        if (!display || display === 'none') {{\n",
       "            console.log([gd, 'removed!']);\n",
       "            Plotly.purge(gd);\n",
       "            observer.disconnect();\n",
       "        }}\n",
       "}});\n",
       "\n",
       "// Listen for the removal of the full notebook cells\n",
       "var notebookContainer = gd.closest('#notebook-container');\n",
       "if (notebookContainer) {{\n",
       "    x.observe(notebookContainer, {childList: true});\n",
       "}}\n",
       "\n",
       "// Listen for the clearing of the current output cell\n",
       "var outputEl = gd.closest('.output');\n",
       "if (outputEl) {{\n",
       "    x.observe(outputEl, {childList: true});\n",
       "}}\n",
       "\n",
       "                        })                };                });            </script>        </div>"
      ]
     },
     "metadata": {},
     "output_type": "display_data"
    }
   ],
   "source": [
    "#Bar Graph 4\n",
    "long_df = px.data.medals_long()\n",
    "\n",
    "bar_graph4 = px.bar(long_df, x=\"nation\", y=\"count\", color=\"medal\", title=\"Long-Form Input\")\n",
    "bar_graph4.show()"
   ]
  },
  {
   "cell_type": "code",
   "execution_count": 85,
   "id": "ae26f0ca",
   "metadata": {},
   "outputs": [
    {
     "name": "stdout",
     "output_type": "stream",
     "text": [
      "{\n",
      "  \"data\": [\n",
      "    {\n",
      "      \"alignmentgroup\": \"True\",\n",
      "      \"hovertemplate\": \"medal=gold<br>nation=%{x}<br>count=%{y}<extra></extra>\",\n",
      "      \"legendgroup\": \"gold\",\n",
      "      \"marker\": {\n",
      "        \"color\": \"#636efa\",\n",
      "        \"pattern\": {\n",
      "          \"shape\": \"\"\n",
      "        }\n",
      "      },\n",
      "      \"name\": \"gold\",\n",
      "      \"offsetgroup\": \"gold\",\n",
      "      \"orientation\": \"v\",\n",
      "      \"showlegend\": true,\n",
      "      \"textposition\": \"auto\",\n",
      "      \"x\": [\n",
      "        \"South Korea\",\n",
      "        \"China\",\n",
      "        \"Canada\"\n",
      "      ],\n",
      "      \"xaxis\": \"x\",\n",
      "      \"y\": [\n",
      "        24,\n",
      "        10,\n",
      "        9\n",
      "      ],\n",
      "      \"yaxis\": \"y\",\n",
      "      \"type\": \"bar\"\n",
      "    },\n",
      "    {\n",
      "      \"alignmentgroup\": \"True\",\n",
      "      \"hovertemplate\": \"medal=silver<br>nation=%{x}<br>count=%{y}<extra></extra>\",\n",
      "      \"legendgroup\": \"silver\",\n",
      "      \"marker\": {\n",
      "        \"color\": \"#EF553B\",\n",
      "        \"pattern\": {\n",
      "          \"shape\": \"\"\n",
      "        }\n",
      "      },\n",
      "      \"name\": \"silver\",\n",
      "      \"offsetgroup\": \"silver\",\n",
      "      \"orientation\": \"v\",\n",
      "      \"showlegend\": true,\n",
      "      \"textposition\": \"auto\",\n",
      "      \"x\": [\n",
      "        \"South Korea\",\n",
      "        \"China\",\n",
      "        \"Canada\"\n",
      "      ],\n",
      "      \"xaxis\": \"x\",\n",
      "      \"y\": [\n",
      "        13,\n",
      "        15,\n",
      "        12\n",
      "      ],\n",
      "      \"yaxis\": \"y\",\n",
      "      \"type\": \"bar\"\n",
      "    },\n",
      "    {\n",
      "      \"alignmentgroup\": \"True\",\n",
      "      \"hovertemplate\": \"medal=bronze<br>nation=%{x}<br>count=%{y}<extra></extra>\",\n",
      "      \"legendgroup\": \"bronze\",\n",
      "      \"marker\": {\n",
      "        \"color\": \"#00cc96\",\n",
      "        \"pattern\": {\n",
      "          \"shape\": \"\"\n",
      "        }\n",
      "      },\n",
      "      \"name\": \"bronze\",\n",
      "      \"offsetgroup\": \"bronze\",\n",
      "      \"orientation\": \"v\",\n",
      "      \"showlegend\": true,\n",
      "      \"textposition\": \"auto\",\n",
      "      \"x\": [\n",
      "        \"South Korea\",\n",
      "        \"China\",\n",
      "        \"Canada\"\n",
      "      ],\n",
      "      \"xaxis\": \"x\",\n",
      "      \"y\": [\n",
      "        11,\n",
      "        8,\n",
      "        12\n",
      "      ],\n",
      "      \"yaxis\": \"y\",\n",
      "      \"type\": \"bar\"\n",
      "    }\n",
      "  ],\n",
      "  \"layout\": {\n",
      "    \"template\": {\n",
      "      \"data\": {\n",
      "        \"histogram2dcontour\": [\n",
      "          {\n",
      "            \"type\": \"histogram2dcontour\",\n",
      "            \"colorbar\": {\n",
      "              \"outlinewidth\": 0,\n",
      "              \"ticks\": \"\"\n",
      "            },\n",
      "            \"colorscale\": [\n",
      "              [\n",
      "                0.0,\n",
      "                \"#0d0887\"\n",
      "              ],\n",
      "              [\n",
      "                0.1111111111111111,\n",
      "                \"#46039f\"\n",
      "              ],\n",
      "              [\n",
      "                0.2222222222222222,\n",
      "                \"#7201a8\"\n",
      "              ],\n",
      "              [\n",
      "                0.3333333333333333,\n",
      "                \"#9c179e\"\n",
      "              ],\n",
      "              [\n",
      "                0.4444444444444444,\n",
      "                \"#bd3786\"\n",
      "              ],\n",
      "              [\n",
      "                0.5555555555555556,\n",
      "                \"#d8576b\"\n",
      "              ],\n",
      "              [\n",
      "                0.6666666666666666,\n",
      "                \"#ed7953\"\n",
      "              ],\n",
      "              [\n",
      "                0.7777777777777778,\n",
      "                \"#fb9f3a\"\n",
      "              ],\n",
      "              [\n",
      "                0.8888888888888888,\n",
      "                \"#fdca26\"\n",
      "              ],\n",
      "              [\n",
      "                1.0,\n",
      "                \"#f0f921\"\n",
      "              ]\n",
      "            ]\n",
      "          }\n",
      "        ],\n",
      "        \"choropleth\": [\n",
      "          {\n",
      "            \"type\": \"choropleth\",\n",
      "            \"colorbar\": {\n",
      "              \"outlinewidth\": 0,\n",
      "              \"ticks\": \"\"\n",
      "            }\n",
      "          }\n",
      "        ],\n",
      "        \"histogram2d\": [\n",
      "          {\n",
      "            \"type\": \"histogram2d\",\n",
      "            \"colorbar\": {\n",
      "              \"outlinewidth\": 0,\n",
      "              \"ticks\": \"\"\n",
      "            },\n",
      "            \"colorscale\": [\n",
      "              [\n",
      "                0.0,\n",
      "                \"#0d0887\"\n",
      "              ],\n",
      "              [\n",
      "                0.1111111111111111,\n",
      "                \"#46039f\"\n",
      "              ],\n",
      "              [\n",
      "                0.2222222222222222,\n",
      "                \"#7201a8\"\n",
      "              ],\n",
      "              [\n",
      "                0.3333333333333333,\n",
      "                \"#9c179e\"\n",
      "              ],\n",
      "              [\n",
      "                0.4444444444444444,\n",
      "                \"#bd3786\"\n",
      "              ],\n",
      "              [\n",
      "                0.5555555555555556,\n",
      "                \"#d8576b\"\n",
      "              ],\n",
      "              [\n",
      "                0.6666666666666666,\n",
      "                \"#ed7953\"\n",
      "              ],\n",
      "              [\n",
      "                0.7777777777777778,\n",
      "                \"#fb9f3a\"\n",
      "              ],\n",
      "              [\n",
      "                0.8888888888888888,\n",
      "                \"#fdca26\"\n",
      "              ],\n",
      "              [\n",
      "                1.0,\n",
      "                \"#f0f921\"\n",
      "              ]\n",
      "            ]\n",
      "          }\n",
      "        ],\n",
      "        \"heatmap\": [\n",
      "          {\n",
      "            \"type\": \"heatmap\",\n",
      "            \"colorbar\": {\n",
      "              \"outlinewidth\": 0,\n",
      "              \"ticks\": \"\"\n",
      "            },\n",
      "            \"colorscale\": [\n",
      "              [\n",
      "                0.0,\n",
      "                \"#0d0887\"\n",
      "              ],\n",
      "              [\n",
      "                0.1111111111111111,\n",
      "                \"#46039f\"\n",
      "              ],\n",
      "              [\n",
      "                0.2222222222222222,\n",
      "                \"#7201a8\"\n",
      "              ],\n",
      "              [\n",
      "                0.3333333333333333,\n",
      "                \"#9c179e\"\n",
      "              ],\n",
      "              [\n",
      "                0.4444444444444444,\n",
      "                \"#bd3786\"\n",
      "              ],\n",
      "              [\n",
      "                0.5555555555555556,\n",
      "                \"#d8576b\"\n",
      "              ],\n",
      "              [\n",
      "                0.6666666666666666,\n",
      "                \"#ed7953\"\n",
      "              ],\n",
      "              [\n",
      "                0.7777777777777778,\n",
      "                \"#fb9f3a\"\n",
      "              ],\n",
      "              [\n",
      "                0.8888888888888888,\n",
      "                \"#fdca26\"\n",
      "              ],\n",
      "              [\n",
      "                1.0,\n",
      "                \"#f0f921\"\n",
      "              ]\n",
      "            ]\n",
      "          }\n",
      "        ],\n",
      "        \"heatmapgl\": [\n",
      "          {\n",
      "            \"type\": \"heatmapgl\",\n",
      "            \"colorbar\": {\n",
      "              \"outlinewidth\": 0,\n",
      "              \"ticks\": \"\"\n",
      "            },\n",
      "            \"colorscale\": [\n",
      "              [\n",
      "                0.0,\n",
      "                \"#0d0887\"\n",
      "              ],\n",
      "              [\n",
      "                0.1111111111111111,\n",
      "                \"#46039f\"\n",
      "              ],\n",
      "              [\n",
      "                0.2222222222222222,\n",
      "                \"#7201a8\"\n",
      "              ],\n",
      "              [\n",
      "                0.3333333333333333,\n",
      "                \"#9c179e\"\n",
      "              ],\n",
      "              [\n",
      "                0.4444444444444444,\n",
      "                \"#bd3786\"\n",
      "              ],\n",
      "              [\n",
      "                0.5555555555555556,\n",
      "                \"#d8576b\"\n",
      "              ],\n",
      "              [\n",
      "                0.6666666666666666,\n",
      "                \"#ed7953\"\n",
      "              ],\n",
      "              [\n",
      "                0.7777777777777778,\n",
      "                \"#fb9f3a\"\n",
      "              ],\n",
      "              [\n",
      "                0.8888888888888888,\n",
      "                \"#fdca26\"\n",
      "              ],\n",
      "              [\n",
      "                1.0,\n",
      "                \"#f0f921\"\n",
      "              ]\n",
      "            ]\n",
      "          }\n",
      "        ],\n",
      "        \"contourcarpet\": [\n",
      "          {\n",
      "            \"type\": \"contourcarpet\",\n",
      "            \"colorbar\": {\n",
      "              \"outlinewidth\": 0,\n",
      "              \"ticks\": \"\"\n",
      "            }\n",
      "          }\n",
      "        ],\n",
      "        \"contour\": [\n",
      "          {\n",
      "            \"type\": \"contour\",\n",
      "            \"colorbar\": {\n",
      "              \"outlinewidth\": 0,\n",
      "              \"ticks\": \"\"\n",
      "            },\n",
      "            \"colorscale\": [\n",
      "              [\n",
      "                0.0,\n",
      "                \"#0d0887\"\n",
      "              ],\n",
      "              [\n",
      "                0.1111111111111111,\n",
      "                \"#46039f\"\n",
      "              ],\n",
      "              [\n",
      "                0.2222222222222222,\n",
      "                \"#7201a8\"\n",
      "              ],\n",
      "              [\n",
      "                0.3333333333333333,\n",
      "                \"#9c179e\"\n",
      "              ],\n",
      "              [\n",
      "                0.4444444444444444,\n",
      "                \"#bd3786\"\n",
      "              ],\n",
      "              [\n",
      "                0.5555555555555556,\n",
      "                \"#d8576b\"\n",
      "              ],\n",
      "              [\n",
      "                0.6666666666666666,\n",
      "                \"#ed7953\"\n",
      "              ],\n",
      "              [\n",
      "                0.7777777777777778,\n",
      "                \"#fb9f3a\"\n",
      "              ],\n",
      "              [\n",
      "                0.8888888888888888,\n",
      "                \"#fdca26\"\n",
      "              ],\n",
      "              [\n",
      "                1.0,\n",
      "                \"#f0f921\"\n",
      "              ]\n",
      "            ]\n",
      "          }\n",
      "        ],\n",
      "        \"surface\": [\n",
      "          {\n",
      "            \"type\": \"surface\",\n",
      "            \"colorbar\": {\n",
      "              \"outlinewidth\": 0,\n",
      "              \"ticks\": \"\"\n",
      "            },\n",
      "            \"colorscale\": [\n",
      "              [\n",
      "                0.0,\n",
      "                \"#0d0887\"\n",
      "              ],\n",
      "              [\n",
      "                0.1111111111111111,\n",
      "                \"#46039f\"\n",
      "              ],\n",
      "              [\n",
      "                0.2222222222222222,\n",
      "                \"#7201a8\"\n",
      "              ],\n",
      "              [\n",
      "                0.3333333333333333,\n",
      "                \"#9c179e\"\n",
      "              ],\n",
      "              [\n",
      "                0.4444444444444444,\n",
      "                \"#bd3786\"\n",
      "              ],\n",
      "              [\n",
      "                0.5555555555555556,\n",
      "                \"#d8576b\"\n",
      "              ],\n",
      "              [\n",
      "                0.6666666666666666,\n",
      "                \"#ed7953\"\n",
      "              ],\n",
      "              [\n",
      "                0.7777777777777778,\n",
      "                \"#fb9f3a\"\n",
      "              ],\n",
      "              [\n",
      "                0.8888888888888888,\n",
      "                \"#fdca26\"\n",
      "              ],\n",
      "              [\n",
      "                1.0,\n",
      "                \"#f0f921\"\n",
      "              ]\n",
      "            ]\n",
      "          }\n",
      "        ],\n",
      "        \"mesh3d\": [\n",
      "          {\n",
      "            \"type\": \"mesh3d\",\n",
      "            \"colorbar\": {\n",
      "              \"outlinewidth\": 0,\n",
      "              \"ticks\": \"\"\n",
      "            }\n",
      "          }\n",
      "        ],\n",
      "        \"scatter\": [\n",
      "          {\n",
      "            \"fillpattern\": {\n",
      "              \"fillmode\": \"overlay\",\n",
      "              \"size\": 10,\n",
      "              \"solidity\": 0.2\n",
      "            },\n",
      "            \"type\": \"scatter\"\n",
      "          }\n",
      "        ],\n",
      "        \"parcoords\": [\n",
      "          {\n",
      "            \"type\": \"parcoords\",\n",
      "            \"line\": {\n",
      "              \"colorbar\": {\n",
      "                \"outlinewidth\": 0,\n",
      "                \"ticks\": \"\"\n",
      "              }\n",
      "            }\n",
      "          }\n",
      "        ],\n",
      "        \"scatterpolargl\": [\n",
      "          {\n",
      "            \"type\": \"scatterpolargl\",\n",
      "            \"marker\": {\n",
      "              \"colorbar\": {\n",
      "                \"outlinewidth\": 0,\n",
      "                \"ticks\": \"\"\n",
      "              }\n",
      "            }\n",
      "          }\n",
      "        ],\n",
      "        \"bar\": [\n",
      "          {\n",
      "            \"error_x\": {\n",
      "              \"color\": \"#2a3f5f\"\n",
      "            },\n",
      "            \"error_y\": {\n",
      "              \"color\": \"#2a3f5f\"\n",
      "            },\n",
      "            \"marker\": {\n",
      "              \"line\": {\n",
      "                \"color\": \"#E5ECF6\",\n",
      "                \"width\": 0.5\n",
      "              },\n",
      "              \"pattern\": {\n",
      "                \"fillmode\": \"overlay\",\n",
      "                \"size\": 10,\n",
      "                \"solidity\": 0.2\n",
      "              }\n",
      "            },\n",
      "            \"type\": \"bar\"\n",
      "          }\n",
      "        ],\n",
      "        \"scattergeo\": [\n",
      "          {\n",
      "            \"type\": \"scattergeo\",\n",
      "            \"marker\": {\n",
      "              \"colorbar\": {\n",
      "                \"outlinewidth\": 0,\n",
      "                \"ticks\": \"\"\n",
      "              }\n",
      "            }\n",
      "          }\n",
      "        ],\n",
      "        \"scatterpolar\": [\n",
      "          {\n",
      "            \"type\": \"scatterpolar\",\n",
      "            \"marker\": {\n",
      "              \"colorbar\": {\n",
      "                \"outlinewidth\": 0,\n",
      "                \"ticks\": \"\"\n",
      "              }\n",
      "            }\n",
      "          }\n",
      "        ],\n",
      "        \"histogram\": [\n",
      "          {\n",
      "            \"marker\": {\n",
      "              \"pattern\": {\n",
      "                \"fillmode\": \"overlay\",\n",
      "                \"size\": 10,\n",
      "                \"solidity\": 0.2\n",
      "              }\n",
      "            },\n",
      "            \"type\": \"histogram\"\n",
      "          }\n",
      "        ],\n",
      "        \"scattergl\": [\n",
      "          {\n",
      "            \"type\": \"scattergl\",\n",
      "            \"marker\": {\n",
      "              \"colorbar\": {\n",
      "                \"outlinewidth\": 0,\n",
      "                \"ticks\": \"\"\n",
      "              }\n",
      "            }\n",
      "          }\n",
      "        ],\n",
      "        \"scatter3d\": [\n",
      "          {\n",
      "            \"type\": \"scatter3d\",\n",
      "            \"line\": {\n",
      "              \"colorbar\": {\n",
      "                \"outlinewidth\": 0,\n",
      "                \"ticks\": \"\"\n",
      "              }\n",
      "            },\n",
      "            \"marker\": {\n",
      "              \"colorbar\": {\n",
      "                \"outlinewidth\": 0,\n",
      "                \"ticks\": \"\"\n",
      "              }\n",
      "            }\n",
      "          }\n",
      "        ],\n",
      "        \"scattermapbox\": [\n",
      "          {\n",
      "            \"type\": \"scattermapbox\",\n",
      "            \"marker\": {\n",
      "              \"colorbar\": {\n",
      "                \"outlinewidth\": 0,\n",
      "                \"ticks\": \"\"\n",
      "              }\n",
      "            }\n",
      "          }\n",
      "        ],\n",
      "        \"scatterternary\": [\n",
      "          {\n",
      "            \"type\": \"scatterternary\",\n",
      "            \"marker\": {\n",
      "              \"colorbar\": {\n",
      "                \"outlinewidth\": 0,\n",
      "                \"ticks\": \"\"\n",
      "              }\n",
      "            }\n",
      "          }\n",
      "        ],\n",
      "        \"scattercarpet\": [\n",
      "          {\n",
      "            \"type\": \"scattercarpet\",\n",
      "            \"marker\": {\n",
      "              \"colorbar\": {\n",
      "                \"outlinewidth\": 0,\n",
      "                \"ticks\": \"\"\n",
      "              }\n",
      "            }\n",
      "          }\n",
      "        ],\n",
      "        \"carpet\": [\n",
      "          {\n",
      "            \"aaxis\": {\n",
      "              \"endlinecolor\": \"#2a3f5f\",\n",
      "              \"gridcolor\": \"white\",\n",
      "              \"linecolor\": \"white\",\n",
      "              \"minorgridcolor\": \"white\",\n",
      "              \"startlinecolor\": \"#2a3f5f\"\n",
      "            },\n",
      "            \"baxis\": {\n",
      "              \"endlinecolor\": \"#2a3f5f\",\n",
      "              \"gridcolor\": \"white\",\n",
      "              \"linecolor\": \"white\",\n",
      "              \"minorgridcolor\": \"white\",\n",
      "              \"startlinecolor\": \"#2a3f5f\"\n",
      "            },\n",
      "            \"type\": \"carpet\"\n",
      "          }\n",
      "        ],\n",
      "        \"table\": [\n",
      "          {\n",
      "            \"cells\": {\n",
      "              \"fill\": {\n",
      "                \"color\": \"#EBF0F8\"\n",
      "              },\n",
      "              \"line\": {\n",
      "                \"color\": \"white\"\n",
      "              }\n",
      "            },\n",
      "            \"header\": {\n",
      "              \"fill\": {\n",
      "                \"color\": \"#C8D4E3\"\n",
      "              },\n",
      "              \"line\": {\n",
      "                \"color\": \"white\"\n",
      "              }\n",
      "            },\n",
      "            \"type\": \"table\"\n",
      "          }\n",
      "        ],\n",
      "        \"barpolar\": [\n",
      "          {\n",
      "            \"marker\": {\n",
      "              \"line\": {\n",
      "                \"color\": \"#E5ECF6\",\n",
      "                \"width\": 0.5\n",
      "              },\n",
      "              \"pattern\": {\n",
      "                \"fillmode\": \"overlay\",\n",
      "                \"size\": 10,\n",
      "                \"solidity\": 0.2\n",
      "              }\n",
      "            },\n",
      "            \"type\": \"barpolar\"\n",
      "          }\n",
      "        ],\n",
      "        \"pie\": [\n",
      "          {\n",
      "            \"automargin\": true,\n",
      "            \"type\": \"pie\"\n",
      "          }\n",
      "        ]\n",
      "      },\n",
      "      \"layout\": {\n",
      "        \"autotypenumbers\": \"strict\",\n",
      "        \"colorway\": [\n",
      "          \"#636efa\",\n",
      "          \"#EF553B\",\n",
      "          \"#00cc96\",\n",
      "          \"#ab63fa\",\n",
      "          \"#FFA15A\",\n",
      "          \"#19d3f3\",\n",
      "          \"#FF6692\",\n",
      "          \"#B6E880\",\n",
      "          \"#FF97FF\",\n",
      "          \"#FECB52\"\n",
      "        ],\n",
      "        \"font\": {\n",
      "          \"color\": \"#2a3f5f\"\n",
      "        },\n",
      "        \"hovermode\": \"closest\",\n",
      "        \"hoverlabel\": {\n",
      "          \"align\": \"left\"\n",
      "        },\n",
      "        \"paper_bgcolor\": \"white\",\n",
      "        \"plot_bgcolor\": \"#E5ECF6\",\n",
      "        \"polar\": {\n",
      "          \"bgcolor\": \"#E5ECF6\",\n",
      "          \"angularaxis\": {\n",
      "            \"gridcolor\": \"white\",\n",
      "            \"linecolor\": \"white\",\n",
      "            \"ticks\": \"\"\n",
      "          },\n",
      "          \"radialaxis\": {\n",
      "            \"gridcolor\": \"white\",\n",
      "            \"linecolor\": \"white\",\n",
      "            \"ticks\": \"\"\n",
      "          }\n",
      "        },\n",
      "        \"ternary\": {\n",
      "          \"bgcolor\": \"#E5ECF6\",\n",
      "          \"aaxis\": {\n",
      "            \"gridcolor\": \"white\",\n",
      "            \"linecolor\": \"white\",\n",
      "            \"ticks\": \"\"\n",
      "          },\n",
      "          \"baxis\": {\n",
      "            \"gridcolor\": \"white\",\n",
      "            \"linecolor\": \"white\",\n",
      "            \"ticks\": \"\"\n",
      "          },\n",
      "          \"caxis\": {\n",
      "            \"gridcolor\": \"white\",\n",
      "            \"linecolor\": \"white\",\n",
      "            \"ticks\": \"\"\n",
      "          }\n",
      "        },\n",
      "        \"coloraxis\": {\n",
      "          \"colorbar\": {\n",
      "            \"outlinewidth\": 0,\n",
      "            \"ticks\": \"\"\n",
      "          }\n",
      "        },\n",
      "        \"colorscale\": {\n",
      "          \"sequential\": [\n",
      "            [\n",
      "              0.0,\n",
      "              \"#0d0887\"\n",
      "            ],\n",
      "            [\n",
      "              0.1111111111111111,\n",
      "              \"#46039f\"\n",
      "            ],\n",
      "            [\n",
      "              0.2222222222222222,\n",
      "              \"#7201a8\"\n",
      "            ],\n",
      "            [\n",
      "              0.3333333333333333,\n",
      "              \"#9c179e\"\n",
      "            ],\n",
      "            [\n",
      "              0.4444444444444444,\n",
      "              \"#bd3786\"\n",
      "            ],\n",
      "            [\n",
      "              0.5555555555555556,\n",
      "              \"#d8576b\"\n",
      "            ],\n",
      "            [\n",
      "              0.6666666666666666,\n",
      "              \"#ed7953\"\n",
      "            ],\n",
      "            [\n",
      "              0.7777777777777778,\n",
      "              \"#fb9f3a\"\n",
      "            ],\n",
      "            [\n",
      "              0.8888888888888888,\n",
      "              \"#fdca26\"\n",
      "            ],\n",
      "            [\n",
      "              1.0,\n",
      "              \"#f0f921\"\n",
      "            ]\n",
      "          ],\n",
      "          \"sequentialminus\": [\n",
      "            [\n",
      "              0.0,\n",
      "              \"#0d0887\"\n",
      "            ],\n",
      "            [\n",
      "              0.1111111111111111,\n",
      "              \"#46039f\"\n",
      "            ],\n",
      "            [\n",
      "              0.2222222222222222,\n",
      "              \"#7201a8\"\n",
      "            ],\n",
      "            [\n",
      "              0.3333333333333333,\n",
      "              \"#9c179e\"\n",
      "            ],\n",
      "            [\n",
      "              0.4444444444444444,\n",
      "              \"#bd3786\"\n",
      "            ],\n",
      "            [\n",
      "              0.5555555555555556,\n",
      "              \"#d8576b\"\n",
      "            ],\n",
      "            [\n",
      "              0.6666666666666666,\n",
      "              \"#ed7953\"\n",
      "            ],\n",
      "            [\n",
      "              0.7777777777777778,\n",
      "              \"#fb9f3a\"\n",
      "            ],\n",
      "            [\n",
      "              0.8888888888888888,\n",
      "              \"#fdca26\"\n",
      "            ],\n",
      "            [\n",
      "              1.0,\n",
      "              \"#f0f921\"\n",
      "            ]\n",
      "          ],\n",
      "          \"diverging\": [\n",
      "            [\n",
      "              0,\n",
      "              \"#8e0152\"\n",
      "            ],\n",
      "            [\n",
      "              0.1,\n",
      "              \"#c51b7d\"\n",
      "            ],\n",
      "            [\n",
      "              0.2,\n",
      "              \"#de77ae\"\n",
      "            ],\n",
      "            [\n",
      "              0.3,\n",
      "              \"#f1b6da\"\n",
      "            ],\n",
      "            [\n",
      "              0.4,\n",
      "              \"#fde0ef\"\n",
      "            ],\n",
      "            [\n",
      "              0.5,\n",
      "              \"#f7f7f7\"\n",
      "            ],\n",
      "            [\n",
      "              0.6,\n",
      "              \"#e6f5d0\"\n",
      "            ],\n",
      "            [\n",
      "              0.7,\n",
      "              \"#b8e186\"\n",
      "            ],\n",
      "            [\n",
      "              0.8,\n",
      "              \"#7fbc41\"\n",
      "            ],\n",
      "            [\n",
      "              0.9,\n",
      "              \"#4d9221\"\n",
      "            ],\n",
      "            [\n",
      "              1,\n",
      "              \"#276419\"\n",
      "            ]\n",
      "          ]\n",
      "        },\n",
      "        \"xaxis\": {\n",
      "          \"gridcolor\": \"white\",\n",
      "          \"linecolor\": \"white\",\n",
      "          \"ticks\": \"\",\n",
      "          \"title\": {\n",
      "            \"standoff\": 15\n",
      "          },\n",
      "          \"zerolinecolor\": \"white\",\n",
      "          \"automargin\": true,\n",
      "          \"zerolinewidth\": 2\n",
      "        },\n",
      "        \"yaxis\": {\n",
      "          \"gridcolor\": \"white\",\n",
      "          \"linecolor\": \"white\",\n",
      "          \"ticks\": \"\",\n",
      "          \"title\": {\n",
      "            \"standoff\": 15\n",
      "          },\n",
      "          \"zerolinecolor\": \"white\",\n",
      "          \"automargin\": true,\n",
      "          \"zerolinewidth\": 2\n",
      "        },\n",
      "        \"scene\": {\n",
      "          \"xaxis\": {\n",
      "            \"backgroundcolor\": \"#E5ECF6\",\n",
      "            \"gridcolor\": \"white\",\n",
      "            \"linecolor\": \"white\",\n",
      "            \"showbackground\": true,\n",
      "            \"ticks\": \"\",\n",
      "            \"zerolinecolor\": \"white\",\n",
      "            \"gridwidth\": 2\n",
      "          },\n",
      "          \"yaxis\": {\n",
      "            \"backgroundcolor\": \"#E5ECF6\",\n",
      "            \"gridcolor\": \"white\",\n",
      "            \"linecolor\": \"white\",\n",
      "            \"showbackground\": true,\n",
      "            \"ticks\": \"\",\n",
      "            \"zerolinecolor\": \"white\",\n",
      "            \"gridwidth\": 2\n",
      "          },\n",
      "          \"zaxis\": {\n",
      "            \"backgroundcolor\": \"#E5ECF6\",\n",
      "            \"gridcolor\": \"white\",\n",
      "            \"linecolor\": \"white\",\n",
      "            \"showbackground\": true,\n",
      "            \"ticks\": \"\",\n",
      "            \"zerolinecolor\": \"white\",\n",
      "            \"gridwidth\": 2\n",
      "          }\n",
      "        },\n",
      "        \"shapedefaults\": {\n",
      "          \"line\": {\n",
      "            \"color\": \"#2a3f5f\"\n",
      "          }\n",
      "        },\n",
      "        \"annotationdefaults\": {\n",
      "          \"arrowcolor\": \"#2a3f5f\",\n",
      "          \"arrowhead\": 0,\n",
      "          \"arrowwidth\": 1\n",
      "        },\n",
      "        \"geo\": {\n",
      "          \"bgcolor\": \"white\",\n",
      "          \"landcolor\": \"#E5ECF6\",\n",
      "          \"subunitcolor\": \"white\",\n",
      "          \"showland\": true,\n",
      "          \"showlakes\": true,\n",
      "          \"lakecolor\": \"white\"\n",
      "        },\n",
      "        \"title\": {\n",
      "          \"x\": 0.05\n",
      "        },\n",
      "        \"mapbox\": {\n",
      "          \"style\": \"light\"\n",
      "        }\n",
      "      }\n",
      "    },\n",
      "    \"xaxis\": {\n",
      "      \"anchor\": \"y\",\n",
      "      \"domain\": [\n",
      "        0.0,\n",
      "        1.0\n",
      "      ],\n",
      "      \"title\": {\n",
      "        \"text\": \"nation\"\n",
      "      }\n",
      "    },\n",
      "    \"yaxis\": {\n",
      "      \"anchor\": \"x\",\n",
      "      \"domain\": [\n",
      "        0.0,\n",
      "        1.0\n",
      "      ],\n",
      "      \"title\": {\n",
      "        \"text\": \"count\"\n",
      "      }\n",
      "    },\n",
      "    \"legend\": {\n",
      "      \"title\": {\n",
      "        \"text\": \"medal\"\n",
      "      },\n",
      "      \"tracegroupgap\": 0\n",
      "    },\n",
      "    \"title\": {\n",
      "      \"text\": \"Long-Form Input\"\n",
      "    },\n",
      "    \"barmode\": \"relative\"\n",
      "  }\n",
      "}\n"
     ]
    }
   ],
   "source": [
    "bg4_json = io.to_json(bar_graph4,pretty=\"True\")\n",
    "print(bg4_json)"
   ]
  },
  {
   "cell_type": "code",
   "execution_count": 87,
   "id": "5ddde6bc",
   "metadata": {},
   "outputs": [
    {
     "data": {
      "application/vnd.plotly.v1+json": {
       "config": {
        "plotlyServerURL": "https://plot.ly"
       },
       "data": [
        {
         "alignmentgroup": "True",
         "customdata": [
          [
           69.12,
           10039.59564
          ],
          [
           70.33,
           10949.64959
          ],
          [
           70.93,
           12217.22686
          ],
          [
           71.1,
           14526.12465
          ],
          [
           71.93,
           16788.62948
          ],
          [
           73.49,
           18334.19751
          ],
          [
           74.74,
           19477.00928
          ],
          [
           76.32,
           21888.88903
          ],
          [
           77.56,
           23424.76683
          ],
          [
           78.83,
           26997.93657
          ],
          [
           80.37,
           30687.75473
          ],
          [
           81.235,
           34435.367439999995
          ]
         ],
         "hovertemplate": "country=Australia<br>year=%{x}<br>population of Canada=%{y}<br>lifeExp=%{customdata[0]}<br>gdpPercap=%{customdata[1]}<extra></extra>",
         "legendgroup": "Australia",
         "marker": {
          "color": "#636efa",
          "pattern": {
           "shape": ""
          }
         },
         "name": "Australia",
         "offsetgroup": "Australia",
         "orientation": "v",
         "showlegend": true,
         "textposition": "auto",
         "type": "bar",
         "x": [
          1952,
          1957,
          1962,
          1967,
          1972,
          1977,
          1982,
          1987,
          1992,
          1997,
          2002,
          2007
         ],
         "xaxis": "x",
         "y": [
          8691212,
          9712569,
          10794968,
          11872264,
          13177000,
          14074100,
          15184200,
          16257249,
          17481977,
          18565243,
          19546792,
          20434176
         ],
         "yaxis": "y"
        },
        {
         "alignmentgroup": "True",
         "customdata": [
          [
           69.39,
           10556.57566
          ],
          [
           70.26,
           12247.39532
          ],
          [
           71.24,
           13175.678
          ],
          [
           71.52,
           14463.918930000002
          ],
          [
           71.89,
           16046.03728
          ],
          [
           72.22,
           16233.7177
          ],
          [
           73.84,
           17632.4104
          ],
          [
           74.32,
           19007.19129
          ],
          [
           76.33,
           18363.32494
          ],
          [
           77.55,
           21050.41377
          ],
          [
           79.11,
           23189.80135
          ],
          [
           80.204,
           25185.00911
          ]
         ],
         "hovertemplate": "country=New Zealand<br>year=%{x}<br>population of Canada=%{y}<br>lifeExp=%{customdata[0]}<br>gdpPercap=%{customdata[1]}<extra></extra>",
         "legendgroup": "New Zealand",
         "marker": {
          "color": "#EF553B",
          "pattern": {
           "shape": ""
          }
         },
         "name": "New Zealand",
         "offsetgroup": "New Zealand",
         "orientation": "v",
         "showlegend": true,
         "textposition": "auto",
         "type": "bar",
         "x": [
          1952,
          1957,
          1962,
          1967,
          1972,
          1977,
          1982,
          1987,
          1992,
          1997,
          2002,
          2007
         ],
         "xaxis": "x",
         "y": [
          1994794,
          2229407,
          2488550,
          2728150,
          2929100,
          3164900,
          3210650,
          3317166,
          3437674,
          3676187,
          3908037,
          4115771
         ],
         "yaxis": "y"
        }
       ],
       "layout": {
        "barmode": "relative",
        "height": 400,
        "legend": {
         "title": {
          "text": "country"
         },
         "tracegroupgap": 0
        },
        "margin": {
         "t": 60
        },
        "template": {
         "data": {
          "bar": [
           {
            "error_x": {
             "color": "#2a3f5f"
            },
            "error_y": {
             "color": "#2a3f5f"
            },
            "marker": {
             "line": {
              "color": "#E5ECF6",
              "width": 0.5
             },
             "pattern": {
              "fillmode": "overlay",
              "size": 10,
              "solidity": 0.2
             }
            },
            "type": "bar"
           }
          ],
          "barpolar": [
           {
            "marker": {
             "line": {
              "color": "#E5ECF6",
              "width": 0.5
             },
             "pattern": {
              "fillmode": "overlay",
              "size": 10,
              "solidity": 0.2
             }
            },
            "type": "barpolar"
           }
          ],
          "carpet": [
           {
            "aaxis": {
             "endlinecolor": "#2a3f5f",
             "gridcolor": "white",
             "linecolor": "white",
             "minorgridcolor": "white",
             "startlinecolor": "#2a3f5f"
            },
            "baxis": {
             "endlinecolor": "#2a3f5f",
             "gridcolor": "white",
             "linecolor": "white",
             "minorgridcolor": "white",
             "startlinecolor": "#2a3f5f"
            },
            "type": "carpet"
           }
          ],
          "choropleth": [
           {
            "colorbar": {
             "outlinewidth": 0,
             "ticks": ""
            },
            "type": "choropleth"
           }
          ],
          "contour": [
           {
            "colorbar": {
             "outlinewidth": 0,
             "ticks": ""
            },
            "colorscale": [
             [
              0,
              "#0d0887"
             ],
             [
              0.1111111111111111,
              "#46039f"
             ],
             [
              0.2222222222222222,
              "#7201a8"
             ],
             [
              0.3333333333333333,
              "#9c179e"
             ],
             [
              0.4444444444444444,
              "#bd3786"
             ],
             [
              0.5555555555555556,
              "#d8576b"
             ],
             [
              0.6666666666666666,
              "#ed7953"
             ],
             [
              0.7777777777777778,
              "#fb9f3a"
             ],
             [
              0.8888888888888888,
              "#fdca26"
             ],
             [
              1,
              "#f0f921"
             ]
            ],
            "type": "contour"
           }
          ],
          "contourcarpet": [
           {
            "colorbar": {
             "outlinewidth": 0,
             "ticks": ""
            },
            "type": "contourcarpet"
           }
          ],
          "heatmap": [
           {
            "colorbar": {
             "outlinewidth": 0,
             "ticks": ""
            },
            "colorscale": [
             [
              0,
              "#0d0887"
             ],
             [
              0.1111111111111111,
              "#46039f"
             ],
             [
              0.2222222222222222,
              "#7201a8"
             ],
             [
              0.3333333333333333,
              "#9c179e"
             ],
             [
              0.4444444444444444,
              "#bd3786"
             ],
             [
              0.5555555555555556,
              "#d8576b"
             ],
             [
              0.6666666666666666,
              "#ed7953"
             ],
             [
              0.7777777777777778,
              "#fb9f3a"
             ],
             [
              0.8888888888888888,
              "#fdca26"
             ],
             [
              1,
              "#f0f921"
             ]
            ],
            "type": "heatmap"
           }
          ],
          "heatmapgl": [
           {
            "colorbar": {
             "outlinewidth": 0,
             "ticks": ""
            },
            "colorscale": [
             [
              0,
              "#0d0887"
             ],
             [
              0.1111111111111111,
              "#46039f"
             ],
             [
              0.2222222222222222,
              "#7201a8"
             ],
             [
              0.3333333333333333,
              "#9c179e"
             ],
             [
              0.4444444444444444,
              "#bd3786"
             ],
             [
              0.5555555555555556,
              "#d8576b"
             ],
             [
              0.6666666666666666,
              "#ed7953"
             ],
             [
              0.7777777777777778,
              "#fb9f3a"
             ],
             [
              0.8888888888888888,
              "#fdca26"
             ],
             [
              1,
              "#f0f921"
             ]
            ],
            "type": "heatmapgl"
           }
          ],
          "histogram": [
           {
            "marker": {
             "pattern": {
              "fillmode": "overlay",
              "size": 10,
              "solidity": 0.2
             }
            },
            "type": "histogram"
           }
          ],
          "histogram2d": [
           {
            "colorbar": {
             "outlinewidth": 0,
             "ticks": ""
            },
            "colorscale": [
             [
              0,
              "#0d0887"
             ],
             [
              0.1111111111111111,
              "#46039f"
             ],
             [
              0.2222222222222222,
              "#7201a8"
             ],
             [
              0.3333333333333333,
              "#9c179e"
             ],
             [
              0.4444444444444444,
              "#bd3786"
             ],
             [
              0.5555555555555556,
              "#d8576b"
             ],
             [
              0.6666666666666666,
              "#ed7953"
             ],
             [
              0.7777777777777778,
              "#fb9f3a"
             ],
             [
              0.8888888888888888,
              "#fdca26"
             ],
             [
              1,
              "#f0f921"
             ]
            ],
            "type": "histogram2d"
           }
          ],
          "histogram2dcontour": [
           {
            "colorbar": {
             "outlinewidth": 0,
             "ticks": ""
            },
            "colorscale": [
             [
              0,
              "#0d0887"
             ],
             [
              0.1111111111111111,
              "#46039f"
             ],
             [
              0.2222222222222222,
              "#7201a8"
             ],
             [
              0.3333333333333333,
              "#9c179e"
             ],
             [
              0.4444444444444444,
              "#bd3786"
             ],
             [
              0.5555555555555556,
              "#d8576b"
             ],
             [
              0.6666666666666666,
              "#ed7953"
             ],
             [
              0.7777777777777778,
              "#fb9f3a"
             ],
             [
              0.8888888888888888,
              "#fdca26"
             ],
             [
              1,
              "#f0f921"
             ]
            ],
            "type": "histogram2dcontour"
           }
          ],
          "mesh3d": [
           {
            "colorbar": {
             "outlinewidth": 0,
             "ticks": ""
            },
            "type": "mesh3d"
           }
          ],
          "parcoords": [
           {
            "line": {
             "colorbar": {
              "outlinewidth": 0,
              "ticks": ""
             }
            },
            "type": "parcoords"
           }
          ],
          "pie": [
           {
            "automargin": true,
            "type": "pie"
           }
          ],
          "scatter": [
           {
            "fillpattern": {
             "fillmode": "overlay",
             "size": 10,
             "solidity": 0.2
            },
            "type": "scatter"
           }
          ],
          "scatter3d": [
           {
            "line": {
             "colorbar": {
              "outlinewidth": 0,
              "ticks": ""
             }
            },
            "marker": {
             "colorbar": {
              "outlinewidth": 0,
              "ticks": ""
             }
            },
            "type": "scatter3d"
           }
          ],
          "scattercarpet": [
           {
            "marker": {
             "colorbar": {
              "outlinewidth": 0,
              "ticks": ""
             }
            },
            "type": "scattercarpet"
           }
          ],
          "scattergeo": [
           {
            "marker": {
             "colorbar": {
              "outlinewidth": 0,
              "ticks": ""
             }
            },
            "type": "scattergeo"
           }
          ],
          "scattergl": [
           {
            "marker": {
             "colorbar": {
              "outlinewidth": 0,
              "ticks": ""
             }
            },
            "type": "scattergl"
           }
          ],
          "scattermapbox": [
           {
            "marker": {
             "colorbar": {
              "outlinewidth": 0,
              "ticks": ""
             }
            },
            "type": "scattermapbox"
           }
          ],
          "scatterpolar": [
           {
            "marker": {
             "colorbar": {
              "outlinewidth": 0,
              "ticks": ""
             }
            },
            "type": "scatterpolar"
           }
          ],
          "scatterpolargl": [
           {
            "marker": {
             "colorbar": {
              "outlinewidth": 0,
              "ticks": ""
             }
            },
            "type": "scatterpolargl"
           }
          ],
          "scatterternary": [
           {
            "marker": {
             "colorbar": {
              "outlinewidth": 0,
              "ticks": ""
             }
            },
            "type": "scatterternary"
           }
          ],
          "surface": [
           {
            "colorbar": {
             "outlinewidth": 0,
             "ticks": ""
            },
            "colorscale": [
             [
              0,
              "#0d0887"
             ],
             [
              0.1111111111111111,
              "#46039f"
             ],
             [
              0.2222222222222222,
              "#7201a8"
             ],
             [
              0.3333333333333333,
              "#9c179e"
             ],
             [
              0.4444444444444444,
              "#bd3786"
             ],
             [
              0.5555555555555556,
              "#d8576b"
             ],
             [
              0.6666666666666666,
              "#ed7953"
             ],
             [
              0.7777777777777778,
              "#fb9f3a"
             ],
             [
              0.8888888888888888,
              "#fdca26"
             ],
             [
              1,
              "#f0f921"
             ]
            ],
            "type": "surface"
           }
          ],
          "table": [
           {
            "cells": {
             "fill": {
              "color": "#EBF0F8"
             },
             "line": {
              "color": "white"
             }
            },
            "header": {
             "fill": {
              "color": "#C8D4E3"
             },
             "line": {
              "color": "white"
             }
            },
            "type": "table"
           }
          ]
         },
         "layout": {
          "annotationdefaults": {
           "arrowcolor": "#2a3f5f",
           "arrowhead": 0,
           "arrowwidth": 1
          },
          "autotypenumbers": "strict",
          "coloraxis": {
           "colorbar": {
            "outlinewidth": 0,
            "ticks": ""
           }
          },
          "colorscale": {
           "diverging": [
            [
             0,
             "#8e0152"
            ],
            [
             0.1,
             "#c51b7d"
            ],
            [
             0.2,
             "#de77ae"
            ],
            [
             0.3,
             "#f1b6da"
            ],
            [
             0.4,
             "#fde0ef"
            ],
            [
             0.5,
             "#f7f7f7"
            ],
            [
             0.6,
             "#e6f5d0"
            ],
            [
             0.7,
             "#b8e186"
            ],
            [
             0.8,
             "#7fbc41"
            ],
            [
             0.9,
             "#4d9221"
            ],
            [
             1,
             "#276419"
            ]
           ],
           "sequential": [
            [
             0,
             "#0d0887"
            ],
            [
             0.1111111111111111,
             "#46039f"
            ],
            [
             0.2222222222222222,
             "#7201a8"
            ],
            [
             0.3333333333333333,
             "#9c179e"
            ],
            [
             0.4444444444444444,
             "#bd3786"
            ],
            [
             0.5555555555555556,
             "#d8576b"
            ],
            [
             0.6666666666666666,
             "#ed7953"
            ],
            [
             0.7777777777777778,
             "#fb9f3a"
            ],
            [
             0.8888888888888888,
             "#fdca26"
            ],
            [
             1,
             "#f0f921"
            ]
           ],
           "sequentialminus": [
            [
             0,
             "#0d0887"
            ],
            [
             0.1111111111111111,
             "#46039f"
            ],
            [
             0.2222222222222222,
             "#7201a8"
            ],
            [
             0.3333333333333333,
             "#9c179e"
            ],
            [
             0.4444444444444444,
             "#bd3786"
            ],
            [
             0.5555555555555556,
             "#d8576b"
            ],
            [
             0.6666666666666666,
             "#ed7953"
            ],
            [
             0.7777777777777778,
             "#fb9f3a"
            ],
            [
             0.8888888888888888,
             "#fdca26"
            ],
            [
             1,
             "#f0f921"
            ]
           ]
          },
          "colorway": [
           "#636efa",
           "#EF553B",
           "#00cc96",
           "#ab63fa",
           "#FFA15A",
           "#19d3f3",
           "#FF6692",
           "#B6E880",
           "#FF97FF",
           "#FECB52"
          ],
          "font": {
           "color": "#2a3f5f"
          },
          "geo": {
           "bgcolor": "white",
           "lakecolor": "white",
           "landcolor": "#E5ECF6",
           "showlakes": true,
           "showland": true,
           "subunitcolor": "white"
          },
          "hoverlabel": {
           "align": "left"
          },
          "hovermode": "closest",
          "mapbox": {
           "style": "light"
          },
          "paper_bgcolor": "white",
          "plot_bgcolor": "#E5ECF6",
          "polar": {
           "angularaxis": {
            "gridcolor": "white",
            "linecolor": "white",
            "ticks": ""
           },
           "bgcolor": "#E5ECF6",
           "radialaxis": {
            "gridcolor": "white",
            "linecolor": "white",
            "ticks": ""
           }
          },
          "scene": {
           "xaxis": {
            "backgroundcolor": "#E5ECF6",
            "gridcolor": "white",
            "gridwidth": 2,
            "linecolor": "white",
            "showbackground": true,
            "ticks": "",
            "zerolinecolor": "white"
           },
           "yaxis": {
            "backgroundcolor": "#E5ECF6",
            "gridcolor": "white",
            "gridwidth": 2,
            "linecolor": "white",
            "showbackground": true,
            "ticks": "",
            "zerolinecolor": "white"
           },
           "zaxis": {
            "backgroundcolor": "#E5ECF6",
            "gridcolor": "white",
            "gridwidth": 2,
            "linecolor": "white",
            "showbackground": true,
            "ticks": "",
            "zerolinecolor": "white"
           }
          },
          "shapedefaults": {
           "line": {
            "color": "#2a3f5f"
           }
          },
          "ternary": {
           "aaxis": {
            "gridcolor": "white",
            "linecolor": "white",
            "ticks": ""
           },
           "baxis": {
            "gridcolor": "white",
            "linecolor": "white",
            "ticks": ""
           },
           "bgcolor": "#E5ECF6",
           "caxis": {
            "gridcolor": "white",
            "linecolor": "white",
            "ticks": ""
           }
          },
          "title": {
           "x": 0.05
          },
          "xaxis": {
           "automargin": true,
           "gridcolor": "white",
           "linecolor": "white",
           "ticks": "",
           "title": {
            "standoff": 15
           },
           "zerolinecolor": "white",
           "zerolinewidth": 2
          },
          "yaxis": {
           "automargin": true,
           "gridcolor": "white",
           "linecolor": "white",
           "ticks": "",
           "title": {
            "standoff": 15
           },
           "zerolinecolor": "white",
           "zerolinewidth": 2
          }
         }
        },
        "xaxis": {
         "anchor": "y",
         "domain": [
          0,
          1
         ],
         "title": {
          "text": "year"
         }
        },
        "yaxis": {
         "anchor": "x",
         "domain": [
          0,
          1
         ],
         "title": {
          "text": "population of Canada"
         }
        }
       }
      },
      "text/html": [
       "<div>                            <div id=\"c681a4a7-cae5-4767-ba5d-9c9fb5049f72\" class=\"plotly-graph-div\" style=\"height:400px; width:100%;\"></div>            <script type=\"text/javascript\">                require([\"plotly\"], function(Plotly) {                    window.PLOTLYENV=window.PLOTLYENV || {};                                    if (document.getElementById(\"c681a4a7-cae5-4767-ba5d-9c9fb5049f72\")) {                    Plotly.newPlot(                        \"c681a4a7-cae5-4767-ba5d-9c9fb5049f72\",                        [{\"alignmentgroup\":\"True\",\"customdata\":[[69.12,10039.59564],[70.33,10949.64959],[70.93,12217.22686],[71.1,14526.12465],[71.93,16788.62948],[73.49,18334.19751],[74.74,19477.00928],[76.32,21888.88903],[77.56,23424.76683],[78.83,26997.93657],[80.37,30687.75473],[81.235,34435.367439999995]],\"hovertemplate\":\"country=Australia<br>year=%{x}<br>population of Canada=%{y}<br>lifeExp=%{customdata[0]}<br>gdpPercap=%{customdata[1]}<extra></extra>\",\"legendgroup\":\"Australia\",\"marker\":{\"color\":\"#636efa\",\"pattern\":{\"shape\":\"\"}},\"name\":\"Australia\",\"offsetgroup\":\"Australia\",\"orientation\":\"v\",\"showlegend\":true,\"textposition\":\"auto\",\"x\":[1952,1957,1962,1967,1972,1977,1982,1987,1992,1997,2002,2007],\"xaxis\":\"x\",\"y\":[8691212,9712569,10794968,11872264,13177000,14074100,15184200,16257249,17481977,18565243,19546792,20434176],\"yaxis\":\"y\",\"type\":\"bar\"},{\"alignmentgroup\":\"True\",\"customdata\":[[69.39,10556.57566],[70.26,12247.39532],[71.24,13175.678],[71.52,14463.918930000002],[71.89,16046.03728],[72.22,16233.7177],[73.84,17632.4104],[74.32,19007.19129],[76.33,18363.32494],[77.55,21050.41377],[79.11,23189.80135],[80.204,25185.00911]],\"hovertemplate\":\"country=New Zealand<br>year=%{x}<br>population of Canada=%{y}<br>lifeExp=%{customdata[0]}<br>gdpPercap=%{customdata[1]}<extra></extra>\",\"legendgroup\":\"New Zealand\",\"marker\":{\"color\":\"#EF553B\",\"pattern\":{\"shape\":\"\"}},\"name\":\"New Zealand\",\"offsetgroup\":\"New Zealand\",\"orientation\":\"v\",\"showlegend\":true,\"textposition\":\"auto\",\"x\":[1952,1957,1962,1967,1972,1977,1982,1987,1992,1997,2002,2007],\"xaxis\":\"x\",\"y\":[1994794,2229407,2488550,2728150,2929100,3164900,3210650,3317166,3437674,3676187,3908037,4115771],\"yaxis\":\"y\",\"type\":\"bar\"}],                        {\"template\":{\"data\":{\"histogram2dcontour\":[{\"type\":\"histogram2dcontour\",\"colorbar\":{\"outlinewidth\":0,\"ticks\":\"\"},\"colorscale\":[[0.0,\"#0d0887\"],[0.1111111111111111,\"#46039f\"],[0.2222222222222222,\"#7201a8\"],[0.3333333333333333,\"#9c179e\"],[0.4444444444444444,\"#bd3786\"],[0.5555555555555556,\"#d8576b\"],[0.6666666666666666,\"#ed7953\"],[0.7777777777777778,\"#fb9f3a\"],[0.8888888888888888,\"#fdca26\"],[1.0,\"#f0f921\"]]}],\"choropleth\":[{\"type\":\"choropleth\",\"colorbar\":{\"outlinewidth\":0,\"ticks\":\"\"}}],\"histogram2d\":[{\"type\":\"histogram2d\",\"colorbar\":{\"outlinewidth\":0,\"ticks\":\"\"},\"colorscale\":[[0.0,\"#0d0887\"],[0.1111111111111111,\"#46039f\"],[0.2222222222222222,\"#7201a8\"],[0.3333333333333333,\"#9c179e\"],[0.4444444444444444,\"#bd3786\"],[0.5555555555555556,\"#d8576b\"],[0.6666666666666666,\"#ed7953\"],[0.7777777777777778,\"#fb9f3a\"],[0.8888888888888888,\"#fdca26\"],[1.0,\"#f0f921\"]]}],\"heatmap\":[{\"type\":\"heatmap\",\"colorbar\":{\"outlinewidth\":0,\"ticks\":\"\"},\"colorscale\":[[0.0,\"#0d0887\"],[0.1111111111111111,\"#46039f\"],[0.2222222222222222,\"#7201a8\"],[0.3333333333333333,\"#9c179e\"],[0.4444444444444444,\"#bd3786\"],[0.5555555555555556,\"#d8576b\"],[0.6666666666666666,\"#ed7953\"],[0.7777777777777778,\"#fb9f3a\"],[0.8888888888888888,\"#fdca26\"],[1.0,\"#f0f921\"]]}],\"heatmapgl\":[{\"type\":\"heatmapgl\",\"colorbar\":{\"outlinewidth\":0,\"ticks\":\"\"},\"colorscale\":[[0.0,\"#0d0887\"],[0.1111111111111111,\"#46039f\"],[0.2222222222222222,\"#7201a8\"],[0.3333333333333333,\"#9c179e\"],[0.4444444444444444,\"#bd3786\"],[0.5555555555555556,\"#d8576b\"],[0.6666666666666666,\"#ed7953\"],[0.7777777777777778,\"#fb9f3a\"],[0.8888888888888888,\"#fdca26\"],[1.0,\"#f0f921\"]]}],\"contourcarpet\":[{\"type\":\"contourcarpet\",\"colorbar\":{\"outlinewidth\":0,\"ticks\":\"\"}}],\"contour\":[{\"type\":\"contour\",\"colorbar\":{\"outlinewidth\":0,\"ticks\":\"\"},\"colorscale\":[[0.0,\"#0d0887\"],[0.1111111111111111,\"#46039f\"],[0.2222222222222222,\"#7201a8\"],[0.3333333333333333,\"#9c179e\"],[0.4444444444444444,\"#bd3786\"],[0.5555555555555556,\"#d8576b\"],[0.6666666666666666,\"#ed7953\"],[0.7777777777777778,\"#fb9f3a\"],[0.8888888888888888,\"#fdca26\"],[1.0,\"#f0f921\"]]}],\"surface\":[{\"type\":\"surface\",\"colorbar\":{\"outlinewidth\":0,\"ticks\":\"\"},\"colorscale\":[[0.0,\"#0d0887\"],[0.1111111111111111,\"#46039f\"],[0.2222222222222222,\"#7201a8\"],[0.3333333333333333,\"#9c179e\"],[0.4444444444444444,\"#bd3786\"],[0.5555555555555556,\"#d8576b\"],[0.6666666666666666,\"#ed7953\"],[0.7777777777777778,\"#fb9f3a\"],[0.8888888888888888,\"#fdca26\"],[1.0,\"#f0f921\"]]}],\"mesh3d\":[{\"type\":\"mesh3d\",\"colorbar\":{\"outlinewidth\":0,\"ticks\":\"\"}}],\"scatter\":[{\"fillpattern\":{\"fillmode\":\"overlay\",\"size\":10,\"solidity\":0.2},\"type\":\"scatter\"}],\"parcoords\":[{\"type\":\"parcoords\",\"line\":{\"colorbar\":{\"outlinewidth\":0,\"ticks\":\"\"}}}],\"scatterpolargl\":[{\"type\":\"scatterpolargl\",\"marker\":{\"colorbar\":{\"outlinewidth\":0,\"ticks\":\"\"}}}],\"bar\":[{\"error_x\":{\"color\":\"#2a3f5f\"},\"error_y\":{\"color\":\"#2a3f5f\"},\"marker\":{\"line\":{\"color\":\"#E5ECF6\",\"width\":0.5},\"pattern\":{\"fillmode\":\"overlay\",\"size\":10,\"solidity\":0.2}},\"type\":\"bar\"}],\"scattergeo\":[{\"type\":\"scattergeo\",\"marker\":{\"colorbar\":{\"outlinewidth\":0,\"ticks\":\"\"}}}],\"scatterpolar\":[{\"type\":\"scatterpolar\",\"marker\":{\"colorbar\":{\"outlinewidth\":0,\"ticks\":\"\"}}}],\"histogram\":[{\"marker\":{\"pattern\":{\"fillmode\":\"overlay\",\"size\":10,\"solidity\":0.2}},\"type\":\"histogram\"}],\"scattergl\":[{\"type\":\"scattergl\",\"marker\":{\"colorbar\":{\"outlinewidth\":0,\"ticks\":\"\"}}}],\"scatter3d\":[{\"type\":\"scatter3d\",\"line\":{\"colorbar\":{\"outlinewidth\":0,\"ticks\":\"\"}},\"marker\":{\"colorbar\":{\"outlinewidth\":0,\"ticks\":\"\"}}}],\"scattermapbox\":[{\"type\":\"scattermapbox\",\"marker\":{\"colorbar\":{\"outlinewidth\":0,\"ticks\":\"\"}}}],\"scatterternary\":[{\"type\":\"scatterternary\",\"marker\":{\"colorbar\":{\"outlinewidth\":0,\"ticks\":\"\"}}}],\"scattercarpet\":[{\"type\":\"scattercarpet\",\"marker\":{\"colorbar\":{\"outlinewidth\":0,\"ticks\":\"\"}}}],\"carpet\":[{\"aaxis\":{\"endlinecolor\":\"#2a3f5f\",\"gridcolor\":\"white\",\"linecolor\":\"white\",\"minorgridcolor\":\"white\",\"startlinecolor\":\"#2a3f5f\"},\"baxis\":{\"endlinecolor\":\"#2a3f5f\",\"gridcolor\":\"white\",\"linecolor\":\"white\",\"minorgridcolor\":\"white\",\"startlinecolor\":\"#2a3f5f\"},\"type\":\"carpet\"}],\"table\":[{\"cells\":{\"fill\":{\"color\":\"#EBF0F8\"},\"line\":{\"color\":\"white\"}},\"header\":{\"fill\":{\"color\":\"#C8D4E3\"},\"line\":{\"color\":\"white\"}},\"type\":\"table\"}],\"barpolar\":[{\"marker\":{\"line\":{\"color\":\"#E5ECF6\",\"width\":0.5},\"pattern\":{\"fillmode\":\"overlay\",\"size\":10,\"solidity\":0.2}},\"type\":\"barpolar\"}],\"pie\":[{\"automargin\":true,\"type\":\"pie\"}]},\"layout\":{\"autotypenumbers\":\"strict\",\"colorway\":[\"#636efa\",\"#EF553B\",\"#00cc96\",\"#ab63fa\",\"#FFA15A\",\"#19d3f3\",\"#FF6692\",\"#B6E880\",\"#FF97FF\",\"#FECB52\"],\"font\":{\"color\":\"#2a3f5f\"},\"hovermode\":\"closest\",\"hoverlabel\":{\"align\":\"left\"},\"paper_bgcolor\":\"white\",\"plot_bgcolor\":\"#E5ECF6\",\"polar\":{\"bgcolor\":\"#E5ECF6\",\"angularaxis\":{\"gridcolor\":\"white\",\"linecolor\":\"white\",\"ticks\":\"\"},\"radialaxis\":{\"gridcolor\":\"white\",\"linecolor\":\"white\",\"ticks\":\"\"}},\"ternary\":{\"bgcolor\":\"#E5ECF6\",\"aaxis\":{\"gridcolor\":\"white\",\"linecolor\":\"white\",\"ticks\":\"\"},\"baxis\":{\"gridcolor\":\"white\",\"linecolor\":\"white\",\"ticks\":\"\"},\"caxis\":{\"gridcolor\":\"white\",\"linecolor\":\"white\",\"ticks\":\"\"}},\"coloraxis\":{\"colorbar\":{\"outlinewidth\":0,\"ticks\":\"\"}},\"colorscale\":{\"sequential\":[[0.0,\"#0d0887\"],[0.1111111111111111,\"#46039f\"],[0.2222222222222222,\"#7201a8\"],[0.3333333333333333,\"#9c179e\"],[0.4444444444444444,\"#bd3786\"],[0.5555555555555556,\"#d8576b\"],[0.6666666666666666,\"#ed7953\"],[0.7777777777777778,\"#fb9f3a\"],[0.8888888888888888,\"#fdca26\"],[1.0,\"#f0f921\"]],\"sequentialminus\":[[0.0,\"#0d0887\"],[0.1111111111111111,\"#46039f\"],[0.2222222222222222,\"#7201a8\"],[0.3333333333333333,\"#9c179e\"],[0.4444444444444444,\"#bd3786\"],[0.5555555555555556,\"#d8576b\"],[0.6666666666666666,\"#ed7953\"],[0.7777777777777778,\"#fb9f3a\"],[0.8888888888888888,\"#fdca26\"],[1.0,\"#f0f921\"]],\"diverging\":[[0,\"#8e0152\"],[0.1,\"#c51b7d\"],[0.2,\"#de77ae\"],[0.3,\"#f1b6da\"],[0.4,\"#fde0ef\"],[0.5,\"#f7f7f7\"],[0.6,\"#e6f5d0\"],[0.7,\"#b8e186\"],[0.8,\"#7fbc41\"],[0.9,\"#4d9221\"],[1,\"#276419\"]]},\"xaxis\":{\"gridcolor\":\"white\",\"linecolor\":\"white\",\"ticks\":\"\",\"title\":{\"standoff\":15},\"zerolinecolor\":\"white\",\"automargin\":true,\"zerolinewidth\":2},\"yaxis\":{\"gridcolor\":\"white\",\"linecolor\":\"white\",\"ticks\":\"\",\"title\":{\"standoff\":15},\"zerolinecolor\":\"white\",\"automargin\":true,\"zerolinewidth\":2},\"scene\":{\"xaxis\":{\"backgroundcolor\":\"#E5ECF6\",\"gridcolor\":\"white\",\"linecolor\":\"white\",\"showbackground\":true,\"ticks\":\"\",\"zerolinecolor\":\"white\",\"gridwidth\":2},\"yaxis\":{\"backgroundcolor\":\"#E5ECF6\",\"gridcolor\":\"white\",\"linecolor\":\"white\",\"showbackground\":true,\"ticks\":\"\",\"zerolinecolor\":\"white\",\"gridwidth\":2},\"zaxis\":{\"backgroundcolor\":\"#E5ECF6\",\"gridcolor\":\"white\",\"linecolor\":\"white\",\"showbackground\":true,\"ticks\":\"\",\"zerolinecolor\":\"white\",\"gridwidth\":2}},\"shapedefaults\":{\"line\":{\"color\":\"#2a3f5f\"}},\"annotationdefaults\":{\"arrowcolor\":\"#2a3f5f\",\"arrowhead\":0,\"arrowwidth\":1},\"geo\":{\"bgcolor\":\"white\",\"landcolor\":\"#E5ECF6\",\"subunitcolor\":\"white\",\"showland\":true,\"showlakes\":true,\"lakecolor\":\"white\"},\"title\":{\"x\":0.05},\"mapbox\":{\"style\":\"light\"}}},\"xaxis\":{\"anchor\":\"y\",\"domain\":[0.0,1.0],\"title\":{\"text\":\"year\"}},\"yaxis\":{\"anchor\":\"x\",\"domain\":[0.0,1.0],\"title\":{\"text\":\"population of Canada\"}},\"legend\":{\"title\":{\"text\":\"country\"},\"tracegroupgap\":0},\"margin\":{\"t\":60},\"barmode\":\"relative\",\"height\":400},                        {\"responsive\": true}                    ).then(function(){\n",
       "                            \n",
       "var gd = document.getElementById('c681a4a7-cae5-4767-ba5d-9c9fb5049f72');\n",
       "var x = new MutationObserver(function (mutations, observer) {{\n",
       "        var display = window.getComputedStyle(gd).display;\n",
       "        if (!display || display === 'none') {{\n",
       "            console.log([gd, 'removed!']);\n",
       "            Plotly.purge(gd);\n",
       "            observer.disconnect();\n",
       "        }}\n",
       "}});\n",
       "\n",
       "// Listen for the removal of the full notebook cells\n",
       "var notebookContainer = gd.closest('#notebook-container');\n",
       "if (notebookContainer) {{\n",
       "    x.observe(notebookContainer, {childList: true});\n",
       "}}\n",
       "\n",
       "// Listen for the clearing of the current output cell\n",
       "var outputEl = gd.closest('.output');\n",
       "if (outputEl) {{\n",
       "    x.observe(outputEl, {childList: true});\n",
       "}}\n",
       "\n",
       "                        })                };                });            </script>        </div>"
      ]
     },
     "metadata": {},
     "output_type": "display_data"
    }
   ],
   "source": [
    "#bar Graph 5\n",
    "df = px.data.gapminder().query(\"continent == 'Oceania'\")\n",
    "bar_graph5 = px.bar(df, x='year', y='pop',\n",
    "             hover_data=['lifeExp', 'gdpPercap'], color='country',\n",
    "             labels={'pop':'population of Canada'}, height=400)\n",
    "bar_graph5.show()"
   ]
  },
  {
   "cell_type": "code",
   "execution_count": 89,
   "id": "164e2982",
   "metadata": {},
   "outputs": [
    {
     "name": "stdout",
     "output_type": "stream",
     "text": [
      "{\n",
      "  \"data\": [\n",
      "    {\n",
      "      \"alignmentgroup\": \"True\",\n",
      "      \"customdata\": [\n",
      "        [\n",
      "          69.12,\n",
      "          10039.59564\n",
      "        ],\n",
      "        [\n",
      "          70.33,\n",
      "          10949.64959\n",
      "        ],\n",
      "        [\n",
      "          70.93,\n",
      "          12217.22686\n",
      "        ],\n",
      "        [\n",
      "          71.1,\n",
      "          14526.12465\n",
      "        ],\n",
      "        [\n",
      "          71.93,\n",
      "          16788.62948\n",
      "        ],\n",
      "        [\n",
      "          73.49,\n",
      "          18334.19751\n",
      "        ],\n",
      "        [\n",
      "          74.74,\n",
      "          19477.00928\n",
      "        ],\n",
      "        [\n",
      "          76.32,\n",
      "          21888.88903\n",
      "        ],\n",
      "        [\n",
      "          77.56,\n",
      "          23424.76683\n",
      "        ],\n",
      "        [\n",
      "          78.83,\n",
      "          26997.93657\n",
      "        ],\n",
      "        [\n",
      "          80.37,\n",
      "          30687.75473\n",
      "        ],\n",
      "        [\n",
      "          81.235,\n",
      "          34435.367439999995\n",
      "        ]\n",
      "      ],\n",
      "      \"hovertemplate\": \"country=Australia<br>year=%{x}<br>population of Canada=%{y}<br>lifeExp=%{customdata[0]}<br>gdpPercap=%{customdata[1]}<extra></extra>\",\n",
      "      \"legendgroup\": \"Australia\",\n",
      "      \"marker\": {\n",
      "        \"color\": \"#636efa\",\n",
      "        \"pattern\": {\n",
      "          \"shape\": \"\"\n",
      "        }\n",
      "      },\n",
      "      \"name\": \"Australia\",\n",
      "      \"offsetgroup\": \"Australia\",\n",
      "      \"orientation\": \"v\",\n",
      "      \"showlegend\": true,\n",
      "      \"textposition\": \"auto\",\n",
      "      \"x\": [\n",
      "        1952,\n",
      "        1957,\n",
      "        1962,\n",
      "        1967,\n",
      "        1972,\n",
      "        1977,\n",
      "        1982,\n",
      "        1987,\n",
      "        1992,\n",
      "        1997,\n",
      "        2002,\n",
      "        2007\n",
      "      ],\n",
      "      \"xaxis\": \"x\",\n",
      "      \"y\": [\n",
      "        8691212,\n",
      "        9712569,\n",
      "        10794968,\n",
      "        11872264,\n",
      "        13177000,\n",
      "        14074100,\n",
      "        15184200,\n",
      "        16257249,\n",
      "        17481977,\n",
      "        18565243,\n",
      "        19546792,\n",
      "        20434176\n",
      "      ],\n",
      "      \"yaxis\": \"y\",\n",
      "      \"type\": \"bar\"\n",
      "    },\n",
      "    {\n",
      "      \"alignmentgroup\": \"True\",\n",
      "      \"customdata\": [\n",
      "        [\n",
      "          69.39,\n",
      "          10556.57566\n",
      "        ],\n",
      "        [\n",
      "          70.26,\n",
      "          12247.39532\n",
      "        ],\n",
      "        [\n",
      "          71.24,\n",
      "          13175.678\n",
      "        ],\n",
      "        [\n",
      "          71.52,\n",
      "          14463.918930000002\n",
      "        ],\n",
      "        [\n",
      "          71.89,\n",
      "          16046.03728\n",
      "        ],\n",
      "        [\n",
      "          72.22,\n",
      "          16233.7177\n",
      "        ],\n",
      "        [\n",
      "          73.84,\n",
      "          17632.4104\n",
      "        ],\n",
      "        [\n",
      "          74.32,\n",
      "          19007.19129\n",
      "        ],\n",
      "        [\n",
      "          76.33,\n",
      "          18363.32494\n",
      "        ],\n",
      "        [\n",
      "          77.55,\n",
      "          21050.41377\n",
      "        ],\n",
      "        [\n",
      "          79.11,\n",
      "          23189.80135\n",
      "        ],\n",
      "        [\n",
      "          80.204,\n",
      "          25185.00911\n",
      "        ]\n",
      "      ],\n",
      "      \"hovertemplate\": \"country=New Zealand<br>year=%{x}<br>population of Canada=%{y}<br>lifeExp=%{customdata[0]}<br>gdpPercap=%{customdata[1]}<extra></extra>\",\n",
      "      \"legendgroup\": \"New Zealand\",\n",
      "      \"marker\": {\n",
      "        \"color\": \"#EF553B\",\n",
      "        \"pattern\": {\n",
      "          \"shape\": \"\"\n",
      "        }\n",
      "      },\n",
      "      \"name\": \"New Zealand\",\n",
      "      \"offsetgroup\": \"New Zealand\",\n",
      "      \"orientation\": \"v\",\n",
      "      \"showlegend\": true,\n",
      "      \"textposition\": \"auto\",\n",
      "      \"x\": [\n",
      "        1952,\n",
      "        1957,\n",
      "        1962,\n",
      "        1967,\n",
      "        1972,\n",
      "        1977,\n",
      "        1982,\n",
      "        1987,\n",
      "        1992,\n",
      "        1997,\n",
      "        2002,\n",
      "        2007\n",
      "      ],\n",
      "      \"xaxis\": \"x\",\n",
      "      \"y\": [\n",
      "        1994794,\n",
      "        2229407,\n",
      "        2488550,\n",
      "        2728150,\n",
      "        2929100,\n",
      "        3164900,\n",
      "        3210650,\n",
      "        3317166,\n",
      "        3437674,\n",
      "        3676187,\n",
      "        3908037,\n",
      "        4115771\n",
      "      ],\n",
      "      \"yaxis\": \"y\",\n",
      "      \"type\": \"bar\"\n",
      "    }\n",
      "  ],\n",
      "  \"layout\": {\n",
      "    \"template\": {\n",
      "      \"data\": {\n",
      "        \"histogram2dcontour\": [\n",
      "          {\n",
      "            \"type\": \"histogram2dcontour\",\n",
      "            \"colorbar\": {\n",
      "              \"outlinewidth\": 0,\n",
      "              \"ticks\": \"\"\n",
      "            },\n",
      "            \"colorscale\": [\n",
      "              [\n",
      "                0.0,\n",
      "                \"#0d0887\"\n",
      "              ],\n",
      "              [\n",
      "                0.1111111111111111,\n",
      "                \"#46039f\"\n",
      "              ],\n",
      "              [\n",
      "                0.2222222222222222,\n",
      "                \"#7201a8\"\n",
      "              ],\n",
      "              [\n",
      "                0.3333333333333333,\n",
      "                \"#9c179e\"\n",
      "              ],\n",
      "              [\n",
      "                0.4444444444444444,\n",
      "                \"#bd3786\"\n",
      "              ],\n",
      "              [\n",
      "                0.5555555555555556,\n",
      "                \"#d8576b\"\n",
      "              ],\n",
      "              [\n",
      "                0.6666666666666666,\n",
      "                \"#ed7953\"\n",
      "              ],\n",
      "              [\n",
      "                0.7777777777777778,\n",
      "                \"#fb9f3a\"\n",
      "              ],\n",
      "              [\n",
      "                0.8888888888888888,\n",
      "                \"#fdca26\"\n",
      "              ],\n",
      "              [\n",
      "                1.0,\n",
      "                \"#f0f921\"\n",
      "              ]\n",
      "            ]\n",
      "          }\n",
      "        ],\n",
      "        \"choropleth\": [\n",
      "          {\n",
      "            \"type\": \"choropleth\",\n",
      "            \"colorbar\": {\n",
      "              \"outlinewidth\": 0,\n",
      "              \"ticks\": \"\"\n",
      "            }\n",
      "          }\n",
      "        ],\n",
      "        \"histogram2d\": [\n",
      "          {\n",
      "            \"type\": \"histogram2d\",\n",
      "            \"colorbar\": {\n",
      "              \"outlinewidth\": 0,\n",
      "              \"ticks\": \"\"\n",
      "            },\n",
      "            \"colorscale\": [\n",
      "              [\n",
      "                0.0,\n",
      "                \"#0d0887\"\n",
      "              ],\n",
      "              [\n",
      "                0.1111111111111111,\n",
      "                \"#46039f\"\n",
      "              ],\n",
      "              [\n",
      "                0.2222222222222222,\n",
      "                \"#7201a8\"\n",
      "              ],\n",
      "              [\n",
      "                0.3333333333333333,\n",
      "                \"#9c179e\"\n",
      "              ],\n",
      "              [\n",
      "                0.4444444444444444,\n",
      "                \"#bd3786\"\n",
      "              ],\n",
      "              [\n",
      "                0.5555555555555556,\n",
      "                \"#d8576b\"\n",
      "              ],\n",
      "              [\n",
      "                0.6666666666666666,\n",
      "                \"#ed7953\"\n",
      "              ],\n",
      "              [\n",
      "                0.7777777777777778,\n",
      "                \"#fb9f3a\"\n",
      "              ],\n",
      "              [\n",
      "                0.8888888888888888,\n",
      "                \"#fdca26\"\n",
      "              ],\n",
      "              [\n",
      "                1.0,\n",
      "                \"#f0f921\"\n",
      "              ]\n",
      "            ]\n",
      "          }\n",
      "        ],\n",
      "        \"heatmap\": [\n",
      "          {\n",
      "            \"type\": \"heatmap\",\n",
      "            \"colorbar\": {\n",
      "              \"outlinewidth\": 0,\n",
      "              \"ticks\": \"\"\n",
      "            },\n",
      "            \"colorscale\": [\n",
      "              [\n",
      "                0.0,\n",
      "                \"#0d0887\"\n",
      "              ],\n",
      "              [\n",
      "                0.1111111111111111,\n",
      "                \"#46039f\"\n",
      "              ],\n",
      "              [\n",
      "                0.2222222222222222,\n",
      "                \"#7201a8\"\n",
      "              ],\n",
      "              [\n",
      "                0.3333333333333333,\n",
      "                \"#9c179e\"\n",
      "              ],\n",
      "              [\n",
      "                0.4444444444444444,\n",
      "                \"#bd3786\"\n",
      "              ],\n",
      "              [\n",
      "                0.5555555555555556,\n",
      "                \"#d8576b\"\n",
      "              ],\n",
      "              [\n",
      "                0.6666666666666666,\n",
      "                \"#ed7953\"\n",
      "              ],\n",
      "              [\n",
      "                0.7777777777777778,\n",
      "                \"#fb9f3a\"\n",
      "              ],\n",
      "              [\n",
      "                0.8888888888888888,\n",
      "                \"#fdca26\"\n",
      "              ],\n",
      "              [\n",
      "                1.0,\n",
      "                \"#f0f921\"\n",
      "              ]\n",
      "            ]\n",
      "          }\n",
      "        ],\n",
      "        \"heatmapgl\": [\n",
      "          {\n",
      "            \"type\": \"heatmapgl\",\n",
      "            \"colorbar\": {\n",
      "              \"outlinewidth\": 0,\n",
      "              \"ticks\": \"\"\n",
      "            },\n",
      "            \"colorscale\": [\n",
      "              [\n",
      "                0.0,\n",
      "                \"#0d0887\"\n",
      "              ],\n",
      "              [\n",
      "                0.1111111111111111,\n",
      "                \"#46039f\"\n",
      "              ],\n",
      "              [\n",
      "                0.2222222222222222,\n",
      "                \"#7201a8\"\n",
      "              ],\n",
      "              [\n",
      "                0.3333333333333333,\n",
      "                \"#9c179e\"\n",
      "              ],\n",
      "              [\n",
      "                0.4444444444444444,\n",
      "                \"#bd3786\"\n",
      "              ],\n",
      "              [\n",
      "                0.5555555555555556,\n",
      "                \"#d8576b\"\n",
      "              ],\n",
      "              [\n",
      "                0.6666666666666666,\n",
      "                \"#ed7953\"\n",
      "              ],\n",
      "              [\n",
      "                0.7777777777777778,\n",
      "                \"#fb9f3a\"\n",
      "              ],\n",
      "              [\n",
      "                0.8888888888888888,\n",
      "                \"#fdca26\"\n",
      "              ],\n",
      "              [\n",
      "                1.0,\n",
      "                \"#f0f921\"\n",
      "              ]\n",
      "            ]\n",
      "          }\n",
      "        ],\n",
      "        \"contourcarpet\": [\n",
      "          {\n",
      "            \"type\": \"contourcarpet\",\n",
      "            \"colorbar\": {\n",
      "              \"outlinewidth\": 0,\n",
      "              \"ticks\": \"\"\n",
      "            }\n",
      "          }\n",
      "        ],\n",
      "        \"contour\": [\n",
      "          {\n",
      "            \"type\": \"contour\",\n",
      "            \"colorbar\": {\n",
      "              \"outlinewidth\": 0,\n",
      "              \"ticks\": \"\"\n",
      "            },\n",
      "            \"colorscale\": [\n",
      "              [\n",
      "                0.0,\n",
      "                \"#0d0887\"\n",
      "              ],\n",
      "              [\n",
      "                0.1111111111111111,\n",
      "                \"#46039f\"\n",
      "              ],\n",
      "              [\n",
      "                0.2222222222222222,\n",
      "                \"#7201a8\"\n",
      "              ],\n",
      "              [\n",
      "                0.3333333333333333,\n",
      "                \"#9c179e\"\n",
      "              ],\n",
      "              [\n",
      "                0.4444444444444444,\n",
      "                \"#bd3786\"\n",
      "              ],\n",
      "              [\n",
      "                0.5555555555555556,\n",
      "                \"#d8576b\"\n",
      "              ],\n",
      "              [\n",
      "                0.6666666666666666,\n",
      "                \"#ed7953\"\n",
      "              ],\n",
      "              [\n",
      "                0.7777777777777778,\n",
      "                \"#fb9f3a\"\n",
      "              ],\n",
      "              [\n",
      "                0.8888888888888888,\n",
      "                \"#fdca26\"\n",
      "              ],\n",
      "              [\n",
      "                1.0,\n",
      "                \"#f0f921\"\n",
      "              ]\n",
      "            ]\n",
      "          }\n",
      "        ],\n",
      "        \"surface\": [\n",
      "          {\n",
      "            \"type\": \"surface\",\n",
      "            \"colorbar\": {\n",
      "              \"outlinewidth\": 0,\n",
      "              \"ticks\": \"\"\n",
      "            },\n",
      "            \"colorscale\": [\n",
      "              [\n",
      "                0.0,\n",
      "                \"#0d0887\"\n",
      "              ],\n",
      "              [\n",
      "                0.1111111111111111,\n",
      "                \"#46039f\"\n",
      "              ],\n",
      "              [\n",
      "                0.2222222222222222,\n",
      "                \"#7201a8\"\n",
      "              ],\n",
      "              [\n",
      "                0.3333333333333333,\n",
      "                \"#9c179e\"\n",
      "              ],\n",
      "              [\n",
      "                0.4444444444444444,\n",
      "                \"#bd3786\"\n",
      "              ],\n",
      "              [\n",
      "                0.5555555555555556,\n",
      "                \"#d8576b\"\n",
      "              ],\n",
      "              [\n",
      "                0.6666666666666666,\n",
      "                \"#ed7953\"\n",
      "              ],\n",
      "              [\n",
      "                0.7777777777777778,\n",
      "                \"#fb9f3a\"\n",
      "              ],\n",
      "              [\n",
      "                0.8888888888888888,\n",
      "                \"#fdca26\"\n",
      "              ],\n",
      "              [\n",
      "                1.0,\n",
      "                \"#f0f921\"\n",
      "              ]\n",
      "            ]\n",
      "          }\n",
      "        ],\n",
      "        \"mesh3d\": [\n",
      "          {\n",
      "            \"type\": \"mesh3d\",\n",
      "            \"colorbar\": {\n",
      "              \"outlinewidth\": 0,\n",
      "              \"ticks\": \"\"\n",
      "            }\n",
      "          }\n",
      "        ],\n",
      "        \"scatter\": [\n",
      "          {\n",
      "            \"fillpattern\": {\n",
      "              \"fillmode\": \"overlay\",\n",
      "              \"size\": 10,\n",
      "              \"solidity\": 0.2\n",
      "            },\n",
      "            \"type\": \"scatter\"\n",
      "          }\n",
      "        ],\n",
      "        \"parcoords\": [\n",
      "          {\n",
      "            \"type\": \"parcoords\",\n",
      "            \"line\": {\n",
      "              \"colorbar\": {\n",
      "                \"outlinewidth\": 0,\n",
      "                \"ticks\": \"\"\n",
      "              }\n",
      "            }\n",
      "          }\n",
      "        ],\n",
      "        \"scatterpolargl\": [\n",
      "          {\n",
      "            \"type\": \"scatterpolargl\",\n",
      "            \"marker\": {\n",
      "              \"colorbar\": {\n",
      "                \"outlinewidth\": 0,\n",
      "                \"ticks\": \"\"\n",
      "              }\n",
      "            }\n",
      "          }\n",
      "        ],\n",
      "        \"bar\": [\n",
      "          {\n",
      "            \"error_x\": {\n",
      "              \"color\": \"#2a3f5f\"\n",
      "            },\n",
      "            \"error_y\": {\n",
      "              \"color\": \"#2a3f5f\"\n",
      "            },\n",
      "            \"marker\": {\n",
      "              \"line\": {\n",
      "                \"color\": \"#E5ECF6\",\n",
      "                \"width\": 0.5\n",
      "              },\n",
      "              \"pattern\": {\n",
      "                \"fillmode\": \"overlay\",\n",
      "                \"size\": 10,\n",
      "                \"solidity\": 0.2\n",
      "              }\n",
      "            },\n",
      "            \"type\": \"bar\"\n",
      "          }\n",
      "        ],\n",
      "        \"scattergeo\": [\n",
      "          {\n",
      "            \"type\": \"scattergeo\",\n",
      "            \"marker\": {\n",
      "              \"colorbar\": {\n",
      "                \"outlinewidth\": 0,\n",
      "                \"ticks\": \"\"\n",
      "              }\n",
      "            }\n",
      "          }\n",
      "        ],\n",
      "        \"scatterpolar\": [\n",
      "          {\n",
      "            \"type\": \"scatterpolar\",\n",
      "            \"marker\": {\n",
      "              \"colorbar\": {\n",
      "                \"outlinewidth\": 0,\n",
      "                \"ticks\": \"\"\n",
      "              }\n",
      "            }\n",
      "          }\n",
      "        ],\n",
      "        \"histogram\": [\n",
      "          {\n",
      "            \"marker\": {\n",
      "              \"pattern\": {\n",
      "                \"fillmode\": \"overlay\",\n",
      "                \"size\": 10,\n",
      "                \"solidity\": 0.2\n",
      "              }\n",
      "            },\n",
      "            \"type\": \"histogram\"\n",
      "          }\n",
      "        ],\n",
      "        \"scattergl\": [\n",
      "          {\n",
      "            \"type\": \"scattergl\",\n",
      "            \"marker\": {\n",
      "              \"colorbar\": {\n",
      "                \"outlinewidth\": 0,\n",
      "                \"ticks\": \"\"\n",
      "              }\n",
      "            }\n",
      "          }\n",
      "        ],\n",
      "        \"scatter3d\": [\n",
      "          {\n",
      "            \"type\": \"scatter3d\",\n",
      "            \"line\": {\n",
      "              \"colorbar\": {\n",
      "                \"outlinewidth\": 0,\n",
      "                \"ticks\": \"\"\n",
      "              }\n",
      "            },\n",
      "            \"marker\": {\n",
      "              \"colorbar\": {\n",
      "                \"outlinewidth\": 0,\n",
      "                \"ticks\": \"\"\n",
      "              }\n",
      "            }\n",
      "          }\n",
      "        ],\n",
      "        \"scattermapbox\": [\n",
      "          {\n",
      "            \"type\": \"scattermapbox\",\n",
      "            \"marker\": {\n",
      "              \"colorbar\": {\n",
      "                \"outlinewidth\": 0,\n",
      "                \"ticks\": \"\"\n",
      "              }\n",
      "            }\n",
      "          }\n",
      "        ],\n",
      "        \"scatterternary\": [\n",
      "          {\n",
      "            \"type\": \"scatterternary\",\n",
      "            \"marker\": {\n",
      "              \"colorbar\": {\n",
      "                \"outlinewidth\": 0,\n",
      "                \"ticks\": \"\"\n",
      "              }\n",
      "            }\n",
      "          }\n",
      "        ],\n",
      "        \"scattercarpet\": [\n",
      "          {\n",
      "            \"type\": \"scattercarpet\",\n",
      "            \"marker\": {\n",
      "              \"colorbar\": {\n",
      "                \"outlinewidth\": 0,\n",
      "                \"ticks\": \"\"\n",
      "              }\n",
      "            }\n",
      "          }\n",
      "        ],\n",
      "        \"carpet\": [\n",
      "          {\n",
      "            \"aaxis\": {\n",
      "              \"endlinecolor\": \"#2a3f5f\",\n",
      "              \"gridcolor\": \"white\",\n",
      "              \"linecolor\": \"white\",\n",
      "              \"minorgridcolor\": \"white\",\n",
      "              \"startlinecolor\": \"#2a3f5f\"\n",
      "            },\n",
      "            \"baxis\": {\n",
      "              \"endlinecolor\": \"#2a3f5f\",\n",
      "              \"gridcolor\": \"white\",\n",
      "              \"linecolor\": \"white\",\n",
      "              \"minorgridcolor\": \"white\",\n",
      "              \"startlinecolor\": \"#2a3f5f\"\n",
      "            },\n",
      "            \"type\": \"carpet\"\n",
      "          }\n",
      "        ],\n",
      "        \"table\": [\n",
      "          {\n",
      "            \"cells\": {\n",
      "              \"fill\": {\n",
      "                \"color\": \"#EBF0F8\"\n",
      "              },\n",
      "              \"line\": {\n",
      "                \"color\": \"white\"\n",
      "              }\n",
      "            },\n",
      "            \"header\": {\n",
      "              \"fill\": {\n",
      "                \"color\": \"#C8D4E3\"\n",
      "              },\n",
      "              \"line\": {\n",
      "                \"color\": \"white\"\n",
      "              }\n",
      "            },\n",
      "            \"type\": \"table\"\n",
      "          }\n",
      "        ],\n",
      "        \"barpolar\": [\n",
      "          {\n",
      "            \"marker\": {\n",
      "              \"line\": {\n",
      "                \"color\": \"#E5ECF6\",\n",
      "                \"width\": 0.5\n",
      "              },\n",
      "              \"pattern\": {\n",
      "                \"fillmode\": \"overlay\",\n",
      "                \"size\": 10,\n",
      "                \"solidity\": 0.2\n",
      "              }\n",
      "            },\n",
      "            \"type\": \"barpolar\"\n",
      "          }\n",
      "        ],\n",
      "        \"pie\": [\n",
      "          {\n",
      "            \"automargin\": true,\n",
      "            \"type\": \"pie\"\n",
      "          }\n",
      "        ]\n",
      "      },\n",
      "      \"layout\": {\n",
      "        \"autotypenumbers\": \"strict\",\n",
      "        \"colorway\": [\n",
      "          \"#636efa\",\n",
      "          \"#EF553B\",\n",
      "          \"#00cc96\",\n",
      "          \"#ab63fa\",\n",
      "          \"#FFA15A\",\n",
      "          \"#19d3f3\",\n",
      "          \"#FF6692\",\n",
      "          \"#B6E880\",\n",
      "          \"#FF97FF\",\n",
      "          \"#FECB52\"\n",
      "        ],\n",
      "        \"font\": {\n",
      "          \"color\": \"#2a3f5f\"\n",
      "        },\n",
      "        \"hovermode\": \"closest\",\n",
      "        \"hoverlabel\": {\n",
      "          \"align\": \"left\"\n",
      "        },\n",
      "        \"paper_bgcolor\": \"white\",\n",
      "        \"plot_bgcolor\": \"#E5ECF6\",\n",
      "        \"polar\": {\n",
      "          \"bgcolor\": \"#E5ECF6\",\n",
      "          \"angularaxis\": {\n",
      "            \"gridcolor\": \"white\",\n",
      "            \"linecolor\": \"white\",\n",
      "            \"ticks\": \"\"\n",
      "          },\n",
      "          \"radialaxis\": {\n",
      "            \"gridcolor\": \"white\",\n",
      "            \"linecolor\": \"white\",\n",
      "            \"ticks\": \"\"\n",
      "          }\n",
      "        },\n",
      "        \"ternary\": {\n",
      "          \"bgcolor\": \"#E5ECF6\",\n",
      "          \"aaxis\": {\n",
      "            \"gridcolor\": \"white\",\n",
      "            \"linecolor\": \"white\",\n",
      "            \"ticks\": \"\"\n",
      "          },\n",
      "          \"baxis\": {\n",
      "            \"gridcolor\": \"white\",\n",
      "            \"linecolor\": \"white\",\n",
      "            \"ticks\": \"\"\n",
      "          },\n",
      "          \"caxis\": {\n",
      "            \"gridcolor\": \"white\",\n",
      "            \"linecolor\": \"white\",\n",
      "            \"ticks\": \"\"\n",
      "          }\n",
      "        },\n",
      "        \"coloraxis\": {\n",
      "          \"colorbar\": {\n",
      "            \"outlinewidth\": 0,\n",
      "            \"ticks\": \"\"\n",
      "          }\n",
      "        },\n",
      "        \"colorscale\": {\n",
      "          \"sequential\": [\n",
      "            [\n",
      "              0.0,\n",
      "              \"#0d0887\"\n",
      "            ],\n",
      "            [\n",
      "              0.1111111111111111,\n",
      "              \"#46039f\"\n",
      "            ],\n",
      "            [\n",
      "              0.2222222222222222,\n",
      "              \"#7201a8\"\n",
      "            ],\n",
      "            [\n",
      "              0.3333333333333333,\n",
      "              \"#9c179e\"\n",
      "            ],\n",
      "            [\n",
      "              0.4444444444444444,\n",
      "              \"#bd3786\"\n",
      "            ],\n",
      "            [\n",
      "              0.5555555555555556,\n",
      "              \"#d8576b\"\n",
      "            ],\n",
      "            [\n",
      "              0.6666666666666666,\n",
      "              \"#ed7953\"\n",
      "            ],\n",
      "            [\n",
      "              0.7777777777777778,\n",
      "              \"#fb9f3a\"\n",
      "            ],\n",
      "            [\n",
      "              0.8888888888888888,\n",
      "              \"#fdca26\"\n",
      "            ],\n",
      "            [\n",
      "              1.0,\n",
      "              \"#f0f921\"\n",
      "            ]\n",
      "          ],\n",
      "          \"sequentialminus\": [\n",
      "            [\n",
      "              0.0,\n",
      "              \"#0d0887\"\n",
      "            ],\n",
      "            [\n",
      "              0.1111111111111111,\n",
      "              \"#46039f\"\n",
      "            ],\n",
      "            [\n",
      "              0.2222222222222222,\n",
      "              \"#7201a8\"\n",
      "            ],\n",
      "            [\n",
      "              0.3333333333333333,\n",
      "              \"#9c179e\"\n",
      "            ],\n",
      "            [\n",
      "              0.4444444444444444,\n",
      "              \"#bd3786\"\n",
      "            ],\n",
      "            [\n",
      "              0.5555555555555556,\n",
      "              \"#d8576b\"\n",
      "            ],\n",
      "            [\n",
      "              0.6666666666666666,\n",
      "              \"#ed7953\"\n",
      "            ],\n",
      "            [\n",
      "              0.7777777777777778,\n",
      "              \"#fb9f3a\"\n",
      "            ],\n",
      "            [\n",
      "              0.8888888888888888,\n",
      "              \"#fdca26\"\n",
      "            ],\n",
      "            [\n",
      "              1.0,\n",
      "              \"#f0f921\"\n",
      "            ]\n",
      "          ],\n",
      "          \"diverging\": [\n",
      "            [\n",
      "              0,\n",
      "              \"#8e0152\"\n",
      "            ],\n",
      "            [\n",
      "              0.1,\n",
      "              \"#c51b7d\"\n",
      "            ],\n",
      "            [\n",
      "              0.2,\n",
      "              \"#de77ae\"\n",
      "            ],\n",
      "            [\n",
      "              0.3,\n",
      "              \"#f1b6da\"\n",
      "            ],\n",
      "            [\n",
      "              0.4,\n",
      "              \"#fde0ef\"\n",
      "            ],\n",
      "            [\n",
      "              0.5,\n",
      "              \"#f7f7f7\"\n",
      "            ],\n",
      "            [\n",
      "              0.6,\n",
      "              \"#e6f5d0\"\n",
      "            ],\n",
      "            [\n",
      "              0.7,\n",
      "              \"#b8e186\"\n",
      "            ],\n",
      "            [\n",
      "              0.8,\n",
      "              \"#7fbc41\"\n",
      "            ],\n",
      "            [\n",
      "              0.9,\n",
      "              \"#4d9221\"\n",
      "            ],\n",
      "            [\n",
      "              1,\n",
      "              \"#276419\"\n",
      "            ]\n",
      "          ]\n",
      "        },\n",
      "        \"xaxis\": {\n",
      "          \"gridcolor\": \"white\",\n",
      "          \"linecolor\": \"white\",\n",
      "          \"ticks\": \"\",\n",
      "          \"title\": {\n",
      "            \"standoff\": 15\n",
      "          },\n",
      "          \"zerolinecolor\": \"white\",\n",
      "          \"automargin\": true,\n",
      "          \"zerolinewidth\": 2\n",
      "        },\n",
      "        \"yaxis\": {\n",
      "          \"gridcolor\": \"white\",\n",
      "          \"linecolor\": \"white\",\n",
      "          \"ticks\": \"\",\n",
      "          \"title\": {\n",
      "            \"standoff\": 15\n",
      "          },\n",
      "          \"zerolinecolor\": \"white\",\n",
      "          \"automargin\": true,\n",
      "          \"zerolinewidth\": 2\n",
      "        },\n",
      "        \"scene\": {\n",
      "          \"xaxis\": {\n",
      "            \"backgroundcolor\": \"#E5ECF6\",\n",
      "            \"gridcolor\": \"white\",\n",
      "            \"linecolor\": \"white\",\n",
      "            \"showbackground\": true,\n",
      "            \"ticks\": \"\",\n",
      "            \"zerolinecolor\": \"white\",\n",
      "            \"gridwidth\": 2\n",
      "          },\n",
      "          \"yaxis\": {\n",
      "            \"backgroundcolor\": \"#E5ECF6\",\n",
      "            \"gridcolor\": \"white\",\n",
      "            \"linecolor\": \"white\",\n",
      "            \"showbackground\": true,\n",
      "            \"ticks\": \"\",\n",
      "            \"zerolinecolor\": \"white\",\n",
      "            \"gridwidth\": 2\n",
      "          },\n",
      "          \"zaxis\": {\n",
      "            \"backgroundcolor\": \"#E5ECF6\",\n",
      "            \"gridcolor\": \"white\",\n",
      "            \"linecolor\": \"white\",\n",
      "            \"showbackground\": true,\n",
      "            \"ticks\": \"\",\n",
      "            \"zerolinecolor\": \"white\",\n",
      "            \"gridwidth\": 2\n",
      "          }\n",
      "        },\n",
      "        \"shapedefaults\": {\n",
      "          \"line\": {\n",
      "            \"color\": \"#2a3f5f\"\n",
      "          }\n",
      "        },\n",
      "        \"annotationdefaults\": {\n",
      "          \"arrowcolor\": \"#2a3f5f\",\n",
      "          \"arrowhead\": 0,\n",
      "          \"arrowwidth\": 1\n",
      "        },\n",
      "        \"geo\": {\n",
      "          \"bgcolor\": \"white\",\n",
      "          \"landcolor\": \"#E5ECF6\",\n",
      "          \"subunitcolor\": \"white\",\n",
      "          \"showland\": true,\n",
      "          \"showlakes\": true,\n",
      "          \"lakecolor\": \"white\"\n",
      "        },\n",
      "        \"title\": {\n",
      "          \"x\": 0.05\n",
      "        },\n",
      "        \"mapbox\": {\n",
      "          \"style\": \"light\"\n",
      "        }\n",
      "      }\n",
      "    },\n",
      "    \"xaxis\": {\n",
      "      \"anchor\": \"y\",\n",
      "      \"domain\": [\n",
      "        0.0,\n",
      "        1.0\n",
      "      ],\n",
      "      \"title\": {\n",
      "        \"text\": \"year\"\n",
      "      }\n",
      "    },\n",
      "    \"yaxis\": {\n",
      "      \"anchor\": \"x\",\n",
      "      \"domain\": [\n",
      "        0.0,\n",
      "        1.0\n",
      "      ],\n",
      "      \"title\": {\n",
      "        \"text\": \"population of Canada\"\n",
      "      }\n",
      "    },\n",
      "    \"legend\": {\n",
      "      \"title\": {\n",
      "        \"text\": \"country\"\n",
      "      },\n",
      "      \"tracegroupgap\": 0\n",
      "    },\n",
      "    \"margin\": {\n",
      "      \"t\": 60\n",
      "    },\n",
      "    \"barmode\": \"relative\",\n",
      "    \"height\": 400\n",
      "  }\n",
      "}\n"
     ]
    }
   ],
   "source": [
    "bg5_json = io.to_json(bar_graph5,pretty=True)\n",
    "print(bg5_json)"
   ]
  },
  {
   "cell_type": "code",
   "execution_count": 91,
   "id": "3df440c7",
   "metadata": {},
   "outputs": [
    {
     "data": {
      "application/vnd.plotly.v1+json": {
       "config": {
        "plotlyServerURL": "https://plot.ly"
       },
       "data": [
        {
         "alignmentgroup": "True",
         "hovertemplate": "smoker=No<br>sex=%{x}<br>total_bill=%{y}<extra></extra>",
         "legendgroup": "No",
         "marker": {
          "color": "#636efa",
          "pattern": {
           "shape": ""
          }
         },
         "name": "No",
         "offsetgroup": "No",
         "orientation": "v",
         "showlegend": true,
         "textposition": "auto",
         "type": "bar",
         "x": [
          "Female",
          "Male",
          "Male",
          "Male",
          "Female",
          "Male",
          "Male",
          "Male",
          "Male",
          "Male",
          "Male",
          "Female",
          "Male",
          "Male",
          "Female",
          "Male",
          "Female",
          "Male",
          "Female",
          "Male",
          "Male",
          "Female",
          "Female",
          "Male",
          "Male",
          "Male",
          "Male",
          "Male",
          "Male",
          "Female",
          "Male",
          "Male",
          "Female",
          "Female",
          "Male",
          "Male",
          "Male",
          "Female",
          "Male",
          "Male",
          "Male",
          "Male",
          "Male",
          "Male",
          "Male",
          "Male",
          "Male",
          "Male",
          "Male",
          "Male",
          "Male",
          "Female",
          "Female",
          "Male",
          "Male",
          "Male",
          "Female",
          "Male",
          "Male",
          "Male",
          "Female",
          "Male",
          "Male",
          "Female",
          "Female",
          "Male",
          "Male",
          "Male",
          "Male",
          "Male",
          "Female",
          "Male",
          "Female",
          "Male",
          "Male",
          "Male",
          "Male",
          "Male",
          "Female",
          "Male",
          "Female",
          "Male",
          "Male",
          "Female",
          "Male",
          "Male",
          "Female",
          "Female",
          "Male",
          "Female",
          "Female",
          "Female",
          "Male",
          "Female",
          "Male",
          "Male",
          "Female",
          "Female",
          "Male",
          "Female",
          "Female",
          "Male",
          "Male",
          "Female",
          "Female",
          "Female",
          "Female",
          "Female",
          "Female",
          "Female",
          "Female",
          "Female",
          "Male",
          "Male",
          "Female",
          "Female",
          "Female",
          "Female",
          "Female",
          "Male",
          "Male",
          "Male",
          "Male",
          "Male",
          "Male",
          "Male",
          "Female",
          "Male",
          "Female",
          "Female",
          "Male",
          "Male",
          "Male",
          "Female",
          "Male",
          "Male",
          "Male",
          "Male",
          "Male",
          "Male",
          "Male",
          "Female",
          "Male",
          "Male",
          "Male",
          "Male",
          "Male",
          "Female",
          "Male",
          "Male",
          "Female"
         ],
         "xaxis": "x",
         "y": [
          16.99,
          10.34,
          21.01,
          23.68,
          24.59,
          25.29,
          8.77,
          26.88,
          15.04,
          14.78,
          10.27,
          35.26,
          15.42,
          18.43,
          14.83,
          21.58,
          10.33,
          16.29,
          16.97,
          20.65,
          17.92,
          20.29,
          15.77,
          39.42,
          19.82,
          17.81,
          13.37,
          12.69,
          21.7,
          19.65,
          9.55,
          18.35,
          15.06,
          20.69,
          17.78,
          24.06,
          16.31,
          16.93,
          18.69,
          31.27,
          16.04,
          17.46,
          13.94,
          9.68,
          30.4,
          18.29,
          22.23,
          32.4,
          28.55,
          18.04,
          12.54,
          10.29,
          34.81,
          9.94,
          25.56,
          19.49,
          26.41,
          48.27,
          17.59,
          20.08,
          16.45,
          20.23,
          12.02,
          17.07,
          14.73,
          10.51,
          27.2,
          22.76,
          17.29,
          16.66,
          10.07,
          15.98,
          34.83,
          13.03,
          18.28,
          24.71,
          21.16,
          22.49,
          22.75,
          12.46,
          20.92,
          18.24,
          14,
          7.25,
          38.07,
          23.95,
          25.71,
          17.31,
          29.93,
          10.65,
          12.43,
          24.08,
          11.69,
          13.42,
          14.26,
          15.95,
          12.48,
          29.8,
          8.52,
          14.52,
          11.38,
          22.82,
          19.08,
          20.27,
          11.17,
          12.26,
          18.26,
          8.51,
          10.33,
          14.15,
          13.16,
          17.47,
          34.3,
          41.19,
          27.05,
          16.43,
          8.35,
          18.64,
          11.87,
          9.78,
          7.51,
          14.07,
          13.13,
          17.26,
          24.55,
          19.77,
          29.85,
          48.17,
          25,
          13.39,
          16.49,
          21.5,
          12.66,
          16.21,
          13.81,
          24.52,
          20.76,
          31.71,
          20.69,
          7.56,
          48.33,
          15.98,
          20.45,
          13.28,
          11.61,
          10.77,
          10.07,
          35.83,
          29.03,
          17.82,
          18.78
         ],
         "yaxis": "y"
        },
        {
         "alignmentgroup": "True",
         "hovertemplate": "smoker=Yes<br>sex=%{x}<br>total_bill=%{y}<extra></extra>",
         "legendgroup": "Yes",
         "marker": {
          "color": "#EF553B",
          "pattern": {
           "shape": ""
          }
         },
         "name": "Yes",
         "offsetgroup": "Yes",
         "orientation": "v",
         "showlegend": true,
         "textposition": "auto",
         "type": "bar",
         "x": [
          "Male",
          "Male",
          "Male",
          "Male",
          "Male",
          "Male",
          "Female",
          "Male",
          "Female",
          "Female",
          "Male",
          "Male",
          "Male",
          "Male",
          "Female",
          "Female",
          "Male",
          "Male",
          "Male",
          "Male",
          "Female",
          "Female",
          "Female",
          "Female",
          "Male",
          "Male",
          "Male",
          "Female",
          "Male",
          "Female",
          "Female",
          "Female",
          "Male",
          "Male",
          "Male",
          "Male",
          "Male",
          "Male",
          "Male",
          "Male",
          "Female",
          "Male",
          "Male",
          "Male",
          "Male",
          "Male",
          "Male",
          "Female",
          "Male",
          "Female",
          "Male",
          "Male",
          "Female",
          "Male",
          "Male",
          "Male",
          "Male",
          "Female",
          "Female",
          "Male",
          "Male",
          "Female",
          "Female",
          "Female",
          "Male",
          "Female",
          "Male",
          "Male",
          "Male",
          "Female",
          "Male",
          "Male",
          "Female",
          "Female",
          "Female",
          "Male",
          "Male",
          "Male",
          "Female",
          "Male",
          "Female",
          "Male",
          "Male",
          "Female",
          "Female",
          "Female",
          "Male",
          "Male",
          "Male",
          "Male",
          "Male",
          "Female",
          "Male"
         ],
         "xaxis": "x",
         "y": [
          38.01,
          11.24,
          20.29,
          13.81,
          11.02,
          18.29,
          3.07,
          15.01,
          26.86,
          25.28,
          17.92,
          19.44,
          32.68,
          28.97,
          5.75,
          16.32,
          40.17,
          27.28,
          12.03,
          21.01,
          11.35,
          15.38,
          44.3,
          22.42,
          15.36,
          20.49,
          25.21,
          14.31,
          16,
          17.51,
          10.59,
          10.63,
          50.81,
          15.81,
          7.25,
          31.85,
          16.82,
          32.9,
          17.89,
          14.48,
          9.6,
          34.63,
          34.65,
          23.33,
          45.35,
          23.17,
          40.55,
          20.9,
          30.46,
          18.15,
          23.1,
          15.69,
          19.81,
          28.44,
          15.48,
          16.58,
          10.34,
          43.11,
          13,
          13.51,
          18.71,
          12.74,
          13,
          16.4,
          20.53,
          16.47,
          26.59,
          38.73,
          24.27,
          12.76,
          30.06,
          25.89,
          13.27,
          28.17,
          12.9,
          28.15,
          11.59,
          7.74,
          30.14,
          12.16,
          13.42,
          8.58,
          13.42,
          16.27,
          10.09,
          22.12,
          24.01,
          15.69,
          15.53,
          12.6,
          32.83,
          27.18,
          22.67
         ],
         "yaxis": "y"
        }
       ],
       "layout": {
        "barmode": "group",
        "height": 400,
        "legend": {
         "title": {
          "text": "smoker"
         },
         "tracegroupgap": 0
        },
        "margin": {
         "t": 60
        },
        "template": {
         "data": {
          "bar": [
           {
            "error_x": {
             "color": "#2a3f5f"
            },
            "error_y": {
             "color": "#2a3f5f"
            },
            "marker": {
             "line": {
              "color": "#E5ECF6",
              "width": 0.5
             },
             "pattern": {
              "fillmode": "overlay",
              "size": 10,
              "solidity": 0.2
             }
            },
            "type": "bar"
           }
          ],
          "barpolar": [
           {
            "marker": {
             "line": {
              "color": "#E5ECF6",
              "width": 0.5
             },
             "pattern": {
              "fillmode": "overlay",
              "size": 10,
              "solidity": 0.2
             }
            },
            "type": "barpolar"
           }
          ],
          "carpet": [
           {
            "aaxis": {
             "endlinecolor": "#2a3f5f",
             "gridcolor": "white",
             "linecolor": "white",
             "minorgridcolor": "white",
             "startlinecolor": "#2a3f5f"
            },
            "baxis": {
             "endlinecolor": "#2a3f5f",
             "gridcolor": "white",
             "linecolor": "white",
             "minorgridcolor": "white",
             "startlinecolor": "#2a3f5f"
            },
            "type": "carpet"
           }
          ],
          "choropleth": [
           {
            "colorbar": {
             "outlinewidth": 0,
             "ticks": ""
            },
            "type": "choropleth"
           }
          ],
          "contour": [
           {
            "colorbar": {
             "outlinewidth": 0,
             "ticks": ""
            },
            "colorscale": [
             [
              0,
              "#0d0887"
             ],
             [
              0.1111111111111111,
              "#46039f"
             ],
             [
              0.2222222222222222,
              "#7201a8"
             ],
             [
              0.3333333333333333,
              "#9c179e"
             ],
             [
              0.4444444444444444,
              "#bd3786"
             ],
             [
              0.5555555555555556,
              "#d8576b"
             ],
             [
              0.6666666666666666,
              "#ed7953"
             ],
             [
              0.7777777777777778,
              "#fb9f3a"
             ],
             [
              0.8888888888888888,
              "#fdca26"
             ],
             [
              1,
              "#f0f921"
             ]
            ],
            "type": "contour"
           }
          ],
          "contourcarpet": [
           {
            "colorbar": {
             "outlinewidth": 0,
             "ticks": ""
            },
            "type": "contourcarpet"
           }
          ],
          "heatmap": [
           {
            "colorbar": {
             "outlinewidth": 0,
             "ticks": ""
            },
            "colorscale": [
             [
              0,
              "#0d0887"
             ],
             [
              0.1111111111111111,
              "#46039f"
             ],
             [
              0.2222222222222222,
              "#7201a8"
             ],
             [
              0.3333333333333333,
              "#9c179e"
             ],
             [
              0.4444444444444444,
              "#bd3786"
             ],
             [
              0.5555555555555556,
              "#d8576b"
             ],
             [
              0.6666666666666666,
              "#ed7953"
             ],
             [
              0.7777777777777778,
              "#fb9f3a"
             ],
             [
              0.8888888888888888,
              "#fdca26"
             ],
             [
              1,
              "#f0f921"
             ]
            ],
            "type": "heatmap"
           }
          ],
          "heatmapgl": [
           {
            "colorbar": {
             "outlinewidth": 0,
             "ticks": ""
            },
            "colorscale": [
             [
              0,
              "#0d0887"
             ],
             [
              0.1111111111111111,
              "#46039f"
             ],
             [
              0.2222222222222222,
              "#7201a8"
             ],
             [
              0.3333333333333333,
              "#9c179e"
             ],
             [
              0.4444444444444444,
              "#bd3786"
             ],
             [
              0.5555555555555556,
              "#d8576b"
             ],
             [
              0.6666666666666666,
              "#ed7953"
             ],
             [
              0.7777777777777778,
              "#fb9f3a"
             ],
             [
              0.8888888888888888,
              "#fdca26"
             ],
             [
              1,
              "#f0f921"
             ]
            ],
            "type": "heatmapgl"
           }
          ],
          "histogram": [
           {
            "marker": {
             "pattern": {
              "fillmode": "overlay",
              "size": 10,
              "solidity": 0.2
             }
            },
            "type": "histogram"
           }
          ],
          "histogram2d": [
           {
            "colorbar": {
             "outlinewidth": 0,
             "ticks": ""
            },
            "colorscale": [
             [
              0,
              "#0d0887"
             ],
             [
              0.1111111111111111,
              "#46039f"
             ],
             [
              0.2222222222222222,
              "#7201a8"
             ],
             [
              0.3333333333333333,
              "#9c179e"
             ],
             [
              0.4444444444444444,
              "#bd3786"
             ],
             [
              0.5555555555555556,
              "#d8576b"
             ],
             [
              0.6666666666666666,
              "#ed7953"
             ],
             [
              0.7777777777777778,
              "#fb9f3a"
             ],
             [
              0.8888888888888888,
              "#fdca26"
             ],
             [
              1,
              "#f0f921"
             ]
            ],
            "type": "histogram2d"
           }
          ],
          "histogram2dcontour": [
           {
            "colorbar": {
             "outlinewidth": 0,
             "ticks": ""
            },
            "colorscale": [
             [
              0,
              "#0d0887"
             ],
             [
              0.1111111111111111,
              "#46039f"
             ],
             [
              0.2222222222222222,
              "#7201a8"
             ],
             [
              0.3333333333333333,
              "#9c179e"
             ],
             [
              0.4444444444444444,
              "#bd3786"
             ],
             [
              0.5555555555555556,
              "#d8576b"
             ],
             [
              0.6666666666666666,
              "#ed7953"
             ],
             [
              0.7777777777777778,
              "#fb9f3a"
             ],
             [
              0.8888888888888888,
              "#fdca26"
             ],
             [
              1,
              "#f0f921"
             ]
            ],
            "type": "histogram2dcontour"
           }
          ],
          "mesh3d": [
           {
            "colorbar": {
             "outlinewidth": 0,
             "ticks": ""
            },
            "type": "mesh3d"
           }
          ],
          "parcoords": [
           {
            "line": {
             "colorbar": {
              "outlinewidth": 0,
              "ticks": ""
             }
            },
            "type": "parcoords"
           }
          ],
          "pie": [
           {
            "automargin": true,
            "type": "pie"
           }
          ],
          "scatter": [
           {
            "fillpattern": {
             "fillmode": "overlay",
             "size": 10,
             "solidity": 0.2
            },
            "type": "scatter"
           }
          ],
          "scatter3d": [
           {
            "line": {
             "colorbar": {
              "outlinewidth": 0,
              "ticks": ""
             }
            },
            "marker": {
             "colorbar": {
              "outlinewidth": 0,
              "ticks": ""
             }
            },
            "type": "scatter3d"
           }
          ],
          "scattercarpet": [
           {
            "marker": {
             "colorbar": {
              "outlinewidth": 0,
              "ticks": ""
             }
            },
            "type": "scattercarpet"
           }
          ],
          "scattergeo": [
           {
            "marker": {
             "colorbar": {
              "outlinewidth": 0,
              "ticks": ""
             }
            },
            "type": "scattergeo"
           }
          ],
          "scattergl": [
           {
            "marker": {
             "colorbar": {
              "outlinewidth": 0,
              "ticks": ""
             }
            },
            "type": "scattergl"
           }
          ],
          "scattermapbox": [
           {
            "marker": {
             "colorbar": {
              "outlinewidth": 0,
              "ticks": ""
             }
            },
            "type": "scattermapbox"
           }
          ],
          "scatterpolar": [
           {
            "marker": {
             "colorbar": {
              "outlinewidth": 0,
              "ticks": ""
             }
            },
            "type": "scatterpolar"
           }
          ],
          "scatterpolargl": [
           {
            "marker": {
             "colorbar": {
              "outlinewidth": 0,
              "ticks": ""
             }
            },
            "type": "scatterpolargl"
           }
          ],
          "scatterternary": [
           {
            "marker": {
             "colorbar": {
              "outlinewidth": 0,
              "ticks": ""
             }
            },
            "type": "scatterternary"
           }
          ],
          "surface": [
           {
            "colorbar": {
             "outlinewidth": 0,
             "ticks": ""
            },
            "colorscale": [
             [
              0,
              "#0d0887"
             ],
             [
              0.1111111111111111,
              "#46039f"
             ],
             [
              0.2222222222222222,
              "#7201a8"
             ],
             [
              0.3333333333333333,
              "#9c179e"
             ],
             [
              0.4444444444444444,
              "#bd3786"
             ],
             [
              0.5555555555555556,
              "#d8576b"
             ],
             [
              0.6666666666666666,
              "#ed7953"
             ],
             [
              0.7777777777777778,
              "#fb9f3a"
             ],
             [
              0.8888888888888888,
              "#fdca26"
             ],
             [
              1,
              "#f0f921"
             ]
            ],
            "type": "surface"
           }
          ],
          "table": [
           {
            "cells": {
             "fill": {
              "color": "#EBF0F8"
             },
             "line": {
              "color": "white"
             }
            },
            "header": {
             "fill": {
              "color": "#C8D4E3"
             },
             "line": {
              "color": "white"
             }
            },
            "type": "table"
           }
          ]
         },
         "layout": {
          "annotationdefaults": {
           "arrowcolor": "#2a3f5f",
           "arrowhead": 0,
           "arrowwidth": 1
          },
          "autotypenumbers": "strict",
          "coloraxis": {
           "colorbar": {
            "outlinewidth": 0,
            "ticks": ""
           }
          },
          "colorscale": {
           "diverging": [
            [
             0,
             "#8e0152"
            ],
            [
             0.1,
             "#c51b7d"
            ],
            [
             0.2,
             "#de77ae"
            ],
            [
             0.3,
             "#f1b6da"
            ],
            [
             0.4,
             "#fde0ef"
            ],
            [
             0.5,
             "#f7f7f7"
            ],
            [
             0.6,
             "#e6f5d0"
            ],
            [
             0.7,
             "#b8e186"
            ],
            [
             0.8,
             "#7fbc41"
            ],
            [
             0.9,
             "#4d9221"
            ],
            [
             1,
             "#276419"
            ]
           ],
           "sequential": [
            [
             0,
             "#0d0887"
            ],
            [
             0.1111111111111111,
             "#46039f"
            ],
            [
             0.2222222222222222,
             "#7201a8"
            ],
            [
             0.3333333333333333,
             "#9c179e"
            ],
            [
             0.4444444444444444,
             "#bd3786"
            ],
            [
             0.5555555555555556,
             "#d8576b"
            ],
            [
             0.6666666666666666,
             "#ed7953"
            ],
            [
             0.7777777777777778,
             "#fb9f3a"
            ],
            [
             0.8888888888888888,
             "#fdca26"
            ],
            [
             1,
             "#f0f921"
            ]
           ],
           "sequentialminus": [
            [
             0,
             "#0d0887"
            ],
            [
             0.1111111111111111,
             "#46039f"
            ],
            [
             0.2222222222222222,
             "#7201a8"
            ],
            [
             0.3333333333333333,
             "#9c179e"
            ],
            [
             0.4444444444444444,
             "#bd3786"
            ],
            [
             0.5555555555555556,
             "#d8576b"
            ],
            [
             0.6666666666666666,
             "#ed7953"
            ],
            [
             0.7777777777777778,
             "#fb9f3a"
            ],
            [
             0.8888888888888888,
             "#fdca26"
            ],
            [
             1,
             "#f0f921"
            ]
           ]
          },
          "colorway": [
           "#636efa",
           "#EF553B",
           "#00cc96",
           "#ab63fa",
           "#FFA15A",
           "#19d3f3",
           "#FF6692",
           "#B6E880",
           "#FF97FF",
           "#FECB52"
          ],
          "font": {
           "color": "#2a3f5f"
          },
          "geo": {
           "bgcolor": "white",
           "lakecolor": "white",
           "landcolor": "#E5ECF6",
           "showlakes": true,
           "showland": true,
           "subunitcolor": "white"
          },
          "hoverlabel": {
           "align": "left"
          },
          "hovermode": "closest",
          "mapbox": {
           "style": "light"
          },
          "paper_bgcolor": "white",
          "plot_bgcolor": "#E5ECF6",
          "polar": {
           "angularaxis": {
            "gridcolor": "white",
            "linecolor": "white",
            "ticks": ""
           },
           "bgcolor": "#E5ECF6",
           "radialaxis": {
            "gridcolor": "white",
            "linecolor": "white",
            "ticks": ""
           }
          },
          "scene": {
           "xaxis": {
            "backgroundcolor": "#E5ECF6",
            "gridcolor": "white",
            "gridwidth": 2,
            "linecolor": "white",
            "showbackground": true,
            "ticks": "",
            "zerolinecolor": "white"
           },
           "yaxis": {
            "backgroundcolor": "#E5ECF6",
            "gridcolor": "white",
            "gridwidth": 2,
            "linecolor": "white",
            "showbackground": true,
            "ticks": "",
            "zerolinecolor": "white"
           },
           "zaxis": {
            "backgroundcolor": "#E5ECF6",
            "gridcolor": "white",
            "gridwidth": 2,
            "linecolor": "white",
            "showbackground": true,
            "ticks": "",
            "zerolinecolor": "white"
           }
          },
          "shapedefaults": {
           "line": {
            "color": "#2a3f5f"
           }
          },
          "ternary": {
           "aaxis": {
            "gridcolor": "white",
            "linecolor": "white",
            "ticks": ""
           },
           "baxis": {
            "gridcolor": "white",
            "linecolor": "white",
            "ticks": ""
           },
           "bgcolor": "#E5ECF6",
           "caxis": {
            "gridcolor": "white",
            "linecolor": "white",
            "ticks": ""
           }
          },
          "title": {
           "x": 0.05
          },
          "xaxis": {
           "automargin": true,
           "gridcolor": "white",
           "linecolor": "white",
           "ticks": "",
           "title": {
            "standoff": 15
           },
           "zerolinecolor": "white",
           "zerolinewidth": 2
          },
          "yaxis": {
           "automargin": true,
           "gridcolor": "white",
           "linecolor": "white",
           "ticks": "",
           "title": {
            "standoff": 15
           },
           "zerolinecolor": "white",
           "zerolinewidth": 2
          }
         }
        },
        "xaxis": {
         "anchor": "y",
         "domain": [
          0,
          1
         ],
         "title": {
          "text": "sex"
         }
        },
        "yaxis": {
         "anchor": "x",
         "domain": [
          0,
          1
         ],
         "title": {
          "text": "total_bill"
         }
        }
       }
      },
      "text/html": [
       "<div>                            <div id=\"c8bad91a-94cf-4ec1-a1cb-49988ec48d33\" class=\"plotly-graph-div\" style=\"height:400px; width:100%;\"></div>            <script type=\"text/javascript\">                require([\"plotly\"], function(Plotly) {                    window.PLOTLYENV=window.PLOTLYENV || {};                                    if (document.getElementById(\"c8bad91a-94cf-4ec1-a1cb-49988ec48d33\")) {                    Plotly.newPlot(                        \"c8bad91a-94cf-4ec1-a1cb-49988ec48d33\",                        [{\"alignmentgroup\":\"True\",\"hovertemplate\":\"smoker=No<br>sex=%{x}<br>total_bill=%{y}<extra></extra>\",\"legendgroup\":\"No\",\"marker\":{\"color\":\"#636efa\",\"pattern\":{\"shape\":\"\"}},\"name\":\"No\",\"offsetgroup\":\"No\",\"orientation\":\"v\",\"showlegend\":true,\"textposition\":\"auto\",\"x\":[\"Female\",\"Male\",\"Male\",\"Male\",\"Female\",\"Male\",\"Male\",\"Male\",\"Male\",\"Male\",\"Male\",\"Female\",\"Male\",\"Male\",\"Female\",\"Male\",\"Female\",\"Male\",\"Female\",\"Male\",\"Male\",\"Female\",\"Female\",\"Male\",\"Male\",\"Male\",\"Male\",\"Male\",\"Male\",\"Female\",\"Male\",\"Male\",\"Female\",\"Female\",\"Male\",\"Male\",\"Male\",\"Female\",\"Male\",\"Male\",\"Male\",\"Male\",\"Male\",\"Male\",\"Male\",\"Male\",\"Male\",\"Male\",\"Male\",\"Male\",\"Male\",\"Female\",\"Female\",\"Male\",\"Male\",\"Male\",\"Female\",\"Male\",\"Male\",\"Male\",\"Female\",\"Male\",\"Male\",\"Female\",\"Female\",\"Male\",\"Male\",\"Male\",\"Male\",\"Male\",\"Female\",\"Male\",\"Female\",\"Male\",\"Male\",\"Male\",\"Male\",\"Male\",\"Female\",\"Male\",\"Female\",\"Male\",\"Male\",\"Female\",\"Male\",\"Male\",\"Female\",\"Female\",\"Male\",\"Female\",\"Female\",\"Female\",\"Male\",\"Female\",\"Male\",\"Male\",\"Female\",\"Female\",\"Male\",\"Female\",\"Female\",\"Male\",\"Male\",\"Female\",\"Female\",\"Female\",\"Female\",\"Female\",\"Female\",\"Female\",\"Female\",\"Female\",\"Male\",\"Male\",\"Female\",\"Female\",\"Female\",\"Female\",\"Female\",\"Male\",\"Male\",\"Male\",\"Male\",\"Male\",\"Male\",\"Male\",\"Female\",\"Male\",\"Female\",\"Female\",\"Male\",\"Male\",\"Male\",\"Female\",\"Male\",\"Male\",\"Male\",\"Male\",\"Male\",\"Male\",\"Male\",\"Female\",\"Male\",\"Male\",\"Male\",\"Male\",\"Male\",\"Female\",\"Male\",\"Male\",\"Female\"],\"xaxis\":\"x\",\"y\":[16.99,10.34,21.01,23.68,24.59,25.29,8.77,26.88,15.04,14.78,10.27,35.26,15.42,18.43,14.83,21.58,10.33,16.29,16.97,20.65,17.92,20.29,15.77,39.42,19.82,17.81,13.37,12.69,21.7,19.65,9.55,18.35,15.06,20.69,17.78,24.06,16.31,16.93,18.69,31.27,16.04,17.46,13.94,9.68,30.4,18.29,22.23,32.4,28.55,18.04,12.54,10.29,34.81,9.94,25.56,19.49,26.41,48.27,17.59,20.08,16.45,20.23,12.02,17.07,14.73,10.51,27.2,22.76,17.29,16.66,10.07,15.98,34.83,13.03,18.28,24.71,21.16,22.49,22.75,12.46,20.92,18.24,14.0,7.25,38.07,23.95,25.71,17.31,29.93,10.65,12.43,24.08,11.69,13.42,14.26,15.95,12.48,29.8,8.52,14.52,11.38,22.82,19.08,20.27,11.17,12.26,18.26,8.51,10.33,14.15,13.16,17.47,34.3,41.19,27.05,16.43,8.35,18.64,11.87,9.78,7.51,14.07,13.13,17.26,24.55,19.77,29.85,48.17,25.0,13.39,16.49,21.5,12.66,16.21,13.81,24.52,20.76,31.71,20.69,7.56,48.33,15.98,20.45,13.28,11.61,10.77,10.07,35.83,29.03,17.82,18.78],\"yaxis\":\"y\",\"type\":\"bar\"},{\"alignmentgroup\":\"True\",\"hovertemplate\":\"smoker=Yes<br>sex=%{x}<br>total_bill=%{y}<extra></extra>\",\"legendgroup\":\"Yes\",\"marker\":{\"color\":\"#EF553B\",\"pattern\":{\"shape\":\"\"}},\"name\":\"Yes\",\"offsetgroup\":\"Yes\",\"orientation\":\"v\",\"showlegend\":true,\"textposition\":\"auto\",\"x\":[\"Male\",\"Male\",\"Male\",\"Male\",\"Male\",\"Male\",\"Female\",\"Male\",\"Female\",\"Female\",\"Male\",\"Male\",\"Male\",\"Male\",\"Female\",\"Female\",\"Male\",\"Male\",\"Male\",\"Male\",\"Female\",\"Female\",\"Female\",\"Female\",\"Male\",\"Male\",\"Male\",\"Female\",\"Male\",\"Female\",\"Female\",\"Female\",\"Male\",\"Male\",\"Male\",\"Male\",\"Male\",\"Male\",\"Male\",\"Male\",\"Female\",\"Male\",\"Male\",\"Male\",\"Male\",\"Male\",\"Male\",\"Female\",\"Male\",\"Female\",\"Male\",\"Male\",\"Female\",\"Male\",\"Male\",\"Male\",\"Male\",\"Female\",\"Female\",\"Male\",\"Male\",\"Female\",\"Female\",\"Female\",\"Male\",\"Female\",\"Male\",\"Male\",\"Male\",\"Female\",\"Male\",\"Male\",\"Female\",\"Female\",\"Female\",\"Male\",\"Male\",\"Male\",\"Female\",\"Male\",\"Female\",\"Male\",\"Male\",\"Female\",\"Female\",\"Female\",\"Male\",\"Male\",\"Male\",\"Male\",\"Male\",\"Female\",\"Male\"],\"xaxis\":\"x\",\"y\":[38.01,11.24,20.29,13.81,11.02,18.29,3.07,15.01,26.86,25.28,17.92,19.44,32.68,28.97,5.75,16.32,40.17,27.28,12.03,21.01,11.35,15.38,44.3,22.42,15.36,20.49,25.21,14.31,16.0,17.51,10.59,10.63,50.81,15.81,7.25,31.85,16.82,32.9,17.89,14.48,9.6,34.63,34.65,23.33,45.35,23.17,40.55,20.9,30.46,18.15,23.1,15.69,19.81,28.44,15.48,16.58,10.34,43.11,13.0,13.51,18.71,12.74,13.0,16.4,20.53,16.47,26.59,38.73,24.27,12.76,30.06,25.89,13.27,28.17,12.9,28.15,11.59,7.74,30.14,12.16,13.42,8.58,13.42,16.27,10.09,22.12,24.01,15.69,15.53,12.6,32.83,27.18,22.67],\"yaxis\":\"y\",\"type\":\"bar\"}],                        {\"template\":{\"data\":{\"histogram2dcontour\":[{\"type\":\"histogram2dcontour\",\"colorbar\":{\"outlinewidth\":0,\"ticks\":\"\"},\"colorscale\":[[0.0,\"#0d0887\"],[0.1111111111111111,\"#46039f\"],[0.2222222222222222,\"#7201a8\"],[0.3333333333333333,\"#9c179e\"],[0.4444444444444444,\"#bd3786\"],[0.5555555555555556,\"#d8576b\"],[0.6666666666666666,\"#ed7953\"],[0.7777777777777778,\"#fb9f3a\"],[0.8888888888888888,\"#fdca26\"],[1.0,\"#f0f921\"]]}],\"choropleth\":[{\"type\":\"choropleth\",\"colorbar\":{\"outlinewidth\":0,\"ticks\":\"\"}}],\"histogram2d\":[{\"type\":\"histogram2d\",\"colorbar\":{\"outlinewidth\":0,\"ticks\":\"\"},\"colorscale\":[[0.0,\"#0d0887\"],[0.1111111111111111,\"#46039f\"],[0.2222222222222222,\"#7201a8\"],[0.3333333333333333,\"#9c179e\"],[0.4444444444444444,\"#bd3786\"],[0.5555555555555556,\"#d8576b\"],[0.6666666666666666,\"#ed7953\"],[0.7777777777777778,\"#fb9f3a\"],[0.8888888888888888,\"#fdca26\"],[1.0,\"#f0f921\"]]}],\"heatmap\":[{\"type\":\"heatmap\",\"colorbar\":{\"outlinewidth\":0,\"ticks\":\"\"},\"colorscale\":[[0.0,\"#0d0887\"],[0.1111111111111111,\"#46039f\"],[0.2222222222222222,\"#7201a8\"],[0.3333333333333333,\"#9c179e\"],[0.4444444444444444,\"#bd3786\"],[0.5555555555555556,\"#d8576b\"],[0.6666666666666666,\"#ed7953\"],[0.7777777777777778,\"#fb9f3a\"],[0.8888888888888888,\"#fdca26\"],[1.0,\"#f0f921\"]]}],\"heatmapgl\":[{\"type\":\"heatmapgl\",\"colorbar\":{\"outlinewidth\":0,\"ticks\":\"\"},\"colorscale\":[[0.0,\"#0d0887\"],[0.1111111111111111,\"#46039f\"],[0.2222222222222222,\"#7201a8\"],[0.3333333333333333,\"#9c179e\"],[0.4444444444444444,\"#bd3786\"],[0.5555555555555556,\"#d8576b\"],[0.6666666666666666,\"#ed7953\"],[0.7777777777777778,\"#fb9f3a\"],[0.8888888888888888,\"#fdca26\"],[1.0,\"#f0f921\"]]}],\"contourcarpet\":[{\"type\":\"contourcarpet\",\"colorbar\":{\"outlinewidth\":0,\"ticks\":\"\"}}],\"contour\":[{\"type\":\"contour\",\"colorbar\":{\"outlinewidth\":0,\"ticks\":\"\"},\"colorscale\":[[0.0,\"#0d0887\"],[0.1111111111111111,\"#46039f\"],[0.2222222222222222,\"#7201a8\"],[0.3333333333333333,\"#9c179e\"],[0.4444444444444444,\"#bd3786\"],[0.5555555555555556,\"#d8576b\"],[0.6666666666666666,\"#ed7953\"],[0.7777777777777778,\"#fb9f3a\"],[0.8888888888888888,\"#fdca26\"],[1.0,\"#f0f921\"]]}],\"surface\":[{\"type\":\"surface\",\"colorbar\":{\"outlinewidth\":0,\"ticks\":\"\"},\"colorscale\":[[0.0,\"#0d0887\"],[0.1111111111111111,\"#46039f\"],[0.2222222222222222,\"#7201a8\"],[0.3333333333333333,\"#9c179e\"],[0.4444444444444444,\"#bd3786\"],[0.5555555555555556,\"#d8576b\"],[0.6666666666666666,\"#ed7953\"],[0.7777777777777778,\"#fb9f3a\"],[0.8888888888888888,\"#fdca26\"],[1.0,\"#f0f921\"]]}],\"mesh3d\":[{\"type\":\"mesh3d\",\"colorbar\":{\"outlinewidth\":0,\"ticks\":\"\"}}],\"scatter\":[{\"fillpattern\":{\"fillmode\":\"overlay\",\"size\":10,\"solidity\":0.2},\"type\":\"scatter\"}],\"parcoords\":[{\"type\":\"parcoords\",\"line\":{\"colorbar\":{\"outlinewidth\":0,\"ticks\":\"\"}}}],\"scatterpolargl\":[{\"type\":\"scatterpolargl\",\"marker\":{\"colorbar\":{\"outlinewidth\":0,\"ticks\":\"\"}}}],\"bar\":[{\"error_x\":{\"color\":\"#2a3f5f\"},\"error_y\":{\"color\":\"#2a3f5f\"},\"marker\":{\"line\":{\"color\":\"#E5ECF6\",\"width\":0.5},\"pattern\":{\"fillmode\":\"overlay\",\"size\":10,\"solidity\":0.2}},\"type\":\"bar\"}],\"scattergeo\":[{\"type\":\"scattergeo\",\"marker\":{\"colorbar\":{\"outlinewidth\":0,\"ticks\":\"\"}}}],\"scatterpolar\":[{\"type\":\"scatterpolar\",\"marker\":{\"colorbar\":{\"outlinewidth\":0,\"ticks\":\"\"}}}],\"histogram\":[{\"marker\":{\"pattern\":{\"fillmode\":\"overlay\",\"size\":10,\"solidity\":0.2}},\"type\":\"histogram\"}],\"scattergl\":[{\"type\":\"scattergl\",\"marker\":{\"colorbar\":{\"outlinewidth\":0,\"ticks\":\"\"}}}],\"scatter3d\":[{\"type\":\"scatter3d\",\"line\":{\"colorbar\":{\"outlinewidth\":0,\"ticks\":\"\"}},\"marker\":{\"colorbar\":{\"outlinewidth\":0,\"ticks\":\"\"}}}],\"scattermapbox\":[{\"type\":\"scattermapbox\",\"marker\":{\"colorbar\":{\"outlinewidth\":0,\"ticks\":\"\"}}}],\"scatterternary\":[{\"type\":\"scatterternary\",\"marker\":{\"colorbar\":{\"outlinewidth\":0,\"ticks\":\"\"}}}],\"scattercarpet\":[{\"type\":\"scattercarpet\",\"marker\":{\"colorbar\":{\"outlinewidth\":0,\"ticks\":\"\"}}}],\"carpet\":[{\"aaxis\":{\"endlinecolor\":\"#2a3f5f\",\"gridcolor\":\"white\",\"linecolor\":\"white\",\"minorgridcolor\":\"white\",\"startlinecolor\":\"#2a3f5f\"},\"baxis\":{\"endlinecolor\":\"#2a3f5f\",\"gridcolor\":\"white\",\"linecolor\":\"white\",\"minorgridcolor\":\"white\",\"startlinecolor\":\"#2a3f5f\"},\"type\":\"carpet\"}],\"table\":[{\"cells\":{\"fill\":{\"color\":\"#EBF0F8\"},\"line\":{\"color\":\"white\"}},\"header\":{\"fill\":{\"color\":\"#C8D4E3\"},\"line\":{\"color\":\"white\"}},\"type\":\"table\"}],\"barpolar\":[{\"marker\":{\"line\":{\"color\":\"#E5ECF6\",\"width\":0.5},\"pattern\":{\"fillmode\":\"overlay\",\"size\":10,\"solidity\":0.2}},\"type\":\"barpolar\"}],\"pie\":[{\"automargin\":true,\"type\":\"pie\"}]},\"layout\":{\"autotypenumbers\":\"strict\",\"colorway\":[\"#636efa\",\"#EF553B\",\"#00cc96\",\"#ab63fa\",\"#FFA15A\",\"#19d3f3\",\"#FF6692\",\"#B6E880\",\"#FF97FF\",\"#FECB52\"],\"font\":{\"color\":\"#2a3f5f\"},\"hovermode\":\"closest\",\"hoverlabel\":{\"align\":\"left\"},\"paper_bgcolor\":\"white\",\"plot_bgcolor\":\"#E5ECF6\",\"polar\":{\"bgcolor\":\"#E5ECF6\",\"angularaxis\":{\"gridcolor\":\"white\",\"linecolor\":\"white\",\"ticks\":\"\"},\"radialaxis\":{\"gridcolor\":\"white\",\"linecolor\":\"white\",\"ticks\":\"\"}},\"ternary\":{\"bgcolor\":\"#E5ECF6\",\"aaxis\":{\"gridcolor\":\"white\",\"linecolor\":\"white\",\"ticks\":\"\"},\"baxis\":{\"gridcolor\":\"white\",\"linecolor\":\"white\",\"ticks\":\"\"},\"caxis\":{\"gridcolor\":\"white\",\"linecolor\":\"white\",\"ticks\":\"\"}},\"coloraxis\":{\"colorbar\":{\"outlinewidth\":0,\"ticks\":\"\"}},\"colorscale\":{\"sequential\":[[0.0,\"#0d0887\"],[0.1111111111111111,\"#46039f\"],[0.2222222222222222,\"#7201a8\"],[0.3333333333333333,\"#9c179e\"],[0.4444444444444444,\"#bd3786\"],[0.5555555555555556,\"#d8576b\"],[0.6666666666666666,\"#ed7953\"],[0.7777777777777778,\"#fb9f3a\"],[0.8888888888888888,\"#fdca26\"],[1.0,\"#f0f921\"]],\"sequentialminus\":[[0.0,\"#0d0887\"],[0.1111111111111111,\"#46039f\"],[0.2222222222222222,\"#7201a8\"],[0.3333333333333333,\"#9c179e\"],[0.4444444444444444,\"#bd3786\"],[0.5555555555555556,\"#d8576b\"],[0.6666666666666666,\"#ed7953\"],[0.7777777777777778,\"#fb9f3a\"],[0.8888888888888888,\"#fdca26\"],[1.0,\"#f0f921\"]],\"diverging\":[[0,\"#8e0152\"],[0.1,\"#c51b7d\"],[0.2,\"#de77ae\"],[0.3,\"#f1b6da\"],[0.4,\"#fde0ef\"],[0.5,\"#f7f7f7\"],[0.6,\"#e6f5d0\"],[0.7,\"#b8e186\"],[0.8,\"#7fbc41\"],[0.9,\"#4d9221\"],[1,\"#276419\"]]},\"xaxis\":{\"gridcolor\":\"white\",\"linecolor\":\"white\",\"ticks\":\"\",\"title\":{\"standoff\":15},\"zerolinecolor\":\"white\",\"automargin\":true,\"zerolinewidth\":2},\"yaxis\":{\"gridcolor\":\"white\",\"linecolor\":\"white\",\"ticks\":\"\",\"title\":{\"standoff\":15},\"zerolinecolor\":\"white\",\"automargin\":true,\"zerolinewidth\":2},\"scene\":{\"xaxis\":{\"backgroundcolor\":\"#E5ECF6\",\"gridcolor\":\"white\",\"linecolor\":\"white\",\"showbackground\":true,\"ticks\":\"\",\"zerolinecolor\":\"white\",\"gridwidth\":2},\"yaxis\":{\"backgroundcolor\":\"#E5ECF6\",\"gridcolor\":\"white\",\"linecolor\":\"white\",\"showbackground\":true,\"ticks\":\"\",\"zerolinecolor\":\"white\",\"gridwidth\":2},\"zaxis\":{\"backgroundcolor\":\"#E5ECF6\",\"gridcolor\":\"white\",\"linecolor\":\"white\",\"showbackground\":true,\"ticks\":\"\",\"zerolinecolor\":\"white\",\"gridwidth\":2}},\"shapedefaults\":{\"line\":{\"color\":\"#2a3f5f\"}},\"annotationdefaults\":{\"arrowcolor\":\"#2a3f5f\",\"arrowhead\":0,\"arrowwidth\":1},\"geo\":{\"bgcolor\":\"white\",\"landcolor\":\"#E5ECF6\",\"subunitcolor\":\"white\",\"showland\":true,\"showlakes\":true,\"lakecolor\":\"white\"},\"title\":{\"x\":0.05},\"mapbox\":{\"style\":\"light\"}}},\"xaxis\":{\"anchor\":\"y\",\"domain\":[0.0,1.0],\"title\":{\"text\":\"sex\"}},\"yaxis\":{\"anchor\":\"x\",\"domain\":[0.0,1.0],\"title\":{\"text\":\"total_bill\"}},\"legend\":{\"title\":{\"text\":\"smoker\"},\"tracegroupgap\":0},\"margin\":{\"t\":60},\"barmode\":\"group\",\"height\":400},                        {\"responsive\": true}                    ).then(function(){\n",
       "                            \n",
       "var gd = document.getElementById('c8bad91a-94cf-4ec1-a1cb-49988ec48d33');\n",
       "var x = new MutationObserver(function (mutations, observer) {{\n",
       "        var display = window.getComputedStyle(gd).display;\n",
       "        if (!display || display === 'none') {{\n",
       "            console.log([gd, 'removed!']);\n",
       "            Plotly.purge(gd);\n",
       "            observer.disconnect();\n",
       "        }}\n",
       "}});\n",
       "\n",
       "// Listen for the removal of the full notebook cells\n",
       "var notebookContainer = gd.closest('#notebook-container');\n",
       "if (notebookContainer) {{\n",
       "    x.observe(notebookContainer, {childList: true});\n",
       "}}\n",
       "\n",
       "// Listen for the clearing of the current output cell\n",
       "var outputEl = gd.closest('.output');\n",
       "if (outputEl) {{\n",
       "    x.observe(outputEl, {childList: true});\n",
       "}}\n",
       "\n",
       "                        })                };                });            </script>        </div>"
      ]
     },
     "metadata": {},
     "output_type": "display_data"
    }
   ],
   "source": [
    "#Bar Graph 6\n",
    "\n",
    "df = px.data.tips()\n",
    "bar_graph6 = px.bar(df, x=\"sex\", y=\"total_bill\",\n",
    "             color='smoker', barmode='group',\n",
    "             height=400)\n",
    "bar_graph6.show()"
   ]
  },
  {
   "cell_type": "code",
   "execution_count": 92,
   "id": "afd80862",
   "metadata": {},
   "outputs": [
    {
     "name": "stdout",
     "output_type": "stream",
     "text": [
      "{\n",
      "  \"data\": [\n",
      "    {\n",
      "      \"alignmentgroup\": \"True\",\n",
      "      \"hovertemplate\": \"smoker=No<br>sex=%{x}<br>total_bill=%{y}<extra></extra>\",\n",
      "      \"legendgroup\": \"No\",\n",
      "      \"marker\": {\n",
      "        \"color\": \"#636efa\",\n",
      "        \"pattern\": {\n",
      "          \"shape\": \"\"\n",
      "        }\n",
      "      },\n",
      "      \"name\": \"No\",\n",
      "      \"offsetgroup\": \"No\",\n",
      "      \"orientation\": \"v\",\n",
      "      \"showlegend\": true,\n",
      "      \"textposition\": \"auto\",\n",
      "      \"x\": [\n",
      "        \"Female\",\n",
      "        \"Male\",\n",
      "        \"Male\",\n",
      "        \"Male\",\n",
      "        \"Female\",\n",
      "        \"Male\",\n",
      "        \"Male\",\n",
      "        \"Male\",\n",
      "        \"Male\",\n",
      "        \"Male\",\n",
      "        \"Male\",\n",
      "        \"Female\",\n",
      "        \"Male\",\n",
      "        \"Male\",\n",
      "        \"Female\",\n",
      "        \"Male\",\n",
      "        \"Female\",\n",
      "        \"Male\",\n",
      "        \"Female\",\n",
      "        \"Male\",\n",
      "        \"Male\",\n",
      "        \"Female\",\n",
      "        \"Female\",\n",
      "        \"Male\",\n",
      "        \"Male\",\n",
      "        \"Male\",\n",
      "        \"Male\",\n",
      "        \"Male\",\n",
      "        \"Male\",\n",
      "        \"Female\",\n",
      "        \"Male\",\n",
      "        \"Male\",\n",
      "        \"Female\",\n",
      "        \"Female\",\n",
      "        \"Male\",\n",
      "        \"Male\",\n",
      "        \"Male\",\n",
      "        \"Female\",\n",
      "        \"Male\",\n",
      "        \"Male\",\n",
      "        \"Male\",\n",
      "        \"Male\",\n",
      "        \"Male\",\n",
      "        \"Male\",\n",
      "        \"Male\",\n",
      "        \"Male\",\n",
      "        \"Male\",\n",
      "        \"Male\",\n",
      "        \"Male\",\n",
      "        \"Male\",\n",
      "        \"Male\",\n",
      "        \"Female\",\n",
      "        \"Female\",\n",
      "        \"Male\",\n",
      "        \"Male\",\n",
      "        \"Male\",\n",
      "        \"Female\",\n",
      "        \"Male\",\n",
      "        \"Male\",\n",
      "        \"Male\",\n",
      "        \"Female\",\n",
      "        \"Male\",\n",
      "        \"Male\",\n",
      "        \"Female\",\n",
      "        \"Female\",\n",
      "        \"Male\",\n",
      "        \"Male\",\n",
      "        \"Male\",\n",
      "        \"Male\",\n",
      "        \"Male\",\n",
      "        \"Female\",\n",
      "        \"Male\",\n",
      "        \"Female\",\n",
      "        \"Male\",\n",
      "        \"Male\",\n",
      "        \"Male\",\n",
      "        \"Male\",\n",
      "        \"Male\",\n",
      "        \"Female\",\n",
      "        \"Male\",\n",
      "        \"Female\",\n",
      "        \"Male\",\n",
      "        \"Male\",\n",
      "        \"Female\",\n",
      "        \"Male\",\n",
      "        \"Male\",\n",
      "        \"Female\",\n",
      "        \"Female\",\n",
      "        \"Male\",\n",
      "        \"Female\",\n",
      "        \"Female\",\n",
      "        \"Female\",\n",
      "        \"Male\",\n",
      "        \"Female\",\n",
      "        \"Male\",\n",
      "        \"Male\",\n",
      "        \"Female\",\n",
      "        \"Female\",\n",
      "        \"Male\",\n",
      "        \"Female\",\n",
      "        \"Female\",\n",
      "        \"Male\",\n",
      "        \"Male\",\n",
      "        \"Female\",\n",
      "        \"Female\",\n",
      "        \"Female\",\n",
      "        \"Female\",\n",
      "        \"Female\",\n",
      "        \"Female\",\n",
      "        \"Female\",\n",
      "        \"Female\",\n",
      "        \"Female\",\n",
      "        \"Male\",\n",
      "        \"Male\",\n",
      "        \"Female\",\n",
      "        \"Female\",\n",
      "        \"Female\",\n",
      "        \"Female\",\n",
      "        \"Female\",\n",
      "        \"Male\",\n",
      "        \"Male\",\n",
      "        \"Male\",\n",
      "        \"Male\",\n",
      "        \"Male\",\n",
      "        \"Male\",\n",
      "        \"Male\",\n",
      "        \"Female\",\n",
      "        \"Male\",\n",
      "        \"Female\",\n",
      "        \"Female\",\n",
      "        \"Male\",\n",
      "        \"Male\",\n",
      "        \"Male\",\n",
      "        \"Female\",\n",
      "        \"Male\",\n",
      "        \"Male\",\n",
      "        \"Male\",\n",
      "        \"Male\",\n",
      "        \"Male\",\n",
      "        \"Male\",\n",
      "        \"Male\",\n",
      "        \"Female\",\n",
      "        \"Male\",\n",
      "        \"Male\",\n",
      "        \"Male\",\n",
      "        \"Male\",\n",
      "        \"Male\",\n",
      "        \"Female\",\n",
      "        \"Male\",\n",
      "        \"Male\",\n",
      "        \"Female\"\n",
      "      ],\n",
      "      \"xaxis\": \"x\",\n",
      "      \"y\": [\n",
      "        16.99,\n",
      "        10.34,\n",
      "        21.01,\n",
      "        23.68,\n",
      "        24.59,\n",
      "        25.29,\n",
      "        8.77,\n",
      "        26.88,\n",
      "        15.04,\n",
      "        14.78,\n",
      "        10.27,\n",
      "        35.26,\n",
      "        15.42,\n",
      "        18.43,\n",
      "        14.83,\n",
      "        21.58,\n",
      "        10.33,\n",
      "        16.29,\n",
      "        16.97,\n",
      "        20.65,\n",
      "        17.92,\n",
      "        20.29,\n",
      "        15.77,\n",
      "        39.42,\n",
      "        19.82,\n",
      "        17.81,\n",
      "        13.37,\n",
      "        12.69,\n",
      "        21.7,\n",
      "        19.65,\n",
      "        9.55,\n",
      "        18.35,\n",
      "        15.06,\n",
      "        20.69,\n",
      "        17.78,\n",
      "        24.06,\n",
      "        16.31,\n",
      "        16.93,\n",
      "        18.69,\n",
      "        31.27,\n",
      "        16.04,\n",
      "        17.46,\n",
      "        13.94,\n",
      "        9.68,\n",
      "        30.4,\n",
      "        18.29,\n",
      "        22.23,\n",
      "        32.4,\n",
      "        28.55,\n",
      "        18.04,\n",
      "        12.54,\n",
      "        10.29,\n",
      "        34.81,\n",
      "        9.94,\n",
      "        25.56,\n",
      "        19.49,\n",
      "        26.41,\n",
      "        48.27,\n",
      "        17.59,\n",
      "        20.08,\n",
      "        16.45,\n",
      "        20.23,\n",
      "        12.02,\n",
      "        17.07,\n",
      "        14.73,\n",
      "        10.51,\n",
      "        27.2,\n",
      "        22.76,\n",
      "        17.29,\n",
      "        16.66,\n",
      "        10.07,\n",
      "        15.98,\n",
      "        34.83,\n",
      "        13.03,\n",
      "        18.28,\n",
      "        24.71,\n",
      "        21.16,\n",
      "        22.49,\n",
      "        22.75,\n",
      "        12.46,\n",
      "        20.92,\n",
      "        18.24,\n",
      "        14.0,\n",
      "        7.25,\n",
      "        38.07,\n",
      "        23.95,\n",
      "        25.71,\n",
      "        17.31,\n",
      "        29.93,\n",
      "        10.65,\n",
      "        12.43,\n",
      "        24.08,\n",
      "        11.69,\n",
      "        13.42,\n",
      "        14.26,\n",
      "        15.95,\n",
      "        12.48,\n",
      "        29.8,\n",
      "        8.52,\n",
      "        14.52,\n",
      "        11.38,\n",
      "        22.82,\n",
      "        19.08,\n",
      "        20.27,\n",
      "        11.17,\n",
      "        12.26,\n",
      "        18.26,\n",
      "        8.51,\n",
      "        10.33,\n",
      "        14.15,\n",
      "        13.16,\n",
      "        17.47,\n",
      "        34.3,\n",
      "        41.19,\n",
      "        27.05,\n",
      "        16.43,\n",
      "        8.35,\n",
      "        18.64,\n",
      "        11.87,\n",
      "        9.78,\n",
      "        7.51,\n",
      "        14.07,\n",
      "        13.13,\n",
      "        17.26,\n",
      "        24.55,\n",
      "        19.77,\n",
      "        29.85,\n",
      "        48.17,\n",
      "        25.0,\n",
      "        13.39,\n",
      "        16.49,\n",
      "        21.5,\n",
      "        12.66,\n",
      "        16.21,\n",
      "        13.81,\n",
      "        24.52,\n",
      "        20.76,\n",
      "        31.71,\n",
      "        20.69,\n",
      "        7.56,\n",
      "        48.33,\n",
      "        15.98,\n",
      "        20.45,\n",
      "        13.28,\n",
      "        11.61,\n",
      "        10.77,\n",
      "        10.07,\n",
      "        35.83,\n",
      "        29.03,\n",
      "        17.82,\n",
      "        18.78\n",
      "      ],\n",
      "      \"yaxis\": \"y\",\n",
      "      \"type\": \"bar\"\n",
      "    },\n",
      "    {\n",
      "      \"alignmentgroup\": \"True\",\n",
      "      \"hovertemplate\": \"smoker=Yes<br>sex=%{x}<br>total_bill=%{y}<extra></extra>\",\n",
      "      \"legendgroup\": \"Yes\",\n",
      "      \"marker\": {\n",
      "        \"color\": \"#EF553B\",\n",
      "        \"pattern\": {\n",
      "          \"shape\": \"\"\n",
      "        }\n",
      "      },\n",
      "      \"name\": \"Yes\",\n",
      "      \"offsetgroup\": \"Yes\",\n",
      "      \"orientation\": \"v\",\n",
      "      \"showlegend\": true,\n",
      "      \"textposition\": \"auto\",\n",
      "      \"x\": [\n",
      "        \"Male\",\n",
      "        \"Male\",\n",
      "        \"Male\",\n",
      "        \"Male\",\n",
      "        \"Male\",\n",
      "        \"Male\",\n",
      "        \"Female\",\n",
      "        \"Male\",\n",
      "        \"Female\",\n",
      "        \"Female\",\n",
      "        \"Male\",\n",
      "        \"Male\",\n",
      "        \"Male\",\n",
      "        \"Male\",\n",
      "        \"Female\",\n",
      "        \"Female\",\n",
      "        \"Male\",\n",
      "        \"Male\",\n",
      "        \"Male\",\n",
      "        \"Male\",\n",
      "        \"Female\",\n",
      "        \"Female\",\n",
      "        \"Female\",\n",
      "        \"Female\",\n",
      "        \"Male\",\n",
      "        \"Male\",\n",
      "        \"Male\",\n",
      "        \"Female\",\n",
      "        \"Male\",\n",
      "        \"Female\",\n",
      "        \"Female\",\n",
      "        \"Female\",\n",
      "        \"Male\",\n",
      "        \"Male\",\n",
      "        \"Male\",\n",
      "        \"Male\",\n",
      "        \"Male\",\n",
      "        \"Male\",\n",
      "        \"Male\",\n",
      "        \"Male\",\n",
      "        \"Female\",\n",
      "        \"Male\",\n",
      "        \"Male\",\n",
      "        \"Male\",\n",
      "        \"Male\",\n",
      "        \"Male\",\n",
      "        \"Male\",\n",
      "        \"Female\",\n",
      "        \"Male\",\n",
      "        \"Female\",\n",
      "        \"Male\",\n",
      "        \"Male\",\n",
      "        \"Female\",\n",
      "        \"Male\",\n",
      "        \"Male\",\n",
      "        \"Male\",\n",
      "        \"Male\",\n",
      "        \"Female\",\n",
      "        \"Female\",\n",
      "        \"Male\",\n",
      "        \"Male\",\n",
      "        \"Female\",\n",
      "        \"Female\",\n",
      "        \"Female\",\n",
      "        \"Male\",\n",
      "        \"Female\",\n",
      "        \"Male\",\n",
      "        \"Male\",\n",
      "        \"Male\",\n",
      "        \"Female\",\n",
      "        \"Male\",\n",
      "        \"Male\",\n",
      "        \"Female\",\n",
      "        \"Female\",\n",
      "        \"Female\",\n",
      "        \"Male\",\n",
      "        \"Male\",\n",
      "        \"Male\",\n",
      "        \"Female\",\n",
      "        \"Male\",\n",
      "        \"Female\",\n",
      "        \"Male\",\n",
      "        \"Male\",\n",
      "        \"Female\",\n",
      "        \"Female\",\n",
      "        \"Female\",\n",
      "        \"Male\",\n",
      "        \"Male\",\n",
      "        \"Male\",\n",
      "        \"Male\",\n",
      "        \"Male\",\n",
      "        \"Female\",\n",
      "        \"Male\"\n",
      "      ],\n",
      "      \"xaxis\": \"x\",\n",
      "      \"y\": [\n",
      "        38.01,\n",
      "        11.24,\n",
      "        20.29,\n",
      "        13.81,\n",
      "        11.02,\n",
      "        18.29,\n",
      "        3.07,\n",
      "        15.01,\n",
      "        26.86,\n",
      "        25.28,\n",
      "        17.92,\n",
      "        19.44,\n",
      "        32.68,\n",
      "        28.97,\n",
      "        5.75,\n",
      "        16.32,\n",
      "        40.17,\n",
      "        27.28,\n",
      "        12.03,\n",
      "        21.01,\n",
      "        11.35,\n",
      "        15.38,\n",
      "        44.3,\n",
      "        22.42,\n",
      "        15.36,\n",
      "        20.49,\n",
      "        25.21,\n",
      "        14.31,\n",
      "        16.0,\n",
      "        17.51,\n",
      "        10.59,\n",
      "        10.63,\n",
      "        50.81,\n",
      "        15.81,\n",
      "        7.25,\n",
      "        31.85,\n",
      "        16.82,\n",
      "        32.9,\n",
      "        17.89,\n",
      "        14.48,\n",
      "        9.6,\n",
      "        34.63,\n",
      "        34.65,\n",
      "        23.33,\n",
      "        45.35,\n",
      "        23.17,\n",
      "        40.55,\n",
      "        20.9,\n",
      "        30.46,\n",
      "        18.15,\n",
      "        23.1,\n",
      "        15.69,\n",
      "        19.81,\n",
      "        28.44,\n",
      "        15.48,\n",
      "        16.58,\n",
      "        10.34,\n",
      "        43.11,\n",
      "        13.0,\n",
      "        13.51,\n",
      "        18.71,\n",
      "        12.74,\n",
      "        13.0,\n",
      "        16.4,\n",
      "        20.53,\n",
      "        16.47,\n",
      "        26.59,\n",
      "        38.73,\n",
      "        24.27,\n",
      "        12.76,\n",
      "        30.06,\n",
      "        25.89,\n",
      "        13.27,\n",
      "        28.17,\n",
      "        12.9,\n",
      "        28.15,\n",
      "        11.59,\n",
      "        7.74,\n",
      "        30.14,\n",
      "        12.16,\n",
      "        13.42,\n",
      "        8.58,\n",
      "        13.42,\n",
      "        16.27,\n",
      "        10.09,\n",
      "        22.12,\n",
      "        24.01,\n",
      "        15.69,\n",
      "        15.53,\n",
      "        12.6,\n",
      "        32.83,\n",
      "        27.18,\n",
      "        22.67\n",
      "      ],\n",
      "      \"yaxis\": \"y\",\n",
      "      \"type\": \"bar\"\n",
      "    }\n",
      "  ],\n",
      "  \"layout\": {\n",
      "    \"template\": {\n",
      "      \"data\": {\n",
      "        \"histogram2dcontour\": [\n",
      "          {\n",
      "            \"type\": \"histogram2dcontour\",\n",
      "            \"colorbar\": {\n",
      "              \"outlinewidth\": 0,\n",
      "              \"ticks\": \"\"\n",
      "            },\n",
      "            \"colorscale\": [\n",
      "              [\n",
      "                0.0,\n",
      "                \"#0d0887\"\n",
      "              ],\n",
      "              [\n",
      "                0.1111111111111111,\n",
      "                \"#46039f\"\n",
      "              ],\n",
      "              [\n",
      "                0.2222222222222222,\n",
      "                \"#7201a8\"\n",
      "              ],\n",
      "              [\n",
      "                0.3333333333333333,\n",
      "                \"#9c179e\"\n",
      "              ],\n",
      "              [\n",
      "                0.4444444444444444,\n",
      "                \"#bd3786\"\n",
      "              ],\n",
      "              [\n",
      "                0.5555555555555556,\n",
      "                \"#d8576b\"\n",
      "              ],\n",
      "              [\n",
      "                0.6666666666666666,\n",
      "                \"#ed7953\"\n",
      "              ],\n",
      "              [\n",
      "                0.7777777777777778,\n",
      "                \"#fb9f3a\"\n",
      "              ],\n",
      "              [\n",
      "                0.8888888888888888,\n",
      "                \"#fdca26\"\n",
      "              ],\n",
      "              [\n",
      "                1.0,\n",
      "                \"#f0f921\"\n",
      "              ]\n",
      "            ]\n",
      "          }\n",
      "        ],\n",
      "        \"choropleth\": [\n",
      "          {\n",
      "            \"type\": \"choropleth\",\n",
      "            \"colorbar\": {\n",
      "              \"outlinewidth\": 0,\n",
      "              \"ticks\": \"\"\n",
      "            }\n",
      "          }\n",
      "        ],\n",
      "        \"histogram2d\": [\n",
      "          {\n",
      "            \"type\": \"histogram2d\",\n",
      "            \"colorbar\": {\n",
      "              \"outlinewidth\": 0,\n",
      "              \"ticks\": \"\"\n",
      "            },\n",
      "            \"colorscale\": [\n",
      "              [\n",
      "                0.0,\n",
      "                \"#0d0887\"\n",
      "              ],\n",
      "              [\n",
      "                0.1111111111111111,\n",
      "                \"#46039f\"\n",
      "              ],\n",
      "              [\n",
      "                0.2222222222222222,\n",
      "                \"#7201a8\"\n",
      "              ],\n",
      "              [\n",
      "                0.3333333333333333,\n",
      "                \"#9c179e\"\n",
      "              ],\n",
      "              [\n",
      "                0.4444444444444444,\n",
      "                \"#bd3786\"\n",
      "              ],\n",
      "              [\n",
      "                0.5555555555555556,\n",
      "                \"#d8576b\"\n",
      "              ],\n",
      "              [\n",
      "                0.6666666666666666,\n",
      "                \"#ed7953\"\n",
      "              ],\n",
      "              [\n",
      "                0.7777777777777778,\n",
      "                \"#fb9f3a\"\n",
      "              ],\n",
      "              [\n",
      "                0.8888888888888888,\n",
      "                \"#fdca26\"\n",
      "              ],\n",
      "              [\n",
      "                1.0,\n",
      "                \"#f0f921\"\n",
      "              ]\n",
      "            ]\n",
      "          }\n",
      "        ],\n",
      "        \"heatmap\": [\n",
      "          {\n",
      "            \"type\": \"heatmap\",\n",
      "            \"colorbar\": {\n",
      "              \"outlinewidth\": 0,\n",
      "              \"ticks\": \"\"\n",
      "            },\n",
      "            \"colorscale\": [\n",
      "              [\n",
      "                0.0,\n",
      "                \"#0d0887\"\n",
      "              ],\n",
      "              [\n",
      "                0.1111111111111111,\n",
      "                \"#46039f\"\n",
      "              ],\n",
      "              [\n",
      "                0.2222222222222222,\n",
      "                \"#7201a8\"\n",
      "              ],\n",
      "              [\n",
      "                0.3333333333333333,\n",
      "                \"#9c179e\"\n",
      "              ],\n",
      "              [\n",
      "                0.4444444444444444,\n",
      "                \"#bd3786\"\n",
      "              ],\n",
      "              [\n",
      "                0.5555555555555556,\n",
      "                \"#d8576b\"\n",
      "              ],\n",
      "              [\n",
      "                0.6666666666666666,\n",
      "                \"#ed7953\"\n",
      "              ],\n",
      "              [\n",
      "                0.7777777777777778,\n",
      "                \"#fb9f3a\"\n",
      "              ],\n",
      "              [\n",
      "                0.8888888888888888,\n",
      "                \"#fdca26\"\n",
      "              ],\n",
      "              [\n",
      "                1.0,\n",
      "                \"#f0f921\"\n",
      "              ]\n",
      "            ]\n",
      "          }\n",
      "        ],\n",
      "        \"heatmapgl\": [\n",
      "          {\n",
      "            \"type\": \"heatmapgl\",\n",
      "            \"colorbar\": {\n",
      "              \"outlinewidth\": 0,\n",
      "              \"ticks\": \"\"\n",
      "            },\n",
      "            \"colorscale\": [\n",
      "              [\n",
      "                0.0,\n",
      "                \"#0d0887\"\n",
      "              ],\n",
      "              [\n",
      "                0.1111111111111111,\n",
      "                \"#46039f\"\n",
      "              ],\n",
      "              [\n",
      "                0.2222222222222222,\n",
      "                \"#7201a8\"\n",
      "              ],\n",
      "              [\n",
      "                0.3333333333333333,\n",
      "                \"#9c179e\"\n",
      "              ],\n",
      "              [\n",
      "                0.4444444444444444,\n",
      "                \"#bd3786\"\n",
      "              ],\n",
      "              [\n",
      "                0.5555555555555556,\n",
      "                \"#d8576b\"\n",
      "              ],\n",
      "              [\n",
      "                0.6666666666666666,\n",
      "                \"#ed7953\"\n",
      "              ],\n",
      "              [\n",
      "                0.7777777777777778,\n",
      "                \"#fb9f3a\"\n",
      "              ],\n",
      "              [\n",
      "                0.8888888888888888,\n",
      "                \"#fdca26\"\n",
      "              ],\n",
      "              [\n",
      "                1.0,\n",
      "                \"#f0f921\"\n",
      "              ]\n",
      "            ]\n",
      "          }\n",
      "        ],\n",
      "        \"contourcarpet\": [\n",
      "          {\n",
      "            \"type\": \"contourcarpet\",\n",
      "            \"colorbar\": {\n",
      "              \"outlinewidth\": 0,\n",
      "              \"ticks\": \"\"\n",
      "            }\n",
      "          }\n",
      "        ],\n",
      "        \"contour\": [\n",
      "          {\n",
      "            \"type\": \"contour\",\n",
      "            \"colorbar\": {\n",
      "              \"outlinewidth\": 0,\n",
      "              \"ticks\": \"\"\n",
      "            },\n",
      "            \"colorscale\": [\n",
      "              [\n",
      "                0.0,\n",
      "                \"#0d0887\"\n",
      "              ],\n",
      "              [\n",
      "                0.1111111111111111,\n",
      "                \"#46039f\"\n",
      "              ],\n",
      "              [\n",
      "                0.2222222222222222,\n",
      "                \"#7201a8\"\n",
      "              ],\n",
      "              [\n",
      "                0.3333333333333333,\n",
      "                \"#9c179e\"\n",
      "              ],\n",
      "              [\n",
      "                0.4444444444444444,\n",
      "                \"#bd3786\"\n",
      "              ],\n",
      "              [\n",
      "                0.5555555555555556,\n",
      "                \"#d8576b\"\n",
      "              ],\n",
      "              [\n",
      "                0.6666666666666666,\n",
      "                \"#ed7953\"\n",
      "              ],\n",
      "              [\n",
      "                0.7777777777777778,\n",
      "                \"#fb9f3a\"\n",
      "              ],\n",
      "              [\n",
      "                0.8888888888888888,\n",
      "                \"#fdca26\"\n",
      "              ],\n",
      "              [\n",
      "                1.0,\n",
      "                \"#f0f921\"\n",
      "              ]\n",
      "            ]\n",
      "          }\n",
      "        ],\n",
      "        \"surface\": [\n",
      "          {\n",
      "            \"type\": \"surface\",\n",
      "            \"colorbar\": {\n",
      "              \"outlinewidth\": 0,\n",
      "              \"ticks\": \"\"\n",
      "            },\n",
      "            \"colorscale\": [\n",
      "              [\n",
      "                0.0,\n",
      "                \"#0d0887\"\n",
      "              ],\n",
      "              [\n",
      "                0.1111111111111111,\n",
      "                \"#46039f\"\n",
      "              ],\n",
      "              [\n",
      "                0.2222222222222222,\n",
      "                \"#7201a8\"\n",
      "              ],\n",
      "              [\n",
      "                0.3333333333333333,\n",
      "                \"#9c179e\"\n",
      "              ],\n",
      "              [\n",
      "                0.4444444444444444,\n",
      "                \"#bd3786\"\n",
      "              ],\n",
      "              [\n",
      "                0.5555555555555556,\n",
      "                \"#d8576b\"\n",
      "              ],\n",
      "              [\n",
      "                0.6666666666666666,\n",
      "                \"#ed7953\"\n",
      "              ],\n",
      "              [\n",
      "                0.7777777777777778,\n",
      "                \"#fb9f3a\"\n",
      "              ],\n",
      "              [\n",
      "                0.8888888888888888,\n",
      "                \"#fdca26\"\n",
      "              ],\n",
      "              [\n",
      "                1.0,\n",
      "                \"#f0f921\"\n",
      "              ]\n",
      "            ]\n",
      "          }\n",
      "        ],\n",
      "        \"mesh3d\": [\n",
      "          {\n",
      "            \"type\": \"mesh3d\",\n",
      "            \"colorbar\": {\n",
      "              \"outlinewidth\": 0,\n",
      "              \"ticks\": \"\"\n",
      "            }\n",
      "          }\n",
      "        ],\n",
      "        \"scatter\": [\n",
      "          {\n",
      "            \"fillpattern\": {\n",
      "              \"fillmode\": \"overlay\",\n",
      "              \"size\": 10,\n",
      "              \"solidity\": 0.2\n",
      "            },\n",
      "            \"type\": \"scatter\"\n",
      "          }\n",
      "        ],\n",
      "        \"parcoords\": [\n",
      "          {\n",
      "            \"type\": \"parcoords\",\n",
      "            \"line\": {\n",
      "              \"colorbar\": {\n",
      "                \"outlinewidth\": 0,\n",
      "                \"ticks\": \"\"\n",
      "              }\n",
      "            }\n",
      "          }\n",
      "        ],\n",
      "        \"scatterpolargl\": [\n",
      "          {\n",
      "            \"type\": \"scatterpolargl\",\n",
      "            \"marker\": {\n",
      "              \"colorbar\": {\n",
      "                \"outlinewidth\": 0,\n",
      "                \"ticks\": \"\"\n",
      "              }\n",
      "            }\n",
      "          }\n",
      "        ],\n",
      "        \"bar\": [\n",
      "          {\n",
      "            \"error_x\": {\n",
      "              \"color\": \"#2a3f5f\"\n",
      "            },\n",
      "            \"error_y\": {\n",
      "              \"color\": \"#2a3f5f\"\n",
      "            },\n",
      "            \"marker\": {\n",
      "              \"line\": {\n",
      "                \"color\": \"#E5ECF6\",\n",
      "                \"width\": 0.5\n",
      "              },\n",
      "              \"pattern\": {\n",
      "                \"fillmode\": \"overlay\",\n",
      "                \"size\": 10,\n",
      "                \"solidity\": 0.2\n",
      "              }\n",
      "            },\n",
      "            \"type\": \"bar\"\n",
      "          }\n",
      "        ],\n",
      "        \"scattergeo\": [\n",
      "          {\n",
      "            \"type\": \"scattergeo\",\n",
      "            \"marker\": {\n",
      "              \"colorbar\": {\n",
      "                \"outlinewidth\": 0,\n",
      "                \"ticks\": \"\"\n",
      "              }\n",
      "            }\n",
      "          }\n",
      "        ],\n",
      "        \"scatterpolar\": [\n",
      "          {\n",
      "            \"type\": \"scatterpolar\",\n",
      "            \"marker\": {\n",
      "              \"colorbar\": {\n",
      "                \"outlinewidth\": 0,\n",
      "                \"ticks\": \"\"\n",
      "              }\n",
      "            }\n",
      "          }\n",
      "        ],\n",
      "        \"histogram\": [\n",
      "          {\n",
      "            \"marker\": {\n",
      "              \"pattern\": {\n",
      "                \"fillmode\": \"overlay\",\n",
      "                \"size\": 10,\n",
      "                \"solidity\": 0.2\n",
      "              }\n",
      "            },\n",
      "            \"type\": \"histogram\"\n",
      "          }\n",
      "        ],\n",
      "        \"scattergl\": [\n",
      "          {\n",
      "            \"type\": \"scattergl\",\n",
      "            \"marker\": {\n",
      "              \"colorbar\": {\n",
      "                \"outlinewidth\": 0,\n",
      "                \"ticks\": \"\"\n",
      "              }\n",
      "            }\n",
      "          }\n",
      "        ],\n",
      "        \"scatter3d\": [\n",
      "          {\n",
      "            \"type\": \"scatter3d\",\n",
      "            \"line\": {\n",
      "              \"colorbar\": {\n",
      "                \"outlinewidth\": 0,\n",
      "                \"ticks\": \"\"\n",
      "              }\n",
      "            },\n",
      "            \"marker\": {\n",
      "              \"colorbar\": {\n",
      "                \"outlinewidth\": 0,\n",
      "                \"ticks\": \"\"\n",
      "              }\n",
      "            }\n",
      "          }\n",
      "        ],\n",
      "        \"scattermapbox\": [\n",
      "          {\n",
      "            \"type\": \"scattermapbox\",\n",
      "            \"marker\": {\n",
      "              \"colorbar\": {\n",
      "                \"outlinewidth\": 0,\n",
      "                \"ticks\": \"\"\n",
      "              }\n",
      "            }\n",
      "          }\n",
      "        ],\n",
      "        \"scatterternary\": [\n",
      "          {\n",
      "            \"type\": \"scatterternary\",\n",
      "            \"marker\": {\n",
      "              \"colorbar\": {\n",
      "                \"outlinewidth\": 0,\n",
      "                \"ticks\": \"\"\n",
      "              }\n",
      "            }\n",
      "          }\n",
      "        ],\n",
      "        \"scattercarpet\": [\n",
      "          {\n",
      "            \"type\": \"scattercarpet\",\n",
      "            \"marker\": {\n",
      "              \"colorbar\": {\n",
      "                \"outlinewidth\": 0,\n",
      "                \"ticks\": \"\"\n",
      "              }\n",
      "            }\n",
      "          }\n",
      "        ],\n",
      "        \"carpet\": [\n",
      "          {\n",
      "            \"aaxis\": {\n",
      "              \"endlinecolor\": \"#2a3f5f\",\n",
      "              \"gridcolor\": \"white\",\n",
      "              \"linecolor\": \"white\",\n",
      "              \"minorgridcolor\": \"white\",\n",
      "              \"startlinecolor\": \"#2a3f5f\"\n",
      "            },\n",
      "            \"baxis\": {\n",
      "              \"endlinecolor\": \"#2a3f5f\",\n",
      "              \"gridcolor\": \"white\",\n",
      "              \"linecolor\": \"white\",\n",
      "              \"minorgridcolor\": \"white\",\n",
      "              \"startlinecolor\": \"#2a3f5f\"\n",
      "            },\n",
      "            \"type\": \"carpet\"\n",
      "          }\n",
      "        ],\n",
      "        \"table\": [\n",
      "          {\n",
      "            \"cells\": {\n",
      "              \"fill\": {\n",
      "                \"color\": \"#EBF0F8\"\n",
      "              },\n",
      "              \"line\": {\n",
      "                \"color\": \"white\"\n",
      "              }\n",
      "            },\n",
      "            \"header\": {\n",
      "              \"fill\": {\n",
      "                \"color\": \"#C8D4E3\"\n",
      "              },\n",
      "              \"line\": {\n",
      "                \"color\": \"white\"\n",
      "              }\n",
      "            },\n",
      "            \"type\": \"table\"\n",
      "          }\n",
      "        ],\n",
      "        \"barpolar\": [\n",
      "          {\n",
      "            \"marker\": {\n",
      "              \"line\": {\n",
      "                \"color\": \"#E5ECF6\",\n",
      "                \"width\": 0.5\n",
      "              },\n",
      "              \"pattern\": {\n",
      "                \"fillmode\": \"overlay\",\n",
      "                \"size\": 10,\n",
      "                \"solidity\": 0.2\n",
      "              }\n",
      "            },\n",
      "            \"type\": \"barpolar\"\n",
      "          }\n",
      "        ],\n",
      "        \"pie\": [\n",
      "          {\n",
      "            \"automargin\": true,\n",
      "            \"type\": \"pie\"\n",
      "          }\n",
      "        ]\n",
      "      },\n",
      "      \"layout\": {\n",
      "        \"autotypenumbers\": \"strict\",\n",
      "        \"colorway\": [\n",
      "          \"#636efa\",\n",
      "          \"#EF553B\",\n",
      "          \"#00cc96\",\n",
      "          \"#ab63fa\",\n",
      "          \"#FFA15A\",\n",
      "          \"#19d3f3\",\n",
      "          \"#FF6692\",\n",
      "          \"#B6E880\",\n",
      "          \"#FF97FF\",\n",
      "          \"#FECB52\"\n",
      "        ],\n",
      "        \"font\": {\n",
      "          \"color\": \"#2a3f5f\"\n",
      "        },\n",
      "        \"hovermode\": \"closest\",\n",
      "        \"hoverlabel\": {\n",
      "          \"align\": \"left\"\n",
      "        },\n",
      "        \"paper_bgcolor\": \"white\",\n",
      "        \"plot_bgcolor\": \"#E5ECF6\",\n",
      "        \"polar\": {\n",
      "          \"bgcolor\": \"#E5ECF6\",\n",
      "          \"angularaxis\": {\n",
      "            \"gridcolor\": \"white\",\n",
      "            \"linecolor\": \"white\",\n",
      "            \"ticks\": \"\"\n",
      "          },\n",
      "          \"radialaxis\": {\n",
      "            \"gridcolor\": \"white\",\n",
      "            \"linecolor\": \"white\",\n",
      "            \"ticks\": \"\"\n",
      "          }\n",
      "        },\n",
      "        \"ternary\": {\n",
      "          \"bgcolor\": \"#E5ECF6\",\n",
      "          \"aaxis\": {\n",
      "            \"gridcolor\": \"white\",\n",
      "            \"linecolor\": \"white\",\n",
      "            \"ticks\": \"\"\n",
      "          },\n",
      "          \"baxis\": {\n",
      "            \"gridcolor\": \"white\",\n",
      "            \"linecolor\": \"white\",\n",
      "            \"ticks\": \"\"\n",
      "          },\n",
      "          \"caxis\": {\n",
      "            \"gridcolor\": \"white\",\n",
      "            \"linecolor\": \"white\",\n",
      "            \"ticks\": \"\"\n",
      "          }\n",
      "        },\n",
      "        \"coloraxis\": {\n",
      "          \"colorbar\": {\n",
      "            \"outlinewidth\": 0,\n",
      "            \"ticks\": \"\"\n",
      "          }\n",
      "        },\n",
      "        \"colorscale\": {\n",
      "          \"sequential\": [\n",
      "            [\n",
      "              0.0,\n",
      "              \"#0d0887\"\n",
      "            ],\n",
      "            [\n",
      "              0.1111111111111111,\n",
      "              \"#46039f\"\n",
      "            ],\n",
      "            [\n",
      "              0.2222222222222222,\n",
      "              \"#7201a8\"\n",
      "            ],\n",
      "            [\n",
      "              0.3333333333333333,\n",
      "              \"#9c179e\"\n",
      "            ],\n",
      "            [\n",
      "              0.4444444444444444,\n",
      "              \"#bd3786\"\n",
      "            ],\n",
      "            [\n",
      "              0.5555555555555556,\n",
      "              \"#d8576b\"\n",
      "            ],\n",
      "            [\n",
      "              0.6666666666666666,\n",
      "              \"#ed7953\"\n",
      "            ],\n",
      "            [\n",
      "              0.7777777777777778,\n",
      "              \"#fb9f3a\"\n",
      "            ],\n",
      "            [\n",
      "              0.8888888888888888,\n",
      "              \"#fdca26\"\n",
      "            ],\n",
      "            [\n",
      "              1.0,\n",
      "              \"#f0f921\"\n",
      "            ]\n",
      "          ],\n",
      "          \"sequentialminus\": [\n",
      "            [\n",
      "              0.0,\n",
      "              \"#0d0887\"\n",
      "            ],\n",
      "            [\n",
      "              0.1111111111111111,\n",
      "              \"#46039f\"\n",
      "            ],\n",
      "            [\n",
      "              0.2222222222222222,\n",
      "              \"#7201a8\"\n",
      "            ],\n",
      "            [\n",
      "              0.3333333333333333,\n",
      "              \"#9c179e\"\n",
      "            ],\n",
      "            [\n",
      "              0.4444444444444444,\n",
      "              \"#bd3786\"\n",
      "            ],\n",
      "            [\n",
      "              0.5555555555555556,\n",
      "              \"#d8576b\"\n",
      "            ],\n",
      "            [\n",
      "              0.6666666666666666,\n",
      "              \"#ed7953\"\n",
      "            ],\n",
      "            [\n",
      "              0.7777777777777778,\n",
      "              \"#fb9f3a\"\n",
      "            ],\n",
      "            [\n",
      "              0.8888888888888888,\n",
      "              \"#fdca26\"\n",
      "            ],\n",
      "            [\n",
      "              1.0,\n",
      "              \"#f0f921\"\n",
      "            ]\n",
      "          ],\n",
      "          \"diverging\": [\n",
      "            [\n",
      "              0,\n",
      "              \"#8e0152\"\n",
      "            ],\n",
      "            [\n",
      "              0.1,\n",
      "              \"#c51b7d\"\n",
      "            ],\n",
      "            [\n",
      "              0.2,\n",
      "              \"#de77ae\"\n",
      "            ],\n",
      "            [\n",
      "              0.3,\n",
      "              \"#f1b6da\"\n",
      "            ],\n",
      "            [\n",
      "              0.4,\n",
      "              \"#fde0ef\"\n",
      "            ],\n",
      "            [\n",
      "              0.5,\n",
      "              \"#f7f7f7\"\n",
      "            ],\n",
      "            [\n",
      "              0.6,\n",
      "              \"#e6f5d0\"\n",
      "            ],\n",
      "            [\n",
      "              0.7,\n",
      "              \"#b8e186\"\n",
      "            ],\n",
      "            [\n",
      "              0.8,\n",
      "              \"#7fbc41\"\n",
      "            ],\n",
      "            [\n",
      "              0.9,\n",
      "              \"#4d9221\"\n",
      "            ],\n",
      "            [\n",
      "              1,\n",
      "              \"#276419\"\n",
      "            ]\n",
      "          ]\n",
      "        },\n",
      "        \"xaxis\": {\n",
      "          \"gridcolor\": \"white\",\n",
      "          \"linecolor\": \"white\",\n",
      "          \"ticks\": \"\",\n",
      "          \"title\": {\n",
      "            \"standoff\": 15\n",
      "          },\n",
      "          \"zerolinecolor\": \"white\",\n",
      "          \"automargin\": true,\n",
      "          \"zerolinewidth\": 2\n",
      "        },\n",
      "        \"yaxis\": {\n",
      "          \"gridcolor\": \"white\",\n",
      "          \"linecolor\": \"white\",\n",
      "          \"ticks\": \"\",\n",
      "          \"title\": {\n",
      "            \"standoff\": 15\n",
      "          },\n",
      "          \"zerolinecolor\": \"white\",\n",
      "          \"automargin\": true,\n",
      "          \"zerolinewidth\": 2\n",
      "        },\n",
      "        \"scene\": {\n",
      "          \"xaxis\": {\n",
      "            \"backgroundcolor\": \"#E5ECF6\",\n",
      "            \"gridcolor\": \"white\",\n",
      "            \"linecolor\": \"white\",\n",
      "            \"showbackground\": true,\n",
      "            \"ticks\": \"\",\n",
      "            \"zerolinecolor\": \"white\",\n",
      "            \"gridwidth\": 2\n",
      "          },\n",
      "          \"yaxis\": {\n",
      "            \"backgroundcolor\": \"#E5ECF6\",\n",
      "            \"gridcolor\": \"white\",\n",
      "            \"linecolor\": \"white\",\n",
      "            \"showbackground\": true,\n",
      "            \"ticks\": \"\",\n",
      "            \"zerolinecolor\": \"white\",\n",
      "            \"gridwidth\": 2\n",
      "          },\n",
      "          \"zaxis\": {\n",
      "            \"backgroundcolor\": \"#E5ECF6\",\n",
      "            \"gridcolor\": \"white\",\n",
      "            \"linecolor\": \"white\",\n",
      "            \"showbackground\": true,\n",
      "            \"ticks\": \"\",\n",
      "            \"zerolinecolor\": \"white\",\n",
      "            \"gridwidth\": 2\n",
      "          }\n",
      "        },\n",
      "        \"shapedefaults\": {\n",
      "          \"line\": {\n",
      "            \"color\": \"#2a3f5f\"\n",
      "          }\n",
      "        },\n",
      "        \"annotationdefaults\": {\n",
      "          \"arrowcolor\": \"#2a3f5f\",\n",
      "          \"arrowhead\": 0,\n",
      "          \"arrowwidth\": 1\n",
      "        },\n",
      "        \"geo\": {\n",
      "          \"bgcolor\": \"white\",\n",
      "          \"landcolor\": \"#E5ECF6\",\n",
      "          \"subunitcolor\": \"white\",\n",
      "          \"showland\": true,\n",
      "          \"showlakes\": true,\n",
      "          \"lakecolor\": \"white\"\n",
      "        },\n",
      "        \"title\": {\n",
      "          \"x\": 0.05\n",
      "        },\n",
      "        \"mapbox\": {\n",
      "          \"style\": \"light\"\n",
      "        }\n",
      "      }\n",
      "    },\n",
      "    \"xaxis\": {\n",
      "      \"anchor\": \"y\",\n",
      "      \"domain\": [\n",
      "        0.0,\n",
      "        1.0\n",
      "      ],\n",
      "      \"title\": {\n",
      "        \"text\": \"sex\"\n",
      "      }\n",
      "    },\n",
      "    \"yaxis\": {\n",
      "      \"anchor\": \"x\",\n",
      "      \"domain\": [\n",
      "        0.0,\n",
      "        1.0\n",
      "      ],\n",
      "      \"title\": {\n",
      "        \"text\": \"total_bill\"\n",
      "      }\n",
      "    },\n",
      "    \"legend\": {\n",
      "      \"title\": {\n",
      "        \"text\": \"smoker\"\n",
      "      },\n",
      "      \"tracegroupgap\": 0\n",
      "    },\n",
      "    \"margin\": {\n",
      "      \"t\": 60\n",
      "    },\n",
      "    \"barmode\": \"group\",\n",
      "    \"height\": 400\n",
      "  }\n",
      "}\n"
     ]
    }
   ],
   "source": [
    "bg6_json = io.to_json(bar_graph6,pretty=True)\n",
    "print(bg6_json)"
   ]
  },
  {
   "cell_type": "code",
   "execution_count": 93,
   "id": "5d67c828",
   "metadata": {},
   "outputs": [
    {
     "data": {
      "application/vnd.plotly.v1+json": {
       "config": {
        "plotlyServerURL": "https://plot.ly"
       },
       "data": [
        {
         "alignmentgroup": "True",
         "bingroup": "x",
         "histfunc": "sum",
         "hovertemplate": "smoker=No<br>sex=%{x}<br>sum of total_bill=%{y}<extra></extra>",
         "legendgroup": "No",
         "marker": {
          "color": "#636efa",
          "pattern": {
           "shape": ""
          }
         },
         "name": "No",
         "offsetgroup": "No",
         "orientation": "v",
         "showlegend": true,
         "type": "histogram",
         "x": [
          "Female",
          "Male",
          "Male",
          "Male",
          "Female",
          "Male",
          "Male",
          "Male",
          "Male",
          "Male",
          "Male",
          "Female",
          "Male",
          "Male",
          "Female",
          "Male",
          "Female",
          "Male",
          "Female",
          "Male",
          "Male",
          "Female",
          "Female",
          "Male",
          "Male",
          "Male",
          "Male",
          "Male",
          "Male",
          "Female",
          "Male",
          "Male",
          "Female",
          "Female",
          "Male",
          "Male",
          "Male",
          "Female",
          "Male",
          "Male",
          "Male",
          "Male",
          "Male",
          "Male",
          "Male",
          "Male",
          "Male",
          "Male",
          "Male",
          "Male",
          "Male",
          "Female",
          "Female",
          "Male",
          "Male",
          "Male",
          "Female",
          "Male",
          "Male",
          "Male",
          "Female",
          "Male",
          "Male",
          "Female",
          "Female",
          "Male",
          "Male",
          "Male",
          "Male",
          "Male",
          "Female",
          "Male",
          "Female",
          "Male",
          "Male",
          "Male",
          "Male",
          "Male",
          "Female",
          "Male",
          "Female",
          "Male",
          "Male",
          "Female",
          "Male",
          "Male",
          "Female",
          "Female",
          "Male",
          "Female",
          "Female",
          "Female",
          "Male",
          "Female",
          "Male",
          "Male",
          "Female",
          "Female",
          "Male",
          "Female",
          "Female",
          "Male",
          "Male",
          "Female",
          "Female",
          "Female",
          "Female",
          "Female",
          "Female",
          "Female",
          "Female",
          "Female",
          "Male",
          "Male",
          "Female",
          "Female",
          "Female",
          "Female",
          "Female",
          "Male",
          "Male",
          "Male",
          "Male",
          "Male",
          "Male",
          "Male",
          "Female",
          "Male",
          "Female",
          "Female",
          "Male",
          "Male",
          "Male",
          "Female",
          "Male",
          "Male",
          "Male",
          "Male",
          "Male",
          "Male",
          "Male",
          "Female",
          "Male",
          "Male",
          "Male",
          "Male",
          "Male",
          "Female",
          "Male",
          "Male",
          "Female"
         ],
         "xaxis": "x",
         "y": [
          16.99,
          10.34,
          21.01,
          23.68,
          24.59,
          25.29,
          8.77,
          26.88,
          15.04,
          14.78,
          10.27,
          35.26,
          15.42,
          18.43,
          14.83,
          21.58,
          10.33,
          16.29,
          16.97,
          20.65,
          17.92,
          20.29,
          15.77,
          39.42,
          19.82,
          17.81,
          13.37,
          12.69,
          21.7,
          19.65,
          9.55,
          18.35,
          15.06,
          20.69,
          17.78,
          24.06,
          16.31,
          16.93,
          18.69,
          31.27,
          16.04,
          17.46,
          13.94,
          9.68,
          30.4,
          18.29,
          22.23,
          32.4,
          28.55,
          18.04,
          12.54,
          10.29,
          34.81,
          9.94,
          25.56,
          19.49,
          26.41,
          48.27,
          17.59,
          20.08,
          16.45,
          20.23,
          12.02,
          17.07,
          14.73,
          10.51,
          27.2,
          22.76,
          17.29,
          16.66,
          10.07,
          15.98,
          34.83,
          13.03,
          18.28,
          24.71,
          21.16,
          22.49,
          22.75,
          12.46,
          20.92,
          18.24,
          14,
          7.25,
          38.07,
          23.95,
          25.71,
          17.31,
          29.93,
          10.65,
          12.43,
          24.08,
          11.69,
          13.42,
          14.26,
          15.95,
          12.48,
          29.8,
          8.52,
          14.52,
          11.38,
          22.82,
          19.08,
          20.27,
          11.17,
          12.26,
          18.26,
          8.51,
          10.33,
          14.15,
          13.16,
          17.47,
          34.3,
          41.19,
          27.05,
          16.43,
          8.35,
          18.64,
          11.87,
          9.78,
          7.51,
          14.07,
          13.13,
          17.26,
          24.55,
          19.77,
          29.85,
          48.17,
          25,
          13.39,
          16.49,
          21.5,
          12.66,
          16.21,
          13.81,
          24.52,
          20.76,
          31.71,
          20.69,
          7.56,
          48.33,
          15.98,
          20.45,
          13.28,
          11.61,
          10.77,
          10.07,
          35.83,
          29.03,
          17.82,
          18.78
         ],
         "yaxis": "y"
        },
        {
         "alignmentgroup": "True",
         "bingroup": "x",
         "histfunc": "sum",
         "hovertemplate": "smoker=Yes<br>sex=%{x}<br>sum of total_bill=%{y}<extra></extra>",
         "legendgroup": "Yes",
         "marker": {
          "color": "#EF553B",
          "pattern": {
           "shape": ""
          }
         },
         "name": "Yes",
         "offsetgroup": "Yes",
         "orientation": "v",
         "showlegend": true,
         "type": "histogram",
         "x": [
          "Male",
          "Male",
          "Male",
          "Male",
          "Male",
          "Male",
          "Female",
          "Male",
          "Female",
          "Female",
          "Male",
          "Male",
          "Male",
          "Male",
          "Female",
          "Female",
          "Male",
          "Male",
          "Male",
          "Male",
          "Female",
          "Female",
          "Female",
          "Female",
          "Male",
          "Male",
          "Male",
          "Female",
          "Male",
          "Female",
          "Female",
          "Female",
          "Male",
          "Male",
          "Male",
          "Male",
          "Male",
          "Male",
          "Male",
          "Male",
          "Female",
          "Male",
          "Male",
          "Male",
          "Male",
          "Male",
          "Male",
          "Female",
          "Male",
          "Female",
          "Male",
          "Male",
          "Female",
          "Male",
          "Male",
          "Male",
          "Male",
          "Female",
          "Female",
          "Male",
          "Male",
          "Female",
          "Female",
          "Female",
          "Male",
          "Female",
          "Male",
          "Male",
          "Male",
          "Female",
          "Male",
          "Male",
          "Female",
          "Female",
          "Female",
          "Male",
          "Male",
          "Male",
          "Female",
          "Male",
          "Female",
          "Male",
          "Male",
          "Female",
          "Female",
          "Female",
          "Male",
          "Male",
          "Male",
          "Male",
          "Male",
          "Female",
          "Male"
         ],
         "xaxis": "x",
         "y": [
          38.01,
          11.24,
          20.29,
          13.81,
          11.02,
          18.29,
          3.07,
          15.01,
          26.86,
          25.28,
          17.92,
          19.44,
          32.68,
          28.97,
          5.75,
          16.32,
          40.17,
          27.28,
          12.03,
          21.01,
          11.35,
          15.38,
          44.3,
          22.42,
          15.36,
          20.49,
          25.21,
          14.31,
          16,
          17.51,
          10.59,
          10.63,
          50.81,
          15.81,
          7.25,
          31.85,
          16.82,
          32.9,
          17.89,
          14.48,
          9.6,
          34.63,
          34.65,
          23.33,
          45.35,
          23.17,
          40.55,
          20.9,
          30.46,
          18.15,
          23.1,
          15.69,
          19.81,
          28.44,
          15.48,
          16.58,
          10.34,
          43.11,
          13,
          13.51,
          18.71,
          12.74,
          13,
          16.4,
          20.53,
          16.47,
          26.59,
          38.73,
          24.27,
          12.76,
          30.06,
          25.89,
          13.27,
          28.17,
          12.9,
          28.15,
          11.59,
          7.74,
          30.14,
          12.16,
          13.42,
          8.58,
          13.42,
          16.27,
          10.09,
          22.12,
          24.01,
          15.69,
          15.53,
          12.6,
          32.83,
          27.18,
          22.67
         ],
         "yaxis": "y"
        }
       ],
       "layout": {
        "barmode": "group",
        "height": 400,
        "legend": {
         "title": {
          "text": "smoker"
         },
         "tracegroupgap": 0
        },
        "margin": {
         "t": 60
        },
        "template": {
         "data": {
          "bar": [
           {
            "error_x": {
             "color": "#2a3f5f"
            },
            "error_y": {
             "color": "#2a3f5f"
            },
            "marker": {
             "line": {
              "color": "#E5ECF6",
              "width": 0.5
             },
             "pattern": {
              "fillmode": "overlay",
              "size": 10,
              "solidity": 0.2
             }
            },
            "type": "bar"
           }
          ],
          "barpolar": [
           {
            "marker": {
             "line": {
              "color": "#E5ECF6",
              "width": 0.5
             },
             "pattern": {
              "fillmode": "overlay",
              "size": 10,
              "solidity": 0.2
             }
            },
            "type": "barpolar"
           }
          ],
          "carpet": [
           {
            "aaxis": {
             "endlinecolor": "#2a3f5f",
             "gridcolor": "white",
             "linecolor": "white",
             "minorgridcolor": "white",
             "startlinecolor": "#2a3f5f"
            },
            "baxis": {
             "endlinecolor": "#2a3f5f",
             "gridcolor": "white",
             "linecolor": "white",
             "minorgridcolor": "white",
             "startlinecolor": "#2a3f5f"
            },
            "type": "carpet"
           }
          ],
          "choropleth": [
           {
            "colorbar": {
             "outlinewidth": 0,
             "ticks": ""
            },
            "type": "choropleth"
           }
          ],
          "contour": [
           {
            "colorbar": {
             "outlinewidth": 0,
             "ticks": ""
            },
            "colorscale": [
             [
              0,
              "#0d0887"
             ],
             [
              0.1111111111111111,
              "#46039f"
             ],
             [
              0.2222222222222222,
              "#7201a8"
             ],
             [
              0.3333333333333333,
              "#9c179e"
             ],
             [
              0.4444444444444444,
              "#bd3786"
             ],
             [
              0.5555555555555556,
              "#d8576b"
             ],
             [
              0.6666666666666666,
              "#ed7953"
             ],
             [
              0.7777777777777778,
              "#fb9f3a"
             ],
             [
              0.8888888888888888,
              "#fdca26"
             ],
             [
              1,
              "#f0f921"
             ]
            ],
            "type": "contour"
           }
          ],
          "contourcarpet": [
           {
            "colorbar": {
             "outlinewidth": 0,
             "ticks": ""
            },
            "type": "contourcarpet"
           }
          ],
          "heatmap": [
           {
            "colorbar": {
             "outlinewidth": 0,
             "ticks": ""
            },
            "colorscale": [
             [
              0,
              "#0d0887"
             ],
             [
              0.1111111111111111,
              "#46039f"
             ],
             [
              0.2222222222222222,
              "#7201a8"
             ],
             [
              0.3333333333333333,
              "#9c179e"
             ],
             [
              0.4444444444444444,
              "#bd3786"
             ],
             [
              0.5555555555555556,
              "#d8576b"
             ],
             [
              0.6666666666666666,
              "#ed7953"
             ],
             [
              0.7777777777777778,
              "#fb9f3a"
             ],
             [
              0.8888888888888888,
              "#fdca26"
             ],
             [
              1,
              "#f0f921"
             ]
            ],
            "type": "heatmap"
           }
          ],
          "heatmapgl": [
           {
            "colorbar": {
             "outlinewidth": 0,
             "ticks": ""
            },
            "colorscale": [
             [
              0,
              "#0d0887"
             ],
             [
              0.1111111111111111,
              "#46039f"
             ],
             [
              0.2222222222222222,
              "#7201a8"
             ],
             [
              0.3333333333333333,
              "#9c179e"
             ],
             [
              0.4444444444444444,
              "#bd3786"
             ],
             [
              0.5555555555555556,
              "#d8576b"
             ],
             [
              0.6666666666666666,
              "#ed7953"
             ],
             [
              0.7777777777777778,
              "#fb9f3a"
             ],
             [
              0.8888888888888888,
              "#fdca26"
             ],
             [
              1,
              "#f0f921"
             ]
            ],
            "type": "heatmapgl"
           }
          ],
          "histogram": [
           {
            "marker": {
             "pattern": {
              "fillmode": "overlay",
              "size": 10,
              "solidity": 0.2
             }
            },
            "type": "histogram"
           }
          ],
          "histogram2d": [
           {
            "colorbar": {
             "outlinewidth": 0,
             "ticks": ""
            },
            "colorscale": [
             [
              0,
              "#0d0887"
             ],
             [
              0.1111111111111111,
              "#46039f"
             ],
             [
              0.2222222222222222,
              "#7201a8"
             ],
             [
              0.3333333333333333,
              "#9c179e"
             ],
             [
              0.4444444444444444,
              "#bd3786"
             ],
             [
              0.5555555555555556,
              "#d8576b"
             ],
             [
              0.6666666666666666,
              "#ed7953"
             ],
             [
              0.7777777777777778,
              "#fb9f3a"
             ],
             [
              0.8888888888888888,
              "#fdca26"
             ],
             [
              1,
              "#f0f921"
             ]
            ],
            "type": "histogram2d"
           }
          ],
          "histogram2dcontour": [
           {
            "colorbar": {
             "outlinewidth": 0,
             "ticks": ""
            },
            "colorscale": [
             [
              0,
              "#0d0887"
             ],
             [
              0.1111111111111111,
              "#46039f"
             ],
             [
              0.2222222222222222,
              "#7201a8"
             ],
             [
              0.3333333333333333,
              "#9c179e"
             ],
             [
              0.4444444444444444,
              "#bd3786"
             ],
             [
              0.5555555555555556,
              "#d8576b"
             ],
             [
              0.6666666666666666,
              "#ed7953"
             ],
             [
              0.7777777777777778,
              "#fb9f3a"
             ],
             [
              0.8888888888888888,
              "#fdca26"
             ],
             [
              1,
              "#f0f921"
             ]
            ],
            "type": "histogram2dcontour"
           }
          ],
          "mesh3d": [
           {
            "colorbar": {
             "outlinewidth": 0,
             "ticks": ""
            },
            "type": "mesh3d"
           }
          ],
          "parcoords": [
           {
            "line": {
             "colorbar": {
              "outlinewidth": 0,
              "ticks": ""
             }
            },
            "type": "parcoords"
           }
          ],
          "pie": [
           {
            "automargin": true,
            "type": "pie"
           }
          ],
          "scatter": [
           {
            "fillpattern": {
             "fillmode": "overlay",
             "size": 10,
             "solidity": 0.2
            },
            "type": "scatter"
           }
          ],
          "scatter3d": [
           {
            "line": {
             "colorbar": {
              "outlinewidth": 0,
              "ticks": ""
             }
            },
            "marker": {
             "colorbar": {
              "outlinewidth": 0,
              "ticks": ""
             }
            },
            "type": "scatter3d"
           }
          ],
          "scattercarpet": [
           {
            "marker": {
             "colorbar": {
              "outlinewidth": 0,
              "ticks": ""
             }
            },
            "type": "scattercarpet"
           }
          ],
          "scattergeo": [
           {
            "marker": {
             "colorbar": {
              "outlinewidth": 0,
              "ticks": ""
             }
            },
            "type": "scattergeo"
           }
          ],
          "scattergl": [
           {
            "marker": {
             "colorbar": {
              "outlinewidth": 0,
              "ticks": ""
             }
            },
            "type": "scattergl"
           }
          ],
          "scattermapbox": [
           {
            "marker": {
             "colorbar": {
              "outlinewidth": 0,
              "ticks": ""
             }
            },
            "type": "scattermapbox"
           }
          ],
          "scatterpolar": [
           {
            "marker": {
             "colorbar": {
              "outlinewidth": 0,
              "ticks": ""
             }
            },
            "type": "scatterpolar"
           }
          ],
          "scatterpolargl": [
           {
            "marker": {
             "colorbar": {
              "outlinewidth": 0,
              "ticks": ""
             }
            },
            "type": "scatterpolargl"
           }
          ],
          "scatterternary": [
           {
            "marker": {
             "colorbar": {
              "outlinewidth": 0,
              "ticks": ""
             }
            },
            "type": "scatterternary"
           }
          ],
          "surface": [
           {
            "colorbar": {
             "outlinewidth": 0,
             "ticks": ""
            },
            "colorscale": [
             [
              0,
              "#0d0887"
             ],
             [
              0.1111111111111111,
              "#46039f"
             ],
             [
              0.2222222222222222,
              "#7201a8"
             ],
             [
              0.3333333333333333,
              "#9c179e"
             ],
             [
              0.4444444444444444,
              "#bd3786"
             ],
             [
              0.5555555555555556,
              "#d8576b"
             ],
             [
              0.6666666666666666,
              "#ed7953"
             ],
             [
              0.7777777777777778,
              "#fb9f3a"
             ],
             [
              0.8888888888888888,
              "#fdca26"
             ],
             [
              1,
              "#f0f921"
             ]
            ],
            "type": "surface"
           }
          ],
          "table": [
           {
            "cells": {
             "fill": {
              "color": "#EBF0F8"
             },
             "line": {
              "color": "white"
             }
            },
            "header": {
             "fill": {
              "color": "#C8D4E3"
             },
             "line": {
              "color": "white"
             }
            },
            "type": "table"
           }
          ]
         },
         "layout": {
          "annotationdefaults": {
           "arrowcolor": "#2a3f5f",
           "arrowhead": 0,
           "arrowwidth": 1
          },
          "autotypenumbers": "strict",
          "coloraxis": {
           "colorbar": {
            "outlinewidth": 0,
            "ticks": ""
           }
          },
          "colorscale": {
           "diverging": [
            [
             0,
             "#8e0152"
            ],
            [
             0.1,
             "#c51b7d"
            ],
            [
             0.2,
             "#de77ae"
            ],
            [
             0.3,
             "#f1b6da"
            ],
            [
             0.4,
             "#fde0ef"
            ],
            [
             0.5,
             "#f7f7f7"
            ],
            [
             0.6,
             "#e6f5d0"
            ],
            [
             0.7,
             "#b8e186"
            ],
            [
             0.8,
             "#7fbc41"
            ],
            [
             0.9,
             "#4d9221"
            ],
            [
             1,
             "#276419"
            ]
           ],
           "sequential": [
            [
             0,
             "#0d0887"
            ],
            [
             0.1111111111111111,
             "#46039f"
            ],
            [
             0.2222222222222222,
             "#7201a8"
            ],
            [
             0.3333333333333333,
             "#9c179e"
            ],
            [
             0.4444444444444444,
             "#bd3786"
            ],
            [
             0.5555555555555556,
             "#d8576b"
            ],
            [
             0.6666666666666666,
             "#ed7953"
            ],
            [
             0.7777777777777778,
             "#fb9f3a"
            ],
            [
             0.8888888888888888,
             "#fdca26"
            ],
            [
             1,
             "#f0f921"
            ]
           ],
           "sequentialminus": [
            [
             0,
             "#0d0887"
            ],
            [
             0.1111111111111111,
             "#46039f"
            ],
            [
             0.2222222222222222,
             "#7201a8"
            ],
            [
             0.3333333333333333,
             "#9c179e"
            ],
            [
             0.4444444444444444,
             "#bd3786"
            ],
            [
             0.5555555555555556,
             "#d8576b"
            ],
            [
             0.6666666666666666,
             "#ed7953"
            ],
            [
             0.7777777777777778,
             "#fb9f3a"
            ],
            [
             0.8888888888888888,
             "#fdca26"
            ],
            [
             1,
             "#f0f921"
            ]
           ]
          },
          "colorway": [
           "#636efa",
           "#EF553B",
           "#00cc96",
           "#ab63fa",
           "#FFA15A",
           "#19d3f3",
           "#FF6692",
           "#B6E880",
           "#FF97FF",
           "#FECB52"
          ],
          "font": {
           "color": "#2a3f5f"
          },
          "geo": {
           "bgcolor": "white",
           "lakecolor": "white",
           "landcolor": "#E5ECF6",
           "showlakes": true,
           "showland": true,
           "subunitcolor": "white"
          },
          "hoverlabel": {
           "align": "left"
          },
          "hovermode": "closest",
          "mapbox": {
           "style": "light"
          },
          "paper_bgcolor": "white",
          "plot_bgcolor": "#E5ECF6",
          "polar": {
           "angularaxis": {
            "gridcolor": "white",
            "linecolor": "white",
            "ticks": ""
           },
           "bgcolor": "#E5ECF6",
           "radialaxis": {
            "gridcolor": "white",
            "linecolor": "white",
            "ticks": ""
           }
          },
          "scene": {
           "xaxis": {
            "backgroundcolor": "#E5ECF6",
            "gridcolor": "white",
            "gridwidth": 2,
            "linecolor": "white",
            "showbackground": true,
            "ticks": "",
            "zerolinecolor": "white"
           },
           "yaxis": {
            "backgroundcolor": "#E5ECF6",
            "gridcolor": "white",
            "gridwidth": 2,
            "linecolor": "white",
            "showbackground": true,
            "ticks": "",
            "zerolinecolor": "white"
           },
           "zaxis": {
            "backgroundcolor": "#E5ECF6",
            "gridcolor": "white",
            "gridwidth": 2,
            "linecolor": "white",
            "showbackground": true,
            "ticks": "",
            "zerolinecolor": "white"
           }
          },
          "shapedefaults": {
           "line": {
            "color": "#2a3f5f"
           }
          },
          "ternary": {
           "aaxis": {
            "gridcolor": "white",
            "linecolor": "white",
            "ticks": ""
           },
           "baxis": {
            "gridcolor": "white",
            "linecolor": "white",
            "ticks": ""
           },
           "bgcolor": "#E5ECF6",
           "caxis": {
            "gridcolor": "white",
            "linecolor": "white",
            "ticks": ""
           }
          },
          "title": {
           "x": 0.05
          },
          "xaxis": {
           "automargin": true,
           "gridcolor": "white",
           "linecolor": "white",
           "ticks": "",
           "title": {
            "standoff": 15
           },
           "zerolinecolor": "white",
           "zerolinewidth": 2
          },
          "yaxis": {
           "automargin": true,
           "gridcolor": "white",
           "linecolor": "white",
           "ticks": "",
           "title": {
            "standoff": 15
           },
           "zerolinecolor": "white",
           "zerolinewidth": 2
          }
         }
        },
        "xaxis": {
         "anchor": "y",
         "domain": [
          0,
          1
         ],
         "title": {
          "text": "sex"
         }
        },
        "yaxis": {
         "anchor": "x",
         "domain": [
          0,
          1
         ],
         "title": {
          "text": "sum of total_bill"
         }
        }
       }
      },
      "text/html": [
       "<div>                            <div id=\"8323f2db-ee9f-4715-9d7f-87f94609cfcc\" class=\"plotly-graph-div\" style=\"height:400px; width:100%;\"></div>            <script type=\"text/javascript\">                require([\"plotly\"], function(Plotly) {                    window.PLOTLYENV=window.PLOTLYENV || {};                                    if (document.getElementById(\"8323f2db-ee9f-4715-9d7f-87f94609cfcc\")) {                    Plotly.newPlot(                        \"8323f2db-ee9f-4715-9d7f-87f94609cfcc\",                        [{\"alignmentgroup\":\"True\",\"bingroup\":\"x\",\"histfunc\":\"sum\",\"hovertemplate\":\"smoker=No<br>sex=%{x}<br>sum of total_bill=%{y}<extra></extra>\",\"legendgroup\":\"No\",\"marker\":{\"color\":\"#636efa\",\"pattern\":{\"shape\":\"\"}},\"name\":\"No\",\"offsetgroup\":\"No\",\"orientation\":\"v\",\"showlegend\":true,\"x\":[\"Female\",\"Male\",\"Male\",\"Male\",\"Female\",\"Male\",\"Male\",\"Male\",\"Male\",\"Male\",\"Male\",\"Female\",\"Male\",\"Male\",\"Female\",\"Male\",\"Female\",\"Male\",\"Female\",\"Male\",\"Male\",\"Female\",\"Female\",\"Male\",\"Male\",\"Male\",\"Male\",\"Male\",\"Male\",\"Female\",\"Male\",\"Male\",\"Female\",\"Female\",\"Male\",\"Male\",\"Male\",\"Female\",\"Male\",\"Male\",\"Male\",\"Male\",\"Male\",\"Male\",\"Male\",\"Male\",\"Male\",\"Male\",\"Male\",\"Male\",\"Male\",\"Female\",\"Female\",\"Male\",\"Male\",\"Male\",\"Female\",\"Male\",\"Male\",\"Male\",\"Female\",\"Male\",\"Male\",\"Female\",\"Female\",\"Male\",\"Male\",\"Male\",\"Male\",\"Male\",\"Female\",\"Male\",\"Female\",\"Male\",\"Male\",\"Male\",\"Male\",\"Male\",\"Female\",\"Male\",\"Female\",\"Male\",\"Male\",\"Female\",\"Male\",\"Male\",\"Female\",\"Female\",\"Male\",\"Female\",\"Female\",\"Female\",\"Male\",\"Female\",\"Male\",\"Male\",\"Female\",\"Female\",\"Male\",\"Female\",\"Female\",\"Male\",\"Male\",\"Female\",\"Female\",\"Female\",\"Female\",\"Female\",\"Female\",\"Female\",\"Female\",\"Female\",\"Male\",\"Male\",\"Female\",\"Female\",\"Female\",\"Female\",\"Female\",\"Male\",\"Male\",\"Male\",\"Male\",\"Male\",\"Male\",\"Male\",\"Female\",\"Male\",\"Female\",\"Female\",\"Male\",\"Male\",\"Male\",\"Female\",\"Male\",\"Male\",\"Male\",\"Male\",\"Male\",\"Male\",\"Male\",\"Female\",\"Male\",\"Male\",\"Male\",\"Male\",\"Male\",\"Female\",\"Male\",\"Male\",\"Female\"],\"xaxis\":\"x\",\"y\":[16.99,10.34,21.01,23.68,24.59,25.29,8.77,26.88,15.04,14.78,10.27,35.26,15.42,18.43,14.83,21.58,10.33,16.29,16.97,20.65,17.92,20.29,15.77,39.42,19.82,17.81,13.37,12.69,21.7,19.65,9.55,18.35,15.06,20.69,17.78,24.06,16.31,16.93,18.69,31.27,16.04,17.46,13.94,9.68,30.4,18.29,22.23,32.4,28.55,18.04,12.54,10.29,34.81,9.94,25.56,19.49,26.41,48.27,17.59,20.08,16.45,20.23,12.02,17.07,14.73,10.51,27.2,22.76,17.29,16.66,10.07,15.98,34.83,13.03,18.28,24.71,21.16,22.49,22.75,12.46,20.92,18.24,14.0,7.25,38.07,23.95,25.71,17.31,29.93,10.65,12.43,24.08,11.69,13.42,14.26,15.95,12.48,29.8,8.52,14.52,11.38,22.82,19.08,20.27,11.17,12.26,18.26,8.51,10.33,14.15,13.16,17.47,34.3,41.19,27.05,16.43,8.35,18.64,11.87,9.78,7.51,14.07,13.13,17.26,24.55,19.77,29.85,48.17,25.0,13.39,16.49,21.5,12.66,16.21,13.81,24.52,20.76,31.71,20.69,7.56,48.33,15.98,20.45,13.28,11.61,10.77,10.07,35.83,29.03,17.82,18.78],\"yaxis\":\"y\",\"type\":\"histogram\"},{\"alignmentgroup\":\"True\",\"bingroup\":\"x\",\"histfunc\":\"sum\",\"hovertemplate\":\"smoker=Yes<br>sex=%{x}<br>sum of total_bill=%{y}<extra></extra>\",\"legendgroup\":\"Yes\",\"marker\":{\"color\":\"#EF553B\",\"pattern\":{\"shape\":\"\"}},\"name\":\"Yes\",\"offsetgroup\":\"Yes\",\"orientation\":\"v\",\"showlegend\":true,\"x\":[\"Male\",\"Male\",\"Male\",\"Male\",\"Male\",\"Male\",\"Female\",\"Male\",\"Female\",\"Female\",\"Male\",\"Male\",\"Male\",\"Male\",\"Female\",\"Female\",\"Male\",\"Male\",\"Male\",\"Male\",\"Female\",\"Female\",\"Female\",\"Female\",\"Male\",\"Male\",\"Male\",\"Female\",\"Male\",\"Female\",\"Female\",\"Female\",\"Male\",\"Male\",\"Male\",\"Male\",\"Male\",\"Male\",\"Male\",\"Male\",\"Female\",\"Male\",\"Male\",\"Male\",\"Male\",\"Male\",\"Male\",\"Female\",\"Male\",\"Female\",\"Male\",\"Male\",\"Female\",\"Male\",\"Male\",\"Male\",\"Male\",\"Female\",\"Female\",\"Male\",\"Male\",\"Female\",\"Female\",\"Female\",\"Male\",\"Female\",\"Male\",\"Male\",\"Male\",\"Female\",\"Male\",\"Male\",\"Female\",\"Female\",\"Female\",\"Male\",\"Male\",\"Male\",\"Female\",\"Male\",\"Female\",\"Male\",\"Male\",\"Female\",\"Female\",\"Female\",\"Male\",\"Male\",\"Male\",\"Male\",\"Male\",\"Female\",\"Male\"],\"xaxis\":\"x\",\"y\":[38.01,11.24,20.29,13.81,11.02,18.29,3.07,15.01,26.86,25.28,17.92,19.44,32.68,28.97,5.75,16.32,40.17,27.28,12.03,21.01,11.35,15.38,44.3,22.42,15.36,20.49,25.21,14.31,16.0,17.51,10.59,10.63,50.81,15.81,7.25,31.85,16.82,32.9,17.89,14.48,9.6,34.63,34.65,23.33,45.35,23.17,40.55,20.9,30.46,18.15,23.1,15.69,19.81,28.44,15.48,16.58,10.34,43.11,13.0,13.51,18.71,12.74,13.0,16.4,20.53,16.47,26.59,38.73,24.27,12.76,30.06,25.89,13.27,28.17,12.9,28.15,11.59,7.74,30.14,12.16,13.42,8.58,13.42,16.27,10.09,22.12,24.01,15.69,15.53,12.6,32.83,27.18,22.67],\"yaxis\":\"y\",\"type\":\"histogram\"}],                        {\"template\":{\"data\":{\"histogram2dcontour\":[{\"type\":\"histogram2dcontour\",\"colorbar\":{\"outlinewidth\":0,\"ticks\":\"\"},\"colorscale\":[[0.0,\"#0d0887\"],[0.1111111111111111,\"#46039f\"],[0.2222222222222222,\"#7201a8\"],[0.3333333333333333,\"#9c179e\"],[0.4444444444444444,\"#bd3786\"],[0.5555555555555556,\"#d8576b\"],[0.6666666666666666,\"#ed7953\"],[0.7777777777777778,\"#fb9f3a\"],[0.8888888888888888,\"#fdca26\"],[1.0,\"#f0f921\"]]}],\"choropleth\":[{\"type\":\"choropleth\",\"colorbar\":{\"outlinewidth\":0,\"ticks\":\"\"}}],\"histogram2d\":[{\"type\":\"histogram2d\",\"colorbar\":{\"outlinewidth\":0,\"ticks\":\"\"},\"colorscale\":[[0.0,\"#0d0887\"],[0.1111111111111111,\"#46039f\"],[0.2222222222222222,\"#7201a8\"],[0.3333333333333333,\"#9c179e\"],[0.4444444444444444,\"#bd3786\"],[0.5555555555555556,\"#d8576b\"],[0.6666666666666666,\"#ed7953\"],[0.7777777777777778,\"#fb9f3a\"],[0.8888888888888888,\"#fdca26\"],[1.0,\"#f0f921\"]]}],\"heatmap\":[{\"type\":\"heatmap\",\"colorbar\":{\"outlinewidth\":0,\"ticks\":\"\"},\"colorscale\":[[0.0,\"#0d0887\"],[0.1111111111111111,\"#46039f\"],[0.2222222222222222,\"#7201a8\"],[0.3333333333333333,\"#9c179e\"],[0.4444444444444444,\"#bd3786\"],[0.5555555555555556,\"#d8576b\"],[0.6666666666666666,\"#ed7953\"],[0.7777777777777778,\"#fb9f3a\"],[0.8888888888888888,\"#fdca26\"],[1.0,\"#f0f921\"]]}],\"heatmapgl\":[{\"type\":\"heatmapgl\",\"colorbar\":{\"outlinewidth\":0,\"ticks\":\"\"},\"colorscale\":[[0.0,\"#0d0887\"],[0.1111111111111111,\"#46039f\"],[0.2222222222222222,\"#7201a8\"],[0.3333333333333333,\"#9c179e\"],[0.4444444444444444,\"#bd3786\"],[0.5555555555555556,\"#d8576b\"],[0.6666666666666666,\"#ed7953\"],[0.7777777777777778,\"#fb9f3a\"],[0.8888888888888888,\"#fdca26\"],[1.0,\"#f0f921\"]]}],\"contourcarpet\":[{\"type\":\"contourcarpet\",\"colorbar\":{\"outlinewidth\":0,\"ticks\":\"\"}}],\"contour\":[{\"type\":\"contour\",\"colorbar\":{\"outlinewidth\":0,\"ticks\":\"\"},\"colorscale\":[[0.0,\"#0d0887\"],[0.1111111111111111,\"#46039f\"],[0.2222222222222222,\"#7201a8\"],[0.3333333333333333,\"#9c179e\"],[0.4444444444444444,\"#bd3786\"],[0.5555555555555556,\"#d8576b\"],[0.6666666666666666,\"#ed7953\"],[0.7777777777777778,\"#fb9f3a\"],[0.8888888888888888,\"#fdca26\"],[1.0,\"#f0f921\"]]}],\"surface\":[{\"type\":\"surface\",\"colorbar\":{\"outlinewidth\":0,\"ticks\":\"\"},\"colorscale\":[[0.0,\"#0d0887\"],[0.1111111111111111,\"#46039f\"],[0.2222222222222222,\"#7201a8\"],[0.3333333333333333,\"#9c179e\"],[0.4444444444444444,\"#bd3786\"],[0.5555555555555556,\"#d8576b\"],[0.6666666666666666,\"#ed7953\"],[0.7777777777777778,\"#fb9f3a\"],[0.8888888888888888,\"#fdca26\"],[1.0,\"#f0f921\"]]}],\"mesh3d\":[{\"type\":\"mesh3d\",\"colorbar\":{\"outlinewidth\":0,\"ticks\":\"\"}}],\"scatter\":[{\"fillpattern\":{\"fillmode\":\"overlay\",\"size\":10,\"solidity\":0.2},\"type\":\"scatter\"}],\"parcoords\":[{\"type\":\"parcoords\",\"line\":{\"colorbar\":{\"outlinewidth\":0,\"ticks\":\"\"}}}],\"scatterpolargl\":[{\"type\":\"scatterpolargl\",\"marker\":{\"colorbar\":{\"outlinewidth\":0,\"ticks\":\"\"}}}],\"bar\":[{\"error_x\":{\"color\":\"#2a3f5f\"},\"error_y\":{\"color\":\"#2a3f5f\"},\"marker\":{\"line\":{\"color\":\"#E5ECF6\",\"width\":0.5},\"pattern\":{\"fillmode\":\"overlay\",\"size\":10,\"solidity\":0.2}},\"type\":\"bar\"}],\"scattergeo\":[{\"type\":\"scattergeo\",\"marker\":{\"colorbar\":{\"outlinewidth\":0,\"ticks\":\"\"}}}],\"scatterpolar\":[{\"type\":\"scatterpolar\",\"marker\":{\"colorbar\":{\"outlinewidth\":0,\"ticks\":\"\"}}}],\"histogram\":[{\"marker\":{\"pattern\":{\"fillmode\":\"overlay\",\"size\":10,\"solidity\":0.2}},\"type\":\"histogram\"}],\"scattergl\":[{\"type\":\"scattergl\",\"marker\":{\"colorbar\":{\"outlinewidth\":0,\"ticks\":\"\"}}}],\"scatter3d\":[{\"type\":\"scatter3d\",\"line\":{\"colorbar\":{\"outlinewidth\":0,\"ticks\":\"\"}},\"marker\":{\"colorbar\":{\"outlinewidth\":0,\"ticks\":\"\"}}}],\"scattermapbox\":[{\"type\":\"scattermapbox\",\"marker\":{\"colorbar\":{\"outlinewidth\":0,\"ticks\":\"\"}}}],\"scatterternary\":[{\"type\":\"scatterternary\",\"marker\":{\"colorbar\":{\"outlinewidth\":0,\"ticks\":\"\"}}}],\"scattercarpet\":[{\"type\":\"scattercarpet\",\"marker\":{\"colorbar\":{\"outlinewidth\":0,\"ticks\":\"\"}}}],\"carpet\":[{\"aaxis\":{\"endlinecolor\":\"#2a3f5f\",\"gridcolor\":\"white\",\"linecolor\":\"white\",\"minorgridcolor\":\"white\",\"startlinecolor\":\"#2a3f5f\"},\"baxis\":{\"endlinecolor\":\"#2a3f5f\",\"gridcolor\":\"white\",\"linecolor\":\"white\",\"minorgridcolor\":\"white\",\"startlinecolor\":\"#2a3f5f\"},\"type\":\"carpet\"}],\"table\":[{\"cells\":{\"fill\":{\"color\":\"#EBF0F8\"},\"line\":{\"color\":\"white\"}},\"header\":{\"fill\":{\"color\":\"#C8D4E3\"},\"line\":{\"color\":\"white\"}},\"type\":\"table\"}],\"barpolar\":[{\"marker\":{\"line\":{\"color\":\"#E5ECF6\",\"width\":0.5},\"pattern\":{\"fillmode\":\"overlay\",\"size\":10,\"solidity\":0.2}},\"type\":\"barpolar\"}],\"pie\":[{\"automargin\":true,\"type\":\"pie\"}]},\"layout\":{\"autotypenumbers\":\"strict\",\"colorway\":[\"#636efa\",\"#EF553B\",\"#00cc96\",\"#ab63fa\",\"#FFA15A\",\"#19d3f3\",\"#FF6692\",\"#B6E880\",\"#FF97FF\",\"#FECB52\"],\"font\":{\"color\":\"#2a3f5f\"},\"hovermode\":\"closest\",\"hoverlabel\":{\"align\":\"left\"},\"paper_bgcolor\":\"white\",\"plot_bgcolor\":\"#E5ECF6\",\"polar\":{\"bgcolor\":\"#E5ECF6\",\"angularaxis\":{\"gridcolor\":\"white\",\"linecolor\":\"white\",\"ticks\":\"\"},\"radialaxis\":{\"gridcolor\":\"white\",\"linecolor\":\"white\",\"ticks\":\"\"}},\"ternary\":{\"bgcolor\":\"#E5ECF6\",\"aaxis\":{\"gridcolor\":\"white\",\"linecolor\":\"white\",\"ticks\":\"\"},\"baxis\":{\"gridcolor\":\"white\",\"linecolor\":\"white\",\"ticks\":\"\"},\"caxis\":{\"gridcolor\":\"white\",\"linecolor\":\"white\",\"ticks\":\"\"}},\"coloraxis\":{\"colorbar\":{\"outlinewidth\":0,\"ticks\":\"\"}},\"colorscale\":{\"sequential\":[[0.0,\"#0d0887\"],[0.1111111111111111,\"#46039f\"],[0.2222222222222222,\"#7201a8\"],[0.3333333333333333,\"#9c179e\"],[0.4444444444444444,\"#bd3786\"],[0.5555555555555556,\"#d8576b\"],[0.6666666666666666,\"#ed7953\"],[0.7777777777777778,\"#fb9f3a\"],[0.8888888888888888,\"#fdca26\"],[1.0,\"#f0f921\"]],\"sequentialminus\":[[0.0,\"#0d0887\"],[0.1111111111111111,\"#46039f\"],[0.2222222222222222,\"#7201a8\"],[0.3333333333333333,\"#9c179e\"],[0.4444444444444444,\"#bd3786\"],[0.5555555555555556,\"#d8576b\"],[0.6666666666666666,\"#ed7953\"],[0.7777777777777778,\"#fb9f3a\"],[0.8888888888888888,\"#fdca26\"],[1.0,\"#f0f921\"]],\"diverging\":[[0,\"#8e0152\"],[0.1,\"#c51b7d\"],[0.2,\"#de77ae\"],[0.3,\"#f1b6da\"],[0.4,\"#fde0ef\"],[0.5,\"#f7f7f7\"],[0.6,\"#e6f5d0\"],[0.7,\"#b8e186\"],[0.8,\"#7fbc41\"],[0.9,\"#4d9221\"],[1,\"#276419\"]]},\"xaxis\":{\"gridcolor\":\"white\",\"linecolor\":\"white\",\"ticks\":\"\",\"title\":{\"standoff\":15},\"zerolinecolor\":\"white\",\"automargin\":true,\"zerolinewidth\":2},\"yaxis\":{\"gridcolor\":\"white\",\"linecolor\":\"white\",\"ticks\":\"\",\"title\":{\"standoff\":15},\"zerolinecolor\":\"white\",\"automargin\":true,\"zerolinewidth\":2},\"scene\":{\"xaxis\":{\"backgroundcolor\":\"#E5ECF6\",\"gridcolor\":\"white\",\"linecolor\":\"white\",\"showbackground\":true,\"ticks\":\"\",\"zerolinecolor\":\"white\",\"gridwidth\":2},\"yaxis\":{\"backgroundcolor\":\"#E5ECF6\",\"gridcolor\":\"white\",\"linecolor\":\"white\",\"showbackground\":true,\"ticks\":\"\",\"zerolinecolor\":\"white\",\"gridwidth\":2},\"zaxis\":{\"backgroundcolor\":\"#E5ECF6\",\"gridcolor\":\"white\",\"linecolor\":\"white\",\"showbackground\":true,\"ticks\":\"\",\"zerolinecolor\":\"white\",\"gridwidth\":2}},\"shapedefaults\":{\"line\":{\"color\":\"#2a3f5f\"}},\"annotationdefaults\":{\"arrowcolor\":\"#2a3f5f\",\"arrowhead\":0,\"arrowwidth\":1},\"geo\":{\"bgcolor\":\"white\",\"landcolor\":\"#E5ECF6\",\"subunitcolor\":\"white\",\"showland\":true,\"showlakes\":true,\"lakecolor\":\"white\"},\"title\":{\"x\":0.05},\"mapbox\":{\"style\":\"light\"}}},\"xaxis\":{\"anchor\":\"y\",\"domain\":[0.0,1.0],\"title\":{\"text\":\"sex\"}},\"yaxis\":{\"anchor\":\"x\",\"domain\":[0.0,1.0],\"title\":{\"text\":\"sum of total_bill\"}},\"legend\":{\"title\":{\"text\":\"smoker\"},\"tracegroupgap\":0},\"margin\":{\"t\":60},\"barmode\":\"group\",\"height\":400},                        {\"responsive\": true}                    ).then(function(){\n",
       "                            \n",
       "var gd = document.getElementById('8323f2db-ee9f-4715-9d7f-87f94609cfcc');\n",
       "var x = new MutationObserver(function (mutations, observer) {{\n",
       "        var display = window.getComputedStyle(gd).display;\n",
       "        if (!display || display === 'none') {{\n",
       "            console.log([gd, 'removed!']);\n",
       "            Plotly.purge(gd);\n",
       "            observer.disconnect();\n",
       "        }}\n",
       "}});\n",
       "\n",
       "// Listen for the removal of the full notebook cells\n",
       "var notebookContainer = gd.closest('#notebook-container');\n",
       "if (notebookContainer) {{\n",
       "    x.observe(notebookContainer, {childList: true});\n",
       "}}\n",
       "\n",
       "// Listen for the clearing of the current output cell\n",
       "var outputEl = gd.closest('.output');\n",
       "if (outputEl) {{\n",
       "    x.observe(outputEl, {childList: true});\n",
       "}}\n",
       "\n",
       "                        })                };                });            </script>        </div>"
      ]
     },
     "metadata": {},
     "output_type": "display_data"
    }
   ],
   "source": [
    "#Bar Graph 7\n",
    "df = px.data.tips()\n",
    "bar_graph7 = px.histogram(df, x=\"sex\", y=\"total_bill\",\n",
    "             color='smoker', barmode='group',\n",
    "             height=400)\n",
    "bar_graph7.show()"
   ]
  },
  {
   "cell_type": "code",
   "execution_count": 94,
   "id": "1abbe266",
   "metadata": {},
   "outputs": [
    {
     "name": "stdout",
     "output_type": "stream",
     "text": [
      "{\n",
      "  \"data\": [\n",
      "    {\n",
      "      \"alignmentgroup\": \"True\",\n",
      "      \"bingroup\": \"x\",\n",
      "      \"histfunc\": \"sum\",\n",
      "      \"hovertemplate\": \"smoker=No<br>sex=%{x}<br>sum of total_bill=%{y}<extra></extra>\",\n",
      "      \"legendgroup\": \"No\",\n",
      "      \"marker\": {\n",
      "        \"color\": \"#636efa\",\n",
      "        \"pattern\": {\n",
      "          \"shape\": \"\"\n",
      "        }\n",
      "      },\n",
      "      \"name\": \"No\",\n",
      "      \"offsetgroup\": \"No\",\n",
      "      \"orientation\": \"v\",\n",
      "      \"showlegend\": true,\n",
      "      \"x\": [\n",
      "        \"Female\",\n",
      "        \"Male\",\n",
      "        \"Male\",\n",
      "        \"Male\",\n",
      "        \"Female\",\n",
      "        \"Male\",\n",
      "        \"Male\",\n",
      "        \"Male\",\n",
      "        \"Male\",\n",
      "        \"Male\",\n",
      "        \"Male\",\n",
      "        \"Female\",\n",
      "        \"Male\",\n",
      "        \"Male\",\n",
      "        \"Female\",\n",
      "        \"Male\",\n",
      "        \"Female\",\n",
      "        \"Male\",\n",
      "        \"Female\",\n",
      "        \"Male\",\n",
      "        \"Male\",\n",
      "        \"Female\",\n",
      "        \"Female\",\n",
      "        \"Male\",\n",
      "        \"Male\",\n",
      "        \"Male\",\n",
      "        \"Male\",\n",
      "        \"Male\",\n",
      "        \"Male\",\n",
      "        \"Female\",\n",
      "        \"Male\",\n",
      "        \"Male\",\n",
      "        \"Female\",\n",
      "        \"Female\",\n",
      "        \"Male\",\n",
      "        \"Male\",\n",
      "        \"Male\",\n",
      "        \"Female\",\n",
      "        \"Male\",\n",
      "        \"Male\",\n",
      "        \"Male\",\n",
      "        \"Male\",\n",
      "        \"Male\",\n",
      "        \"Male\",\n",
      "        \"Male\",\n",
      "        \"Male\",\n",
      "        \"Male\",\n",
      "        \"Male\",\n",
      "        \"Male\",\n",
      "        \"Male\",\n",
      "        \"Male\",\n",
      "        \"Female\",\n",
      "        \"Female\",\n",
      "        \"Male\",\n",
      "        \"Male\",\n",
      "        \"Male\",\n",
      "        \"Female\",\n",
      "        \"Male\",\n",
      "        \"Male\",\n",
      "        \"Male\",\n",
      "        \"Female\",\n",
      "        \"Male\",\n",
      "        \"Male\",\n",
      "        \"Female\",\n",
      "        \"Female\",\n",
      "        \"Male\",\n",
      "        \"Male\",\n",
      "        \"Male\",\n",
      "        \"Male\",\n",
      "        \"Male\",\n",
      "        \"Female\",\n",
      "        \"Male\",\n",
      "        \"Female\",\n",
      "        \"Male\",\n",
      "        \"Male\",\n",
      "        \"Male\",\n",
      "        \"Male\",\n",
      "        \"Male\",\n",
      "        \"Female\",\n",
      "        \"Male\",\n",
      "        \"Female\",\n",
      "        \"Male\",\n",
      "        \"Male\",\n",
      "        \"Female\",\n",
      "        \"Male\",\n",
      "        \"Male\",\n",
      "        \"Female\",\n",
      "        \"Female\",\n",
      "        \"Male\",\n",
      "        \"Female\",\n",
      "        \"Female\",\n",
      "        \"Female\",\n",
      "        \"Male\",\n",
      "        \"Female\",\n",
      "        \"Male\",\n",
      "        \"Male\",\n",
      "        \"Female\",\n",
      "        \"Female\",\n",
      "        \"Male\",\n",
      "        \"Female\",\n",
      "        \"Female\",\n",
      "        \"Male\",\n",
      "        \"Male\",\n",
      "        \"Female\",\n",
      "        \"Female\",\n",
      "        \"Female\",\n",
      "        \"Female\",\n",
      "        \"Female\",\n",
      "        \"Female\",\n",
      "        \"Female\",\n",
      "        \"Female\",\n",
      "        \"Female\",\n",
      "        \"Male\",\n",
      "        \"Male\",\n",
      "        \"Female\",\n",
      "        \"Female\",\n",
      "        \"Female\",\n",
      "        \"Female\",\n",
      "        \"Female\",\n",
      "        \"Male\",\n",
      "        \"Male\",\n",
      "        \"Male\",\n",
      "        \"Male\",\n",
      "        \"Male\",\n",
      "        \"Male\",\n",
      "        \"Male\",\n",
      "        \"Female\",\n",
      "        \"Male\",\n",
      "        \"Female\",\n",
      "        \"Female\",\n",
      "        \"Male\",\n",
      "        \"Male\",\n",
      "        \"Male\",\n",
      "        \"Female\",\n",
      "        \"Male\",\n",
      "        \"Male\",\n",
      "        \"Male\",\n",
      "        \"Male\",\n",
      "        \"Male\",\n",
      "        \"Male\",\n",
      "        \"Male\",\n",
      "        \"Female\",\n",
      "        \"Male\",\n",
      "        \"Male\",\n",
      "        \"Male\",\n",
      "        \"Male\",\n",
      "        \"Male\",\n",
      "        \"Female\",\n",
      "        \"Male\",\n",
      "        \"Male\",\n",
      "        \"Female\"\n",
      "      ],\n",
      "      \"xaxis\": \"x\",\n",
      "      \"y\": [\n",
      "        16.99,\n",
      "        10.34,\n",
      "        21.01,\n",
      "        23.68,\n",
      "        24.59,\n",
      "        25.29,\n",
      "        8.77,\n",
      "        26.88,\n",
      "        15.04,\n",
      "        14.78,\n",
      "        10.27,\n",
      "        35.26,\n",
      "        15.42,\n",
      "        18.43,\n",
      "        14.83,\n",
      "        21.58,\n",
      "        10.33,\n",
      "        16.29,\n",
      "        16.97,\n",
      "        20.65,\n",
      "        17.92,\n",
      "        20.29,\n",
      "        15.77,\n",
      "        39.42,\n",
      "        19.82,\n",
      "        17.81,\n",
      "        13.37,\n",
      "        12.69,\n",
      "        21.7,\n",
      "        19.65,\n",
      "        9.55,\n",
      "        18.35,\n",
      "        15.06,\n",
      "        20.69,\n",
      "        17.78,\n",
      "        24.06,\n",
      "        16.31,\n",
      "        16.93,\n",
      "        18.69,\n",
      "        31.27,\n",
      "        16.04,\n",
      "        17.46,\n",
      "        13.94,\n",
      "        9.68,\n",
      "        30.4,\n",
      "        18.29,\n",
      "        22.23,\n",
      "        32.4,\n",
      "        28.55,\n",
      "        18.04,\n",
      "        12.54,\n",
      "        10.29,\n",
      "        34.81,\n",
      "        9.94,\n",
      "        25.56,\n",
      "        19.49,\n",
      "        26.41,\n",
      "        48.27,\n",
      "        17.59,\n",
      "        20.08,\n",
      "        16.45,\n",
      "        20.23,\n",
      "        12.02,\n",
      "        17.07,\n",
      "        14.73,\n",
      "        10.51,\n",
      "        27.2,\n",
      "        22.76,\n",
      "        17.29,\n",
      "        16.66,\n",
      "        10.07,\n",
      "        15.98,\n",
      "        34.83,\n",
      "        13.03,\n",
      "        18.28,\n",
      "        24.71,\n",
      "        21.16,\n",
      "        22.49,\n",
      "        22.75,\n",
      "        12.46,\n",
      "        20.92,\n",
      "        18.24,\n",
      "        14.0,\n",
      "        7.25,\n",
      "        38.07,\n",
      "        23.95,\n",
      "        25.71,\n",
      "        17.31,\n",
      "        29.93,\n",
      "        10.65,\n",
      "        12.43,\n",
      "        24.08,\n",
      "        11.69,\n",
      "        13.42,\n",
      "        14.26,\n",
      "        15.95,\n",
      "        12.48,\n",
      "        29.8,\n",
      "        8.52,\n",
      "        14.52,\n",
      "        11.38,\n",
      "        22.82,\n",
      "        19.08,\n",
      "        20.27,\n",
      "        11.17,\n",
      "        12.26,\n",
      "        18.26,\n",
      "        8.51,\n",
      "        10.33,\n",
      "        14.15,\n",
      "        13.16,\n",
      "        17.47,\n",
      "        34.3,\n",
      "        41.19,\n",
      "        27.05,\n",
      "        16.43,\n",
      "        8.35,\n",
      "        18.64,\n",
      "        11.87,\n",
      "        9.78,\n",
      "        7.51,\n",
      "        14.07,\n",
      "        13.13,\n",
      "        17.26,\n",
      "        24.55,\n",
      "        19.77,\n",
      "        29.85,\n",
      "        48.17,\n",
      "        25.0,\n",
      "        13.39,\n",
      "        16.49,\n",
      "        21.5,\n",
      "        12.66,\n",
      "        16.21,\n",
      "        13.81,\n",
      "        24.52,\n",
      "        20.76,\n",
      "        31.71,\n",
      "        20.69,\n",
      "        7.56,\n",
      "        48.33,\n",
      "        15.98,\n",
      "        20.45,\n",
      "        13.28,\n",
      "        11.61,\n",
      "        10.77,\n",
      "        10.07,\n",
      "        35.83,\n",
      "        29.03,\n",
      "        17.82,\n",
      "        18.78\n",
      "      ],\n",
      "      \"yaxis\": \"y\",\n",
      "      \"type\": \"histogram\"\n",
      "    },\n",
      "    {\n",
      "      \"alignmentgroup\": \"True\",\n",
      "      \"bingroup\": \"x\",\n",
      "      \"histfunc\": \"sum\",\n",
      "      \"hovertemplate\": \"smoker=Yes<br>sex=%{x}<br>sum of total_bill=%{y}<extra></extra>\",\n",
      "      \"legendgroup\": \"Yes\",\n",
      "      \"marker\": {\n",
      "        \"color\": \"#EF553B\",\n",
      "        \"pattern\": {\n",
      "          \"shape\": \"\"\n",
      "        }\n",
      "      },\n",
      "      \"name\": \"Yes\",\n",
      "      \"offsetgroup\": \"Yes\",\n",
      "      \"orientation\": \"v\",\n",
      "      \"showlegend\": true,\n",
      "      \"x\": [\n",
      "        \"Male\",\n",
      "        \"Male\",\n",
      "        \"Male\",\n",
      "        \"Male\",\n",
      "        \"Male\",\n",
      "        \"Male\",\n",
      "        \"Female\",\n",
      "        \"Male\",\n",
      "        \"Female\",\n",
      "        \"Female\",\n",
      "        \"Male\",\n",
      "        \"Male\",\n",
      "        \"Male\",\n",
      "        \"Male\",\n",
      "        \"Female\",\n",
      "        \"Female\",\n",
      "        \"Male\",\n",
      "        \"Male\",\n",
      "        \"Male\",\n",
      "        \"Male\",\n",
      "        \"Female\",\n",
      "        \"Female\",\n",
      "        \"Female\",\n",
      "        \"Female\",\n",
      "        \"Male\",\n",
      "        \"Male\",\n",
      "        \"Male\",\n",
      "        \"Female\",\n",
      "        \"Male\",\n",
      "        \"Female\",\n",
      "        \"Female\",\n",
      "        \"Female\",\n",
      "        \"Male\",\n",
      "        \"Male\",\n",
      "        \"Male\",\n",
      "        \"Male\",\n",
      "        \"Male\",\n",
      "        \"Male\",\n",
      "        \"Male\",\n",
      "        \"Male\",\n",
      "        \"Female\",\n",
      "        \"Male\",\n",
      "        \"Male\",\n",
      "        \"Male\",\n",
      "        \"Male\",\n",
      "        \"Male\",\n",
      "        \"Male\",\n",
      "        \"Female\",\n",
      "        \"Male\",\n",
      "        \"Female\",\n",
      "        \"Male\",\n",
      "        \"Male\",\n",
      "        \"Female\",\n",
      "        \"Male\",\n",
      "        \"Male\",\n",
      "        \"Male\",\n",
      "        \"Male\",\n",
      "        \"Female\",\n",
      "        \"Female\",\n",
      "        \"Male\",\n",
      "        \"Male\",\n",
      "        \"Female\",\n",
      "        \"Female\",\n",
      "        \"Female\",\n",
      "        \"Male\",\n",
      "        \"Female\",\n",
      "        \"Male\",\n",
      "        \"Male\",\n",
      "        \"Male\",\n",
      "        \"Female\",\n",
      "        \"Male\",\n",
      "        \"Male\",\n",
      "        \"Female\",\n",
      "        \"Female\",\n",
      "        \"Female\",\n",
      "        \"Male\",\n",
      "        \"Male\",\n",
      "        \"Male\",\n",
      "        \"Female\",\n",
      "        \"Male\",\n",
      "        \"Female\",\n",
      "        \"Male\",\n",
      "        \"Male\",\n",
      "        \"Female\",\n",
      "        \"Female\",\n",
      "        \"Female\",\n",
      "        \"Male\",\n",
      "        \"Male\",\n",
      "        \"Male\",\n",
      "        \"Male\",\n",
      "        \"Male\",\n",
      "        \"Female\",\n",
      "        \"Male\"\n",
      "      ],\n",
      "      \"xaxis\": \"x\",\n",
      "      \"y\": [\n",
      "        38.01,\n",
      "        11.24,\n",
      "        20.29,\n",
      "        13.81,\n",
      "        11.02,\n",
      "        18.29,\n",
      "        3.07,\n",
      "        15.01,\n",
      "        26.86,\n",
      "        25.28,\n",
      "        17.92,\n",
      "        19.44,\n",
      "        32.68,\n",
      "        28.97,\n",
      "        5.75,\n",
      "        16.32,\n",
      "        40.17,\n",
      "        27.28,\n",
      "        12.03,\n",
      "        21.01,\n",
      "        11.35,\n",
      "        15.38,\n",
      "        44.3,\n",
      "        22.42,\n",
      "        15.36,\n",
      "        20.49,\n",
      "        25.21,\n",
      "        14.31,\n",
      "        16.0,\n",
      "        17.51,\n",
      "        10.59,\n",
      "        10.63,\n",
      "        50.81,\n",
      "        15.81,\n",
      "        7.25,\n",
      "        31.85,\n",
      "        16.82,\n",
      "        32.9,\n",
      "        17.89,\n",
      "        14.48,\n",
      "        9.6,\n",
      "        34.63,\n",
      "        34.65,\n",
      "        23.33,\n",
      "        45.35,\n",
      "        23.17,\n",
      "        40.55,\n",
      "        20.9,\n",
      "        30.46,\n",
      "        18.15,\n",
      "        23.1,\n",
      "        15.69,\n",
      "        19.81,\n",
      "        28.44,\n",
      "        15.48,\n",
      "        16.58,\n",
      "        10.34,\n",
      "        43.11,\n",
      "        13.0,\n",
      "        13.51,\n",
      "        18.71,\n",
      "        12.74,\n",
      "        13.0,\n",
      "        16.4,\n",
      "        20.53,\n",
      "        16.47,\n",
      "        26.59,\n",
      "        38.73,\n",
      "        24.27,\n",
      "        12.76,\n",
      "        30.06,\n",
      "        25.89,\n",
      "        13.27,\n",
      "        28.17,\n",
      "        12.9,\n",
      "        28.15,\n",
      "        11.59,\n",
      "        7.74,\n",
      "        30.14,\n",
      "        12.16,\n",
      "        13.42,\n",
      "        8.58,\n",
      "        13.42,\n",
      "        16.27,\n",
      "        10.09,\n",
      "        22.12,\n",
      "        24.01,\n",
      "        15.69,\n",
      "        15.53,\n",
      "        12.6,\n",
      "        32.83,\n",
      "        27.18,\n",
      "        22.67\n",
      "      ],\n",
      "      \"yaxis\": \"y\",\n",
      "      \"type\": \"histogram\"\n",
      "    }\n",
      "  ],\n",
      "  \"layout\": {\n",
      "    \"template\": {\n",
      "      \"data\": {\n",
      "        \"histogram2dcontour\": [\n",
      "          {\n",
      "            \"type\": \"histogram2dcontour\",\n",
      "            \"colorbar\": {\n",
      "              \"outlinewidth\": 0,\n",
      "              \"ticks\": \"\"\n",
      "            },\n",
      "            \"colorscale\": [\n",
      "              [\n",
      "                0.0,\n",
      "                \"#0d0887\"\n",
      "              ],\n",
      "              [\n",
      "                0.1111111111111111,\n",
      "                \"#46039f\"\n",
      "              ],\n",
      "              [\n",
      "                0.2222222222222222,\n",
      "                \"#7201a8\"\n",
      "              ],\n",
      "              [\n",
      "                0.3333333333333333,\n",
      "                \"#9c179e\"\n",
      "              ],\n",
      "              [\n",
      "                0.4444444444444444,\n",
      "                \"#bd3786\"\n",
      "              ],\n",
      "              [\n",
      "                0.5555555555555556,\n",
      "                \"#d8576b\"\n",
      "              ],\n",
      "              [\n",
      "                0.6666666666666666,\n",
      "                \"#ed7953\"\n",
      "              ],\n",
      "              [\n",
      "                0.7777777777777778,\n",
      "                \"#fb9f3a\"\n",
      "              ],\n",
      "              [\n",
      "                0.8888888888888888,\n",
      "                \"#fdca26\"\n",
      "              ],\n",
      "              [\n",
      "                1.0,\n",
      "                \"#f0f921\"\n",
      "              ]\n",
      "            ]\n",
      "          }\n",
      "        ],\n",
      "        \"choropleth\": [\n",
      "          {\n",
      "            \"type\": \"choropleth\",\n",
      "            \"colorbar\": {\n",
      "              \"outlinewidth\": 0,\n",
      "              \"ticks\": \"\"\n",
      "            }\n",
      "          }\n",
      "        ],\n",
      "        \"histogram2d\": [\n",
      "          {\n",
      "            \"type\": \"histogram2d\",\n",
      "            \"colorbar\": {\n",
      "              \"outlinewidth\": 0,\n",
      "              \"ticks\": \"\"\n",
      "            },\n",
      "            \"colorscale\": [\n",
      "              [\n",
      "                0.0,\n",
      "                \"#0d0887\"\n",
      "              ],\n",
      "              [\n",
      "                0.1111111111111111,\n",
      "                \"#46039f\"\n",
      "              ],\n",
      "              [\n",
      "                0.2222222222222222,\n",
      "                \"#7201a8\"\n",
      "              ],\n",
      "              [\n",
      "                0.3333333333333333,\n",
      "                \"#9c179e\"\n",
      "              ],\n",
      "              [\n",
      "                0.4444444444444444,\n",
      "                \"#bd3786\"\n",
      "              ],\n",
      "              [\n",
      "                0.5555555555555556,\n",
      "                \"#d8576b\"\n",
      "              ],\n",
      "              [\n",
      "                0.6666666666666666,\n",
      "                \"#ed7953\"\n",
      "              ],\n",
      "              [\n",
      "                0.7777777777777778,\n",
      "                \"#fb9f3a\"\n",
      "              ],\n",
      "              [\n",
      "                0.8888888888888888,\n",
      "                \"#fdca26\"\n",
      "              ],\n",
      "              [\n",
      "                1.0,\n",
      "                \"#f0f921\"\n",
      "              ]\n",
      "            ]\n",
      "          }\n",
      "        ],\n",
      "        \"heatmap\": [\n",
      "          {\n",
      "            \"type\": \"heatmap\",\n",
      "            \"colorbar\": {\n",
      "              \"outlinewidth\": 0,\n",
      "              \"ticks\": \"\"\n",
      "            },\n",
      "            \"colorscale\": [\n",
      "              [\n",
      "                0.0,\n",
      "                \"#0d0887\"\n",
      "              ],\n",
      "              [\n",
      "                0.1111111111111111,\n",
      "                \"#46039f\"\n",
      "              ],\n",
      "              [\n",
      "                0.2222222222222222,\n",
      "                \"#7201a8\"\n",
      "              ],\n",
      "              [\n",
      "                0.3333333333333333,\n",
      "                \"#9c179e\"\n",
      "              ],\n",
      "              [\n",
      "                0.4444444444444444,\n",
      "                \"#bd3786\"\n",
      "              ],\n",
      "              [\n",
      "                0.5555555555555556,\n",
      "                \"#d8576b\"\n",
      "              ],\n",
      "              [\n",
      "                0.6666666666666666,\n",
      "                \"#ed7953\"\n",
      "              ],\n",
      "              [\n",
      "                0.7777777777777778,\n",
      "                \"#fb9f3a\"\n",
      "              ],\n",
      "              [\n",
      "                0.8888888888888888,\n",
      "                \"#fdca26\"\n",
      "              ],\n",
      "              [\n",
      "                1.0,\n",
      "                \"#f0f921\"\n",
      "              ]\n",
      "            ]\n",
      "          }\n",
      "        ],\n",
      "        \"heatmapgl\": [\n",
      "          {\n",
      "            \"type\": \"heatmapgl\",\n",
      "            \"colorbar\": {\n",
      "              \"outlinewidth\": 0,\n",
      "              \"ticks\": \"\"\n",
      "            },\n",
      "            \"colorscale\": [\n",
      "              [\n",
      "                0.0,\n",
      "                \"#0d0887\"\n",
      "              ],\n",
      "              [\n",
      "                0.1111111111111111,\n",
      "                \"#46039f\"\n",
      "              ],\n",
      "              [\n",
      "                0.2222222222222222,\n",
      "                \"#7201a8\"\n",
      "              ],\n",
      "              [\n",
      "                0.3333333333333333,\n",
      "                \"#9c179e\"\n",
      "              ],\n",
      "              [\n",
      "                0.4444444444444444,\n",
      "                \"#bd3786\"\n",
      "              ],\n",
      "              [\n",
      "                0.5555555555555556,\n",
      "                \"#d8576b\"\n",
      "              ],\n",
      "              [\n",
      "                0.6666666666666666,\n",
      "                \"#ed7953\"\n",
      "              ],\n",
      "              [\n",
      "                0.7777777777777778,\n",
      "                \"#fb9f3a\"\n",
      "              ],\n",
      "              [\n",
      "                0.8888888888888888,\n",
      "                \"#fdca26\"\n",
      "              ],\n",
      "              [\n",
      "                1.0,\n",
      "                \"#f0f921\"\n",
      "              ]\n",
      "            ]\n",
      "          }\n",
      "        ],\n",
      "        \"contourcarpet\": [\n",
      "          {\n",
      "            \"type\": \"contourcarpet\",\n",
      "            \"colorbar\": {\n",
      "              \"outlinewidth\": 0,\n",
      "              \"ticks\": \"\"\n",
      "            }\n",
      "          }\n",
      "        ],\n",
      "        \"contour\": [\n",
      "          {\n",
      "            \"type\": \"contour\",\n",
      "            \"colorbar\": {\n",
      "              \"outlinewidth\": 0,\n",
      "              \"ticks\": \"\"\n",
      "            },\n",
      "            \"colorscale\": [\n",
      "              [\n",
      "                0.0,\n",
      "                \"#0d0887\"\n",
      "              ],\n",
      "              [\n",
      "                0.1111111111111111,\n",
      "                \"#46039f\"\n",
      "              ],\n",
      "              [\n",
      "                0.2222222222222222,\n",
      "                \"#7201a8\"\n",
      "              ],\n",
      "              [\n",
      "                0.3333333333333333,\n",
      "                \"#9c179e\"\n",
      "              ],\n",
      "              [\n",
      "                0.4444444444444444,\n",
      "                \"#bd3786\"\n",
      "              ],\n",
      "              [\n",
      "                0.5555555555555556,\n",
      "                \"#d8576b\"\n",
      "              ],\n",
      "              [\n",
      "                0.6666666666666666,\n",
      "                \"#ed7953\"\n",
      "              ],\n",
      "              [\n",
      "                0.7777777777777778,\n",
      "                \"#fb9f3a\"\n",
      "              ],\n",
      "              [\n",
      "                0.8888888888888888,\n",
      "                \"#fdca26\"\n",
      "              ],\n",
      "              [\n",
      "                1.0,\n",
      "                \"#f0f921\"\n",
      "              ]\n",
      "            ]\n",
      "          }\n",
      "        ],\n",
      "        \"surface\": [\n",
      "          {\n",
      "            \"type\": \"surface\",\n",
      "            \"colorbar\": {\n",
      "              \"outlinewidth\": 0,\n",
      "              \"ticks\": \"\"\n",
      "            },\n",
      "            \"colorscale\": [\n",
      "              [\n",
      "                0.0,\n",
      "                \"#0d0887\"\n",
      "              ],\n",
      "              [\n",
      "                0.1111111111111111,\n",
      "                \"#46039f\"\n",
      "              ],\n",
      "              [\n",
      "                0.2222222222222222,\n",
      "                \"#7201a8\"\n",
      "              ],\n",
      "              [\n",
      "                0.3333333333333333,\n",
      "                \"#9c179e\"\n",
      "              ],\n",
      "              [\n",
      "                0.4444444444444444,\n",
      "                \"#bd3786\"\n",
      "              ],\n",
      "              [\n",
      "                0.5555555555555556,\n",
      "                \"#d8576b\"\n",
      "              ],\n",
      "              [\n",
      "                0.6666666666666666,\n",
      "                \"#ed7953\"\n",
      "              ],\n",
      "              [\n",
      "                0.7777777777777778,\n",
      "                \"#fb9f3a\"\n",
      "              ],\n",
      "              [\n",
      "                0.8888888888888888,\n",
      "                \"#fdca26\"\n",
      "              ],\n",
      "              [\n",
      "                1.0,\n",
      "                \"#f0f921\"\n",
      "              ]\n",
      "            ]\n",
      "          }\n",
      "        ],\n",
      "        \"mesh3d\": [\n",
      "          {\n",
      "            \"type\": \"mesh3d\",\n",
      "            \"colorbar\": {\n",
      "              \"outlinewidth\": 0,\n",
      "              \"ticks\": \"\"\n",
      "            }\n",
      "          }\n",
      "        ],\n",
      "        \"scatter\": [\n",
      "          {\n",
      "            \"fillpattern\": {\n",
      "              \"fillmode\": \"overlay\",\n",
      "              \"size\": 10,\n",
      "              \"solidity\": 0.2\n",
      "            },\n",
      "            \"type\": \"scatter\"\n",
      "          }\n",
      "        ],\n",
      "        \"parcoords\": [\n",
      "          {\n",
      "            \"type\": \"parcoords\",\n",
      "            \"line\": {\n",
      "              \"colorbar\": {\n",
      "                \"outlinewidth\": 0,\n",
      "                \"ticks\": \"\"\n",
      "              }\n",
      "            }\n",
      "          }\n",
      "        ],\n",
      "        \"scatterpolargl\": [\n",
      "          {\n",
      "            \"type\": \"scatterpolargl\",\n",
      "            \"marker\": {\n",
      "              \"colorbar\": {\n",
      "                \"outlinewidth\": 0,\n",
      "                \"ticks\": \"\"\n",
      "              }\n",
      "            }\n",
      "          }\n",
      "        ],\n",
      "        \"bar\": [\n",
      "          {\n",
      "            \"error_x\": {\n",
      "              \"color\": \"#2a3f5f\"\n",
      "            },\n",
      "            \"error_y\": {\n",
      "              \"color\": \"#2a3f5f\"\n",
      "            },\n",
      "            \"marker\": {\n",
      "              \"line\": {\n",
      "                \"color\": \"#E5ECF6\",\n",
      "                \"width\": 0.5\n",
      "              },\n",
      "              \"pattern\": {\n",
      "                \"fillmode\": \"overlay\",\n",
      "                \"size\": 10,\n",
      "                \"solidity\": 0.2\n",
      "              }\n",
      "            },\n",
      "            \"type\": \"bar\"\n",
      "          }\n",
      "        ],\n",
      "        \"scattergeo\": [\n",
      "          {\n",
      "            \"type\": \"scattergeo\",\n",
      "            \"marker\": {\n",
      "              \"colorbar\": {\n",
      "                \"outlinewidth\": 0,\n",
      "                \"ticks\": \"\"\n",
      "              }\n",
      "            }\n",
      "          }\n",
      "        ],\n",
      "        \"scatterpolar\": [\n",
      "          {\n",
      "            \"type\": \"scatterpolar\",\n",
      "            \"marker\": {\n",
      "              \"colorbar\": {\n",
      "                \"outlinewidth\": 0,\n",
      "                \"ticks\": \"\"\n",
      "              }\n",
      "            }\n",
      "          }\n",
      "        ],\n",
      "        \"histogram\": [\n",
      "          {\n",
      "            \"marker\": {\n",
      "              \"pattern\": {\n",
      "                \"fillmode\": \"overlay\",\n",
      "                \"size\": 10,\n",
      "                \"solidity\": 0.2\n",
      "              }\n",
      "            },\n",
      "            \"type\": \"histogram\"\n",
      "          }\n",
      "        ],\n",
      "        \"scattergl\": [\n",
      "          {\n",
      "            \"type\": \"scattergl\",\n",
      "            \"marker\": {\n",
      "              \"colorbar\": {\n",
      "                \"outlinewidth\": 0,\n",
      "                \"ticks\": \"\"\n",
      "              }\n",
      "            }\n",
      "          }\n",
      "        ],\n",
      "        \"scatter3d\": [\n",
      "          {\n",
      "            \"type\": \"scatter3d\",\n",
      "            \"line\": {\n",
      "              \"colorbar\": {\n",
      "                \"outlinewidth\": 0,\n",
      "                \"ticks\": \"\"\n",
      "              }\n",
      "            },\n",
      "            \"marker\": {\n",
      "              \"colorbar\": {\n",
      "                \"outlinewidth\": 0,\n",
      "                \"ticks\": \"\"\n",
      "              }\n",
      "            }\n",
      "          }\n",
      "        ],\n",
      "        \"scattermapbox\": [\n",
      "          {\n",
      "            \"type\": \"scattermapbox\",\n",
      "            \"marker\": {\n",
      "              \"colorbar\": {\n",
      "                \"outlinewidth\": 0,\n",
      "                \"ticks\": \"\"\n",
      "              }\n",
      "            }\n",
      "          }\n",
      "        ],\n",
      "        \"scatterternary\": [\n",
      "          {\n",
      "            \"type\": \"scatterternary\",\n",
      "            \"marker\": {\n",
      "              \"colorbar\": {\n",
      "                \"outlinewidth\": 0,\n",
      "                \"ticks\": \"\"\n",
      "              }\n",
      "            }\n",
      "          }\n",
      "        ],\n",
      "        \"scattercarpet\": [\n",
      "          {\n",
      "            \"type\": \"scattercarpet\",\n",
      "            \"marker\": {\n",
      "              \"colorbar\": {\n",
      "                \"outlinewidth\": 0,\n",
      "                \"ticks\": \"\"\n",
      "              }\n",
      "            }\n",
      "          }\n",
      "        ],\n",
      "        \"carpet\": [\n",
      "          {\n",
      "            \"aaxis\": {\n",
      "              \"endlinecolor\": \"#2a3f5f\",\n",
      "              \"gridcolor\": \"white\",\n",
      "              \"linecolor\": \"white\",\n",
      "              \"minorgridcolor\": \"white\",\n",
      "              \"startlinecolor\": \"#2a3f5f\"\n",
      "            },\n",
      "            \"baxis\": {\n",
      "              \"endlinecolor\": \"#2a3f5f\",\n",
      "              \"gridcolor\": \"white\",\n",
      "              \"linecolor\": \"white\",\n",
      "              \"minorgridcolor\": \"white\",\n",
      "              \"startlinecolor\": \"#2a3f5f\"\n",
      "            },\n",
      "            \"type\": \"carpet\"\n",
      "          }\n",
      "        ],\n",
      "        \"table\": [\n",
      "          {\n",
      "            \"cells\": {\n",
      "              \"fill\": {\n",
      "                \"color\": \"#EBF0F8\"\n",
      "              },\n",
      "              \"line\": {\n",
      "                \"color\": \"white\"\n",
      "              }\n",
      "            },\n",
      "            \"header\": {\n",
      "              \"fill\": {\n",
      "                \"color\": \"#C8D4E3\"\n",
      "              },\n",
      "              \"line\": {\n",
      "                \"color\": \"white\"\n",
      "              }\n",
      "            },\n",
      "            \"type\": \"table\"\n",
      "          }\n",
      "        ],\n",
      "        \"barpolar\": [\n",
      "          {\n",
      "            \"marker\": {\n",
      "              \"line\": {\n",
      "                \"color\": \"#E5ECF6\",\n",
      "                \"width\": 0.5\n",
      "              },\n",
      "              \"pattern\": {\n",
      "                \"fillmode\": \"overlay\",\n",
      "                \"size\": 10,\n",
      "                \"solidity\": 0.2\n",
      "              }\n",
      "            },\n",
      "            \"type\": \"barpolar\"\n",
      "          }\n",
      "        ],\n",
      "        \"pie\": [\n",
      "          {\n",
      "            \"automargin\": true,\n",
      "            \"type\": \"pie\"\n",
      "          }\n",
      "        ]\n",
      "      },\n",
      "      \"layout\": {\n",
      "        \"autotypenumbers\": \"strict\",\n",
      "        \"colorway\": [\n",
      "          \"#636efa\",\n",
      "          \"#EF553B\",\n",
      "          \"#00cc96\",\n",
      "          \"#ab63fa\",\n",
      "          \"#FFA15A\",\n",
      "          \"#19d3f3\",\n",
      "          \"#FF6692\",\n",
      "          \"#B6E880\",\n",
      "          \"#FF97FF\",\n",
      "          \"#FECB52\"\n",
      "        ],\n",
      "        \"font\": {\n",
      "          \"color\": \"#2a3f5f\"\n",
      "        },\n",
      "        \"hovermode\": \"closest\",\n",
      "        \"hoverlabel\": {\n",
      "          \"align\": \"left\"\n",
      "        },\n",
      "        \"paper_bgcolor\": \"white\",\n",
      "        \"plot_bgcolor\": \"#E5ECF6\",\n",
      "        \"polar\": {\n",
      "          \"bgcolor\": \"#E5ECF6\",\n",
      "          \"angularaxis\": {\n",
      "            \"gridcolor\": \"white\",\n",
      "            \"linecolor\": \"white\",\n",
      "            \"ticks\": \"\"\n",
      "          },\n",
      "          \"radialaxis\": {\n",
      "            \"gridcolor\": \"white\",\n",
      "            \"linecolor\": \"white\",\n",
      "            \"ticks\": \"\"\n",
      "          }\n",
      "        },\n",
      "        \"ternary\": {\n",
      "          \"bgcolor\": \"#E5ECF6\",\n",
      "          \"aaxis\": {\n",
      "            \"gridcolor\": \"white\",\n",
      "            \"linecolor\": \"white\",\n",
      "            \"ticks\": \"\"\n",
      "          },\n",
      "          \"baxis\": {\n",
      "            \"gridcolor\": \"white\",\n",
      "            \"linecolor\": \"white\",\n",
      "            \"ticks\": \"\"\n",
      "          },\n",
      "          \"caxis\": {\n",
      "            \"gridcolor\": \"white\",\n",
      "            \"linecolor\": \"white\",\n",
      "            \"ticks\": \"\"\n",
      "          }\n",
      "        },\n",
      "        \"coloraxis\": {\n",
      "          \"colorbar\": {\n",
      "            \"outlinewidth\": 0,\n",
      "            \"ticks\": \"\"\n",
      "          }\n",
      "        },\n",
      "        \"colorscale\": {\n",
      "          \"sequential\": [\n",
      "            [\n",
      "              0.0,\n",
      "              \"#0d0887\"\n",
      "            ],\n",
      "            [\n",
      "              0.1111111111111111,\n",
      "              \"#46039f\"\n",
      "            ],\n",
      "            [\n",
      "              0.2222222222222222,\n",
      "              \"#7201a8\"\n",
      "            ],\n",
      "            [\n",
      "              0.3333333333333333,\n",
      "              \"#9c179e\"\n",
      "            ],\n",
      "            [\n",
      "              0.4444444444444444,\n",
      "              \"#bd3786\"\n",
      "            ],\n",
      "            [\n",
      "              0.5555555555555556,\n",
      "              \"#d8576b\"\n",
      "            ],\n",
      "            [\n",
      "              0.6666666666666666,\n",
      "              \"#ed7953\"\n",
      "            ],\n",
      "            [\n",
      "              0.7777777777777778,\n",
      "              \"#fb9f3a\"\n",
      "            ],\n",
      "            [\n",
      "              0.8888888888888888,\n",
      "              \"#fdca26\"\n",
      "            ],\n",
      "            [\n",
      "              1.0,\n",
      "              \"#f0f921\"\n",
      "            ]\n",
      "          ],\n",
      "          \"sequentialminus\": [\n",
      "            [\n",
      "              0.0,\n",
      "              \"#0d0887\"\n",
      "            ],\n",
      "            [\n",
      "              0.1111111111111111,\n",
      "              \"#46039f\"\n",
      "            ],\n",
      "            [\n",
      "              0.2222222222222222,\n",
      "              \"#7201a8\"\n",
      "            ],\n",
      "            [\n",
      "              0.3333333333333333,\n",
      "              \"#9c179e\"\n",
      "            ],\n",
      "            [\n",
      "              0.4444444444444444,\n",
      "              \"#bd3786\"\n",
      "            ],\n",
      "            [\n",
      "              0.5555555555555556,\n",
      "              \"#d8576b\"\n",
      "            ],\n",
      "            [\n",
      "              0.6666666666666666,\n",
      "              \"#ed7953\"\n",
      "            ],\n",
      "            [\n",
      "              0.7777777777777778,\n",
      "              \"#fb9f3a\"\n",
      "            ],\n",
      "            [\n",
      "              0.8888888888888888,\n",
      "              \"#fdca26\"\n",
      "            ],\n",
      "            [\n",
      "              1.0,\n",
      "              \"#f0f921\"\n",
      "            ]\n",
      "          ],\n",
      "          \"diverging\": [\n",
      "            [\n",
      "              0,\n",
      "              \"#8e0152\"\n",
      "            ],\n",
      "            [\n",
      "              0.1,\n",
      "              \"#c51b7d\"\n",
      "            ],\n",
      "            [\n",
      "              0.2,\n",
      "              \"#de77ae\"\n",
      "            ],\n",
      "            [\n",
      "              0.3,\n",
      "              \"#f1b6da\"\n",
      "            ],\n",
      "            [\n",
      "              0.4,\n",
      "              \"#fde0ef\"\n",
      "            ],\n",
      "            [\n",
      "              0.5,\n",
      "              \"#f7f7f7\"\n",
      "            ],\n",
      "            [\n",
      "              0.6,\n",
      "              \"#e6f5d0\"\n",
      "            ],\n",
      "            [\n",
      "              0.7,\n",
      "              \"#b8e186\"\n",
      "            ],\n",
      "            [\n",
      "              0.8,\n",
      "              \"#7fbc41\"\n",
      "            ],\n",
      "            [\n",
      "              0.9,\n",
      "              \"#4d9221\"\n",
      "            ],\n",
      "            [\n",
      "              1,\n",
      "              \"#276419\"\n",
      "            ]\n",
      "          ]\n",
      "        },\n",
      "        \"xaxis\": {\n",
      "          \"gridcolor\": \"white\",\n",
      "          \"linecolor\": \"white\",\n",
      "          \"ticks\": \"\",\n",
      "          \"title\": {\n",
      "            \"standoff\": 15\n",
      "          },\n",
      "          \"zerolinecolor\": \"white\",\n",
      "          \"automargin\": true,\n",
      "          \"zerolinewidth\": 2\n",
      "        },\n",
      "        \"yaxis\": {\n",
      "          \"gridcolor\": \"white\",\n",
      "          \"linecolor\": \"white\",\n",
      "          \"ticks\": \"\",\n",
      "          \"title\": {\n",
      "            \"standoff\": 15\n",
      "          },\n",
      "          \"zerolinecolor\": \"white\",\n",
      "          \"automargin\": true,\n",
      "          \"zerolinewidth\": 2\n",
      "        },\n",
      "        \"scene\": {\n",
      "          \"xaxis\": {\n",
      "            \"backgroundcolor\": \"#E5ECF6\",\n",
      "            \"gridcolor\": \"white\",\n",
      "            \"linecolor\": \"white\",\n",
      "            \"showbackground\": true,\n",
      "            \"ticks\": \"\",\n",
      "            \"zerolinecolor\": \"white\",\n",
      "            \"gridwidth\": 2\n",
      "          },\n",
      "          \"yaxis\": {\n",
      "            \"backgroundcolor\": \"#E5ECF6\",\n",
      "            \"gridcolor\": \"white\",\n",
      "            \"linecolor\": \"white\",\n",
      "            \"showbackground\": true,\n",
      "            \"ticks\": \"\",\n",
      "            \"zerolinecolor\": \"white\",\n",
      "            \"gridwidth\": 2\n",
      "          },\n",
      "          \"zaxis\": {\n",
      "            \"backgroundcolor\": \"#E5ECF6\",\n",
      "            \"gridcolor\": \"white\",\n",
      "            \"linecolor\": \"white\",\n",
      "            \"showbackground\": true,\n",
      "            \"ticks\": \"\",\n",
      "            \"zerolinecolor\": \"white\",\n",
      "            \"gridwidth\": 2\n",
      "          }\n",
      "        },\n",
      "        \"shapedefaults\": {\n",
      "          \"line\": {\n",
      "            \"color\": \"#2a3f5f\"\n",
      "          }\n",
      "        },\n",
      "        \"annotationdefaults\": {\n",
      "          \"arrowcolor\": \"#2a3f5f\",\n",
      "          \"arrowhead\": 0,\n",
      "          \"arrowwidth\": 1\n",
      "        },\n",
      "        \"geo\": {\n",
      "          \"bgcolor\": \"white\",\n",
      "          \"landcolor\": \"#E5ECF6\",\n",
      "          \"subunitcolor\": \"white\",\n",
      "          \"showland\": true,\n",
      "          \"showlakes\": true,\n",
      "          \"lakecolor\": \"white\"\n",
      "        },\n",
      "        \"title\": {\n",
      "          \"x\": 0.05\n",
      "        },\n",
      "        \"mapbox\": {\n",
      "          \"style\": \"light\"\n",
      "        }\n",
      "      }\n",
      "    },\n",
      "    \"xaxis\": {\n",
      "      \"anchor\": \"y\",\n",
      "      \"domain\": [\n",
      "        0.0,\n",
      "        1.0\n",
      "      ],\n",
      "      \"title\": {\n",
      "        \"text\": \"sex\"\n",
      "      }\n",
      "    },\n",
      "    \"yaxis\": {\n",
      "      \"anchor\": \"x\",\n",
      "      \"domain\": [\n",
      "        0.0,\n",
      "        1.0\n",
      "      ],\n",
      "      \"title\": {\n",
      "        \"text\": \"sum of total_bill\"\n",
      "      }\n",
      "    },\n",
      "    \"legend\": {\n",
      "      \"title\": {\n",
      "        \"text\": \"smoker\"\n",
      "      },\n",
      "      \"tracegroupgap\": 0\n",
      "    },\n",
      "    \"margin\": {\n",
      "      \"t\": 60\n",
      "    },\n",
      "    \"barmode\": \"group\",\n",
      "    \"height\": 400\n",
      "  }\n",
      "}\n"
     ]
    }
   ],
   "source": [
    "bg7_json = io.to_json(bar_graph7,pretty=True)\n",
    "print(bg7_json)"
   ]
  },
  {
   "cell_type": "code",
   "execution_count": null,
   "id": "23a140bf",
   "metadata": {},
   "outputs": [],
   "source": []
  }
 ],
 "metadata": {
  "kernelspec": {
   "display_name": "Python 3 (ipykernel)",
   "language": "python",
   "name": "python3"
  },
  "language_info": {
   "codemirror_mode": {
    "name": "ipython",
    "version": 3
   },
   "file_extension": ".py",
   "mimetype": "text/x-python",
   "name": "python",
   "nbconvert_exporter": "python",
   "pygments_lexer": "ipython3",
   "version": "3.9.16"
  }
 },
 "nbformat": 4,
 "nbformat_minor": 5
}
